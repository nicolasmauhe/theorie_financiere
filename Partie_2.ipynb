{
 "cells": [
  {
   "cell_type": "markdown",
   "metadata": {},
   "source": [
    "## Partie 2: Capital Asset Pricing Model (CAPM)"
   ]
  },
  {
   "cell_type": "markdown",
   "metadata": {},
   "source": [
    "## Le Capital Asset Pricing Model (CAPM)"
   ]
  },
  {
   "cell_type": "markdown",
   "metadata": {},
   "source": [
    "Reférences:\n",
    "- Sharpe, W. F. (1964). Capital asset prices: A theory of market equilibrium under conditions of risk. The journal of finance, 19(3), 425-442.\n",
    "- Lintner, J. (1975). The valuation of risk assets and the selection of risky investments in stock portfolios and capital budgets. In Stochastic Optimization Models in Finance (pp. 131-155).\n",
    "- Mossin, J. (1966). Equilibrium in a capital asset market. Econometrica: Journal of the econometric society, 768-783."
   ]
  },
  {
   "cell_type": "markdown",
   "metadata": {},
   "source": [
    "Problématique fondamentale : s'il existe un seul portefeuille optimal, que se passe-t-il lorsque tous les investisseurs investissent uniquement dans celui-ci ?"
   ]
  },
  {
   "cell_type": "markdown",
   "metadata": {},
   "source": [
    "Suppositions du CAPM :\n",
    "\n",
    "1] En termes de comportement individuel :\n",
    "  - Les investisseurs sont tradionnels et optimisent le rendement attendu en fonction du risque comme vu en partie 1. (\"Mean-variance optimizers\")\n",
    "  - Une seule période temporelle (décision, conséquence).\n",
    "  - Les investisseurs disposent des mêmes inputs en termes d'espérance de rendement et de risque: ils ont la même information et des mêmes attentes (*homogeneous expectations*)\n",
    "\n",
    "  \n",
    "2] En termes de structure du marché:\n",
    "  - Tous les actifs sont disponibles à l'investissement et échangés sur des marchés publics.\n",
    "  - Les investisseurs peuvent prêter ou emprunter de l'argent à un taux fixe (taux de l'actif sans risque), et ils peuvent prendre des positions à découvert sur (shorter) des actifs.\n",
    "  - Pas de taxe ni de coûts de transaction."
   ]
  },
  {
   "cell_type": "markdown",
   "metadata": {},
   "source": [
    "Considérons l'aggrégation de tous les portefeuilles des investisseurs. Les emprunts et les prêts s'annulent, et l'on peut représenter la richesse totale de l'économie à travers le portefeuille de marché. Ce portefeuille dispose d'un vecteur de poids, qui est la proportion de la richesse totale ventilée dans les différentes actions."
   ]
  },
  {
   "cell_type": "markdown",
   "metadata": {},
   "source": [
    "Si tous les portefeuilles (des investisseurs) sont le même portefeuille optimal, alors le portefeuille de marché disposera des mêmes poids que le portefeuille optimal."
   ]
  },
  {
   "cell_type": "markdown",
   "metadata": {},
   "source": [
    "Exemple : Si tous les investisseurs ont placé 1% de leur richesse dans l'actif A, alors 1% de la richesse totale est investie dans l'actif A : le portefeuille du marché dispose donc d'un poids de 1% pour l'actif A."
   ]
  },
  {
   "cell_type": "markdown",
   "metadata": {},
   "source": [
    "Si un actif ne fait pas partie du portefeuille optimal, alors aucun investisseur ne va acquérir de titre. Le prix va plonger, jusqu'à atteindre un prix pour lequel le compromis rendement risque devient intéressant, et l'actif va intégrer le portefeuille optimal."
   ]
  },
  {
   "cell_type": "markdown",
   "metadata": {},
   "source": [
    "Conclusion : tous les actifs figurent dans le portefeuille optimal. La seule question est de savoir à quel prix."
   ]
  },
  {
   "cell_type": "markdown",
   "metadata": {},
   "source": [
    "### Prime de risque du portefeuille du marché"
   ]
  },
  {
   "cell_type": "markdown",
   "metadata": {},
   "source": [
    "Le portefeuille optimal est le portefeuille du marché $M$."
   ]
  },
  {
   "cell_type": "markdown",
   "metadata": {},
   "source": [
    "D'après ce que l'on a vu en première partie, la proportion optimale d'investissement dans le portefeuille du marché (versus l'actif sans risque) pour un investisseur $n$ d'aversion au risque $A_n$ nous est donné par la formule suivante:\n",
    "$$w^*_n = \\frac{E(r_M) - r_f}{\\sigma_{M}^2A_n}$$"
   ]
  },
  {
   "cell_type": "markdown",
   "metadata": {},
   "source": [
    "Cette proportion varie d'un investisseur à l'autre basé sur son aversion au risque. C'est la seule chose qui entraîne une allocation différente, car le portfeuille optimal est le même pour tous."
   ]
  },
  {
   "cell_type": "markdown",
   "metadata": {},
   "source": [
    "La somme de tous les prêts et emprunts pour tous les investisseurs est égale à 0: pour un emprunteur, il existe sa contrepartie prêteuse sur le marché. Nous avons donc :"
   ]
  },
  {
   "cell_type": "markdown",
   "metadata": {},
   "source": [
    "$$\\sum_{n=1}^{N}(1-w_n)*C_n = 0$$\n",
    "Avec $C_n$ constituant le capital de l'agent n. On a donc:\n",
    "$$\\sum_{n=1}^{N}w_n*C_n = \\sum_{n=1}^{N}C_n = C$$\n",
    "Ce qui se traduit par : la somme des capitaux investis dans les actifs risqués est égale au capital total du marché. Ce qui est logique car un capital placé dans l'actif sans risque est en réalité prêté à un autre agent qui va l'investir dans les actifs risqués. On a alors:\n",
    "$$\\sum_{n=1}^{N}\\frac{E(r_M) - r_f}{\\sigma_{M}^2A_n}*C_n = C$$\n",
    "$$\\frac1N\\sum_{n=1}^{N}\\frac{E(r_M) - r_f}{\\sigma_{M}^2A_n}*C_n = \\frac1NC$$\n",
    "On peut considérer le capital de chaque agent comme une fraction du capital total. On a alors $C = 1$.\n",
    "$$\\frac1N\\sum_{n=1}^{N}\\frac{E(r_M) - r_f}{\\sigma_{M}^2A_n}*C_n = \\frac1N$$\n",
    "$$\\frac{E(r_M) - r_f}{\\sigma_{M}^2}*\\frac1N\\sum_{n=1}^{N}\\frac1{A_n}*C_n = \\frac1N$$\n",
    "\n",
    "Supposons que nous ayons un agent unique et représentatif : son aversion au risque vaut $A$.\n",
    "$$\\frac{E(r_M) - r_f}{\\sigma_{M}^2}*\\frac1N\\sum_{n=1}^{N}\\frac1{A}*C_n = \\frac1N$$\n",
    "$$\\frac1{A}\\frac{E(r_M) - r_f}{\\sigma_{M}^2}*\\frac1N\\sum_{n=1}^{N}C_n = \\frac1N$$\n",
    "$$\\frac1{A}\\frac{E(r_M) - r_f}{\\sigma_{M}^2}*\\frac1N = \\frac1N$$\n",
    "$$E(r_M) - r_f = \\sigma_{M}^2*A$$"
   ]
  },
  {
   "cell_type": "markdown",
   "metadata": {},
   "source": [
    "Cette égalité donne une idée du lien \"théorique\" entre prime de risque du marché et volatilité du marché (représenté par sa variance). Il s'agit d'un lien qui devient de plus en plus pertinent au fur et à mesure que l'on a des agents dont l'aversion au risque est de plus en plus similaire."
   ]
  },
  {
   "cell_type": "markdown",
   "metadata": {},
   "source": [
    "Cela peut aider à se représenter la signification de l'aversion au risque : un marché composé d'agents à l'aversion A sera un marché ou la prime de risque exigée sera la volatilité du portefeuille mutipliée par l'aversion au risque."
   ]
  },
  {
   "cell_type": "markdown",
   "metadata": {},
   "source": [
    "### Contribution au risque du marché et retour attendu"
   ]
  },
  {
   "cell_type": "markdown",
   "metadata": {},
   "source": [
    "Rappelons le résultat obtenu en partie 1:\n",
    "$$\\mathrm{Var}(\\sum_{i=1}^{N}w_iX_i) = \\sum_{i=1}^{N}\\sum_{j=1}^{N}w_iw_j\\sigma_{ij}$$"
   ]
  },
  {
   "cell_type": "markdown",
   "metadata": {},
   "source": [
    "Considérons la covariance entre un actif précis et le marché :\n",
    "$$\\mathrm{Cov}(X_k,\\sum_{i=1}^{N}w_iX_i) = \\sum_{i=1}^{N}w_i\\sigma_{ik}$$\n",
    "Ce qui nous donne, si l'on prend en compte le poids de l'actif k :\n",
    "$$\\mathrm{Cov}(w_kX_k,\\sum_{i=1}^{N}w_iX_i) = \\sum_{i=1}^{N}w_iw_k\\sigma_{ik}$$"
   ]
  },
  {
   "cell_type": "markdown",
   "metadata": {},
   "source": [
    "Si l'on somme cette égalité pour tous les k entre 1 et N, on retombe sur la première égalité, et donc sur la variance totale du marché. \n",
    "On peut donc se servir de cette dernière égalité pour avoir une idée de la contribution de l'actif k à la variance du marché."
   ]
  },
  {
   "cell_type": "markdown",
   "metadata": {},
   "source": [
    "Contribution de l'actif k à la variance du marché : $$\\mathrm{Cov}(w_kR_k,\\sum_{i=1}^{N}w_iR_i) = w_k*\\mathrm{Cov}(R_k,R_M)$$"
   ]
  },
  {
   "cell_type": "markdown",
   "metadata": {},
   "source": [
    "On peut dès lors s'intéresser au ratio entre la contribution à la prime de risque et la contribution à la variance:\n",
    "$$\\frac{w_k*E(R_k)}{w_k*\\mathrm{Cov}(R_k,R_M)} = \\frac{E(R_k)}{\\mathrm{Cov}(R_k,R_M)}$$"
   ]
  },
  {
   "cell_type": "markdown",
   "metadata": {},
   "source": [
    " [Jan Mossin, 1966](http://jpkc.fudan.edu.cn/picture/article/296/a0/8f/56489b58482aa1b8de3d9339ba17/13fc1431-e230-49e1-933e-f705da935a8f.pdf) a montré que lorsque le marché est à l'équilibre, tous les investissements présentent un ratio contribution au risque / contribution à la variance égal. Nous allons suivre la démonstration effectuée dans un cadre général (fonction d'utilité U concave, sans spécification plus précise), avant de l'appliquer à notre fonction d'utilité quadratique."
   ]
  },
  {
   "cell_type": "markdown",
   "metadata": {},
   "source": [
    "### A l'équilibre"
   ]
  },
  {
   "cell_type": "markdown",
   "metadata": {},
   "source": [
    "Pour comprendre ce résultat, il faut se situer dans un cadre pluis général, avec un marché et des biens. Nous nous sommes concentrés jusqu'ici sur les rendements, car notre fonction d'utilité ne dépendait pas des montants ou des quantités, mais seulement des rendements.\n",
    "Mais un cadre d'équilibre général implique de trouver un équilibre entre offre et demande, et donc de modéliser des actions achetées et vendues à un certain prix."
   ]
  },
  {
   "cell_type": "markdown",
   "metadata": {},
   "source": [
    "Le modèle est toujours sur deux périodes : décision générale, puis résultat. La fonction d'utilité des investisseurs dépend de l'espérance de la valeur future (du portefeuille) et du risque pris. On va considérer n actifs : n-1 actifs risqués et 1 actif sans risque."
   ]
  },
  {
   "cell_type": "markdown",
   "metadata": {},
   "source": [
    "L'espérance de la valeur future du portefeuille de l'investisseur i:\n",
    "$$y_1^i = \\sum_{j=1}^{n-1} \\mu_jx_j^i + x_n^i$$\n",
    "avec $\\mu_j$ désignant l'espérance de la production du bien j."
   ]
  },
  {
   "cell_type": "markdown",
   "metadata": {},
   "source": [
    "Le risque pris :\n",
    "$$y_2^i = \\sum_{j=1}^{n}\\sum_{\\alpha=1}^{n-1}\\sigma_{j\\alpha}x_j^ix_{\\alpha}^i$$\n",
    "avec $\\sigma_{j\\alpha} = Cov(\\mu_j, \\mu_{\\alpha})$"
   ]
  },
  {
   "cell_type": "markdown",
   "metadata": {},
   "source": [
    "On a une fonction d'utilité générique qui dépend de ces deux éléments :\n",
    "$$U^i = f^i(y_1^i,y_2^i)$$"
   ]
  },
  {
   "cell_type": "markdown",
   "metadata": {},
   "source": [
    "On voit ici que les investisseurs peuvent avoir des fonctions d'utilités différentes : la seule condition imposée est que cette fonction dépende de l'espérance de la production et du risque tels que formulés précédemment, et que cette fonction soit concave, avec une première dérivée positive et une seconde négative (par rapport à n'importe quel bien). Cela correspond bien à un comportement averse au risque."
   ]
  },
  {
   "cell_type": "markdown",
   "metadata": {},
   "source": [
    "Le prix de l'actif sans risque est fixé arbitrairement à $q$, et sa valeur future est certaine, fixée est 1. Le rendement sans risque dépend donc de $q$:\n",
    "$$r_f = \\frac1q - 1$$\n",
    "Pour un prix $q$ inférieur à 1, (disons 10/11) le rendement sera positif, (il vaudra ici 10%)."
   ]
  },
  {
   "cell_type": "markdown",
   "metadata": {},
   "source": [
    "D'une manière générale, les investisseurs n'optimisent plus l'espérance de rendement mais l'espérance de la valeur future, ce qui constitue un comportement plus général : il prend en compte les quantités et les prix. Nous verrons par la suite que nous pourrons retomber sur le cas particulier de l'optimisation de l'espérance de rendement."
   ]
  },
  {
   "cell_type": "markdown",
   "metadata": {},
   "source": [
    "Le lien entre les deux est le suivant :\n",
    "$$E(r_j) = \\frac{\\mu_j}{p_j} - 1$$\n",
    "$$\\mu_j = (1 + E(r_j))*p_j$$"
   ]
  },
  {
   "cell_type": "markdown",
   "metadata": {},
   "source": [
    "Chaque investisseur $i$ est sujet à une contrainte budgétaire:\n",
    "$$\\sum_{j=1}^{n-1}p_j(x_j^i - \\bar{x}_j^i) + q(x_n^i - \\bar{x}_n^i) = 0$$"
   ]
  },
  {
   "cell_type": "markdown",
   "metadata": {},
   "source": [
    "Chaque investisseur $i$ va chercher à optimiser son utilité $U^i$ sous la contrainte budgétaire. Il s'agit d'un problème d'optimisation avec une seule contrainte, appliqué à une fonction concave. Il s'agit donc de poser le Lagrangien, et de résoudre les conditions du premier ordre."
   ]
  },
  {
   "cell_type": "markdown",
   "metadata": {},
   "source": [
    "$$V^i = f^i(y_1^i, y_2^i) + \\theta^i[\\sum_{j=1}^{n-1}p_j(x_j^i - \\bar{x}_j^i) + q(x_n^i - \\bar{x}_n^i)]$$"
   ]
  },
  {
   "cell_type": "markdown",
   "metadata": {},
   "source": [
    "Rappelons le théorème de dérivation des fonctions composées (*chain rule*):"
   ]
  },
  {
   "cell_type": "markdown",
   "metadata": {},
   "source": [
    "Si $h = f(y_1(x), y_2(x))$, alors\n",
    "$$\\frac{\\partial h}{\\partial x_j^i} (x)= \\frac{\\partial f_1}{\\partial y_1}(y_1(x), y_2(x)) * \\frac{\\partial y_1}{\\partial x_j}(x) + \\frac{\\partial f_1}{\\partial y_2}(y_1(x), y_2(x)) * \\frac{\\partial y_2}{\\partial x_j}(x)$$"
   ]
  },
  {
   "cell_type": "markdown",
   "metadata": {},
   "source": [
    "Les conditions du premier ordre sont les suivantes (pour chaque investisseur):"
   ]
  },
  {
   "cell_type": "markdown",
   "metadata": {},
   "source": [
    "$$\\frac{\\partial V^i}{\\partial x_j^i} = f_1^i\\mu_j + 2f_2^i\\sum_{\\alpha=1}^{n-1}\\sigma_{j\\alpha}x_{\\alpha}^i + \\theta^ip_j = 0 \\qquad (j=1, ..., n-1) $$\n",
    "$$\\frac{\\partial V^i}{\\partial x_n^i} = f_1^i + \\theta^iq = 0$$\n",
    "$$\\frac{\\partial V^i}{\\partial \\theta^i} = \\sum_{j=1}^{n-1}p_j(x_j^i - \\bar{x}_j^i) + q(x_n^i - \\bar{x}_n^i) = 0$$"
   ]
  },
  {
   "cell_type": "markdown",
   "metadata": {},
   "source": [
    "Avec $f_1^i$ et $f_2^i$ les dérivées partielles de $f^i$ par rapport a $y_1^i$ et $y_2^i$."
   ]
  },
  {
   "cell_type": "markdown",
   "metadata": {},
   "source": [
    "La deuxième égalité peut s'écrire comme ceci (q est différent de 0) :"
   ]
  },
  {
   "cell_type": "markdown",
   "metadata": {},
   "source": [
    "$$\\theta^i = -\\frac{f_1^i}q $$"
   ]
  },
  {
   "cell_type": "markdown",
   "metadata": {},
   "source": [
    "On peut remplacer $\\theta^i$ dans la première égalité:"
   ]
  },
  {
   "cell_type": "markdown",
   "metadata": {},
   "source": [
    "$$f_1^i\\mu_j + 2f_2^i\\sum_{\\alpha=1}^{n-1}\\sigma_{j\\alpha}x_{\\alpha}^i -\\frac{f_1^i}q * p_j = 0 \\qquad (j=1, ..., n-1)$$"
   ]
  },
  {
   "cell_type": "markdown",
   "metadata": {},
   "source": [
    "$$f_1^i(\\mu_j -\\frac{p_j}q) = - 2f_2^i\\sum_{\\alpha=1}^{n-1}\\sigma_{j\\alpha}x_{\\alpha}^i \\qquad (j=1, ..., n-1)$$"
   ]
  },
  {
   "cell_type": "markdown",
   "metadata": {},
   "source": [
    "$$-\\frac{f_1^i}{f_2^i} = \\frac{- 2\\sum_{\\alpha=1}^{n-1}\\sigma_{j\\alpha}x_{\\alpha}^i}{\\mu_j -\\frac{p_j}q} \\qquad (j=1, ..., n-1)$$"
   ]
  },
  {
   "cell_type": "markdown",
   "metadata": {},
   "source": [
    "Les conditions du premier ordre sont donc:\n",
    "$$-\\frac{f_1^i}{f_2^i} = \\frac{- 2\\sum_{\\alpha=1}^{n-1}\\sigma_{j\\alpha}x_{\\alpha}^i}{\\mu_j -\\frac{p_j}q} \\qquad (j=1, ..., n-1)$$\n",
    "$$\\sum_{j=1}^{n-1}p_j(x_j^i - \\bar{x}_j^i) + q(x_n^i - \\bar{x}_n^i) = 0$$"
   ]
  },
  {
   "cell_type": "markdown",
   "metadata": {},
   "source": [
    "On remarque que l'on a le taux marginal de substitution entre la variance et l'espérance de la valeur future, $-\\frac{f_1^i}{f_2^i}$."
   ]
  },
  {
   "cell_type": "markdown",
   "metadata": {},
   "source": [
    "On peut sommer les contraintes budgétaires des $m$ agents du marché :"
   ]
  },
  {
   "cell_type": "markdown",
   "metadata": {},
   "source": [
    "$$\\sum_{i=1}^{m}\\sum_{j=1}^{n-1}p_j(x_j^i - \\bar{x}_j^i) + q(x_n^i - \\bar{x}_n^i) = 0$$"
   ]
  },
  {
   "cell_type": "markdown",
   "metadata": {},
   "source": [
    "Et réorganiser :"
   ]
  },
  {
   "cell_type": "markdown",
   "metadata": {},
   "source": [
    "$$\\sum_{j=1}^{n-1}p_j\\sum_{i=1}^{m}(x_j^i - \\bar{x}_j^i) + q\\sum_{i=1}^{m}(x_n^i - \\bar{x}_n^i) = 0$$"
   ]
  },
  {
   "cell_type": "markdown",
   "metadata": {},
   "source": [
    "A l'équilibre, l'offre égale la demande. Les conditions de l'équilibre sont les suivantes :"
   ]
  },
  {
   "cell_type": "markdown",
   "metadata": {},
   "source": [
    "$$\\sum_{i=1}^{m}x_j^i = \\sum_{i=1}^{m}\\bar x_j^i \\qquad (j=1, ..., n)$$\n",
    "$$\\sum_{i=1}^{m}x_j^i - \\bar x_j^i = 0 \\qquad (j=1, ..., n)$$"
   ]
  },
  {
   "cell_type": "markdown",
   "metadata": {},
   "source": [
    "Or on remarque que si ces conditions sont vraies pour j = 1, ..., n-1, alors l'égalité suivante :\n",
    "$$\\sum_{j=1}^{n-1}p_j\\sum_{i=1}^{m}(x_j^i - \\bar{x}_j^i) + q\\sum_{i=1}^{m}(x_n^i - \\bar{x}_n^i) = 0$$\n",
    "devient :\n",
    "$$q\\sum_{i=1}^{m}(x_n^i - \\bar{x}_n^i) = 0$$\n",
    "et donc:\n",
    "$$\\sum_{i=1}^{m}(x_n^i - \\bar{x}_n^i) = 0$$\n",
    "Ce qui constitue la condition pour le bien n."
   ]
  },
  {
   "cell_type": "markdown",
   "metadata": {},
   "source": [
    "Les conditions d'équilibre peuvent donc être réduites à :\n",
    "$$\\sum_{i=1}^{m}x_j^i = \\sum_{i=1}^{m}\\bar x_j^i \\qquad (j=1, ..., n-1)$$\n",
    "Ce que l'on peut résumer par:\n",
    "$$\\sum_{i=1}^{m}x_j^i = \\bar x_j \\qquad (j=1, ..., n-1)$$\n",
    "avec $ \\bar x_j$ l'offre totale du bien j."
   ]
  },
  {
   "cell_type": "markdown",
   "metadata": {},
   "source": [
    "L'optimisation des agents sous contrainte budgetaire et les conditions d'équilibre forment donc un système de mn + n - 1 equations:\n",
    "$$-\\frac{f_1^i}{f_2^i} = \\frac{- 2\\sum_{\\alpha=1}^{n-1}\\sigma_{j\\alpha}x_{\\alpha}^i}{\\mu_j -\\frac{p_j}q} \\qquad (j=1, ..., n-1), (i=1,...,m)$$\n",
    "$$\\sum_{j=1}^{n-1}p_j(x_j^i - \\bar{x}_j^i) + q(x_n^i - \\bar{x}_n^i) = 0 \\qquad  (i=1,...,m)$$\n",
    "$$\\sum_{i=1}^{m}x_j^i = \\bar x_j \\qquad (j=1, ..., n-1)$$"
   ]
  },
  {
   "cell_type": "markdown",
   "metadata": {},
   "source": [
    "Il y a m agents avec n quantités $x_j^i$, donc $mn$ quantités en tout. Il y a egalement $n-1$ prix. Il y a donc $mn + n-1$ inconnues, autant que d'equations. Il y a donc au moins une solution."
   ]
  },
  {
   "cell_type": "markdown",
   "metadata": {},
   "source": [
    "Intéressons nous à l'espérance de la prime de risque pour un actif j:\n",
    "$$E(R_j) = E(r_j) - r_f = \\frac{\\mu_j}{p_j} - 1 - \\frac1q + 1$$"
   ]
  },
  {
   "cell_type": "markdown",
   "metadata": {},
   "source": [
    "$$E(R_j) =  \\frac{\\mu_jq}{p_jq} - \\frac{p_j}{p_jq}$$"
   ]
  },
  {
   "cell_type": "markdown",
   "metadata": {},
   "source": [
    "$$E(R_j) =  \\frac{\\mu_jq - p_j}{p_jq}$$"
   ]
  },
  {
   "cell_type": "markdown",
   "metadata": {},
   "source": [
    "$$E(R_j) =  \\frac{\\mu_j - \\frac{p_j}q}{p_j}$$"
   ]
  },
  {
   "cell_type": "markdown",
   "metadata": {},
   "source": [
    "Comparons la prime de risque pour deux actifs j et k:\n",
    "$$\\frac{E(R_j)}{E(R_k)} =  \\frac{\\mu_j - \\frac{p_j}q}{\\mu_k - \\frac{p_k}q} * \\frac{p_k}{p_j}$$"
   ]
  },
  {
   "cell_type": "markdown",
   "metadata": {},
   "source": [
    "On remarque que dans la première égalité de mon système d'équation, la partie droite (le taux marginal de substitution) ne change pas pour j et k différent, ce qui nous donne: \n",
    "$$\\frac{- 2\\sum_{\\alpha=1}^{n-1}\\sigma_{j\\alpha}x_{\\alpha}^i}{\\mu_j -\\frac{p_j}q} = \\frac{- 2\\sum_{\\alpha=1}^{n-1}\\sigma_{k\\alpha}x_{\\alpha}^i}{\\mu_k -\\frac{p_k}q}$$"
   ]
  },
  {
   "cell_type": "markdown",
   "metadata": {},
   "source": [
    "C'est-à-dire, plus simplement :\n",
    "$$\\frac{\\sum_{\\alpha=1}^{n-1}\\sigma_{j\\alpha}x_{\\alpha}^i}{\\mu_j -\\frac{p_j}q} = \\frac{\\sum_{\\alpha=1}^{n-1}\\sigma_{k\\alpha}x_{\\alpha}^i}{\\mu_k -\\frac{p_k}q}$$"
   ]
  },
  {
   "cell_type": "markdown",
   "metadata": {},
   "source": [
    "On peut sommer pour tous les agents du marché et utiliser $\\sum_{i=1}^{m}x_j^i = \\bar x_j$ pour $(j=1, ..., n-1)$, on obtient alors:"
   ]
  },
  {
   "cell_type": "markdown",
   "metadata": {},
   "source": [
    "$$\\frac{\\sum_{\\alpha=1}^{n-1}\\sigma_{j\\alpha}\\bar x_{\\alpha}}{\\mu_j -\\frac{p_j}q} = \\frac{\\sum_{\\alpha=1}^{n-1}\\sigma_{k\\alpha}\\bar x_{\\alpha}}{\\mu_k -\\frac{p_k}q}$$"
   ]
  },
  {
   "cell_type": "markdown",
   "metadata": {},
   "source": [
    "$$\\frac{\\mu_j - \\frac{p_j}q}{\\mu_k - \\frac{p_k}q} = \\frac{\\sum_{\\alpha=1}^{n-1}\\sigma_{j\\alpha}\\bar x_{\\alpha}}{\\sum_{\\alpha=1}^{n-1}\\sigma_{k\\alpha}\\bar x_{\\alpha}}$$"
   ]
  },
  {
   "cell_type": "markdown",
   "metadata": {},
   "source": [
    "On a donc :\n",
    "$$\\frac{E(R_j)}{E(R_k)} =  \\frac{\\mu_j - \\frac{p_j}q}{\\mu_k - \\frac{p_k}q} * \\frac{p_k}{p_j} = \\frac{\\sum_{\\alpha=1}^{n-1}\\sigma_{j\\alpha}\\bar x_{\\alpha}}{\\sum_{\\alpha=1}^{n-1}\\sigma_{k\\alpha}\\bar x_{\\alpha}}  * \\frac{p_k}{p_j}$$"
   ]
  },
  {
   "cell_type": "markdown",
   "metadata": {},
   "source": [
    "Faire apparaître les quantités totales des biens j et k (notées $\\bar x_j$ et $\\bar x_k$) nous donne alors ceci:\n",
    "$$\\frac{E(R_j)}{E(R_k)}  = \\frac{\\bar x_j\\sum_{\\alpha=1}^{n-1}\\sigma_{j\\alpha}\\bar x_{\\alpha}}{\\bar x_k\\sum_{\\alpha=1}^{n-1}\\sigma_{k\\alpha}\\bar x_{\\alpha}}  * \\frac{p_k\\bar x_k}{p_j\\bar x_j}$$"
   ]
  },
  {
   "cell_type": "markdown",
   "metadata": {},
   "source": [
    "$$\\frac{E(R_j)*p_j\\bar x_j}{E(R_k)*p_k\\bar x_k}  = \\frac{\\bar x_j\\sum_{\\alpha=1}^{n-1}\\sigma_{j\\alpha}\\bar x_{\\alpha}}{\\bar x_k\\sum_{\\alpha=1}^{n-1}\\sigma_{k\\alpha}\\bar x_{\\alpha}}$$"
   ]
  },
  {
   "cell_type": "markdown",
   "metadata": {},
   "source": [
    "On observe que $\\bar x_j\\sum_{\\alpha=1}^{n-1}\\sigma_{j\\alpha}\\bar x_{\\alpha}$ est la contribution à la variance du marché de l'actif j. Notons cette quantité $V_j$."
   ]
  },
  {
   "cell_type": "markdown",
   "metadata": {},
   "source": [
    "De plus, on observe que $E(R_j)*p_j\\bar x_j$ est l'espérance de la prime de risque totale (en valeur) du bien j. On obtient alors :"
   ]
  },
  {
   "cell_type": "markdown",
   "metadata": {},
   "source": [
    "$$\\frac{E(R_j)*p_j\\bar x_j}{\\bar x_j\\sum_{\\alpha=1}^{n-1}\\sigma_{j\\alpha}\\bar x_{\\alpha}} = \\frac{E(R_k)*p_k\\bar x_k}{\\bar x_k\\sum_{\\alpha=1}^{n-1}\\sigma_{k\\alpha}\\bar x_{\\alpha}}$$"
   ]
  },
  {
   "cell_type": "markdown",
   "metadata": {},
   "source": [
    "Le ratio contribution à la prime de risque sur contribution à la variance est donc égal pour tous les actifs dans le portefeuille de marché. Cette égalité est établie en valeur attendue: mais elle demeure vraie si l'on considère les rendements."
   ]
  },
  {
   "cell_type": "markdown",
   "metadata": {},
   "source": [
    "$$Cov(R_j, R_k) = Cov(r_j-r_f, r_k-r_f)$$\n",
    "$$Cov(R_j, R_k) = Cov(r_j, r_k)$$\n",
    "$$Cov(R_j, R_k) = Cov(1 + r_j, 1 + r_k)$$\n",
    "$$Cov(R_j, R_k) = Cov((1 + r_j)p_j, (1 + r_k)p_k)*\\frac1{p_jp_k}$$\n",
    "$$Cov(R_j, R_k) = Cov(\\mu_j, \\mu_k)*\\frac1{p_jp_k}$$\n",
    "$$Cov(R_j, R_k) = \\sigma_{jk}*\\frac1{p_jp_k}$$\n",
    "Ou :\n",
    "$$ \\sigma_{jk} = Cov(R_j, R_k) * p_jp_k $$"
   ]
  },
  {
   "cell_type": "markdown",
   "metadata": {},
   "source": [
    "Reprenons donc l'égalité des contributions, et divisons par la richesse totale W pour se placer sur un contexte relatif:"
   ]
  },
  {
   "cell_type": "markdown",
   "metadata": {},
   "source": [
    "$$\\frac{E(R_j)*\\frac{p_j\\bar x_j}{W}}{\\frac{\\bar x_j}{W}\\sum_{\\alpha=1}^{n-1}\\sigma_{j\\alpha}\\frac{\\bar x_{\\alpha}}{W}} = \\frac{E(R_k)*\\frac{p_k\\bar x_k}{W}}{\\frac{\\bar x_k}{W}\\sum_{\\alpha=1}^{n-1}\\sigma_{k\\alpha}\\frac{\\bar x_{\\alpha}}{W}}$$"
   ]
  },
  {
   "cell_type": "markdown",
   "metadata": {},
   "source": [
    "Remplaçons les sigma par les covariances entre prime de risques en rendements:"
   ]
  },
  {
   "cell_type": "markdown",
   "metadata": {},
   "source": [
    "$$\\frac{E(R_j)*\\frac{p_j\\bar x_j}{W}}{\\frac{p_j\\bar x_j}{W}\\sum_{\\alpha=1}^{n-1}Cov(R_j, R_{\\alpha})\\frac{p_{\\alpha}\\bar x_{\\alpha}}{W}} = \\frac{E(R_k)*\\frac{p_k\\bar x_k}{W}}{\\frac{p_k\\bar x_k}{W}\\sum_{\\alpha=1}^{n-1}Cov(R_k, R_{\\alpha})\\frac{p_{\\alpha}\\bar x_{\\alpha}}{W}}$$"
   ]
  },
  {
   "cell_type": "markdown",
   "metadata": {},
   "source": [
    "$$\\frac{E(R_j)*w_j}{w_j\\sum_{\\alpha=1}^{n-1}Cov(R_j, R_{\\alpha})w_{\\alpha}} = \\frac{E(R_k)*w_k}{w_k\\sum_{\\alpha=1}^{n-1}Cov(R_k, R_{\\alpha})w_{\\alpha}}$$"
   ]
  },
  {
   "cell_type": "markdown",
   "metadata": {},
   "source": [
    "$$\\frac{E(R_j)*w_j}{w_jCov(R_j, R_M)} = \\frac{E(R_k)*w_k}{w_kCov(R_k, R_M)}$$"
   ]
  },
  {
   "cell_type": "markdown",
   "metadata": {},
   "source": [
    "$$\\frac{E(R_j)}{Cov(R_j, R_M)} = \\frac{E(R_k)}{Cov(R_k, R_M)}$$"
   ]
  },
  {
   "cell_type": "markdown",
   "metadata": {},
   "source": [
    "Ouf ! On est arrivé à un résultat fondamental, qui est que le ratio contribution à la prime de risque sur contribution à la variance du marché est constant pour tous les actifs du portefeuille de marché."
   ]
  },
  {
   "cell_type": "markdown",
   "metadata": {},
   "source": [
    "Appliqué au portefeuille de marché, on obtient la quantité suivante:"
   ]
  },
  {
   "cell_type": "markdown",
   "metadata": {},
   "source": [
    "$$\\frac{E(R_M)}{\\sigma_M^2}$$"
   ]
  },
  {
   "cell_type": "markdown",
   "metadata": {},
   "source": [
    "C'est le prix du risque sur le marché (*market price of risk*)."
   ]
  },
  {
   "cell_type": "markdown",
   "metadata": {},
   "source": [
    "Comme toutes ces quantités sont égales, on a :\n",
    "$$\\frac{E(R_j)}{Cov(R_j, R_M)} = \\frac{E(R_M)}{\\sigma_M^2}$$\n",
    "Et ce pour tout les biens j.\n",
    "En réorganisant un peu, on obtient :"
   ]
  },
  {
   "cell_type": "markdown",
   "metadata": {},
   "source": [
    "$$E(R_j) = \\frac{Cov(R_j, R_M)}{\\sigma_M^2}*E(R_M)$$"
   ]
  },
  {
   "cell_type": "markdown",
   "metadata": {},
   "source": [
    "$$E(r_j) = r_f + \\beta_j*(E(r_M)-r_f)$$"
   ]
  },
  {
   "cell_type": "markdown",
   "metadata": {},
   "source": [
    "... ce qui constitue une expression fondamentale du CAPM.\n",
    "Cela conclue la perspective du marché sur le risque systémique et le risque propre à la firme : seul le risque systémique inquiète les investisseurs, qui demandent une rémunération (proportionnelle à la contribution à la variance du marché). A l'equilibre, les investisseurs ne demandent pas de rémunération liée au risque individuel, car celui-ci est \"diversifiable\" dans un portefeuille."
   ]
  },
  {
   "cell_type": "markdown",
   "metadata": {},
   "source": [
    "La valeur de l'actif est déjà refletée dans le prix : le rendement n'est lié qu'au risque."
   ]
  },
  {
   "cell_type": "markdown",
   "metadata": {},
   "source": [
    "On observe que le beta du marché vaut 1."
   ]
  },
  {
   "cell_type": "markdown",
   "metadata": {},
   "source": [
    "De plus, le portefeuille peut s'écrire :\n",
    "$$\\sum w_jE(R_j) = \\sum w_j*r_f + w_j*\\beta_j*(E(r_M)-r_f)$$"
   ]
  },
  {
   "cell_type": "markdown",
   "metadata": {},
   "source": [
    "Le beta du marché est donc la moyenne pondérée par les $w_j$ des betas des actifs."
   ]
  },
  {
   "cell_type": "markdown",
   "metadata": {},
   "source": [
    "On peut donc analyser les betas des actifs en fonction du fait qu'ils sont supérieurs ou inférieurs à 1: des investissements portant sur des actifs dont le bêta est supérieur à 1 sont donc perçus comme aggressifs car ils sont particulièrement sensibles aux variations du marché."
   ]
  },
  {
   "cell_type": "markdown",
   "metadata": {},
   "source": [
    "Ce qui pose la question de l'estimation de ces bêtas : comment les obtenir ?"
   ]
  },
  {
   "cell_type": "markdown",
   "metadata": {},
   "source": [
    "## Le Single Index Model"
   ]
  },
  {
   "cell_type": "code",
   "execution_count": 13,
   "metadata": {
    "collapsed": true
   },
   "outputs": [],
   "source": [
    "import numpy as np\n",
    "import pandas as pd\n",
    "import matplotlib.pyplot as plt\n",
    "%matplotlib inline\n",
    "plt.rcParams['figure.figsize'] = (15, 10)"
   ]
  },
  {
   "cell_type": "markdown",
   "metadata": {},
   "source": [
    "Inconvénient de la diversification de Markowitz : le nombre d'estimations nécessaires."
   ]
  },
  {
   "cell_type": "markdown",
   "metadata": {},
   "source": [
    "- n estimations de rendements\n",
    "- n estimations de variances\n",
    "- $\\frac{n^2-n}{2}$ estimations de covariances\n",
    "\n",
    "Total : $\\frac{n^2-n}{2} + 2n$ estimations."
   ]
  },
  {
   "cell_type": "code",
   "execution_count": 2,
   "metadata": {},
   "outputs": [
    {
     "name": "stdout",
     "output_type": "stream",
     "text": [
      "1325.0\n"
     ]
    }
   ],
   "source": [
    "n = 50\n",
    "\n",
    "print((n ** 2 - n) / 2 + 2 * n)"
   ]
  },
  {
   "cell_type": "markdown",
   "metadata": {},
   "source": [
    "Le single-index model est une extension empirique naturelle du CAPM. Il suppose (comme le CAPM) que l'aléa que constitue le rendement considéré est en fait composé de deux éléments :\n",
    "- une compostante liée au marché\n",
    "- une composante liée à la spécificité de l'actif par rapport au marché."
   ]
  },
  {
   "cell_type": "markdown",
   "metadata": {},
   "source": [
    "On considère le surplus du rendement de l'actif i (par rapport à l'actif sans risque) :\n",
    "$$R_i = r_i - r_f$$\n",
    "Avec le surplus de rendement du marché M qui est donné par\n",
    "$$R_M = r_M - r_f$$"
   ]
  },
  {
   "cell_type": "markdown",
   "metadata": {},
   "source": [
    "Le modèle prend la forme suivante:\n",
    "$R_i=$ Composante liée au marché + Composante spécifique"
   ]
  },
  {
   "cell_type": "markdown",
   "metadata": {},
   "source": [
    "$$R_i = \\beta_i * R_M + X_i$$\n",
    "Avec $\\beta_i$ représentant la sensibilité de l'actif au marché. \n",
    "On peut décomposer $X_i$ en une composante fixe et une composante aléatoire d'espérance nulle.\n",
    "$$R_i = \\alpha_i + \\beta_iR_M + e_i$$"
   ]
  },
  {
   "cell_type": "markdown",
   "metadata": {},
   "source": [
    "- $\\alpha$ est le surplus de rendement hors-marché de l'actif (*nonmarket premium*).\n",
    "- $\\beta$ est la sensibilité de l'actif aux variations du marché (*sensitivity to the market*)\n",
    "- $e$ est la part de l'aléa spécifique à l'actif."
   ]
  },
  {
   "cell_type": "markdown",
   "metadata": {},
   "source": [
    "On observe que si l'on considère l'espérance du rendement, on retombe sur la même forme théorique que le CAPM:\n",
    "$$E(R_i) = E(\\alpha_i) + \\beta_i*E(R_M)$$\n",
    "Or dans un marché compétitif dans lequel les agents ont les mêmes inputs (voir suppositions du CAPM), l'espérance de $\\alpha_i$ est égale à 0.\n",
    "$$E(R_i) = \\beta_i*E(R_M)$$"
   ]
  },
  {
   "cell_type": "markdown",
   "metadata": {},
   "source": [
    "Il est possible d'estimer les éléments de cette identité à l'aide de données temporelles :\n",
    "$$R_i(t) = \\alpha_i + \\beta_iR_M(t) + e_i(t)$$"
   ]
  },
  {
   "cell_type": "markdown",
   "metadata": {},
   "source": [
    "Si l'on se plie aux hypothèses économétriques du modèle linéaire, notamment la normalité de la composante $e_i(t)$ et l'indépendance des $e_i(t)$, on peut réaliser une régression par les moindres carrés ordinaires. Ces hypothèses sont relativement fortes: il est possible d'en relâcher certaines et de produire des estimations qui sont moins sujettes aux biais liés à la violation des hypothèses. Citons par exemple le generalized autoregressive conditional heteroskedasticity (GARCH) model, qui permet de supposer que les termes d'erreurs (cad la composante spécifique à l'actif) sont corrélés entre eux."
   ]
  },
  {
   "cell_type": "markdown",
   "metadata": {},
   "source": [
    "Pour illustrer une régression linéaire, générons des données artificiellement à l'aide de [np.random.normal()](https://docs.scipy.org/doc/numpy/reference/generated/numpy.random.normal.html) qui permet de générer des nombres selon une loi normale d'espérance 0 et d'écart-type 1."
   ]
  },
  {
   "cell_type": "code",
   "execution_count": 3,
   "metadata": {},
   "outputs": [
    {
     "data": {
      "image/png": "[encoded data removed]",
      "text/plain": [
       "<matplotlib.figure.Figure at 0x7fa383778080>"
      ]
     },
     "metadata": {},
     "output_type": "display_data"
    }
   ],
   "source": [
    "beta_i = 0.3\n",
    "alpha_i = 0.05\n",
    "E_R_M = 0.1\n",
    "sigma_R_M = 0.20\n",
    "sigma_e_i = 0.05\n",
    "nb_tirages = 100\n",
    "liste_R_M = []\n",
    "liste_R_i = []\n",
    "\n",
    "for tirage in range(nb_tirages):\n",
    "    R_M = sigma_R_M * np.random.normal() + E_R_M\n",
    "    R_i = alpha_i + beta_i * R_M + sigma_e_i * np.random.normal()\n",
    "    liste_R_M.append(R_M)\n",
    "    liste_R_i.append(R_i)\n",
    "\n",
    "plt.scatter(liste_R_M, liste_R_i)\n",
    "plt.grid(True)"
   ]
  },
  {
   "cell_type": "markdown",
   "metadata": {},
   "source": [
    "Pour réaliser une régression linéaire, on va se servir du package [StatsModel](http://www.statsmodels.org/stable/index.html)."
   ]
  },
  {
   "cell_type": "code",
   "execution_count": 14,
   "metadata": {},
   "outputs": [
    {
     "name": "stderr",
     "output_type": "stream",
     "text": [
      "/Users/nicolasmauhe/anaconda/lib/python3.6/site-packages/statsmodels/compat/pandas.py:56: FutureWarning: The pandas.core.datetools module is deprecated and will be removed in a future version. Please use the pandas.tseries module instead.\n",
      "  from pandas.core import datetools\n"
     ]
    },
    {
     "ename": "NameError",
     "evalue": "name 'liste_R_i' is not defined",
     "output_type": "error",
     "traceback": [
      "\u001b[0;31m---------------------------------------------------------------------------\u001b[0m",
      "\u001b[0;31mNameError\u001b[0m                                 Traceback (most recent call last)",
      "\u001b[0;32m<ipython-input-14-37295f4d9521>\u001b[0m in \u001b[0;36m<module>\u001b[0;34m()\u001b[0m\n\u001b[1;32m      1\u001b[0m \u001b[0;32mimport\u001b[0m \u001b[0mstatsmodels\u001b[0m\u001b[0;34m.\u001b[0m\u001b[0mapi\u001b[0m \u001b[0;32mas\u001b[0m \u001b[0msm\u001b[0m\u001b[0;34m\u001b[0m\u001b[0m\n\u001b[1;32m      2\u001b[0m \u001b[0;34m\u001b[0m\u001b[0m\n\u001b[0;32m----> 3\u001b[0;31m \u001b[0my\u001b[0m \u001b[0;34m=\u001b[0m \u001b[0mpd\u001b[0m\u001b[0;34m.\u001b[0m\u001b[0mDataFrame\u001b[0m\u001b[0;34m(\u001b[0m\u001b[0;34m{\u001b[0m\u001b[0;34m'R_i'\u001b[0m \u001b[0;34m:\u001b[0m \u001b[0mliste_R_i\u001b[0m\u001b[0;34m}\u001b[0m\u001b[0;34m)\u001b[0m\u001b[0;34m\u001b[0m\u001b[0m\n\u001b[0m\u001b[1;32m      4\u001b[0m X = pd.DataFrame({'R_M' : liste_R_M, \n\u001b[1;32m      5\u001b[0m                   'Constante' : [1] * nb_tirages})\n",
      "\u001b[0;31mNameError\u001b[0m: name 'liste_R_i' is not defined"
     ]
    }
   ],
   "source": [
    "import statsmodels.api as sm\n",
    "\n",
    "y = pd.DataFrame({'R_i' : liste_R_i})\n",
    "X = pd.DataFrame({'R_M' : liste_R_M, \n",
    "                  'Constante' : [1] * nb_tirages})\n",
    "print(X.head())\n",
    "print(y.head())\n",
    "\n",
    "model = sm.OLS(y, X).fit()\n",
    "print(model.summary())"
   ]
  },
  {
   "cell_type": "markdown",
   "metadata": {},
   "source": [
    "On peut obtenir les paramètres du modèles à l'aide de:"
   ]
  },
  {
   "cell_type": "code",
   "execution_count": 5,
   "metadata": {},
   "outputs": [
    {
     "data": {
      "text/plain": [
       "Constante    0.053086\n",
       "R_M          0.240338\n",
       "dtype: float64"
      ]
     },
     "execution_count": 5,
     "metadata": {},
     "output_type": "execute_result"
    }
   ],
   "source": [
    "model.params"
   ]
  },
  {
   "cell_type": "markdown",
   "metadata": {},
   "source": [
    "Et un paramètre en particulier comme suit:"
   ]
  },
  {
   "cell_type": "code",
   "execution_count": 6,
   "metadata": {},
   "outputs": [
    {
     "data": {
      "text/plain": [
       "0.2403384368363367"
      ]
     },
     "execution_count": 6,
     "metadata": {},
     "output_type": "execute_result"
    }
   ],
   "source": [
    "model.params['R_M']"
   ]
  },
  {
   "cell_type": "markdown",
   "metadata": {},
   "source": [
    "On peut représenter la droite estimée sur le diagramme de dispersion:"
   ]
  },
  {
   "cell_type": "code",
   "execution_count": 7,
   "metadata": {},
   "outputs": [
    {
     "data": {
      "image/png": "[encoded data removed]",
      "text/plain": [
       "<matplotlib.figure.Figure at 0x7fa38376abe0>"
      ]
     },
     "metadata": {},
     "output_type": "display_data"
    }
   ],
   "source": [
    "plt.scatter(liste_R_M, liste_R_i)\n",
    "plt.plot(X['R_M'], model.params['R_M'] * X['R_M'] +  model.params['Constante'], color=\"Green\")\n",
    "plt.grid(True)"
   ]
  },
  {
   "cell_type": "markdown",
   "metadata": {},
   "source": [
    "Intéressons-nous à la variance de la prime de risque notre actif i :\n",
    "$$Var(R_i) = Var(\\alpha_i + \\beta_iR_M + e_i)$$\n",
    "$$Var(r_i - r_f) = Var(\\alpha_i + \\beta_i(r_M - r_f) + e_i)$$\n",
    "$$\\sigma_i^2 = \\beta_i^2\\sigma_M^2 + \\sigma(e_i)^2$$"
   ]
  },
  {
   "cell_type": "markdown",
   "metadata": {},
   "source": [
    "On peut donc séparer la variance du surplus de rendement en variance due au marché et en variance spécifique à l'actif."
   ]
  },
  {
   "cell_type": "markdown",
   "metadata": {},
   "source": [
    "La covariance entre les rendements des deux actifs i et j est simplement :\n",
    "$$Cov(r_i, r_j) = \\beta_i\\beta_j\\sigma_M^2$$\n",
    "Ce qui nous donne:\n",
    "$$Corr(r_i, r_j) = \\frac{\\beta_i\\beta_j\\sigma_M^2}{\\sigma_i\\sigma_j} = \\frac{\\beta_i\\sigma_M^2\\beta_j\\sigma_M^2}{\\sigma_i\\sigma_M\\sigma_j\\sigma_M} = Corr(r_i, r_M) * Corr(r_j, r_M)$$"
   ]
  },
  {
   "cell_type": "markdown",
   "metadata": {},
   "source": [
    "Pour le moment, nous avons beaucoup moins d'estimations requises. "
   ]
  },
  {
   "cell_type": "markdown",
   "metadata": {},
   "source": [
    "Il nous faut :\n",
    "- n estimations des surplus de rendement hors-marché, $\\sigma_i$.\n",
    "- n estimations des sensibilités de l'actif aux variations du marché, $\\beta_i$\n",
    "- n estimations des variances spécifiques à l'actif, $\\sigma^2(e_i)$\n",
    "- 1 estimation du surplus de rendement du marché, $E(R_M)$\n",
    "- 1 estimation de la variance du marché $\\sigma^2_M$\n",
    "\n",
    "\n",
    "Soit $3n + 2$ estimations."
   ]
  },
  {
   "cell_type": "markdown",
   "metadata": {},
   "source": [
    "### Estimation de données réelles"
   ]
  },
  {
   "cell_type": "code",
   "execution_count": 2,
   "metadata": {
    "collapsed": true
   },
   "outputs": [],
   "source": [
    "import quandl\n",
    "cle_API = \"vV5n2kkCHA3mm-zKCwBQ\"\n",
    "quandl.ApiConfig.api_key = cle_API"
   ]
  },
  {
   "cell_type": "code",
   "execution_count": 39,
   "metadata": {
    "collapsed": true
   },
   "outputs": [],
   "source": [
    "debut = '2015-01-01'\n",
    "frequence = 'monthly'"
   ]
  },
  {
   "cell_type": "markdown",
   "metadata": {},
   "source": [
    "Pour l'index, nous choisirons le General Index fourni par le NASDAQ."
   ]
  },
  {
   "cell_type": "code",
   "execution_count": 4,
   "metadata": {
    "collapsed": true
   },
   "outputs": [],
   "source": [
    "index = quandl.get('NASDAQOMX/NQGI', start_date = debut, column_index = 1, collapse=frequence)\n",
    "index.columns = ['Index']"
   ]
  },
  {
   "cell_type": "code",
   "execution_count": 15,
   "metadata": {},
   "outputs": [
    {
     "data": {
      "text/html": [
       "<div>\n",
       "<style scoped>\n",
       "    .dataframe tbody tr th:only-of-type {\n",
       "        vertical-align: middle;\n",
       "    }\n",
       "\n",
       "    .dataframe tbody tr th {\n",
       "        vertical-align: top;\n",
       "    }\n",
       "\n",
       "    .dataframe thead th {\n",
       "        text-align: right;\n",
       "    }\n",
       "</style>\n",
       "<table border=\"1\" class=\"dataframe\">\n",
       "  <thead>\n",
       "    <tr style=\"text-align: right;\">\n",
       "      <th></th>\n",
       "      <th>Index</th>\n",
       "    </tr>\n",
       "    <tr>\n",
       "      <th>Trade Date</th>\n",
       "      <th></th>\n",
       "    </tr>\n",
       "  </thead>\n",
       "  <tbody>\n",
       "    <tr>\n",
       "      <th>2015-01-31</th>\n",
       "      <td>1242.72</td>\n",
       "    </tr>\n",
       "    <tr>\n",
       "      <th>2015-02-28</th>\n",
       "      <td>1308.86</td>\n",
       "    </tr>\n",
       "    <tr>\n",
       "      <th>2015-03-31</th>\n",
       "      <td>1288.48</td>\n",
       "    </tr>\n",
       "    <tr>\n",
       "      <th>2015-04-30</th>\n",
       "      <td>1321.21</td>\n",
       "    </tr>\n",
       "    <tr>\n",
       "      <th>2015-05-31</th>\n",
       "      <td>1317.63</td>\n",
       "    </tr>\n",
       "  </tbody>\n",
       "</table>\n",
       "</div>"
      ],
      "text/plain": [
       "              Index\n",
       "Trade Date         \n",
       "2015-01-31  1242.72\n",
       "2015-02-28  1308.86\n",
       "2015-03-31  1288.48\n",
       "2015-04-30  1321.21\n",
       "2015-05-31  1317.63"
      ]
     },
     "execution_count": 15,
     "metadata": {},
     "output_type": "execute_result"
    }
   ],
   "source": [
    "index.head()"
   ]
  },
  {
   "cell_type": "markdown",
   "metadata": {},
   "source": [
    "Importons les données des actions qui nous intéressent (ici Ford et Verizon)."
   ]
  },
  {
   "cell_type": "code",
   "execution_count": 16,
   "metadata": {
    "collapsed": true
   },
   "outputs": [],
   "source": [
    "liste_actions = ['WIKI/F']"
   ]
  },
  {
   "cell_type": "code",
   "execution_count": 17,
   "metadata": {
    "collapsed": true
   },
   "outputs": [],
   "source": [
    "nb_actifs = len(liste_actions)\n",
    "\n",
    "actions = quandl.get(liste_actions, start_date = debut, column_index = 4, collapse=frequence)"
   ]
  },
  {
   "cell_type": "code",
   "execution_count": 18,
   "metadata": {
    "scrolled": true
   },
   "outputs": [
    {
     "data": {
      "text/html": [
       "<div>\n",
       "<style scoped>\n",
       "    .dataframe tbody tr th:only-of-type {\n",
       "        vertical-align: middle;\n",
       "    }\n",
       "\n",
       "    .dataframe tbody tr th {\n",
       "        vertical-align: top;\n",
       "    }\n",
       "\n",
       "    .dataframe thead th {\n",
       "        text-align: right;\n",
       "    }\n",
       "</style>\n",
       "<table border=\"1\" class=\"dataframe\">\n",
       "  <thead>\n",
       "    <tr style=\"text-align: right;\">\n",
       "      <th></th>\n",
       "      <th>WIKI/F - Close</th>\n",
       "    </tr>\n",
       "    <tr>\n",
       "      <th>Date</th>\n",
       "      <th></th>\n",
       "    </tr>\n",
       "  </thead>\n",
       "  <tbody>\n",
       "    <tr>\n",
       "      <th>2015-01-31</th>\n",
       "      <td>14.71</td>\n",
       "    </tr>\n",
       "    <tr>\n",
       "      <th>2015-02-28</th>\n",
       "      <td>16.34</td>\n",
       "    </tr>\n",
       "    <tr>\n",
       "      <th>2015-03-31</th>\n",
       "      <td>16.14</td>\n",
       "    </tr>\n",
       "    <tr>\n",
       "      <th>2015-04-30</th>\n",
       "      <td>15.80</td>\n",
       "    </tr>\n",
       "    <tr>\n",
       "      <th>2015-05-31</th>\n",
       "      <td>15.17</td>\n",
       "    </tr>\n",
       "  </tbody>\n",
       "</table>\n",
       "</div>"
      ],
      "text/plain": [
       "            WIKI/F - Close\n",
       "Date                      \n",
       "2015-01-31           14.71\n",
       "2015-02-28           16.34\n",
       "2015-03-31           16.14\n",
       "2015-04-30           15.80\n",
       "2015-05-31           15.17"
      ]
     },
     "execution_count": 18,
     "metadata": {},
     "output_type": "execute_result"
    }
   ],
   "source": [
    "actions.head()"
   ]
  },
  {
   "cell_type": "markdown",
   "metadata": {},
   "source": [
    "Il nous faut également un rendement pour l'actif sans risque : nous prendrons le rendement du Treasury Bill à 4 semaines."
   ]
  },
  {
   "cell_type": "code",
   "execution_count": 40,
   "metadata": {
    "collapsed": true
   },
   "outputs": [],
   "source": [
    "actif_sans_risque = quandl.get('USTREASURY/BILLRATES', start_date = debut, column_index = 2, collapse=frequence)\n",
    "actif_sans_risque.columns = ['Actif sans risque']"
   ]
  },
  {
   "cell_type": "code",
   "execution_count": 41,
   "metadata": {},
   "outputs": [
    {
     "data": {
      "text/html": [
       "<div>\n",
       "<style scoped>\n",
       "    .dataframe tbody tr th:only-of-type {\n",
       "        vertical-align: middle;\n",
       "    }\n",
       "\n",
       "    .dataframe tbody tr th {\n",
       "        vertical-align: top;\n",
       "    }\n",
       "\n",
       "    .dataframe thead th {\n",
       "        text-align: right;\n",
       "    }\n",
       "</style>\n",
       "<table border=\"1\" class=\"dataframe\">\n",
       "  <thead>\n",
       "    <tr style=\"text-align: right;\">\n",
       "      <th></th>\n",
       "      <th>Actif sans risque</th>\n",
       "    </tr>\n",
       "    <tr>\n",
       "      <th>Date</th>\n",
       "      <th></th>\n",
       "    </tr>\n",
       "  </thead>\n",
       "  <tbody>\n",
       "    <tr>\n",
       "      <th>2017-11-30</th>\n",
       "      <td>1.14</td>\n",
       "    </tr>\n",
       "    <tr>\n",
       "      <th>2017-12-31</th>\n",
       "      <td>1.27</td>\n",
       "    </tr>\n",
       "    <tr>\n",
       "      <th>2018-01-31</th>\n",
       "      <td>1.43</td>\n",
       "    </tr>\n",
       "    <tr>\n",
       "      <th>2018-02-28</th>\n",
       "      <td>1.50</td>\n",
       "    </tr>\n",
       "    <tr>\n",
       "      <th>2018-03-31</th>\n",
       "      <td>1.70</td>\n",
       "    </tr>\n",
       "  </tbody>\n",
       "</table>\n",
       "</div>"
      ],
      "text/plain": [
       "            Actif sans risque\n",
       "Date                         \n",
       "2017-11-30               1.14\n",
       "2017-12-31               1.27\n",
       "2018-01-31               1.43\n",
       "2018-02-28               1.50\n",
       "2018-03-31               1.70"
      ]
     },
     "execution_count": 41,
     "metadata": {},
     "output_type": "execute_result"
    }
   ],
   "source": [
    "actif_sans_risque.head()"
   ]
  },
  {
   "cell_type": "code",
   "execution_count": 42,
   "metadata": {},
   "outputs": [
    {
     "data": {
      "text/html": [
       "<div>\n",
       "<style scoped>\n",
       "    .dataframe tbody tr th:only-of-type {\n",
       "        vertical-align: middle;\n",
       "    }\n",
       "\n",
       "    .dataframe tbody tr th {\n",
       "        vertical-align: top;\n",
       "    }\n",
       "\n",
       "    .dataframe thead th {\n",
       "        text-align: right;\n",
       "    }\n",
       "</style>\n",
       "<table border=\"1\" class=\"dataframe\">\n",
       "  <thead>\n",
       "    <tr style=\"text-align: right;\">\n",
       "      <th></th>\n",
       "      <th>Actif sans risque</th>\n",
       "    </tr>\n",
       "    <tr>\n",
       "      <th>Date</th>\n",
       "      <th></th>\n",
       "    </tr>\n",
       "  </thead>\n",
       "  <tbody>\n",
       "    <tr>\n",
       "      <th>2017-11-30</th>\n",
       "      <td>0.000945</td>\n",
       "    </tr>\n",
       "    <tr>\n",
       "      <th>2017-12-31</th>\n",
       "      <td>0.001052</td>\n",
       "    </tr>\n",
       "    <tr>\n",
       "      <th>2018-01-31</th>\n",
       "      <td>0.001184</td>\n",
       "    </tr>\n",
       "    <tr>\n",
       "      <th>2018-02-28</th>\n",
       "      <td>0.001241</td>\n",
       "    </tr>\n",
       "    <tr>\n",
       "      <th>2018-03-31</th>\n",
       "      <td>0.001406</td>\n",
       "    </tr>\n",
       "  </tbody>\n",
       "</table>\n",
       "</div>"
      ],
      "text/plain": [
       "            Actif sans risque\n",
       "Date                         \n",
       "2017-11-30           0.000945\n",
       "2017-12-31           0.001052\n",
       "2018-01-31           0.001184\n",
       "2018-02-28           0.001241\n",
       "2018-03-31           0.001406"
      ]
     },
     "execution_count": 42,
     "metadata": {},
     "output_type": "execute_result"
    }
   ],
   "source": [
    "actif_sans_risque = (1 + actif_sans_risque/100) ** (1/12) - 1\n",
    "actif_sans_risque.tail()"
   ]
  },
  {
   "cell_type": "code",
   "execution_count": 43,
   "metadata": {
    "collapsed": true
   },
   "outputs": [],
   "source": [
    "donnees = pd.concat([actions.pct_change(), index.pct_change(), actif_sans_risque], axis=1)"
   ]
  },
  {
   "cell_type": "code",
   "execution_count": 44,
   "metadata": {},
   "outputs": [
    {
     "data": {
      "text/html": [
       "<div>\n",
       "<style scoped>\n",
       "    .dataframe tbody tr th:only-of-type {\n",
       "        vertical-align: middle;\n",
       "    }\n",
       "\n",
       "    .dataframe tbody tr th {\n",
       "        vertical-align: top;\n",
       "    }\n",
       "\n",
       "    .dataframe thead th {\n",
       "        text-align: right;\n",
       "    }\n",
       "</style>\n",
       "<table border=\"1\" class=\"dataframe\">\n",
       "  <thead>\n",
       "    <tr style=\"text-align: right;\">\n",
       "      <th></th>\n",
       "      <th>WIKI/AAPL - Close</th>\n",
       "      <th>WIKI/ABC - Close</th>\n",
       "      <th>WIKI/AA - Close</th>\n",
       "      <th>WIKI/ABBV - Close</th>\n",
       "      <th>WIKI/ACE - Close</th>\n",
       "      <th>WIKI/AGN - Close</th>\n",
       "      <th>WIKI/ADP - Close</th>\n",
       "      <th>WIKI/ADSK - Close</th>\n",
       "      <th>WIKI/ABT - Close</th>\n",
       "      <th>WIKI/AEE - Close</th>\n",
       "      <th>Index</th>\n",
       "      <th>Actif sans risque</th>\n",
       "    </tr>\n",
       "    <tr>\n",
       "      <th>Date</th>\n",
       "      <th></th>\n",
       "      <th></th>\n",
       "      <th></th>\n",
       "      <th></th>\n",
       "      <th></th>\n",
       "      <th></th>\n",
       "      <th></th>\n",
       "      <th></th>\n",
       "      <th></th>\n",
       "      <th></th>\n",
       "      <th></th>\n",
       "      <th></th>\n",
       "    </tr>\n",
       "  </thead>\n",
       "  <tbody>\n",
       "    <tr>\n",
       "      <th>2017-11-30</th>\n",
       "      <td>0.016623</td>\n",
       "      <td>0.102274</td>\n",
       "      <td>-0.131226</td>\n",
       "      <td>0.073906</td>\n",
       "      <td>NaN</td>\n",
       "      <td>-0.019184</td>\n",
       "      <td>-0.015483</td>\n",
       "      <td>-0.122119</td>\n",
       "      <td>0.039462</td>\n",
       "      <td>0.031779</td>\n",
       "      <td>0.017963</td>\n",
       "      <td>0.000945</td>\n",
       "    </tr>\n",
       "    <tr>\n",
       "      <th>2017-12-31</th>\n",
       "      <td>-0.015246</td>\n",
       "      <td>0.082528</td>\n",
       "      <td>0.297760</td>\n",
       "      <td>-0.002167</td>\n",
       "      <td>NaN</td>\n",
       "      <td>-0.058966</td>\n",
       "      <td>0.023851</td>\n",
       "      <td>-0.044394</td>\n",
       "      <td>0.012418</td>\n",
       "      <td>-0.077705</td>\n",
       "      <td>0.016302</td>\n",
       "      <td>0.001052</td>\n",
       "    </tr>\n",
       "    <tr>\n",
       "      <th>2018-01-31</th>\n",
       "      <td>-0.010636</td>\n",
       "      <td>0.085493</td>\n",
       "      <td>-0.034342</td>\n",
       "      <td>0.160376</td>\n",
       "      <td>NaN</td>\n",
       "      <td>0.101968</td>\n",
       "      <td>0.054953</td>\n",
       "      <td>0.102929</td>\n",
       "      <td>0.089189</td>\n",
       "      <td>-0.040007</td>\n",
       "      <td>0.052204</td>\n",
       "      <td>0.001184</td>\n",
       "    </tr>\n",
       "    <tr>\n",
       "      <th>2018-02-28</th>\n",
       "      <td>0.063848</td>\n",
       "      <td>-0.045249</td>\n",
       "      <td>-0.135525</td>\n",
       "      <td>0.032169</td>\n",
       "      <td>NaN</td>\n",
       "      <td>-0.144458</td>\n",
       "      <td>-0.066974</td>\n",
       "      <td>0.016001</td>\n",
       "      <td>-0.029440</td>\n",
       "      <td>-0.041144</td>\n",
       "      <td>-0.043097</td>\n",
       "      <td>0.001241</td>\n",
       "    </tr>\n",
       "    <tr>\n",
       "      <th>2018-03-31</th>\n",
       "      <td>-0.015832</td>\n",
       "      <td>-0.022699</td>\n",
       "      <td>0.030909</td>\n",
       "      <td>-0.032807</td>\n",
       "      <td>NaN</td>\n",
       "      <td>0.078135</td>\n",
       "      <td>-0.007542</td>\n",
       "      <td>0.143356</td>\n",
       "      <td>0.031991</td>\n",
       "      <td>0.016575</td>\n",
       "      <td>0.008949</td>\n",
       "      <td>0.001406</td>\n",
       "    </tr>\n",
       "  </tbody>\n",
       "</table>\n",
       "</div>"
      ],
      "text/plain": [
       "            WIKI/AAPL - Close  WIKI/ABC - Close  WIKI/AA - Close  \\\n",
       "Date                                                               \n",
       "2017-11-30           0.016623          0.102274        -0.131226   \n",
       "2017-12-31          -0.015246          0.082528         0.297760   \n",
       "2018-01-31          -0.010636          0.085493        -0.034342   \n",
       "2018-02-28           0.063848         -0.045249        -0.135525   \n",
       "2018-03-31          -0.015832         -0.022699         0.030909   \n",
       "\n",
       "            WIKI/ABBV - Close  WIKI/ACE - Close  WIKI/AGN - Close  \\\n",
       "Date                                                                \n",
       "2017-11-30           0.073906               NaN         -0.019184   \n",
       "2017-12-31          -0.002167               NaN         -0.058966   \n",
       "2018-01-31           0.160376               NaN          0.101968   \n",
       "2018-02-28           0.032169               NaN         -0.144458   \n",
       "2018-03-31          -0.032807               NaN          0.078135   \n",
       "\n",
       "            WIKI/ADP - Close  WIKI/ADSK - Close  WIKI/ABT - Close  \\\n",
       "Date                                                                \n",
       "2017-11-30         -0.015483          -0.122119          0.039462   \n",
       "2017-12-31          0.023851          -0.044394          0.012418   \n",
       "2018-01-31          0.054953           0.102929          0.089189   \n",
       "2018-02-28         -0.066974           0.016001         -0.029440   \n",
       "2018-03-31         -0.007542           0.143356          0.031991   \n",
       "\n",
       "            WIKI/AEE - Close     Index  Actif sans risque  \n",
       "Date                                                       \n",
       "2017-11-30          0.031779  0.017963           0.000945  \n",
       "2017-12-31         -0.077705  0.016302           0.001052  \n",
       "2018-01-31         -0.040007  0.052204           0.001184  \n",
       "2018-02-28         -0.041144 -0.043097           0.001241  \n",
       "2018-03-31          0.016575  0.008949           0.001406  "
      ]
     },
     "execution_count": 44,
     "metadata": {},
     "output_type": "execute_result"
    }
   ],
   "source": [
    "donnees.tail()"
   ]
  },
  {
   "cell_type": "code",
   "execution_count": 21,
   "metadata": {
    "collapsed": true
   },
   "outputs": [],
   "source": [
    "for i in range(nb_actifs + 1):\n",
    "    donnees.iloc[:,i] = donnees.iloc[:,i] - donnees.iloc[:,-1]"
   ]
  },
  {
   "cell_type": "code",
   "execution_count": 22,
   "metadata": {},
   "outputs": [
    {
     "data": {
      "text/html": [
       "<div>\n",
       "<style scoped>\n",
       "    .dataframe tbody tr th:only-of-type {\n",
       "        vertical-align: middle;\n",
       "    }\n",
       "\n",
       "    .dataframe tbody tr th {\n",
       "        vertical-align: top;\n",
       "    }\n",
       "\n",
       "    .dataframe thead th {\n",
       "        text-align: right;\n",
       "    }\n",
       "</style>\n",
       "<table border=\"1\" class=\"dataframe\">\n",
       "  <thead>\n",
       "    <tr style=\"text-align: right;\">\n",
       "      <th></th>\n",
       "      <th>WIKI/F - Close</th>\n",
       "      <th>Index</th>\n",
       "      <th>Actif sans risque</th>\n",
       "    </tr>\n",
       "    <tr>\n",
       "      <th>Date</th>\n",
       "      <th></th>\n",
       "      <th></th>\n",
       "      <th></th>\n",
       "    </tr>\n",
       "  </thead>\n",
       "  <tbody>\n",
       "    <tr>\n",
       "      <th>2017-11-30</th>\n",
       "      <td>0.019430</td>\n",
       "      <td>0.017018</td>\n",
       "      <td>0.000945</td>\n",
       "    </tr>\n",
       "    <tr>\n",
       "      <th>2017-12-31</th>\n",
       "      <td>-0.003448</td>\n",
       "      <td>0.015250</td>\n",
       "      <td>0.001052</td>\n",
       "    </tr>\n",
       "    <tr>\n",
       "      <th>2018-01-31</th>\n",
       "      <td>-0.122881</td>\n",
       "      <td>0.051020</td>\n",
       "      <td>0.001184</td>\n",
       "    </tr>\n",
       "    <tr>\n",
       "      <th>2018-02-28</th>\n",
       "      <td>-0.034058</td>\n",
       "      <td>-0.044339</td>\n",
       "      <td>0.001241</td>\n",
       "    </tr>\n",
       "    <tr>\n",
       "      <th>2018-03-31</th>\n",
       "      <td>0.036295</td>\n",
       "      <td>0.007544</td>\n",
       "      <td>0.001406</td>\n",
       "    </tr>\n",
       "  </tbody>\n",
       "</table>\n",
       "</div>"
      ],
      "text/plain": [
       "            WIKI/F - Close     Index  Actif sans risque\n",
       "Date                                                   \n",
       "2017-11-30        0.019430  0.017018           0.000945\n",
       "2017-12-31       -0.003448  0.015250           0.001052\n",
       "2018-01-31       -0.122881  0.051020           0.001184\n",
       "2018-02-28       -0.034058 -0.044339           0.001241\n",
       "2018-03-31        0.036295  0.007544           0.001406"
      ]
     },
     "execution_count": 22,
     "metadata": {},
     "output_type": "execute_result"
    }
   ],
   "source": [
    "donnees.tail()"
   ]
  },
  {
   "cell_type": "code",
   "execution_count": 23,
   "metadata": {},
   "outputs": [
    {
     "data": {
      "text/plain": [
       "<matplotlib.axes._subplots.AxesSubplot at 0x1188d0940>"
      ]
     },
     "execution_count": 23,
     "metadata": {},
     "output_type": "execute_result"
    },
    {
     "data": {
      "image/png": "[encoded data removed]",
      "text/plain": [
       "<matplotlib.figure.Figure at 0x1188c7ba8>"
      ]
     },
     "metadata": {},
     "output_type": "display_data"
    }
   ],
   "source": [
    "donnees.plot()"
   ]
  },
  {
   "cell_type": "code",
   "execution_count": 24,
   "metadata": {
    "collapsed": true
   },
   "outputs": [],
   "source": [
    "donnees = donnees.dropna(axis=0)"
   ]
  },
  {
   "cell_type": "markdown",
   "metadata": {},
   "source": [
    "Pour conduire la régression, il faut simplement ajouter une constante:"
   ]
  },
  {
   "cell_type": "code",
   "execution_count": 25,
   "metadata": {
    "collapsed": true
   },
   "outputs": [],
   "source": [
    "y = donnees.iloc[:,0]\n",
    "X = donnees['Index']\n",
    "X = sm.add_constant(X)"
   ]
  },
  {
   "cell_type": "code",
   "execution_count": 26,
   "metadata": {},
   "outputs": [
    {
     "data": {
      "text/html": [
       "<div>\n",
       "<style scoped>\n",
       "    .dataframe tbody tr th:only-of-type {\n",
       "        vertical-align: middle;\n",
       "    }\n",
       "\n",
       "    .dataframe tbody tr th {\n",
       "        vertical-align: top;\n",
       "    }\n",
       "\n",
       "    .dataframe thead th {\n",
       "        text-align: right;\n",
       "    }\n",
       "</style>\n",
       "<table border=\"1\" class=\"dataframe\">\n",
       "  <thead>\n",
       "    <tr style=\"text-align: right;\">\n",
       "      <th></th>\n",
       "      <th>const</th>\n",
       "      <th>Index</th>\n",
       "    </tr>\n",
       "    <tr>\n",
       "      <th>Date</th>\n",
       "      <th></th>\n",
       "      <th></th>\n",
       "    </tr>\n",
       "  </thead>\n",
       "  <tbody>\n",
       "    <tr>\n",
       "      <th>2015-02-28</th>\n",
       "      <td>1.0</td>\n",
       "      <td>0.053205</td>\n",
       "    </tr>\n",
       "    <tr>\n",
       "      <th>2015-03-31</th>\n",
       "      <td>1.0</td>\n",
       "      <td>-0.015612</td>\n",
       "    </tr>\n",
       "    <tr>\n",
       "      <th>2015-04-30</th>\n",
       "      <td>1.0</td>\n",
       "      <td>0.025410</td>\n",
       "    </tr>\n",
       "    <tr>\n",
       "      <th>2015-05-31</th>\n",
       "      <td>1.0</td>\n",
       "      <td>-0.002718</td>\n",
       "    </tr>\n",
       "    <tr>\n",
       "      <th>2015-06-30</th>\n",
       "      <td>1.0</td>\n",
       "      <td>-0.023787</td>\n",
       "    </tr>\n",
       "  </tbody>\n",
       "</table>\n",
       "</div>"
      ],
      "text/plain": [
       "            const     Index\n",
       "Date                       \n",
       "2015-02-28    1.0  0.053205\n",
       "2015-03-31    1.0 -0.015612\n",
       "2015-04-30    1.0  0.025410\n",
       "2015-05-31    1.0 -0.002718\n",
       "2015-06-30    1.0 -0.023787"
      ]
     },
     "execution_count": 26,
     "metadata": {},
     "output_type": "execute_result"
    }
   ],
   "source": [
    "X.head()"
   ]
  },
  {
   "cell_type": "code",
   "execution_count": 27,
   "metadata": {},
   "outputs": [
    {
     "data": {
      "text/plain": [
       "Date\n",
       "2015-02-28    0.110792\n",
       "2015-03-31   -0.012282\n",
       "2015-04-30   -0.021057\n",
       "2015-05-31   -0.039882\n",
       "2015-06-30   -0.010564\n",
       "Freq: M, Name: WIKI/F - Close, dtype: float64"
      ]
     },
     "execution_count": 27,
     "metadata": {},
     "output_type": "execute_result"
    }
   ],
   "source": [
    "y.head()"
   ]
  },
  {
   "cell_type": "code",
   "execution_count": 28,
   "metadata": {},
   "outputs": [
    {
     "name": "stdout",
     "output_type": "stream",
     "text": [
      "                            OLS Regression Results                            \n",
      "==============================================================================\n",
      "Dep. Variable:         WIKI/F - Close   R-squared:                       0.328\n",
      "Model:                            OLS   Adj. R-squared:                  0.309\n",
      "Method:                 Least Squares   F-statistic:                     17.54\n",
      "Date:                Tue, 20 Mar 2018   Prob (F-statistic):           0.000173\n",
      "Time:                        09:24:14   Log-Likelihood:                 66.490\n",
      "No. Observations:                  38   AIC:                            -129.0\n",
      "Df Residuals:                      36   BIC:                            -125.7\n",
      "Df Model:                           1                                         \n",
      "Covariance Type:            nonrobust                                         \n",
      "==============================================================================\n",
      "                 coef    std err          t      P>|t|      [0.025      0.975]\n",
      "------------------------------------------------------------------------------\n",
      "const         -0.0130      0.007     -1.807      0.079      -0.028       0.002\n",
      "Index          0.9599      0.229      4.188      0.000       0.495       1.425\n",
      "==============================================================================\n",
      "Omnibus:                       19.283   Durbin-Watson:                   1.980\n",
      "Prob(Omnibus):                  0.000   Jarque-Bera (JB):               32.980\n",
      "Skew:                          -1.288   Prob(JB):                     6.89e-08\n",
      "Kurtosis:                       6.767   Cond. No.                         32.7\n",
      "==============================================================================\n",
      "\n",
      "Warnings:\n",
      "[1] Standard Errors assume that the covariance matrix of the errors is correctly specified.\n"
     ]
    }
   ],
   "source": [
    "model = sm.OLS(y, X).fit()\n",
    "print(model.summary())"
   ]
  },
  {
   "cell_type": "markdown",
   "metadata": {},
   "source": [
    "### Plusieurs actions"
   ]
  },
  {
   "cell_type": "markdown",
   "metadata": {},
   "source": [
    "Pour obtenir un grand nombre d'actions, utilisons la liste des ticker symbol de la base WIKI, disponibles dans le fichier csv [WIKI-datasets-codes.csv]()."
   ]
  },
  {
   "cell_type": "code",
   "execution_count": 1,
   "metadata": {},
   "outputs": [],
   "source": [
    "fichier = open('WIKI-datasets-codes.csv', 'r')\n",
    "\n",
    "for action in fichier:\n",
    "    # On peut agir sur la ligne en cours de lecture\n",
    "    pass\n",
    "    \n",
    "fichier.close()"
   ]
  },
  {
   "cell_type": "markdown",
   "metadata": {},
   "source": [
    "On va stocker les ticker symbols dans la liste liste_actions."
   ]
  },
  {
   "cell_type": "code",
   "execution_count": 45,
   "metadata": {
    "scrolled": false
   },
   "outputs": [
    {
     "name": "stdout",
     "output_type": "stream",
     "text": [
      "['WIKI/AAPL', 'WIKI/ABC', 'WIKI/AA', 'WIKI/ABBV', 'WIKI/ACE', 'WIKI/AGN', 'WIKI/ADP', 'WIKI/ADSK', 'WIKI/ABT', 'WIKI/AEE']\n",
      "3196\n"
     ]
    }
   ],
   "source": [
    "liste_actions = []\n",
    "fichier = open('WIKI-datasets-codes.csv', 'r')\n",
    "\n",
    "for ligne in fichier:\n",
    "    liste_actions.append(ligne.split(',')[0])\n",
    "    \n",
    "fichier.close()\n",
    "\n",
    "print(liste_actions[0:10])\n",
    "print(len(liste_actions))"
   ]
  },
  {
   "cell_type": "markdown",
   "metadata": {},
   "source": [
    "Reconstituons le jeu de données en utilisant les commandes vues précédemment:"
   ]
  },
  {
   "cell_type": "code",
   "execution_count": 53,
   "metadata": {
    "collapsed": true
   },
   "outputs": [],
   "source": [
    "nb_actifs = 10\n",
    "liste_actions_courte = liste_actions[:nb_actifs]"
   ]
  },
  {
   "cell_type": "code",
   "execution_count": 54,
   "metadata": {
    "collapsed": true
   },
   "outputs": [],
   "source": [
    "debut = '2015-01-01'\n",
    "frequence = 'monthly'\n",
    "\n",
    "index = quandl.get('NASDAQOMX/NQGI', start_date = debut, column_index = 1, collapse=frequence)\n",
    "index.columns = ['Index']\n",
    "\n",
    "actions = quandl.get(liste_actions_courte, start_date = debut, column_index = 4, collapse=frequence)\n",
    "actif_sans_risque = quandl.get('USTREASURY/BILLRATES', start_date = debut, column_index = 2, collapse=frequence)\n",
    "actif_sans_risque.columns = ['Actif sans risque']\n",
    "actif_sans_risque = (1 + actif_sans_risque/100) ** (1/12) - 1\n",
    "\n",
    "donnees = pd.concat([actions.pct_change(), index.pct_change(), actif_sans_risque], axis=1)\n",
    "donnees.drop(donnees.head(1).index, inplace=True)"
   ]
  },
  {
   "cell_type": "markdown",
   "metadata": {},
   "source": [
    "Nettoyons les données; pour aller vite, nous allons simplement interpoler les données manquantes."
   ]
  },
  {
   "cell_type": "code",
   "execution_count": 55,
   "metadata": {
    "collapsed": true
   },
   "outputs": [],
   "source": [
    "donnees_propres = donnees.interpolate()\n",
    "donnees_propres.dropna(axis=1, how='any', inplace=True)"
   ]
  },
  {
   "cell_type": "markdown",
   "metadata": {},
   "source": [
    "Il reste à soustraire le taux de l'actif sans risque:"
   ]
  },
  {
   "cell_type": "code",
   "execution_count": 56,
   "metadata": {
    "collapsed": true
   },
   "outputs": [],
   "source": [
    "for i in range(nb_actifs + 1):\n",
    "    donnees.iloc[:,i] = donnees.iloc[:,i] - donnees.iloc[:,-1]"
   ]
  },
  {
   "cell_type": "code",
   "execution_count": 57,
   "metadata": {
    "scrolled": true
   },
   "outputs": [
    {
     "data": {
      "text/html": [
       "<div>\n",
       "<style scoped>\n",
       "    .dataframe tbody tr th:only-of-type {\n",
       "        vertical-align: middle;\n",
       "    }\n",
       "\n",
       "    .dataframe tbody tr th {\n",
       "        vertical-align: top;\n",
       "    }\n",
       "\n",
       "    .dataframe thead th {\n",
       "        text-align: right;\n",
       "    }\n",
       "</style>\n",
       "<table border=\"1\" class=\"dataframe\">\n",
       "  <thead>\n",
       "    <tr style=\"text-align: right;\">\n",
       "      <th></th>\n",
       "      <th>WIKI/AAPL - Close</th>\n",
       "      <th>WIKI/ABC - Close</th>\n",
       "      <th>WIKI/ABBV - Close</th>\n",
       "      <th>WIKI/ACE - Close</th>\n",
       "      <th>WIKI/AGN - Close</th>\n",
       "      <th>WIKI/ADP - Close</th>\n",
       "      <th>WIKI/ADSK - Close</th>\n",
       "      <th>WIKI/ABT - Close</th>\n",
       "      <th>WIKI/AEE - Close</th>\n",
       "      <th>Index</th>\n",
       "      <th>Actif sans risque</th>\n",
       "    </tr>\n",
       "    <tr>\n",
       "      <th>Date</th>\n",
       "      <th></th>\n",
       "      <th></th>\n",
       "      <th></th>\n",
       "      <th></th>\n",
       "      <th></th>\n",
       "      <th></th>\n",
       "      <th></th>\n",
       "      <th></th>\n",
       "      <th></th>\n",
       "      <th></th>\n",
       "      <th></th>\n",
       "    </tr>\n",
       "  </thead>\n",
       "  <tbody>\n",
       "    <tr>\n",
       "      <th>2017-11-30</th>\n",
       "      <td>0.016623</td>\n",
       "      <td>0.102274</td>\n",
       "      <td>0.073906</td>\n",
       "      <td>-0.049893</td>\n",
       "      <td>-0.019184</td>\n",
       "      <td>-0.015483</td>\n",
       "      <td>-0.122119</td>\n",
       "      <td>0.039462</td>\n",
       "      <td>0.031779</td>\n",
       "      <td>0.017963</td>\n",
       "      <td>0.000945</td>\n",
       "    </tr>\n",
       "    <tr>\n",
       "      <th>2017-12-31</th>\n",
       "      <td>-0.015246</td>\n",
       "      <td>0.082528</td>\n",
       "      <td>-0.002167</td>\n",
       "      <td>-0.049893</td>\n",
       "      <td>-0.058966</td>\n",
       "      <td>0.023851</td>\n",
       "      <td>-0.044394</td>\n",
       "      <td>0.012418</td>\n",
       "      <td>-0.077705</td>\n",
       "      <td>0.016302</td>\n",
       "      <td>0.001052</td>\n",
       "    </tr>\n",
       "    <tr>\n",
       "      <th>2018-01-31</th>\n",
       "      <td>-0.010636</td>\n",
       "      <td>0.085493</td>\n",
       "      <td>0.160376</td>\n",
       "      <td>-0.049893</td>\n",
       "      <td>0.101968</td>\n",
       "      <td>0.054953</td>\n",
       "      <td>0.102929</td>\n",
       "      <td>0.089189</td>\n",
       "      <td>-0.040007</td>\n",
       "      <td>0.052204</td>\n",
       "      <td>0.001184</td>\n",
       "    </tr>\n",
       "    <tr>\n",
       "      <th>2018-02-28</th>\n",
       "      <td>0.063848</td>\n",
       "      <td>-0.045249</td>\n",
       "      <td>0.032169</td>\n",
       "      <td>-0.049893</td>\n",
       "      <td>-0.144458</td>\n",
       "      <td>-0.066974</td>\n",
       "      <td>0.016001</td>\n",
       "      <td>-0.029440</td>\n",
       "      <td>-0.041144</td>\n",
       "      <td>-0.043097</td>\n",
       "      <td>0.001241</td>\n",
       "    </tr>\n",
       "    <tr>\n",
       "      <th>2018-03-31</th>\n",
       "      <td>-0.015832</td>\n",
       "      <td>-0.022699</td>\n",
       "      <td>-0.032807</td>\n",
       "      <td>-0.049893</td>\n",
       "      <td>0.078135</td>\n",
       "      <td>-0.007542</td>\n",
       "      <td>0.143356</td>\n",
       "      <td>0.031991</td>\n",
       "      <td>0.016575</td>\n",
       "      <td>0.008949</td>\n",
       "      <td>0.001406</td>\n",
       "    </tr>\n",
       "  </tbody>\n",
       "</table>\n",
       "</div>"
      ],
      "text/plain": [
       "            WIKI/AAPL - Close  WIKI/ABC - Close  WIKI/ABBV - Close  \\\n",
       "Date                                                                 \n",
       "2017-11-30           0.016623          0.102274           0.073906   \n",
       "2017-12-31          -0.015246          0.082528          -0.002167   \n",
       "2018-01-31          -0.010636          0.085493           0.160376   \n",
       "2018-02-28           0.063848         -0.045249           0.032169   \n",
       "2018-03-31          -0.015832         -0.022699          -0.032807   \n",
       "\n",
       "            WIKI/ACE - Close  WIKI/AGN - Close  WIKI/ADP - Close  \\\n",
       "Date                                                               \n",
       "2017-11-30         -0.049893         -0.019184         -0.015483   \n",
       "2017-12-31         -0.049893         -0.058966          0.023851   \n",
       "2018-01-31         -0.049893          0.101968          0.054953   \n",
       "2018-02-28         -0.049893         -0.144458         -0.066974   \n",
       "2018-03-31         -0.049893          0.078135         -0.007542   \n",
       "\n",
       "            WIKI/ADSK - Close  WIKI/ABT - Close  WIKI/AEE - Close     Index  \\\n",
       "Date                                                                          \n",
       "2017-11-30          -0.122119          0.039462          0.031779  0.017963   \n",
       "2017-12-31          -0.044394          0.012418         -0.077705  0.016302   \n",
       "2018-01-31           0.102929          0.089189         -0.040007  0.052204   \n",
       "2018-02-28           0.016001         -0.029440         -0.041144 -0.043097   \n",
       "2018-03-31           0.143356          0.031991          0.016575  0.008949   \n",
       "\n",
       "            Actif sans risque  \n",
       "Date                           \n",
       "2017-11-30           0.000945  \n",
       "2017-12-31           0.001052  \n",
       "2018-01-31           0.001184  \n",
       "2018-02-28           0.001241  \n",
       "2018-03-31           0.001406  "
      ]
     },
     "execution_count": 57,
     "metadata": {},
     "output_type": "execute_result"
    }
   ],
   "source": [
    "donnees_propres.tail()"
   ]
  },
  {
   "cell_type": "code",
   "execution_count": 60,
   "metadata": {
    "collapsed": true
   },
   "outputs": [],
   "source": [
    "nb_observations, nb_actifs = donnees_propres.shape"
   ]
  },
  {
   "cell_type": "markdown",
   "metadata": {},
   "source": [
    "Lançons les régressions:"
   ]
  },
  {
   "cell_type": "code",
   "execution_count": null,
   "metadata": {
    "collapsed": true
   },
   "outputs": [],
   "source": [
    "resultats = pd.DataFrame(columns=['actif', 'alpha', 'beta', 'risque', 'rendement moyen'])\n",
    "\n",
    "X = donnees['Index']\n",
    "X = sm.add_constant(X)\n",
    "\n",
    "for i in range(nb_actifs - 2):\n",
    "    y = donnees_propres.iloc[:,i]\n",
    "    model = sm.OLS(y, X).fit()\n",
    "    resultats = resultats.append({'actif': liste_actions[i],\n",
    "                                  'alpha': model.params['const'], \n",
    "                                  'beta': model.params['Index'], \n",
    "                                  'risque': np.var(model.resid),\n",
    "                                  'rendement moyen' : np.mean(y)}, \n",
    "                                 ignore_index=True)\n",
    "\n",
    "prime_marche = np.mean(donnees['Index'])\n",
    "resultats = resultats.set_index('actif')"
   ]
  },
  {
   "cell_type": "markdown",
   "metadata": {},
   "source": [
    "Affichons les résultats :"
   ]
  },
  {
   "cell_type": "code",
   "execution_count": 61,
   "metadata": {},
   "outputs": [
    {
     "name": "stdout",
     "output_type": "stream",
     "text": [
      "              alpha      beta    risque  rendement moyen\n",
      "actif                                                   \n",
      "WIKI/AAPL  0.005473  1.098920  0.002950         0.012696\n",
      "WIKI/ABC  -0.004711  1.031209  0.004221         0.002067\n",
      "WIKI/AA    0.010440  1.240540  0.002985         0.018593\n",
      "WIKI/ABBV -0.034758  0.262426  0.001299        -0.033033\n",
      "WIKI/ACE  -0.016213  1.132914  0.005810        -0.008767\n",
      "WIKI/AGN   0.004722  0.777516  0.001865         0.009833\n",
      "WIKI/ADP   0.015304  2.131519  0.006041         0.029314\n",
      "WIKI/ADSK  0.000302  1.570257  0.001434         0.010623\n",
      "WIKI/ABT   0.005885  0.045488  0.001925         0.006184\n"
     ]
    }
   ],
   "source": [
    "print(resultats)"
   ]
  },
  {
   "cell_type": "markdown",
   "metadata": {},
   "source": [
    "Exercice : Compléter le tableau de résultats avec les écart-types."
   ]
  }
 ],
 "metadata": {
  "kernelspec": {
   "display_name": "Python 3",
   "language": "python",
   "name": "python3"
  },
  "language_info": {
   "codemirror_mode": {
    "name": "ipython",
    "version": 3
   },
   "file_extension": ".py",
   "mimetype": "text/x-python",
   "name": "python",
   "nbconvert_exporter": "python",
   "pygments_lexer": "ipython3",
   "version": "3.5.3"
  }
 },
 "nbformat": 4,
 "nbformat_minor": 2
}

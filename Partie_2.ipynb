{
 "cells": [
  {
   "cell_type": "markdown",
   "metadata": {},
   "source": [
    "## Partie 2: Capital Asset Pricing Model (CAPM)"
   ]
  },
  {
   "cell_type": "markdown",
   "metadata": {},
   "source": [
    "## Le Capital Asset Pricing Model (CAPM)"
   ]
  },
  {
   "cell_type": "markdown",
   "metadata": {},
   "source": [
    "Reférences:\n",
    "- Sharpe, W. F. (1964). Capital asset prices: A theory of market equilibrium under conditions of risk. The journal of finance, 19(3), 425-442.\n",
    "- Lintner, J. (1975). The valuation of risk assets and the selection of risky investments in stock portfolios and capital budgets. In Stochastic Optimization Models in Finance (pp. 131-155).\n",
    "- Mossin, J. (1966). Equilibrium in a capital asset market. Econometrica: Journal of the econometric society, 768-783."
   ]
  },
  {
   "cell_type": "markdown",
   "metadata": {},
   "source": [
    "Problématique fondamentale : s'il existe un seul portefeuille optimal, que se passe-t-il lorsque tous les investisseurs investissent uniquement dans celui-ci ?"
   ]
  },
  {
   "cell_type": "markdown",
   "metadata": {},
   "source": [
    "Suppositions du CAPM :\n",
    "\n",
    "1] En termes de comportement individuel :\n",
    "  - Les investisseurs sont tradionnels et optimisent le rendement attendu en fonction du risque comme vu en partie 1. (\"Mean-variance optimizers\")\n",
    "  - Une seule période temporelle (décision, conséquence).\n",
    "  - Les investisseurs disposent des mêmes inputs en termes d'espérance de rendement et de risque: ils ont la même information et des mêmes attentes (*homogeneous expectations*)\n",
    "\n",
    "  \n",
    "2] En termes de structure du marché:\n",
    "  - Tous les actifs sont disponibles à l'investissement et échangés sur des marchés publics.\n",
    "  - Les investisseurs peuvent prêter ou emprunter de l'argent à un taux fixe (taux de l'actif sans risque), et ils peuvent prendre des positions à découvert sur (shorter) des actifs.\n",
    "  - Pas de taxe ni de coûts de transaction."
   ]
  },
  {
   "cell_type": "markdown",
   "metadata": {},
   "source": [
    "Considérons l'aggrégation de tous les portefeuilles des investisseurs. Les emprunts et les prêts s'annulent, et l'on peut représenter la richesse totale de l'économie à travers le portefeuille de marché. Ce portefeuille dispose d'un vecteur de poids, qui est la proportion de la richesse totale ventilée dans les différentes actions."
   ]
  },
  {
   "cell_type": "markdown",
   "metadata": {},
   "source": [
    "| Actif|Nombre d'actions|Poids en nombre de parts|Prix|Capitalisation|Poids dans le portefeuille de marché|\n",
    "|------|----------------| -----------------------|----|--------------| -----------------------------------|\n",
    "| A    |10              |      1/3               |1   |10            | 10%                                |\n",
    "| B    |10              |      1/3               |2   |20            | 20%                                |\n",
    "| C    |10              |      1/3               |7   |70            | 70%                                |"
   ]
  },
  {
   "cell_type": "markdown",
   "metadata": {},
   "source": [
    "Si tous les portefeuilles (des investisseurs) sont le même portefeuille optimal, alors le portefeuille de marché disposera des mêmes poids que le portefeuille optimal."
   ]
  },
  {
   "cell_type": "markdown",
   "metadata": {},
   "source": [
    "Exemple : Si tous les investisseurs ont placé 1% de leur richesse dans l'actif A, alors 1% de la richesse totale est investie dans l'actif A : le portefeuille du marché dispose donc d'un poids de 1% pour l'actif A."
   ]
  },
  {
   "cell_type": "markdown",
   "metadata": {},
   "source": [
    "Si un actif ne fait pas partie du portefeuille optimal, alors aucun investisseur ne va acquérir de titre. Le prix va plonger, jusqu'à atteindre un prix pour lequel le compromis rendement risque devient intéressant, et l'actif va intégrer le portefeuille optimal."
   ]
  },
  {
   "cell_type": "markdown",
   "metadata": {},
   "source": [
    "Conclusion : tous les actifs figurent dans le portefeuille optimal. La seule question est de savoir à quel prix."
   ]
  },
  {
   "cell_type": "markdown",
   "metadata": {},
   "source": [
    "### Prime de risque du portefeuille du marché"
   ]
  },
  {
   "cell_type": "markdown",
   "metadata": {},
   "source": [
    "Le portefeuille optimal est le portefeuille du marché $M$."
   ]
  },
  {
   "cell_type": "markdown",
   "metadata": {},
   "source": [
    "D'après ce que l'on a vu en première partie, la proportion optimale d'investissement dans le portefeuille du marché (versus l'actif sans risque) pour un investisseur $n$ d'aversion au risque $A_n$ nous est donné par la formule suivante:\n",
    "$$w^*_n = \\frac{E(r_M) - r_f}{\\sigma_{M}^2A_n}$$"
   ]
  },
  {
   "cell_type": "markdown",
   "metadata": {},
   "source": [
    "Cette proportion varie d'un investisseur à l'autre basé sur son aversion au risque. C'est la seule chose qui entraîne une allocation différente, car le portfeuille optimal est le même pour tous."
   ]
  },
  {
   "cell_type": "markdown",
   "metadata": {},
   "source": [
    "La somme de tous les prêts et emprunts pour tous les investisseurs est égale à 0: pour un emprunteur, il existe sa contrepartie prêteuse sur le marché. Nous avons donc :"
   ]
  },
  {
   "cell_type": "markdown",
   "metadata": {},
   "source": [
    "$$\\sum_{n=1}^{N}(1-w_n)*C_n = 0$$\n",
    "Avec $C_n$ constituant le capital de l'agent n. On a donc:\n",
    "$$\\sum_{n=1}^{N}w_n*C_n = \\sum_{n=1}^{N}C_n = C$$\n",
    "Ce qui se traduit par : la somme des capitaux investis dans les actifs risqués est égale au capital total du marché. Ce qui est logique car un capital placé dans l'actif sans risque est en réalité prêté à un autre agent qui va l'investir dans les actifs risqués. On a alors:\n",
    "$$\\sum_{n=1}^{N}\\frac{E(r_M) - r_f}{\\sigma_{M}^2A_n}*C_n = C$$\n",
    "On peut considérer le capital de chaque agent comme une fraction du capital total. On a alors $C = 1$.\n",
    "$$\\sum_{n=1}^{N}\\frac{E(r_M) - r_f}{\\sigma_{M}^2A_n}*C_n = 1$$\n",
    "$$\\frac{E(r_M) - r_f}{\\sigma_{M}^2}*\\sum_{n=1}^{N}\\frac1{A_n}*C_n = 1$$\n",
    "\n",
    "Supposons que nous ayons un agent unique et représentatif : son aversion au risque vaut $A$.\n",
    "$$\\frac{E(r_M) - r_f}{\\sigma_{M}^2}*\\sum_{n=1}^{N}\\frac1{A}*C_n = 1$$\n",
    "$$\\frac1{A}\\frac{E(r_M) - r_f}{\\sigma_{M}^2}*\\sum_{n=1}^{N}C_n = 1$$\n",
    "$$\\frac1{A}\\frac{E(r_M) - r_f}{\\sigma_{M}^2} = 1$$\n",
    "$$E(r_M) - r_f = \\sigma_{M}^2*A$$"
   ]
  },
  {
   "cell_type": "markdown",
   "metadata": {},
   "source": [
    "Cette égalité donne une idée du lien \"théorique\" entre prime de risque du marché et volatilité du marché (représenté par sa variance). Il s'agit d'un lien qui devient de plus en plus pertinent au fur et à mesure que l'on a des agents dont l'aversion au risque est de plus en plus similaire."
   ]
  },
  {
   "cell_type": "markdown",
   "metadata": {},
   "source": [
    "Cela peut aider à se représenter la signification de l'aversion au risque : un marché composé d'agents à l'aversion A sera un marché ou la prime de risque exigée sera la volatilité du portefeuille mutipliée par l'aversion au risque."
   ]
  },
  {
   "cell_type": "markdown",
   "metadata": {},
   "source": [
    "### Contribution au risque du marché et retour attendu"
   ]
  },
  {
   "cell_type": "markdown",
   "metadata": {},
   "source": [
    "Rappelons le résultat obtenu en partie 1:\n",
    "$$\\mathrm{Var}(\\sum_{i=1}^{N}w_iX_i) = \\sum_{i=1}^{N}\\sum_{j=1}^{N}w_iw_j\\sigma_{ij}$$"
   ]
  },
  {
   "cell_type": "markdown",
   "metadata": {},
   "source": [
    "Considérons la covariance entre un actif précis et le marché :\n",
    "$$\\mathrm{Cov}(X_k,\\sum_{i=1}^{N}w_iX_i) = \\sum_{i=1}^{N}w_i\\sigma_{ik}$$\n",
    "Ce qui nous donne, si l'on prend en compte le poids de l'actif k :\n",
    "$$\\mathrm{Cov}(w_kX_k,\\sum_{i=1}^{N}w_iX_i) = \\sum_{i=1}^{N}w_iw_k\\sigma_{ik}$$"
   ]
  },
  {
   "cell_type": "markdown",
   "metadata": {},
   "source": [
    "Si l'on somme cette égalité pour tous les k entre 1 et N, on retombe sur la première égalité, et donc sur la variance totale du marché. \n",
    "On peut donc se servir de cette dernière égalité pour avoir une idée de la contribution de l'actif k à la variance du marché."
   ]
  },
  {
   "cell_type": "markdown",
   "metadata": {},
   "source": [
    "Contribution de l'actif k à la variance du marché : $$\\mathrm{Cov}(w_kR_k,\\sum_{i=1}^{N}w_iR_i) = w_k*\\mathrm{Cov}(R_k,R_M)$$"
   ]
  },
  {
   "cell_type": "markdown",
   "metadata": {},
   "source": [
    "On peut dès lors s'intéresser au ratio entre la contribution à la prime de risque et la contribution à la variance:\n",
    "$$\\frac{w_k*E(R_k)}{w_k*\\mathrm{Cov}(R_k,R_M)} = \\frac{E(R_k)}{\\mathrm{Cov}(R_k,R_M)}$$"
   ]
  },
  {
   "cell_type": "markdown",
   "metadata": {},
   "source": [
    " [Jan Mossin, 1966](http://jpkc.fudan.edu.cn/picture/article/296/a0/8f/56489b58482aa1b8de3d9339ba17/13fc1431-e230-49e1-933e-f705da935a8f.pdf) a montré que lorsque le marché est à l'équilibre, tous les investissements présentent un ratio contribution au risque / contribution à la variance égal. Nous allons suivre la démonstration effectuée dans un cadre général (fonction d'utilité U concave, sans spécification plus précise), avant de l'appliquer à notre fonction d'utilité quadratique."
   ]
  },
  {
   "cell_type": "markdown",
   "metadata": {},
   "source": [
    "### A l'équilibre"
   ]
  },
  {
   "cell_type": "markdown",
   "metadata": {},
   "source": [
    "Pour comprendre ce résultat, il faut se situer dans un cadre pluis général, avec un marché et des biens. Nous nous sommes concentrés jusqu'ici sur les rendements, car notre fonction d'utilité ne dépendait pas des montants ou des quantités, mais seulement des rendements.\n",
    "Mais un cadre d'équilibre général implique de trouver un équilibre entre offre et demande, et donc de modéliser des actions achetées et vendues à un certain prix."
   ]
  },
  {
   "cell_type": "markdown",
   "metadata": {},
   "source": [
    "Le modèle est toujours sur deux périodes : décision générale, puis résultat. La fonction d'utilité des investisseurs dépend de l'espérance de la valeur future (du portefeuille) et du risque pris. On va considérer n actifs : n-1 actifs risqués et 1 actif sans risque."
   ]
  },
  {
   "cell_type": "markdown",
   "metadata": {},
   "source": [
    "L'espérance de la valeur future du portefeuille de l'investisseur i:\n",
    "$$y_1^i = \\sum_{j=1}^{n-1} \\mu_jx_j^i + x_n^i$$\n",
    "avec $\\mu_j$ désignant l'espérance de la valeur du bien j."
   ]
  },
  {
   "cell_type": "markdown",
   "metadata": {},
   "source": [
    "Le risque pris :\n",
    "$$y_2^i = \\sum_{j=1}^{n-1}\\sum_{\\alpha=1}^{n-1}\\sigma_{j\\alpha}x_j^ix_{\\alpha}^i$$\n",
    "avec $\\sigma_{j\\alpha} = Cov(\\mu_j, \\mu_{\\alpha})$"
   ]
  },
  {
   "cell_type": "markdown",
   "metadata": {},
   "source": [
    "On a une fonction d'utilité générique qui dépend de ces deux éléments :\n",
    "$$U^i = f^i(y_1^i,y_2^i)$$"
   ]
  },
  {
   "cell_type": "markdown",
   "metadata": {},
   "source": [
    "On voit ici que les investisseurs peuvent avoir des fonctions d'utilités différentes : la seule condition imposée est que cette fonction dépende de l'espérance de la production et du risque tels que formulés précédemment, et que cette fonction soit concave, avec une première dérivée positive et une seconde négative (par rapport à n'importe quel bien). Cela correspond bien à un comportement averse au risque."
   ]
  },
  {
   "cell_type": "markdown",
   "metadata": {},
   "source": [
    "Le prix de l'actif sans risque est fixé arbitrairement à $q$, et sa valeur future est certaine, fixée est 1. Le rendement sans risque dépend donc de $q$:\n",
    "$$r_f = \\frac1q - 1$$\n",
    "Pour un prix $q$ inférieur à 1, (disons 10/11) le rendement sera positif, (il vaudra ici 10%)."
   ]
  },
  {
   "cell_type": "markdown",
   "metadata": {},
   "source": [
    "D'une manière générale, les investisseurs n'optimisent plus l'espérance de rendement mais l'espérance de la valeur future, ce qui constitue un comportement plus général : il prend en compte les quantités et les prix. Nous verrons par la suite que nous pourrons retomber sur le cas particulier de l'optimisation de l'espérance de rendement."
   ]
  },
  {
   "cell_type": "markdown",
   "metadata": {},
   "source": [
    "Le lien entre les deux est le suivant :\n",
    "$$E(r_j) = \\frac{\\mu_j}{p_j} - 1$$\n",
    "$$\\mu_j = (1 + E(r_j))*p_j$$"
   ]
  },
  {
   "cell_type": "markdown",
   "metadata": {},
   "source": [
    "Chaque investisseur $i$ est sujet à une contrainte budgétaire:\n",
    "$$\\sum_{j=1}^{n-1}p_j(x_j^i - \\bar{x}_j^i) + q(x_n^i - \\bar{x}_n^i) = 0$$"
   ]
  },
  {
   "cell_type": "markdown",
   "metadata": {},
   "source": [
    "Chaque investisseur $i$ va chercher à optimiser son utilité $U^i$ sous la contrainte budgétaire. Il s'agit d'un problème d'optimisation avec une seule contrainte, appliqué à une fonction concave. Il s'agit donc de poser le Lagrangien, et de résoudre les conditions du premier ordre."
   ]
  },
  {
   "cell_type": "markdown",
   "metadata": {},
   "source": [
    "$$V^i = f^i(y_1^i, y_2^i) + \\theta^i[\\sum_{j=1}^{n-1}p_j(x_j^i - \\bar{x}_j^i) + q(x_n^i - \\bar{x}_n^i)]$$"
   ]
  },
  {
   "cell_type": "markdown",
   "metadata": {},
   "source": [
    "Rappelons le théorème de dérivation des fonctions composées (*chain rule*):"
   ]
  },
  {
   "cell_type": "markdown",
   "metadata": {},
   "source": [
    "Si $h = f(y_1(x), y_2(x))$, alors\n",
    "$$\\frac{\\partial h}{\\partial x_j^i} (x)= \\frac{\\partial f}{\\partial y_1}(y_1(x), y_2(x)) * \\frac{\\partial y_1}{\\partial x_j}(x) + \\frac{\\partial f}{\\partial y_2}(y_1(x), y_2(x)) * \\frac{\\partial y_2}{\\partial x_j}(x)$$"
   ]
  },
  {
   "cell_type": "markdown",
   "metadata": {},
   "source": [
    "Les conditions du premier ordre sont les suivantes (pour chaque investisseur):"
   ]
  },
  {
   "cell_type": "markdown",
   "metadata": {},
   "source": [
    "$$\\frac{\\partial V^i}{\\partial x_j^i} = f_1^i\\mu_j + 2f_2^i\\sum_{\\alpha=1}^{n-1}\\sigma_{j\\alpha}x_{\\alpha}^i + \\theta^ip_j = 0 \\qquad (j=1, ..., n-1) $$\n",
    "$$\\frac{\\partial V^i}{\\partial x_n^i} = f_1^i + \\theta^iq = 0$$\n",
    "$$\\frac{\\partial V^i}{\\partial \\theta^i} = \\sum_{j=1}^{n-1}p_j(x_j^i - \\bar{x}_j^i) + q(x_n^i - \\bar{x}_n^i) = 0$$"
   ]
  },
  {
   "cell_type": "markdown",
   "metadata": {},
   "source": [
    "Avec $f_1^i$ et $f_2^i$ les dérivées partielles de $f^i$ par rapport a $y_1^i$ et $y_2^i$."
   ]
  },
  {
   "cell_type": "markdown",
   "metadata": {},
   "source": [
    "La deuxième égalité peut s'écrire comme ceci (q est différent de 0) :"
   ]
  },
  {
   "cell_type": "markdown",
   "metadata": {},
   "source": [
    "$$\\theta^i = -\\frac{f_1^i}q $$"
   ]
  },
  {
   "cell_type": "markdown",
   "metadata": {},
   "source": [
    "On peut remplacer $\\theta^i$ dans la première égalité:"
   ]
  },
  {
   "cell_type": "markdown",
   "metadata": {},
   "source": [
    "$$f_1^i\\mu_j + 2f_2^i\\sum_{\\alpha=1}^{n-1}\\sigma_{j\\alpha}x_{\\alpha}^i -\\frac{f_1^i}q * p_j = 0 \\qquad (j=1, ..., n-1)$$"
   ]
  },
  {
   "cell_type": "markdown",
   "metadata": {},
   "source": [
    "$$\\Leftrightarrow f_1^i(\\mu_j -\\frac{p_j}q) = - 2f_2^i\\sum_{\\alpha=1}^{n-1}\\sigma_{j\\alpha}x_{\\alpha}^i \\qquad (j=1, ..., n-1)$$"
   ]
  },
  {
   "cell_type": "markdown",
   "metadata": {},
   "source": [
    "$$\\Leftrightarrow -\\frac{f_1^i}{f_2^i} = \\frac{- 2\\sum_{\\alpha=1}^{n-1}\\sigma_{j\\alpha}x_{\\alpha}^i}{\\mu_j -\\frac{p_j}q} \\qquad (j=1, ..., n-1)$$"
   ]
  },
  {
   "cell_type": "markdown",
   "metadata": {},
   "source": [
    "Les conditions du premier ordre sont donc pour chaque investisseur:\n",
    "$$-\\frac{f_1^i}{f_2^i} = \\frac{- 2\\sum_{\\alpha=1}^{n-1}\\sigma_{j\\alpha}x_{\\alpha}^i}{\\mu_j -\\frac{p_j}q} \\qquad (j=1, ..., n-1)$$\n",
    "$$\\sum_{j=1}^{n-1}p_j(x_j^i - \\bar{x}_j^i) + q(x_n^i - \\bar{x}_n^i) = 0$$"
   ]
  },
  {
   "cell_type": "markdown",
   "metadata": {},
   "source": [
    "On remarque que l'on a le taux marginal de substitution entre la variance et l'espérance de la valeur future, $-\\frac{f_1^i}{f_2^i}$."
   ]
  },
  {
   "cell_type": "markdown",
   "metadata": {},
   "source": [
    "On a désormais besoin d'ajouter les conditions d'équilibre et voir si le système admet une solution. On peut sommer les contraintes budgétaires des $m$ agents du marché :"
   ]
  },
  {
   "cell_type": "markdown",
   "metadata": {},
   "source": [
    "$$\\sum_{i=1}^{m}\\sum_{j=1}^{n-1}p_j(x_j^i - \\bar{x}_j^i) + q(x_n^i - \\bar{x}_n^i) = 0$$"
   ]
  },
  {
   "cell_type": "markdown",
   "metadata": {},
   "source": [
    "Et réorganiser :"
   ]
  },
  {
   "cell_type": "markdown",
   "metadata": {},
   "source": [
    "$$\\sum_{j=1}^{n-1}p_j\\sum_{i=1}^{m}(x_j^i - \\bar{x}_j^i) + q\\sum_{i=1}^{m}(x_n^i - \\bar{x}_n^i) = 0$$"
   ]
  },
  {
   "cell_type": "markdown",
   "metadata": {},
   "source": [
    "A l'équilibre, l'offre égale la demande. Les conditions de l'équilibre sont les suivantes :"
   ]
  },
  {
   "cell_type": "markdown",
   "metadata": {},
   "source": [
    "$$\\sum_{i=1}^{m}x_j^i = \\sum_{i=1}^{m}\\bar x_j^i \\qquad (j=1, ..., n)$$\n",
    "$$\\sum_{i=1}^{m}x_j^i - \\bar x_j^i = 0 \\qquad (j=1, ..., n)$$"
   ]
  },
  {
   "cell_type": "markdown",
   "metadata": {},
   "source": [
    "Or on remarque que si ces conditions sont vraies pour j = 1, ..., n-1, alors l'égalité suivante :\n",
    "$$\\sum_{j=1}^{n-1}p_j\\sum_{i=1}^{m}(x_j^i - \\bar{x}_j^i) + q\\sum_{i=1}^{m}(x_n^i - \\bar{x}_n^i) = 0$$\n",
    "devient :\n",
    "$$q\\sum_{i=1}^{m}(x_n^i - \\bar{x}_n^i) = 0$$\n",
    "et donc:\n",
    "$$\\sum_{i=1}^{m}(x_n^i - \\bar{x}_n^i) = 0$$\n",
    "Ce qui constitue la condition pour le bien n."
   ]
  },
  {
   "cell_type": "markdown",
   "metadata": {},
   "source": [
    "Les conditions d'équilibre peuvent donc être réduites à :\n",
    "$$\\sum_{i=1}^{m}x_j^i = \\sum_{i=1}^{m}\\bar x_j^i \\qquad (j=1, ..., n-1)$$\n",
    "Ce que l'on peut résumer par:\n",
    "$$\\sum_{i=1}^{m}x_j^i = \\bar x_j \\qquad (j=1, ..., n-1)$$\n",
    "avec $ \\bar x_j$ l'offre totale du bien j."
   ]
  },
  {
   "cell_type": "markdown",
   "metadata": {},
   "source": [
    "L'optimisation des agents sous contrainte budgetaire et les conditions d'équilibre forment donc un système de mn + n - 1 equations:\n",
    "$$-\\frac{f_1^i}{f_2^i} = \\frac{- 2\\sum_{\\alpha=1}^{n-1}\\sigma_{j\\alpha}x_{\\alpha}^i}{\\mu_j -\\frac{p_j}q} \\qquad (j=1, ..., n-1), (i=1,...,m)$$\n",
    "$$\\sum_{j=1}^{n-1}p_j(x_j^i - \\bar{x}_j^i) + q(x_n^i - \\bar{x}_n^i) = 0 \\qquad  (i=1,...,m)$$\n",
    "$$\\sum_{i=1}^{m}x_j^i = \\bar x_j \\qquad (j=1, ..., n-1)$$"
   ]
  },
  {
   "cell_type": "markdown",
   "metadata": {},
   "source": [
    "Il y a m agents avec n quantités $x_j^i$, donc $mn$ quantités en tout. Il y a egalement $n-1$ prix. Il y a donc $mn + n-1$ inconnues, autant que d'equations. Il y a donc au moins une solution."
   ]
  },
  {
   "cell_type": "markdown",
   "metadata": {},
   "source": [
    "Intéressons nous à l'espérance de la prime de risque pour un actif j:\n",
    "$$E(R_j) = E(r_j) - r_f = \\frac{\\mu_j}{p_j} - 1 - \\frac1q + 1$$"
   ]
  },
  {
   "cell_type": "markdown",
   "metadata": {},
   "source": [
    "$$E(R_j) =  \\frac{\\mu_jq}{p_jq} - \\frac{p_j}{p_jq}$$"
   ]
  },
  {
   "cell_type": "markdown",
   "metadata": {},
   "source": [
    "$$E(R_j) =  \\frac{\\mu_jq - p_j}{p_jq}$$"
   ]
  },
  {
   "cell_type": "markdown",
   "metadata": {},
   "source": [
    "$$E(R_j) =  \\frac{\\mu_j - \\frac{p_j}q}{p_j}$$"
   ]
  },
  {
   "cell_type": "markdown",
   "metadata": {},
   "source": [
    "Comparons la prime de risque pour deux actifs j et k:\n",
    "$$\\frac{E(R_j)}{E(R_k)} =  \\frac{\\mu_j - \\frac{p_j}q}{\\mu_k - \\frac{p_k}q} * \\frac{p_k}{p_j}$$"
   ]
  },
  {
   "cell_type": "markdown",
   "metadata": {},
   "source": [
    "On remarque que dans la première égalité de mon système d'équation, la partie droite (le taux marginal de substitution) ne change pas pour j et k différents, ce qui nous donne: \n",
    "$$\\frac{- 2\\sum_{\\alpha=1}^{n-1}\\sigma_{j\\alpha}x_{\\alpha}^i}{\\mu_j -\\frac{p_j}q} = \\frac{- 2\\sum_{\\alpha=1}^{n-1}\\sigma_{k\\alpha}x_{\\alpha}^i}{\\mu_k -\\frac{p_k}q}$$"
   ]
  },
  {
   "cell_type": "markdown",
   "metadata": {},
   "source": [
    "C'est-à-dire, plus simplement :\n",
    "$$\\frac{\\sum_{\\alpha=1}^{n-1}\\sigma_{j\\alpha}x_{\\alpha}^i}{\\mu_j -\\frac{p_j}q} = \\frac{\\sum_{\\alpha=1}^{n-1}\\sigma_{k\\alpha}x_{\\alpha}^i}{\\mu_k -\\frac{p_k}q}$$"
   ]
  },
  {
   "cell_type": "markdown",
   "metadata": {},
   "source": [
    "On peut sommer pour tous les agents du marché et utiliser $\\sum_{i=1}^{m}x_j^i = \\bar x_j$ pour $(j=1, ..., n-1)$, on obtient alors:"
   ]
  },
  {
   "cell_type": "markdown",
   "metadata": {},
   "source": [
    "$$\\frac{\\sum_{\\alpha=1}^{n-1}\\sigma_{j\\alpha}\\bar x_{\\alpha}}{\\mu_j -\\frac{p_j}q} = \\frac{\\sum_{\\alpha=1}^{n-1}\\sigma_{k\\alpha}\\bar x_{\\alpha}}{\\mu_k -\\frac{p_k}q}$$"
   ]
  },
  {
   "cell_type": "markdown",
   "metadata": {},
   "source": [
    "$$\\frac{\\mu_j - \\frac{p_j}q}{\\mu_k - \\frac{p_k}q} = \\frac{\\sum_{\\alpha=1}^{n-1}\\sigma_{j\\alpha}\\bar x_{\\alpha}}{\\sum_{\\alpha=1}^{n-1}\\sigma_{k\\alpha}\\bar x_{\\alpha}}$$"
   ]
  },
  {
   "cell_type": "markdown",
   "metadata": {},
   "source": [
    "On a donc :\n",
    "$$\\frac{E(R_j)}{E(R_k)} =  \\frac{\\mu_j - \\frac{p_j}q}{\\mu_k - \\frac{p_k}q} * \\frac{p_k}{p_j} = \\frac{\\sum_{\\alpha=1}^{n-1}\\sigma_{j\\alpha}\\bar x_{\\alpha}}{\\sum_{\\alpha=1}^{n-1}\\sigma_{k\\alpha}\\bar x_{\\alpha}}  * \\frac{p_k}{p_j}$$"
   ]
  },
  {
   "cell_type": "markdown",
   "metadata": {},
   "source": [
    "Faire apparaître les quantités totales des biens j et k (notées $\\bar x_j$ et $\\bar x_k$) nous donne alors ceci:\n",
    "$$\\frac{E(R_j)}{E(R_k)}  = \\frac{\\bar x_j\\sum_{\\alpha=1}^{n-1}\\sigma_{j\\alpha}\\bar x_{\\alpha}}{\\bar x_k\\sum_{\\alpha=1}^{n-1}\\sigma_{k\\alpha}\\bar x_{\\alpha}}  * \\frac{p_k\\bar x_k}{p_j\\bar x_j}$$"
   ]
  },
  {
   "cell_type": "markdown",
   "metadata": {},
   "source": [
    "$$\\frac{E(R_j)*p_j\\bar x_j}{E(R_k)*p_k\\bar x_k}  = \\frac{\\bar x_j\\sum_{\\alpha=1}^{n-1}\\sigma_{j\\alpha}\\bar x_{\\alpha}}{\\bar x_k\\sum_{\\alpha=1}^{n-1}\\sigma_{k\\alpha}\\bar x_{\\alpha}}$$"
   ]
  },
  {
   "cell_type": "markdown",
   "metadata": {},
   "source": [
    "On observe que $\\bar x_j\\sum_{\\alpha=1}^{n-1}\\sigma_{j\\alpha}\\bar x_{\\alpha}$ est la contribution à la variance du marché de l'actif j."
   ]
  },
  {
   "cell_type": "markdown",
   "metadata": {},
   "source": [
    "De plus, on observe que $E(R_j)*p_j\\bar x_j$ est l'espérance de la prime de risque totale (en valeur) du bien j. On obtient alors :"
   ]
  },
  {
   "cell_type": "markdown",
   "metadata": {},
   "source": [
    "$$\\frac{E(R_j)*p_j\\bar x_j}{\\bar x_j\\sum_{\\alpha=1}^{n-1}\\sigma_{j\\alpha}\\bar x_{\\alpha}} = \\frac{E(R_k)*p_k\\bar x_k}{\\bar x_k\\sum_{\\alpha=1}^{n-1}\\sigma_{k\\alpha}\\bar x_{\\alpha}}$$"
   ]
  },
  {
   "cell_type": "markdown",
   "metadata": {},
   "source": [
    "Le ratio contribution à la prime de risque sur contribution à la variance est donc égal pour tous les actifs dans le portefeuille de marché. Cette égalité est établie en valeur attendue: mais elle demeure vraie si l'on considère les rendements."
   ]
  },
  {
   "cell_type": "markdown",
   "metadata": {},
   "source": [
    "$$Cov(R_j, R_k) = Cov(r_j-r_f, r_k-r_f)$$\n",
    "$$Cov(R_j, R_k) = Cov(r_j, r_k)$$\n",
    "$$Cov(R_j, R_k) = Cov(1 + r_j, 1 + r_k)$$\n",
    "$$Cov(R_j, R_k) = Cov((1 + r_j)p_j, (1 + r_k)p_k)*\\frac1{p_jp_k}$$\n",
    "$$Cov(R_j, R_k) = Cov(\\mu_j, \\mu_k)*\\frac1{p_jp_k}$$\n",
    "$$Cov(R_j, R_k) = \\sigma_{jk}*\\frac1{p_jp_k}$$\n",
    "Ou :\n",
    "$$ \\sigma_{jk} = Cov(R_j, R_k) * p_jp_k $$"
   ]
  },
  {
   "cell_type": "markdown",
   "metadata": {},
   "source": [
    "Reprenons donc l'égalité des contributions, et divisons par la richesse totale W pour se placer sur un contexte relatif:"
   ]
  },
  {
   "cell_type": "markdown",
   "metadata": {},
   "source": [
    "$$\\frac{E(R_j)*\\frac{p_j\\bar x_j}{W}}{\\frac{\\bar x_j}{W}\\sum_{\\alpha=1}^{n-1}\\sigma_{j\\alpha}\\frac{\\bar x_{\\alpha}}{W}} = \\frac{E(R_k)*\\frac{p_k\\bar x_k}{W}}{\\frac{\\bar x_k}{W}\\sum_{\\alpha=1}^{n-1}\\sigma_{k\\alpha}\\frac{\\bar x_{\\alpha}}{W}}$$"
   ]
  },
  {
   "cell_type": "markdown",
   "metadata": {},
   "source": [
    "Remplaçons les sigma par les covariances entre prime de risques en rendements:"
   ]
  },
  {
   "cell_type": "markdown",
   "metadata": {},
   "source": [
    "$$\\frac{E(R_j)*\\frac{p_j\\bar x_j}{W}}{\\frac{p_j\\bar x_j}{W}\\sum_{\\alpha=1}^{n-1}Cov(R_j, R_{\\alpha})\\frac{p_{\\alpha}\\bar x_{\\alpha}}{W}} = \\frac{E(R_k)*\\frac{p_k\\bar x_k}{W}}{\\frac{p_k\\bar x_k}{W}\\sum_{\\alpha=1}^{n-1}Cov(R_k, R_{\\alpha})\\frac{p_{\\alpha}\\bar x_{\\alpha}}{W}}$$"
   ]
  },
  {
   "cell_type": "markdown",
   "metadata": {},
   "source": [
    "$$\\frac{E(R_j)*w_j}{w_j\\sum_{\\alpha=1}^{n-1}Cov(R_j, R_{\\alpha})w_{\\alpha}} = \\frac{E(R_k)*w_k}{w_k\\sum_{\\alpha=1}^{n-1}Cov(R_k, R_{\\alpha})w_{\\alpha}}$$"
   ]
  },
  {
   "cell_type": "markdown",
   "metadata": {},
   "source": [
    "$$\\frac{E(R_j)*w_j}{w_jCov(R_j, R_M)} = \\frac{E(R_k)*w_k}{w_kCov(R_k, R_M)}$$"
   ]
  },
  {
   "cell_type": "markdown",
   "metadata": {},
   "source": [
    "$$\\frac{E(R_j)}{Cov(R_j, R_M)} = \\frac{E(R_k)}{Cov(R_k, R_M)}$$"
   ]
  },
  {
   "cell_type": "markdown",
   "metadata": {},
   "source": [
    "Ouf ! On est arrivé à un résultat fondamental, qui est que le ratio contribution à la prime de risque sur contribution à la variance du marché est constant pour tous les actifs du portefeuille de marché."
   ]
  },
  {
   "cell_type": "markdown",
   "metadata": {},
   "source": [
    "Appliqué au portefeuille de marché, on obtient la quantité suivante:"
   ]
  },
  {
   "cell_type": "markdown",
   "metadata": {},
   "source": [
    "$$\\frac{E(R_M)}{\\sigma_M^2}$$"
   ]
  },
  {
   "cell_type": "markdown",
   "metadata": {},
   "source": [
    "C'est le prix du risque sur le marché (*market price of risk*)."
   ]
  },
  {
   "cell_type": "markdown",
   "metadata": {},
   "source": [
    "Comme toutes ces quantités sont égales, on a :\n",
    "$$\\frac{E(R_j)}{Cov(R_j, R_M)} = \\frac{E(R_M)}{\\sigma_M^2}$$\n",
    "Et ce pour tout les biens j.\n",
    "En réorganisant un peu, on obtient :"
   ]
  },
  {
   "cell_type": "markdown",
   "metadata": {},
   "source": [
    "$$E(R_j) = \\frac{Cov(R_j, R_M)}{\\sigma_M^2}*E(R_M)$$"
   ]
  },
  {
   "cell_type": "markdown",
   "metadata": {},
   "source": [
    "$$E(r_j) = r_f + \\beta_j*(E(r_M)-r_f)$$ \n",
    "$$\\beta_j = \\frac{Cov(R_j, R_M)}{\\sigma_M^2}$$"
   ]
  },
  {
   "cell_type": "markdown",
   "metadata": {},
   "source": [
    "... ce qui constitue l'expression fondamentale du CAPM.\n",
    "Cela conclue la perspective du marché sur le risque systémique et le risque propre à la firme : seul le risque systémique inquiète les investisseurs, qui demandent une rémunération (proportionnelle à la contribution à la variance du marché). A l'equilibre, les investisseurs ne demandent pas de rémunération liée au risque individuel, car celui-ci est \"diversifiable\" dans un portefeuille."
   ]
  },
  {
   "cell_type": "markdown",
   "metadata": {},
   "source": [
    "La valeur de l'actif est déjà refletée dans le prix : le rendement n'est lié qu'au risque."
   ]
  },
  {
   "cell_type": "markdown",
   "metadata": {},
   "source": [
    "On observe que le beta du marché vaut 1."
   ]
  },
  {
   "cell_type": "markdown",
   "metadata": {},
   "source": [
    "De plus, le portefeuille peut s'écrire :\n",
    "$$\\sum w_jE(R_j) = \\sum w_j*r_f + \\sum w_j*\\beta_j*(E(r_M)-r_f)$$\n",
    "$$\\sum w_jE(R_j) = r_f + \\sum w_j*\\beta_j*(E(r_M)-r_f)$$"
   ]
  },
  {
   "cell_type": "markdown",
   "metadata": {},
   "source": [
    "Le beta du marché est donc la moyenne pondérée par les $w_j$ des betas des actifs."
   ]
  },
  {
   "cell_type": "markdown",
   "metadata": {},
   "source": [
    "On peut donc analyser les betas des actifs en fonction du fait qu'ils sont supérieurs ou inférieurs à 1: des investissements portant sur des actifs dont le bêta est supérieur à 1 sont donc perçus comme aggressifs car ils sont particulièrement sensibles aux variations du marché."
   ]
  },
  {
   "cell_type": "markdown",
   "metadata": {},
   "source": [
    "Ce qui pose la question de l'estimation de ces bêtas : comment les obtenir ?"
   ]
  },
  {
   "cell_type": "markdown",
   "metadata": {},
   "source": [
    "## Le Single Index Model"
   ]
  },
  {
   "cell_type": "code",
   "execution_count": 1,
   "metadata": {},
   "outputs": [],
   "source": [
    "import numpy as np\n",
    "import pandas as pd\n",
    "import matplotlib.pyplot as plt\n",
    "import statsmodels.api as sm\n",
    "%matplotlib inline\n",
    "plt.rcParams['figure.figsize'] = (15, 10)"
   ]
  },
  {
   "cell_type": "markdown",
   "metadata": {},
   "source": [
    "Inconvénient de la diversification de Markowitz : le nombre d'estimations nécessaires."
   ]
  },
  {
   "cell_type": "markdown",
   "metadata": {},
   "source": [
    "- n estimations de rendements\n",
    "- n estimations de variances\n",
    "- $\\frac{n^2-n}{2}$ estimations de covariances\n",
    "\n",
    "Total : $\\frac{n^2-n}{2} + 2n$ estimations."
   ]
  },
  {
   "cell_type": "code",
   "execution_count": 2,
   "metadata": {},
   "outputs": [
    {
     "name": "stdout",
     "output_type": "stream",
     "text": [
      "1325.0\n"
     ]
    }
   ],
   "source": [
    "n = 50\n",
    "\n",
    "print((n ** 2 - n) / 2 + 2 * n)"
   ]
  },
  {
   "cell_type": "markdown",
   "metadata": {},
   "source": [
    "Le single-index model est une extension empirique naturelle du CAPM. Il suppose (comme le CAPM) que l'aléa que constitue le rendement considéré est en fait composé de deux éléments :\n",
    "- une compostante liée au marché\n",
    "- une composante liée à la spécificité de l'actif par rapport au marché."
   ]
  },
  {
   "cell_type": "markdown",
   "metadata": {},
   "source": [
    "On considère le surplus du rendement de l'actif i (par rapport à l'actif sans risque) :\n",
    "$$R_i = r_i - r_f$$\n",
    "Avec le surplus de rendement du marché M qui est donné par\n",
    "$$R_M = r_M - r_f$$"
   ]
  },
  {
   "cell_type": "markdown",
   "metadata": {},
   "source": [
    "Le modèle prend la forme suivante:\n",
    "$R_i=$ Composante liée au marché + Composante spécifique"
   ]
  },
  {
   "cell_type": "markdown",
   "metadata": {},
   "source": [
    "$$R_i = \\beta_i * R_M + X_i$$\n",
    "Avec $\\beta_i$ représentant la sensibilité de l'actif au marché. \n",
    "On peut décomposer $X_i$ en une composante fixe et une composante aléatoire d'espérance nulle.\n",
    "$$R_i = \\alpha_i + \\beta_iR_M + e_i$$"
   ]
  },
  {
   "cell_type": "markdown",
   "metadata": {},
   "source": [
    "- $\\alpha$ est le surplus de rendement hors-marché de l'actif (*nonmarket premium*).\n",
    "- $\\beta$ est la sensibilité de l'actif aux variations du marché (*sensitivity to the market*)\n",
    "- $e$ est la part de l'aléa spécifique à l'actif."
   ]
  },
  {
   "cell_type": "markdown",
   "metadata": {},
   "source": [
    "On observe que si l'on considère l'espérance du rendement, on retombe sur la même forme théorique que le CAPM:\n",
    "$$E(R_i) = E(\\alpha_i) + \\beta_i*E(R_M)$$\n",
    "Or dans un marché compétitif dans lequel les agents ont les mêmes inputs (voir suppositions du CAPM), l'espérance de $\\alpha_i$ est égale à 0.\n",
    "$$E(R_i) = \\beta_i*E(R_M)$$"
   ]
  },
  {
   "cell_type": "markdown",
   "metadata": {},
   "source": [
    "Il est possible d'estimer les éléments de cette identité à l'aide de données temporelles :\n",
    "$$R_i(t) = \\alpha_i + \\beta_iR_M(t) + e_i(t)$$"
   ]
  },
  {
   "cell_type": "markdown",
   "metadata": {},
   "source": [
    "Si l'on se plie aux hypothèses économétriques du modèle linéaire, notamment la normalité de la composante $e_i(t)$ et l'indépendance des $e_i(t)$, on peut réaliser une régression par les moindres carrés ordinaires. Ces hypothèses sont relativement fortes: il est possible d'en relâcher certaines et de produire des estimations qui sont moins sujettes aux biais liés à la violation des hypothèses. Citons par exemple le generalized autoregressive conditional heteroskedasticity (GARCH) model, qui permet de supposer que les termes d'erreurs (cad la composante spécifique à l'actif) sont corrélés entre eux."
   ]
  },
  {
   "cell_type": "markdown",
   "metadata": {},
   "source": [
    "Pour illustrer une régression linéaire, générons des données artificiellement à l'aide de [np.random.normal()](https://docs.scipy.org/doc/numpy/reference/generated/numpy.random.normal.html) qui permet de générer des nombres selon une loi normale d'espérance 0 et d'écart-type 1."
   ]
  },
  {
   "cell_type": "code",
   "execution_count": 3,
   "metadata": {},
   "outputs": [
    {
     "data": {
      "image/png": "[encoded data removed]",
      "text/plain": [
       "<Figure size 432x288 with 1 Axes>"
      ]
     },
     "metadata": {
      "needs_background": "light"
     },
     "output_type": "display_data"
    }
   ],
   "source": [
    "beta_i = 0.3\n",
    "alpha_i = 0.05\n",
    "E_R_M = 0.1\n",
    "sigma_R_M = 0.20\n",
    "sigma_e_i = 0.05\n",
    "nb_tirages = 100\n",
    "liste_R_M = []\n",
    "liste_R_i = []\n",
    "\n",
    "for tirage in range(nb_tirages):\n",
    "    R_M = sigma_R_M * np.random.normal() + E_R_M\n",
    "    R_i = alpha_i + beta_i * R_M + sigma_e_i * np.random.normal()\n",
    "    liste_R_M.append(R_M)\n",
    "    liste_R_i.append(R_i)\n",
    "\n",
    "plt.scatter(liste_R_M, liste_R_i)\n",
    "plt.grid(True)"
   ]
  },
  {
   "cell_type": "markdown",
   "metadata": {},
   "source": [
    "Pour réaliser une régression linéaire, on va se servir du package [StatsModel](http://www.statsmodels.org/stable/index.html)."
   ]
  },
  {
   "cell_type": "code",
   "execution_count": 4,
   "metadata": {},
   "outputs": [
    {
     "name": "stdout",
     "output_type": "stream",
     "text": [
      "        R_M  Constante\n",
      "0 -0.037351          1\n",
      "1 -0.107075          1\n",
      "2 -0.098655          1\n",
      "3 -0.091740          1\n",
      "4  0.299858          1\n",
      "        R_i\n",
      "0  0.054055\n",
      "1 -0.015956\n",
      "2  0.021842\n",
      "3 -0.038973\n",
      "4  0.143430\n",
      "                            OLS Regression Results                            \n",
      "==============================================================================\n",
      "Dep. Variable:                    R_i   R-squared:                       0.597\n",
      "Model:                            OLS   Adj. R-squared:                  0.593\n",
      "Method:                 Least Squares   F-statistic:                     144.9\n",
      "Date:                Wed, 06 Mar 2019   Prob (F-statistic):           4.95e-21\n",
      "Time:                        12:51:16   Log-Likelihood:                 164.54\n",
      "No. Observations:                 100   AIC:                            -325.1\n",
      "Df Residuals:                      98   BIC:                            -319.9\n",
      "Df Model:                           1                                         \n",
      "Covariance Type:            nonrobust                                         \n",
      "==============================================================================\n",
      "                 coef    std err          t      P>|t|      [0.025      0.975]\n",
      "------------------------------------------------------------------------------\n",
      "R_M            0.3005      0.025     12.039      0.000       0.251       0.350\n",
      "Constante      0.0481      0.005      9.134      0.000       0.038       0.059\n",
      "==============================================================================\n",
      "Omnibus:                        1.375   Durbin-Watson:                   2.145\n",
      "Prob(Omnibus):                  0.503   Jarque-Bera (JB):                1.440\n",
      "Skew:                           0.260   Prob(JB):                        0.487\n",
      "Kurtosis:                       2.727   Cond. No.                         5.34\n",
      "==============================================================================\n",
      "\n",
      "Warnings:\n",
      "[1] Standard Errors assume that the covariance matrix of the errors is correctly specified.\n"
     ]
    }
   ],
   "source": [
    "y = pd.DataFrame({'R_i' : liste_R_i})\n",
    "X = pd.DataFrame({'R_M' : liste_R_M, \n",
    "                  'Constante' : [1] * nb_tirages})\n",
    "print(X.head())\n",
    "print(y.head())\n",
    "\n",
    "model = sm.OLS(y, X).fit()\n",
    "print(model.summary())"
   ]
  },
  {
   "cell_type": "markdown",
   "metadata": {},
   "source": [
    "On peut obtenir les paramètres du modèles à l'aide de:"
   ]
  },
  {
   "cell_type": "code",
   "execution_count": 5,
   "metadata": {},
   "outputs": [
    {
     "data": {
      "text/plain": [
       "R_M          0.300505\n",
       "Constante    0.048145\n",
       "dtype: float64"
      ]
     },
     "execution_count": 5,
     "metadata": {},
     "output_type": "execute_result"
    }
   ],
   "source": [
    "model.params"
   ]
  },
  {
   "cell_type": "markdown",
   "metadata": {},
   "source": [
    "Et un paramètre en particulier comme suit:"
   ]
  },
  {
   "cell_type": "code",
   "execution_count": 6,
   "metadata": {},
   "outputs": [
    {
     "data": {
      "text/plain": [
       "0.30050516473550243"
      ]
     },
     "execution_count": 6,
     "metadata": {},
     "output_type": "execute_result"
    }
   ],
   "source": [
    "model.params['R_M']"
   ]
  },
  {
   "cell_type": "markdown",
   "metadata": {},
   "source": [
    "On peut représenter la droite estimée sur le diagramme de dispersion:"
   ]
  },
  {
   "cell_type": "code",
   "execution_count": 7,
   "metadata": {},
   "outputs": [
    {
     "data": {
      "image/png": "[encoded data removed]",
      "text/plain": [
       "<Figure size 432x288 with 1 Axes>"
      ]
     },
     "metadata": {
      "needs_background": "light"
     },
     "output_type": "display_data"
    }
   ],
   "source": [
    "plt.scatter(liste_R_M, liste_R_i)\n",
    "plt.plot(X['R_M'], model.params['R_M'] * X['R_M'] +  model.params['Constante'], color=\"Green\")\n",
    "plt.grid(True)"
   ]
  },
  {
   "cell_type": "markdown",
   "metadata": {},
   "source": [
    "Intéressons-nous à la variance de la prime de risque notre actif i :\n",
    "$$Var(R_i) = Var(\\alpha_i + \\beta_iR_M + e_i)$$\n",
    "$$Var(r_i - r_f) = Var(\\alpha_i + \\beta_i(r_M - r_f) + e_i)$$\n",
    "$$\\sigma_i^2 = \\beta_i^2\\sigma_M^2 + \\sigma(e_i)^2$$"
   ]
  },
  {
   "cell_type": "markdown",
   "metadata": {},
   "source": [
    "On peut donc séparer la variance du surplus de rendement en variance due au marché et en variance spécifique à l'actif."
   ]
  },
  {
   "cell_type": "markdown",
   "metadata": {},
   "source": [
    "La covariance entre les rendements des deux actifs i et j est simplement :\n",
    "$$Cov(r_i, r_j) = \\beta_i\\beta_j\\sigma_M^2$$\n",
    "Ce qui nous donne:\n",
    "$$Corr(r_i, r_j) = \\frac{\\beta_i\\beta_j\\sigma_M^2}{\\sigma_i\\sigma_j} = \\frac{\\beta_i\\sigma_M^2\\beta_j\\sigma_M^2}{\\sigma_i\\sigma_M\\sigma_j\\sigma_M} = Corr(r_i, r_M) * Corr(r_j, r_M)$$"
   ]
  },
  {
   "cell_type": "markdown",
   "metadata": {},
   "source": [
    "Pour le moment, nous avons beaucoup moins d'estimations requises. "
   ]
  },
  {
   "cell_type": "markdown",
   "metadata": {},
   "source": [
    "Il nous faut :\n",
    "- n estimations des surplus de rendement hors-marché, $\\sigma_i$.\n",
    "- n estimations des sensibilités de l'actif aux variations du marché, $\\beta_i$\n",
    "- n estimations des variances spécifiques à l'actif, $\\sigma^2(e_i)$\n",
    "- 1 estimation du surplus de rendement du marché, $E(R_M)$\n",
    "- 1 estimation de la variance du marché $\\sigma^2_M$\n",
    "\n",
    "\n",
    "Soit $3n + 2$ estimations."
   ]
  },
  {
   "cell_type": "markdown",
   "metadata": {},
   "source": [
    "### Estimation de données réelles"
   ]
  },
  {
   "cell_type": "code",
   "execution_count": 8,
   "metadata": {},
   "outputs": [],
   "source": [
    "import quandl\n",
    "cle_API = \"vV5n2kkCHA3mm-zKCwBQ\"\n",
    "quandl.ApiConfig.api_key = cle_API"
   ]
  },
  {
   "cell_type": "code",
   "execution_count": 9,
   "metadata": {},
   "outputs": [],
   "source": [
    "debut = '2015-01-01'\n",
    "frequence = 'monthly'"
   ]
  },
  {
   "cell_type": "markdown",
   "metadata": {},
   "source": [
    "Pour l'index, nous choisirons le General Index fourni par le NASDAQ."
   ]
  },
  {
   "cell_type": "code",
   "execution_count": 10,
   "metadata": {},
   "outputs": [],
   "source": [
    "index = quandl.get('NASDAQOMX/NQGI', start_date = debut, column_index = 1, collapse=frequence)\n",
    "index.columns = ['Index']"
   ]
  },
  {
   "cell_type": "code",
   "execution_count": 11,
   "metadata": {},
   "outputs": [
    {
     "data": {
      "text/html": [
       "<div>\n",
       "<style scoped>\n",
       "    .dataframe tbody tr th:only-of-type {\n",
       "        vertical-align: middle;\n",
       "    }\n",
       "\n",
       "    .dataframe tbody tr th {\n",
       "        vertical-align: top;\n",
       "    }\n",
       "\n",
       "    .dataframe thead th {\n",
       "        text-align: right;\n",
       "    }\n",
       "</style>\n",
       "<table border=\"1\" class=\"dataframe\">\n",
       "  <thead>\n",
       "    <tr style=\"text-align: right;\">\n",
       "      <th></th>\n",
       "      <th>Index</th>\n",
       "    </tr>\n",
       "    <tr>\n",
       "      <th>Trade Date</th>\n",
       "      <th></th>\n",
       "    </tr>\n",
       "  </thead>\n",
       "  <tbody>\n",
       "    <tr>\n",
       "      <th>2015-01-31</th>\n",
       "      <td>1242.72</td>\n",
       "    </tr>\n",
       "    <tr>\n",
       "      <th>2015-02-28</th>\n",
       "      <td>1308.86</td>\n",
       "    </tr>\n",
       "    <tr>\n",
       "      <th>2015-03-31</th>\n",
       "      <td>1288.48</td>\n",
       "    </tr>\n",
       "    <tr>\n",
       "      <th>2015-04-30</th>\n",
       "      <td>1321.21</td>\n",
       "    </tr>\n",
       "    <tr>\n",
       "      <th>2015-05-31</th>\n",
       "      <td>1317.63</td>\n",
       "    </tr>\n",
       "  </tbody>\n",
       "</table>\n",
       "</div>"
      ],
      "text/plain": [
       "              Index\n",
       "Trade Date         \n",
       "2015-01-31  1242.72\n",
       "2015-02-28  1308.86\n",
       "2015-03-31  1288.48\n",
       "2015-04-30  1321.21\n",
       "2015-05-31  1317.63"
      ]
     },
     "execution_count": 11,
     "metadata": {},
     "output_type": "execute_result"
    }
   ],
   "source": [
    "index.head()"
   ]
  },
  {
   "cell_type": "markdown",
   "metadata": {},
   "source": [
    "Importons les données des actions qui nous intéressent (ici Ford et Verizon)."
   ]
  },
  {
   "cell_type": "code",
   "execution_count": 12,
   "metadata": {},
   "outputs": [],
   "source": [
    "liste_actions = ['WIKI/F']"
   ]
  },
  {
   "cell_type": "code",
   "execution_count": 13,
   "metadata": {},
   "outputs": [],
   "source": [
    "nb_actifs = len(liste_actions)\n",
    "\n",
    "actions = quandl.get(liste_actions, start_date = debut, column_index = 4, collapse=frequence)"
   ]
  },
  {
   "cell_type": "code",
   "execution_count": 14,
   "metadata": {
    "scrolled": true
   },
   "outputs": [
    {
     "data": {
      "text/html": [
       "<div>\n",
       "<style scoped>\n",
       "    .dataframe tbody tr th:only-of-type {\n",
       "        vertical-align: middle;\n",
       "    }\n",
       "\n",
       "    .dataframe tbody tr th {\n",
       "        vertical-align: top;\n",
       "    }\n",
       "\n",
       "    .dataframe thead th {\n",
       "        text-align: right;\n",
       "    }\n",
       "</style>\n",
       "<table border=\"1\" class=\"dataframe\">\n",
       "  <thead>\n",
       "    <tr style=\"text-align: right;\">\n",
       "      <th></th>\n",
       "      <th>WIKI/F - Close</th>\n",
       "    </tr>\n",
       "    <tr>\n",
       "      <th>Date</th>\n",
       "      <th></th>\n",
       "    </tr>\n",
       "  </thead>\n",
       "  <tbody>\n",
       "    <tr>\n",
       "      <th>2015-01-31</th>\n",
       "      <td>14.71</td>\n",
       "    </tr>\n",
       "    <tr>\n",
       "      <th>2015-02-28</th>\n",
       "      <td>16.34</td>\n",
       "    </tr>\n",
       "    <tr>\n",
       "      <th>2015-03-31</th>\n",
       "      <td>16.14</td>\n",
       "    </tr>\n",
       "    <tr>\n",
       "      <th>2015-04-30</th>\n",
       "      <td>15.80</td>\n",
       "    </tr>\n",
       "    <tr>\n",
       "      <th>2015-05-31</th>\n",
       "      <td>15.17</td>\n",
       "    </tr>\n",
       "  </tbody>\n",
       "</table>\n",
       "</div>"
      ],
      "text/plain": [
       "            WIKI/F - Close\n",
       "Date                      \n",
       "2015-01-31           14.71\n",
       "2015-02-28           16.34\n",
       "2015-03-31           16.14\n",
       "2015-04-30           15.80\n",
       "2015-05-31           15.17"
      ]
     },
     "execution_count": 14,
     "metadata": {},
     "output_type": "execute_result"
    }
   ],
   "source": [
    "actions.head()"
   ]
  },
  {
   "cell_type": "markdown",
   "metadata": {},
   "source": [
    "Il nous faut également un rendement pour l'actif sans risque : nous prendrons le rendement du Treasury Bill à 4 semaines."
   ]
  },
  {
   "cell_type": "code",
   "execution_count": 15,
   "metadata": {},
   "outputs": [],
   "source": [
    "actif_sans_risque = quandl.get('USTREASURY/BILLRATES', start_date = debut, column_index = 2, collapse=frequence)\n",
    "actif_sans_risque.columns = ['Actif sans risque']"
   ]
  },
  {
   "cell_type": "code",
   "execution_count": 16,
   "metadata": {},
   "outputs": [
    {
     "data": {
      "text/html": [
       "<div>\n",
       "<style scoped>\n",
       "    .dataframe tbody tr th:only-of-type {\n",
       "        vertical-align: middle;\n",
       "    }\n",
       "\n",
       "    .dataframe tbody tr th {\n",
       "        vertical-align: top;\n",
       "    }\n",
       "\n",
       "    .dataframe thead th {\n",
       "        text-align: right;\n",
       "    }\n",
       "</style>\n",
       "<table border=\"1\" class=\"dataframe\">\n",
       "  <thead>\n",
       "    <tr style=\"text-align: right;\">\n",
       "      <th></th>\n",
       "      <th>Actif sans risque</th>\n",
       "    </tr>\n",
       "    <tr>\n",
       "      <th>Date</th>\n",
       "      <th></th>\n",
       "    </tr>\n",
       "  </thead>\n",
       "  <tbody>\n",
       "    <tr>\n",
       "      <th>2018-06-30</th>\n",
       "      <td>1.76</td>\n",
       "    </tr>\n",
       "    <tr>\n",
       "      <th>2018-07-31</th>\n",
       "      <td>1.94</td>\n",
       "    </tr>\n",
       "    <tr>\n",
       "      <th>2018-08-31</th>\n",
       "      <td>1.94</td>\n",
       "    </tr>\n",
       "    <tr>\n",
       "      <th>2018-09-30</th>\n",
       "      <td>2.12</td>\n",
       "    </tr>\n",
       "    <tr>\n",
       "      <th>2018-10-31</th>\n",
       "      <td>2.19</td>\n",
       "    </tr>\n",
       "    <tr>\n",
       "      <th>2018-11-30</th>\n",
       "      <td>2.30</td>\n",
       "    </tr>\n",
       "    <tr>\n",
       "      <th>2018-12-31</th>\n",
       "      <td>2.44</td>\n",
       "    </tr>\n",
       "    <tr>\n",
       "      <th>2019-01-31</th>\n",
       "      <td>2.42</td>\n",
       "    </tr>\n",
       "    <tr>\n",
       "      <th>2019-02-28</th>\n",
       "      <td>2.44</td>\n",
       "    </tr>\n",
       "    <tr>\n",
       "      <th>2019-03-31</th>\n",
       "      <td>2.43</td>\n",
       "    </tr>\n",
       "  </tbody>\n",
       "</table>\n",
       "</div>"
      ],
      "text/plain": [
       "            Actif sans risque\n",
       "Date                         \n",
       "2018-06-30               1.76\n",
       "2018-07-31               1.94\n",
       "2018-08-31               1.94\n",
       "2018-09-30               2.12\n",
       "2018-10-31               2.19\n",
       "2018-11-30               2.30\n",
       "2018-12-31               2.44\n",
       "2019-01-31               2.42\n",
       "2019-02-28               2.44\n",
       "2019-03-31               2.43"
      ]
     },
     "execution_count": 16,
     "metadata": {},
     "output_type": "execute_result"
    }
   ],
   "source": [
    "actif_sans_risque.tail(10)"
   ]
  },
  {
   "cell_type": "code",
   "execution_count": 17,
   "metadata": {},
   "outputs": [
    {
     "data": {
      "text/html": [
       "<div>\n",
       "<style scoped>\n",
       "    .dataframe tbody tr th:only-of-type {\n",
       "        vertical-align: middle;\n",
       "    }\n",
       "\n",
       "    .dataframe tbody tr th {\n",
       "        vertical-align: top;\n",
       "    }\n",
       "\n",
       "    .dataframe thead th {\n",
       "        text-align: right;\n",
       "    }\n",
       "</style>\n",
       "<table border=\"1\" class=\"dataframe\">\n",
       "  <thead>\n",
       "    <tr style=\"text-align: right;\">\n",
       "      <th></th>\n",
       "      <th>Actif sans risque</th>\n",
       "    </tr>\n",
       "    <tr>\n",
       "      <th>Date</th>\n",
       "      <th></th>\n",
       "    </tr>\n",
       "  </thead>\n",
       "  <tbody>\n",
       "    <tr>\n",
       "      <th>2018-11-30</th>\n",
       "      <td>0.001897</td>\n",
       "    </tr>\n",
       "    <tr>\n",
       "      <th>2018-12-31</th>\n",
       "      <td>0.002011</td>\n",
       "    </tr>\n",
       "    <tr>\n",
       "      <th>2019-01-31</th>\n",
       "      <td>0.001995</td>\n",
       "    </tr>\n",
       "    <tr>\n",
       "      <th>2019-02-28</th>\n",
       "      <td>0.002011</td>\n",
       "    </tr>\n",
       "    <tr>\n",
       "      <th>2019-03-31</th>\n",
       "      <td>0.002003</td>\n",
       "    </tr>\n",
       "  </tbody>\n",
       "</table>\n",
       "</div>"
      ],
      "text/plain": [
       "            Actif sans risque\n",
       "Date                         \n",
       "2018-11-30           0.001897\n",
       "2018-12-31           0.002011\n",
       "2019-01-31           0.001995\n",
       "2019-02-28           0.002011\n",
       "2019-03-31           0.002003"
      ]
     },
     "execution_count": 17,
     "metadata": {},
     "output_type": "execute_result"
    }
   ],
   "source": [
    "actif_sans_risque = (1 + actif_sans_risque/100) ** (1/12) - 1\n",
    "actif_sans_risque.tail()"
   ]
  },
  {
   "cell_type": "code",
   "execution_count": 18,
   "metadata": {},
   "outputs": [],
   "source": [
    "donnees = pd.concat([actions.pct_change(), index.pct_change(), actif_sans_risque], axis=1)"
   ]
  },
  {
   "cell_type": "code",
   "execution_count": 19,
   "metadata": {},
   "outputs": [
    {
     "data": {
      "text/plain": [
       "2015-01-31         NaN\n",
       "2015-02-28    1.863112\n",
       "2015-03-31    0.828350\n",
       "2015-04-30    1.351232\n",
       "2015-05-31    0.967965\n",
       "2015-06-30    0.749249\n",
       "2015-07-31    1.063635\n",
       "2015-08-31    0.426840\n",
       "2015-09-30    0.630660\n",
       "2015-10-31    2.388786\n",
       "2015-11-30    0.910583\n",
       "2015-12-31    0.786668\n",
       "2016-01-31    0.460970\n",
       "2016-02-29    0.907152\n",
       "2016-03-31    2.327765\n",
       "2016-04-30    1.186996\n",
       "2016-05-31    0.979554\n",
       "2016-06-30    0.901471\n",
       "2016-07-31    1.670963\n",
       "2016-08-31    1.013147\n",
       "2016-09-30    1.059853\n",
       "2016-10-31    0.804881\n",
       "2016-11-30    1.085212\n",
       "2016-12-31    1.288775\n",
       "2017-01-31    1.362440\n",
       "2017-02-28    1.355971\n",
       "2017-03-31    1.117974\n",
       "2017-04-30    1.190736\n",
       "2017-05-31    1.233400\n",
       "2017-06-30    1.048021\n",
       "2017-07-31    1.354475\n",
       "2017-08-31    1.013871\n",
       "2017-09-30    1.250407\n",
       "2017-10-31    1.267855\n",
       "2017-11-30    1.238183\n",
       "2017-12-31    1.214150\n",
       "2018-01-31    1.841626\n",
       "2018-02-28    0.589403\n",
       "2018-03-31    0.777495\n",
       "2018-04-30    1.094134\n",
       "2018-05-31    0.978749\n",
       "2018-06-30    0.896454\n",
       "2018-07-31    1.384531\n",
       "2018-08-31    1.094806\n",
       "2018-09-30    0.999623\n",
       "2018-10-31    0.373836\n",
       "2018-11-30    1.169690\n",
       "2018-12-31    0.405315\n",
       "2019-01-31    2.479798\n",
       "2019-02-28    1.342460\n",
       "2019-03-31    1.013714\n",
       "Name: Index, dtype: float64"
      ]
     },
     "execution_count": 19,
     "metadata": {},
     "output_type": "execute_result"
    }
   ],
   "source": [
    "(1+donnees['Index'])**12"
   ]
  },
  {
   "cell_type": "code",
   "execution_count": 20,
   "metadata": {},
   "outputs": [],
   "source": [
    "for i in range(nb_actifs + 1):\n",
    "    donnees.iloc[:,i] = donnees.iloc[:,i] - donnees.iloc[:,-1]"
   ]
  },
  {
   "cell_type": "code",
   "execution_count": 21,
   "metadata": {},
   "outputs": [
    {
     "data": {
      "text/html": [
       "<div>\n",
       "<style scoped>\n",
       "    .dataframe tbody tr th:only-of-type {\n",
       "        vertical-align: middle;\n",
       "    }\n",
       "\n",
       "    .dataframe tbody tr th {\n",
       "        vertical-align: top;\n",
       "    }\n",
       "\n",
       "    .dataframe thead th {\n",
       "        text-align: right;\n",
       "    }\n",
       "</style>\n",
       "<table border=\"1\" class=\"dataframe\">\n",
       "  <thead>\n",
       "    <tr style=\"text-align: right;\">\n",
       "      <th></th>\n",
       "      <th>WIKI/F - Close</th>\n",
       "      <th>Index</th>\n",
       "      <th>Actif sans risque</th>\n",
       "    </tr>\n",
       "  </thead>\n",
       "  <tbody>\n",
       "    <tr>\n",
       "      <th>2018-11-30</th>\n",
       "      <td>NaN</td>\n",
       "      <td>0.011250</td>\n",
       "      <td>0.001897</td>\n",
       "    </tr>\n",
       "    <tr>\n",
       "      <th>2018-12-31</th>\n",
       "      <td>NaN</td>\n",
       "      <td>-0.074506</td>\n",
       "      <td>0.002011</td>\n",
       "    </tr>\n",
       "    <tr>\n",
       "      <th>2019-01-31</th>\n",
       "      <td>NaN</td>\n",
       "      <td>0.076624</td>\n",
       "      <td>0.001995</td>\n",
       "    </tr>\n",
       "    <tr>\n",
       "      <th>2019-02-28</th>\n",
       "      <td>NaN</td>\n",
       "      <td>0.022835</td>\n",
       "      <td>0.002011</td>\n",
       "    </tr>\n",
       "    <tr>\n",
       "      <th>2019-03-31</th>\n",
       "      <td>NaN</td>\n",
       "      <td>-0.000867</td>\n",
       "      <td>0.002003</td>\n",
       "    </tr>\n",
       "  </tbody>\n",
       "</table>\n",
       "</div>"
      ],
      "text/plain": [
       "            WIKI/F - Close     Index  Actif sans risque\n",
       "2018-11-30             NaN  0.011250           0.001897\n",
       "2018-12-31             NaN -0.074506           0.002011\n",
       "2019-01-31             NaN  0.076624           0.001995\n",
       "2019-02-28             NaN  0.022835           0.002011\n",
       "2019-03-31             NaN -0.000867           0.002003"
      ]
     },
     "execution_count": 21,
     "metadata": {},
     "output_type": "execute_result"
    }
   ],
   "source": [
    "donnees.tail()"
   ]
  },
  {
   "cell_type": "code",
   "execution_count": 22,
   "metadata": {},
   "outputs": [
    {
     "data": {
      "text/plain": [
       "<matplotlib.axes._subplots.AxesSubplot at 0x7f1d827280b8>"
      ]
     },
     "execution_count": 22,
     "metadata": {},
     "output_type": "execute_result"
    },
    {
     "data": {
      "image/png": "[encoded data removed]",
      "text/plain": [
       "<Figure size 432x288 with 1 Axes>"
      ]
     },
     "metadata": {
      "needs_background": "light"
     },
     "output_type": "display_data"
    }
   ],
   "source": [
    "donnees.plot()"
   ]
  },
  {
   "cell_type": "code",
   "execution_count": 23,
   "metadata": {},
   "outputs": [],
   "source": [
    "donnees = donnees.dropna(axis=0)"
   ]
  },
  {
   "cell_type": "markdown",
   "metadata": {},
   "source": [
    "Pour conduire la régression, il faut simplement ajouter une constante:"
   ]
  },
  {
   "cell_type": "code",
   "execution_count": 24,
   "metadata": {},
   "outputs": [
    {
     "name": "stderr",
     "output_type": "stream",
     "text": [
      "/usr/local/lib/python3.6/dist-packages/numpy/core/fromnumeric.py:2389: FutureWarning: Method .ptp is deprecated and will be removed in a future version. Use numpy.ptp instead.\n",
      "  return ptp(axis=axis, out=out, **kwargs)\n"
     ]
    }
   ],
   "source": [
    "y = donnees.iloc[:,0]\n",
    "X = donnees['Index']\n",
    "X = sm.add_constant(X)"
   ]
  },
  {
   "cell_type": "code",
   "execution_count": 25,
   "metadata": {},
   "outputs": [
    {
     "data": {
      "text/html": [
       "<div>\n",
       "<style scoped>\n",
       "    .dataframe tbody tr th:only-of-type {\n",
       "        vertical-align: middle;\n",
       "    }\n",
       "\n",
       "    .dataframe tbody tr th {\n",
       "        vertical-align: top;\n",
       "    }\n",
       "\n",
       "    .dataframe thead th {\n",
       "        text-align: right;\n",
       "    }\n",
       "</style>\n",
       "<table border=\"1\" class=\"dataframe\">\n",
       "  <thead>\n",
       "    <tr style=\"text-align: right;\">\n",
       "      <th></th>\n",
       "      <th>const</th>\n",
       "      <th>Index</th>\n",
       "    </tr>\n",
       "  </thead>\n",
       "  <tbody>\n",
       "    <tr>\n",
       "      <th>2015-02-28</th>\n",
       "      <td>1.0</td>\n",
       "      <td>0.053205</td>\n",
       "    </tr>\n",
       "    <tr>\n",
       "      <th>2015-03-31</th>\n",
       "      <td>1.0</td>\n",
       "      <td>-0.015612</td>\n",
       "    </tr>\n",
       "    <tr>\n",
       "      <th>2015-04-30</th>\n",
       "      <td>1.0</td>\n",
       "      <td>0.025410</td>\n",
       "    </tr>\n",
       "    <tr>\n",
       "      <th>2015-05-31</th>\n",
       "      <td>1.0</td>\n",
       "      <td>-0.002718</td>\n",
       "    </tr>\n",
       "    <tr>\n",
       "      <th>2015-06-30</th>\n",
       "      <td>1.0</td>\n",
       "      <td>-0.023787</td>\n",
       "    </tr>\n",
       "  </tbody>\n",
       "</table>\n",
       "</div>"
      ],
      "text/plain": [
       "            const     Index\n",
       "2015-02-28    1.0  0.053205\n",
       "2015-03-31    1.0 -0.015612\n",
       "2015-04-30    1.0  0.025410\n",
       "2015-05-31    1.0 -0.002718\n",
       "2015-06-30    1.0 -0.023787"
      ]
     },
     "execution_count": 25,
     "metadata": {},
     "output_type": "execute_result"
    }
   ],
   "source": [
    "X.head()"
   ]
  },
  {
   "cell_type": "code",
   "execution_count": 26,
   "metadata": {},
   "outputs": [
    {
     "data": {
      "text/plain": [
       "2015-02-28    0.110792\n",
       "2015-03-31   -0.012282\n",
       "2015-04-30   -0.021057\n",
       "2015-05-31   -0.039882\n",
       "2015-06-30   -0.010564\n",
       "Name: WIKI/F - Close, dtype: float64"
      ]
     },
     "execution_count": 26,
     "metadata": {},
     "output_type": "execute_result"
    }
   ],
   "source": [
    "y.head()"
   ]
  },
  {
   "cell_type": "code",
   "execution_count": 27,
   "metadata": {},
   "outputs": [
    {
     "name": "stdout",
     "output_type": "stream",
     "text": [
      "                            OLS Regression Results                            \n",
      "==============================================================================\n",
      "Dep. Variable:         WIKI/F - Close   R-squared:                       0.309\n",
      "Model:                            OLS   Adj. R-squared:                  0.290\n",
      "Method:                 Least Squares   F-statistic:                     16.11\n",
      "Date:                Wed, 06 Mar 2019   Prob (F-statistic):           0.000289\n",
      "Time:                        12:53:47   Log-Likelihood:                 66.200\n",
      "No. Observations:                  38   AIC:                            -128.4\n",
      "Df Residuals:                      36   BIC:                            -125.1\n",
      "Df Model:                           1                                         \n",
      "Covariance Type:            nonrobust                                         \n",
      "==============================================================================\n",
      "                 coef    std err          t      P>|t|      [0.025      0.975]\n",
      "------------------------------------------------------------------------------\n",
      "const         -0.0124      0.007     -1.726      0.093      -0.027       0.002\n",
      "Index          0.9168      0.228      4.014      0.000       0.454       1.380\n",
      "==============================================================================\n",
      "Omnibus:                       17.745   Durbin-Watson:                   1.950\n",
      "Prob(Omnibus):                  0.000   Jarque-Bera (JB):               28.317\n",
      "Skew:                          -1.211   Prob(JB):                     7.10e-07\n",
      "Kurtosis:                       6.466   Cond. No.                         32.3\n",
      "==============================================================================\n",
      "\n",
      "Warnings:\n",
      "[1] Standard Errors assume that the covariance matrix of the errors is correctly specified.\n"
     ]
    }
   ],
   "source": [
    "model = sm.OLS(y, X).fit()\n",
    "print(model.summary())"
   ]
  },
  {
   "cell_type": "markdown",
   "metadata": {},
   "source": [
    "### Plusieurs actions"
   ]
  },
  {
   "cell_type": "markdown",
   "metadata": {},
   "source": [
    "Pour obtenir un grand nombre d'actions, utilisons la liste des ticker symbol de la base WIKI, disponibles dans le fichier csv [WIKI-datasets-codes.csv]()."
   ]
  },
  {
   "cell_type": "code",
   "execution_count": 75,
   "metadata": {},
   "outputs": [
    {
     "name": "stdout",
     "output_type": "stream",
     "text": [
      "WIKI/AAPL,\"Apple Inc (AAPL) Prices, Dividends, Splits and Trading Volume\"\n",
      "\n",
      "WIKI/ABC,\"AmerisourceBergen Corp. (ABC) Prices, Dividends, Splits and Trading Volume\"\n",
      "\n",
      "WIKI/AA,\"Alcoa Inc. (AA) Prices, Dividends, Splits and Trading Volume\"\n",
      "\n",
      "WIKI/ABBV,\"AbbVie Inc. (ABBV) Prices, Dividends, Splits and Trading Volume\"\n",
      "\n",
      "WIKI/ACE,\"ACE Ltd (ACE) Prices, Dividends, Splits and Trading Volume\"\n",
      "\n",
      "WIKI/AGN,\"Allergan Inc. (AGN) Prices, Dividends, Splits and Trading Volume\"\n",
      "\n",
      "WIKI/ADP,\"Automatic Data Processing Inc. (ADP) Prices, Dividends, Splits and Trading Volume\"\n",
      "\n",
      "WIKI/ADSK,\"Autodesk Inc. (ADSK) Prices, Dividends, Splits and Trading Volume\"\n",
      "\n",
      "WIKI/ABT,\"Abbott Laboratories (ABT) Prices, Dividends, Splits and Trading Volume\"\n",
      "\n",
      "WIKI/AEE,\"Ameren Corp. (AEE) Prices, Dividends, Splits and Trading Volume\"\n",
      "\n"
     ]
    }
   ],
   "source": [
    "fichier = open('WIKI-datasets-codes.csv', 'r')\n",
    "\n",
    "i = 0\n",
    "for ligne in fichier:\n",
    "    print(ligne)\n",
    "    i += 1\n",
    "    if i == 10 : break\n",
    "    \n",
    "fichier.close()"
   ]
  },
  {
   "cell_type": "markdown",
   "metadata": {},
   "source": [
    "On va stocker les ticker symbols dans la liste liste_actions."
   ]
  },
  {
   "cell_type": "code",
   "execution_count": 30,
   "metadata": {
    "scrolled": false
   },
   "outputs": [
    {
     "name": "stdout",
     "output_type": "stream",
     "text": [
      "['WIKI/AAPL', 'WIKI/ABC', 'WIKI/AA', 'WIKI/ABBV', 'WIKI/ACE', 'WIKI/AGN', 'WIKI/ADP', 'WIKI/ADSK', 'WIKI/ABT', 'WIKI/AEE']\n",
      "3196\n"
     ]
    }
   ],
   "source": [
    "liste_actions = []\n",
    "fichier = open('WIKI-datasets-codes.csv', 'r')\n",
    "\n",
    "for ligne in fichier:\n",
    "    liste_actions.append(ligne.split(',')[0])\n",
    "    \n",
    "fichier.close()\n",
    "\n",
    "print(liste_actions[0:10])\n",
    "print(len(liste_actions))"
   ]
  },
  {
   "cell_type": "markdown",
   "metadata": {},
   "source": [
    "Reconstituons le jeu de données en utilisant les commandes vues précédemment:"
   ]
  },
  {
   "cell_type": "code",
   "execution_count": 57,
   "metadata": {},
   "outputs": [],
   "source": [
    "nb_actifs = 100\n",
    "liste_actions_courte = liste_actions[:nb_actifs]"
   ]
  },
  {
   "cell_type": "code",
   "execution_count": 58,
   "metadata": {},
   "outputs": [],
   "source": [
    "debut = '2015-01-01'\n",
    "frequence = 'monthly'\n",
    "\n",
    "index = quandl.get('NASDAQOMX/NQGI', start_date = debut, column_index = 1, collapse=frequence)\n",
    "index.columns = ['Index']\n",
    "\n",
    "actions = quandl.get(liste_actions_courte, start_date = debut, column_index = 4, collapse=frequence)\n",
    "actif_sans_risque = quandl.get('USTREASURY/BILLRATES', start_date = debut, column_index = 2, collapse=frequence)\n",
    "actif_sans_risque.columns = ['Actif sans risque']\n",
    "actif_sans_risque = (1 + actif_sans_risque/100) ** (1/12) - 1\n",
    "\n",
    "donnees = pd.concat([actions.pct_change(), index.pct_change(), actif_sans_risque], axis=1)\n",
    "donnees.drop(donnees.head(1).index, inplace=True)"
   ]
  },
  {
   "cell_type": "markdown",
   "metadata": {},
   "source": [
    "Nettoyons les données; pour aller vite, nous allons simplement interpoler les données manquantes."
   ]
  },
  {
   "cell_type": "code",
   "execution_count": 59,
   "metadata": {},
   "outputs": [],
   "source": [
    "donnees_propres = donnees.interpolate()\n",
    "donnees_propres.dropna(axis=1, how='any', inplace=True)"
   ]
  },
  {
   "cell_type": "markdown",
   "metadata": {},
   "source": [
    "Il reste à soustraire le taux de l'actif sans risque:"
   ]
  },
  {
   "cell_type": "code",
   "execution_count": 60,
   "metadata": {},
   "outputs": [],
   "source": [
    "for i in range(nb_actifs + 1):\n",
    "    donnees.iloc[:,i] = donnees.iloc[:,i] - donnees.iloc[:,-1]"
   ]
  },
  {
   "cell_type": "code",
   "execution_count": 61,
   "metadata": {
    "scrolled": true
   },
   "outputs": [
    {
     "data": {
      "text/html": [
       "<div>\n",
       "<style scoped>\n",
       "    .dataframe tbody tr th:only-of-type {\n",
       "        vertical-align: middle;\n",
       "    }\n",
       "\n",
       "    .dataframe tbody tr th {\n",
       "        vertical-align: top;\n",
       "    }\n",
       "\n",
       "    .dataframe thead th {\n",
       "        text-align: right;\n",
       "    }\n",
       "</style>\n",
       "<table border=\"1\" class=\"dataframe\">\n",
       "  <thead>\n",
       "    <tr style=\"text-align: right;\">\n",
       "      <th></th>\n",
       "      <th>WIKI/AAPL - Close</th>\n",
       "      <th>WIKI/ABC - Close</th>\n",
       "      <th>WIKI/ABBV - Close</th>\n",
       "      <th>WIKI/ACE - Close</th>\n",
       "      <th>WIKI/AGN - Close</th>\n",
       "      <th>WIKI/ADP - Close</th>\n",
       "      <th>WIKI/ADSK - Close</th>\n",
       "      <th>WIKI/ABT - Close</th>\n",
       "      <th>WIKI/AEE - Close</th>\n",
       "      <th>WIKI/ACN - Close</th>\n",
       "      <th>...</th>\n",
       "      <th>WIKI/CMCSA - Close</th>\n",
       "      <th>WIKI/CME - Close</th>\n",
       "      <th>WIKI/CHRW - Close</th>\n",
       "      <th>WIKI/CMG - Close</th>\n",
       "      <th>WIKI/CMS - Close</th>\n",
       "      <th>WIKI/CLF - Close</th>\n",
       "      <th>WIKI/CLX - Close</th>\n",
       "      <th>WIKI/COF - Close</th>\n",
       "      <th>Index</th>\n",
       "      <th>Actif sans risque</th>\n",
       "    </tr>\n",
       "  </thead>\n",
       "  <tbody>\n",
       "    <tr>\n",
       "      <th>2018-11-30</th>\n",
       "      <td>-0.054907</td>\n",
       "      <td>-0.117171</td>\n",
       "      <td>-0.205646</td>\n",
       "      <td>0.0</td>\n",
       "      <td>0.039554</td>\n",
       "      <td>-0.026788</td>\n",
       "      <td>0.092279</td>\n",
       "      <td>-0.000829</td>\n",
       "      <td>0.029098</td>\n",
       "      <td>-0.075461</td>\n",
       "      <td>...</td>\n",
       "      <td>-0.088926</td>\n",
       "      <td>-0.043091</td>\n",
       "      <td>-0.01928</td>\n",
       "      <td>0.01429</td>\n",
       "      <td>0.054181</td>\n",
       "      <td>-0.048364</td>\n",
       "      <td>-0.020917</td>\n",
       "      <td>-0.044011</td>\n",
       "      <td>0.013147</td>\n",
       "      <td>0.001897</td>\n",
       "    </tr>\n",
       "    <tr>\n",
       "      <th>2018-12-31</th>\n",
       "      <td>-0.054907</td>\n",
       "      <td>-0.117171</td>\n",
       "      <td>-0.205646</td>\n",
       "      <td>0.0</td>\n",
       "      <td>0.039554</td>\n",
       "      <td>-0.026788</td>\n",
       "      <td>0.092279</td>\n",
       "      <td>-0.000829</td>\n",
       "      <td>0.029098</td>\n",
       "      <td>-0.075461</td>\n",
       "      <td>...</td>\n",
       "      <td>-0.088926</td>\n",
       "      <td>-0.043091</td>\n",
       "      <td>-0.01928</td>\n",
       "      <td>0.01429</td>\n",
       "      <td>0.054181</td>\n",
       "      <td>-0.048364</td>\n",
       "      <td>-0.020917</td>\n",
       "      <td>-0.044011</td>\n",
       "      <td>-0.072495</td>\n",
       "      <td>0.002011</td>\n",
       "    </tr>\n",
       "    <tr>\n",
       "      <th>2019-01-31</th>\n",
       "      <td>-0.054907</td>\n",
       "      <td>-0.117171</td>\n",
       "      <td>-0.205646</td>\n",
       "      <td>0.0</td>\n",
       "      <td>0.039554</td>\n",
       "      <td>-0.026788</td>\n",
       "      <td>0.092279</td>\n",
       "      <td>-0.000829</td>\n",
       "      <td>0.029098</td>\n",
       "      <td>-0.075461</td>\n",
       "      <td>...</td>\n",
       "      <td>-0.088926</td>\n",
       "      <td>-0.043091</td>\n",
       "      <td>-0.01928</td>\n",
       "      <td>0.01429</td>\n",
       "      <td>0.054181</td>\n",
       "      <td>-0.048364</td>\n",
       "      <td>-0.020917</td>\n",
       "      <td>-0.044011</td>\n",
       "      <td>0.078619</td>\n",
       "      <td>0.001995</td>\n",
       "    </tr>\n",
       "    <tr>\n",
       "      <th>2019-02-28</th>\n",
       "      <td>-0.054907</td>\n",
       "      <td>-0.117171</td>\n",
       "      <td>-0.205646</td>\n",
       "      <td>0.0</td>\n",
       "      <td>0.039554</td>\n",
       "      <td>-0.026788</td>\n",
       "      <td>0.092279</td>\n",
       "      <td>-0.000829</td>\n",
       "      <td>0.029098</td>\n",
       "      <td>-0.075461</td>\n",
       "      <td>...</td>\n",
       "      <td>-0.088926</td>\n",
       "      <td>-0.043091</td>\n",
       "      <td>-0.01928</td>\n",
       "      <td>0.01429</td>\n",
       "      <td>0.054181</td>\n",
       "      <td>-0.048364</td>\n",
       "      <td>-0.020917</td>\n",
       "      <td>-0.044011</td>\n",
       "      <td>0.024846</td>\n",
       "      <td>0.002011</td>\n",
       "    </tr>\n",
       "    <tr>\n",
       "      <th>2019-03-31</th>\n",
       "      <td>-0.054907</td>\n",
       "      <td>-0.117171</td>\n",
       "      <td>-0.205646</td>\n",
       "      <td>0.0</td>\n",
       "      <td>0.039554</td>\n",
       "      <td>-0.026788</td>\n",
       "      <td>0.092279</td>\n",
       "      <td>-0.000829</td>\n",
       "      <td>0.029098</td>\n",
       "      <td>-0.075461</td>\n",
       "      <td>...</td>\n",
       "      <td>-0.088926</td>\n",
       "      <td>-0.043091</td>\n",
       "      <td>-0.01928</td>\n",
       "      <td>0.01429</td>\n",
       "      <td>0.054181</td>\n",
       "      <td>-0.048364</td>\n",
       "      <td>-0.020917</td>\n",
       "      <td>-0.044011</td>\n",
       "      <td>0.001136</td>\n",
       "      <td>0.002003</td>\n",
       "    </tr>\n",
       "  </tbody>\n",
       "</table>\n",
       "<p>5 rows × 100 columns</p>\n",
       "</div>"
      ],
      "text/plain": [
       "            WIKI/AAPL - Close  WIKI/ABC - Close  WIKI/ABBV - Close  \\\n",
       "2018-11-30          -0.054907         -0.117171          -0.205646   \n",
       "2018-12-31          -0.054907         -0.117171          -0.205646   \n",
       "2019-01-31          -0.054907         -0.117171          -0.205646   \n",
       "2019-02-28          -0.054907         -0.117171          -0.205646   \n",
       "2019-03-31          -0.054907         -0.117171          -0.205646   \n",
       "\n",
       "            WIKI/ACE - Close  WIKI/AGN - Close  WIKI/ADP - Close  \\\n",
       "2018-11-30               0.0          0.039554         -0.026788   \n",
       "2018-12-31               0.0          0.039554         -0.026788   \n",
       "2019-01-31               0.0          0.039554         -0.026788   \n",
       "2019-02-28               0.0          0.039554         -0.026788   \n",
       "2019-03-31               0.0          0.039554         -0.026788   \n",
       "\n",
       "            WIKI/ADSK - Close  WIKI/ABT - Close  WIKI/AEE - Close  \\\n",
       "2018-11-30           0.092279         -0.000829          0.029098   \n",
       "2018-12-31           0.092279         -0.000829          0.029098   \n",
       "2019-01-31           0.092279         -0.000829          0.029098   \n",
       "2019-02-28           0.092279         -0.000829          0.029098   \n",
       "2019-03-31           0.092279         -0.000829          0.029098   \n",
       "\n",
       "            WIKI/ACN - Close  ...  WIKI/CMCSA - Close  WIKI/CME - Close  \\\n",
       "2018-11-30         -0.075461  ...           -0.088926         -0.043091   \n",
       "2018-12-31         -0.075461  ...           -0.088926         -0.043091   \n",
       "2019-01-31         -0.075461  ...           -0.088926         -0.043091   \n",
       "2019-02-28         -0.075461  ...           -0.088926         -0.043091   \n",
       "2019-03-31         -0.075461  ...           -0.088926         -0.043091   \n",
       "\n",
       "            WIKI/CHRW - Close  WIKI/CMG - Close  WIKI/CMS - Close  \\\n",
       "2018-11-30           -0.01928           0.01429          0.054181   \n",
       "2018-12-31           -0.01928           0.01429          0.054181   \n",
       "2019-01-31           -0.01928           0.01429          0.054181   \n",
       "2019-02-28           -0.01928           0.01429          0.054181   \n",
       "2019-03-31           -0.01928           0.01429          0.054181   \n",
       "\n",
       "            WIKI/CLF - Close  WIKI/CLX - Close  WIKI/COF - Close     Index  \\\n",
       "2018-11-30         -0.048364         -0.020917         -0.044011  0.013147   \n",
       "2018-12-31         -0.048364         -0.020917         -0.044011 -0.072495   \n",
       "2019-01-31         -0.048364         -0.020917         -0.044011  0.078619   \n",
       "2019-02-28         -0.048364         -0.020917         -0.044011  0.024846   \n",
       "2019-03-31         -0.048364         -0.020917         -0.044011  0.001136   \n",
       "\n",
       "            Actif sans risque  \n",
       "2018-11-30           0.001897  \n",
       "2018-12-31           0.002011  \n",
       "2019-01-31           0.001995  \n",
       "2019-02-28           0.002011  \n",
       "2019-03-31           0.002003  \n",
       "\n",
       "[5 rows x 100 columns]"
      ]
     },
     "execution_count": 61,
     "metadata": {},
     "output_type": "execute_result"
    }
   ],
   "source": [
    "donnees_propres.tail()"
   ]
  },
  {
   "cell_type": "code",
   "execution_count": 62,
   "metadata": {},
   "outputs": [],
   "source": [
    "nb_observations, nb_actifs = donnees_propres.shape"
   ]
  },
  {
   "cell_type": "markdown",
   "metadata": {},
   "source": [
    "Lançons les régressions:"
   ]
  },
  {
   "cell_type": "code",
   "execution_count": null,
   "metadata": {},
   "outputs": [],
   "source": [
    "resultats = pd.DataFrame(columns=['actif', 'alpha', 'beta', 'risque', 'rendement moyen'])\n",
    "\n",
    "X = donnees['Index']\n",
    "X = sm.add_constant(X)\n",
    "\n",
    "for i in range(nb_actifs - 2):\n",
    "    y = donnees_propres.iloc[:,i]\n",
    "    model = sm.OLS(y, X).fit()\n",
    "    resultats = resultats.append({'actif': liste_actions[i],\n",
    "                                  'alpha': model.params['const'], \n",
    "                                  'beta': model.params['Index'], \n",
    "                                  'risque': np.var(model.resid),\n",
    "                                  'rendement moyen' : np.mean(y)}, \n",
    "                                 ignore_index=True)\n",
    "\n",
    "prime_marche = np.mean(donnees['Index'])\n",
    "resultats = resultats.set_index('actif')"
   ]
  },
  {
   "cell_type": "code",
   "execution_count": 63,
   "metadata": {},
   "outputs": [
    {
     "name": "stdout",
     "output_type": "stream",
     "text": [
      "               alpha       beta    risque  rendement moyen\n",
      "actif                                                     \n",
      "WIKI/AAPL  -0.007515   0.811599  0.003242        -0.004310\n",
      "WIKI/ABC   -0.031823   0.856792  0.005892        -0.028440\n",
      "WIKI/AA    -0.043301   1.170130  0.011563        -0.038681\n",
      "WIKI/ABBV  -0.000379   0.308389  0.000463         0.000839\n",
      "WIKI/ACE   -0.000420   0.627658  0.005223         0.002058\n",
      "WIKI/AGN   -0.001532   0.554897  0.001759         0.000659\n",
      "WIKI/ADP    0.038540   1.231812  0.006686         0.043404\n",
      "WIKI/ADSK   0.003229   1.010268  0.001708         0.007218\n",
      "WIKI/ABT    0.011977  -0.011070  0.001566         0.011934\n",
      "WIKI/AEE   -0.008469   0.685498  0.002687        -0.005762\n",
      "WIKI/ACN    0.013216  -0.059701  0.001949         0.012980\n",
      "WIKI/AEP    0.026655   0.613573  0.001873         0.029078\n",
      "WIKI/ADBE   0.000508   0.371492  0.003839         0.001975\n",
      "WIKI/AET    0.012749   0.633380  0.002850         0.015250\n",
      "WIKI/ADI    0.005358   0.529731  0.002429         0.007450\n",
      "WIKI/ADM   -0.028663   1.026214  0.005230        -0.024611\n",
      "WIKI/ADS    0.004912   0.335658  0.001729         0.006237\n",
      "WIKI/AIV   -0.196593   1.745541  0.112043        -0.189701\n",
      "WIKI/ADT    0.007726   0.476535  0.001347         0.009608\n",
      "WIKI/ALL   -0.002107   0.821454  0.002409         0.001137\n",
      "WIKI/AES   -0.108170   0.817333  0.041162        -0.104943\n",
      "WIKI/ALTR  -0.028135   0.784841  0.007909        -0.025036\n",
      "WIKI/ALXN  -0.128749   1.373404  0.051778        -0.123326\n",
      "WIKI/AFL    0.008123   0.863169  0.005115         0.011531\n",
      "WIKI/AMAT  -0.015180   0.893807  0.002563        -0.011651\n",
      "WIKI/AIG   -0.016331   1.026745  0.003557        -0.012277\n",
      "WIKI/AMGN   0.019729   0.099166  0.002881         0.020120\n",
      "WIKI/AIZ    0.015694   0.566473  0.001941         0.017931\n",
      "WIKI/AMT    0.018988   0.075086  0.007782         0.019284\n",
      "WIKI/AKAM   0.006996   0.625782  0.001420         0.009467\n",
      "...              ...        ...       ...              ...\n",
      "WIKI/BXP   -0.012996   0.520394  0.004380        -0.010942\n",
      "WIKI/CA    -0.008206   0.535611  0.001369        -0.006091\n",
      "WIKI/BMY   -0.001860   1.012242  0.003162         0.002137\n",
      "WIKI/BRK_B  0.289550  12.766377  3.673004         0.339957\n",
      "WIKI/CAT   -0.005279   0.818404  0.002624        -0.002047\n",
      "WIKI/BTU   -0.017755   1.044539  0.004365        -0.013631\n",
      "WIKI/CBS    0.015613   0.445621  0.004585         0.017372\n",
      "WIKI/C      0.006222   0.189887  0.001380         0.006972\n",
      "WIKI/CCE    0.002553   0.108002  0.002536         0.002980\n",
      "WIKI/CCI   -0.035377   0.782401  0.004533        -0.032288\n",
      "WIKI/CAG    0.009667  -0.069130  0.003649         0.009394\n",
      "WIKI/CAH   -0.028873   0.893904  0.004488        -0.025343\n",
      "WIKI/CAM   -0.002763   0.524630  0.003202        -0.000692\n",
      "WIKI/CERN   0.000157   0.012499  0.000003         0.000206\n",
      "WIKI/CB     0.008558   1.134655  0.003540         0.013038\n",
      "WIKI/CFN   -0.006818   1.650209  0.032909        -0.000302\n",
      "WIKI/CBG   -0.028842   0.572240  0.008431        -0.026582\n",
      "WIKI/CHK    0.002703   0.592829  0.002121         0.005044\n",
      "WIKI/CI     0.002193   0.352054  0.001746         0.003583\n",
      "WIKI/CCL   -0.009676   0.731416  0.005698        -0.006788\n",
      "WIKI/CINF   0.000672   0.391650  0.001095         0.002219\n",
      "WIKI/CELG  -0.048211   1.332256  0.020243        -0.042951\n",
      "WIKI/CL    -0.028368   0.722952  0.008576        -0.025513\n",
      "WIKI/CF     0.001518   0.387372  0.002217         0.003048\n",
      "WIKI/CMCSA  0.000965   0.157509  0.002464         0.001586\n",
      "WIKI/CME   -0.009314   0.054745  0.006304        -0.009098\n",
      "WIKI/CHRW   0.017681  -0.114201  0.002037         0.017230\n",
      "WIKI/CMG    0.010777   1.047514  0.055875         0.014913\n",
      "WIKI/CMS   -0.001369   0.135729  0.001736        -0.000833\n",
      "WIKI/CLF   -0.007211   0.785572  0.002825        -0.004109\n",
      "\n",
      "[98 rows x 4 columns]\n"
     ]
    }
   ],
   "source": [
    "resultats"
   ]
  },
  {
   "cell_type": "markdown",
   "metadata": {},
   "source": [
    "Maintenant il est possible de lancer une deuxième régression pour analyser l'impact du beta sur le rendement moyen:\n",
    "$$\\overline{r_i - r_f} = \\gamma_0 + \\gamma_1b_i + \\gamma_2\\sigma^2(e_i)$$"
   ]
  },
  {
   "cell_type": "markdown",
   "metadata": {},
   "source": [
    "Les éléments théoriques concernant le CAPM devraient nous donner les résultats suivants:\n",
    "$$\\gamma_0 = 0$$\n",
    "$$\\gamma_1 = \\overline{r_m - r_f}$$\n",
    "$$\\gamma_2 = 0$$"
   ]
  },
  {
   "cell_type": "code",
   "execution_count": 64,
   "metadata": {
    "scrolled": true
   },
   "outputs": [
    {
     "name": "stdout",
     "output_type": "stream",
     "text": [
      "                            OLS Regression Results                            \n",
      "==============================================================================\n",
      "Dep. Variable:        rendement moyen   R-squared:                       0.562\n",
      "Model:                            OLS   Adj. R-squared:                  0.553\n",
      "Method:                 Least Squares   F-statistic:                     60.95\n",
      "Date:                Wed, 06 Mar 2019   Prob (F-statistic):           9.34e-18\n",
      "Time:                        13:20:47   Log-Likelihood:                 197.23\n",
      "No. Observations:                  98   AIC:                            -388.5\n",
      "Df Residuals:                      95   BIC:                            -380.7\n",
      "Df Model:                           2                                         \n",
      "Covariance Type:            nonrobust                                         \n",
      "==============================================================================\n",
      "                 coef    std err          t      P>|t|      [0.025      0.975]\n",
      "------------------------------------------------------------------------------\n",
      "const          0.0171      0.007      2.636      0.010       0.004       0.030\n",
      "beta          -0.0363      0.009     -4.189      0.000      -0.054      -0.019\n",
      "risque         0.2124      0.030      7.048      0.000       0.153       0.272\n",
      "==============================================================================\n",
      "Omnibus:                       54.178   Durbin-Watson:                   1.883\n",
      "Prob(Omnibus):                  0.000   Jarque-Bera (JB):              345.332\n",
      "Skew:                          -1.596   Prob(JB):                     1.03e-75\n",
      "Kurtosis:                      11.625   Cond. No.                         15.8\n",
      "==============================================================================\n",
      "\n",
      "Warnings:\n",
      "[1] Standard Errors assume that the covariance matrix of the errors is correctly specified.\n"
     ]
    }
   ],
   "source": [
    "y = resultats['rendement moyen']\n",
    "X = resultats[['beta', 'risque']]\n",
    "X = sm.add_constant(X)\n",
    "model = sm.OLS(y, X).fit()\n",
    "print(model.summary())"
   ]
  },
  {
   "cell_type": "code",
   "execution_count": 65,
   "metadata": {},
   "outputs": [
    {
     "name": "stdout",
     "output_type": "stream",
     "text": [
      "0.003948410759865533\n"
     ]
    }
   ],
   "source": [
    "print(prime_marche)"
   ]
  },
  {
   "cell_type": "markdown",
   "metadata": {},
   "source": [
    "Cette analyse statistique a été pour la première fois mise en pratique par \n",
    "- Lintner, J. (1965). Security prices, risk, and maximal gains from diversification. The journal of finance, 20(4), 587-615.\n",
    "- Miller, M. H., & Scholes, M. (1972). Rates of return in relation to risk: A reexamination of some recent findings. Studies in the theory of capital markets, 23."
   ]
  },
  {
   "cell_type": "markdown",
   "metadata": {},
   "source": [
    "Les résultats de Miller et Scholes ne sont pas ceux attendus: $\\gamma_0$ et $\\gamma_2$ sont trop élevés, tandis que $\\gamma_1$ est trop faible."
   ]
  },
  {
   "cell_type": "markdown",
   "metadata": {},
   "source": [
    "Les difficultés à vérifier le CAPM sur des données réelles à l'aide de cette technique ont été mises sur le compte de plusieurs limites méthodologiques:\n",
    "- la volatilité des actifs limite nécessairement la comparaison statistique avec des moyennes (comme $\\gamma_1$ avec la moyenne de la prime de marché) et peut entraîner un biais d'échantillonnage dans l'estimation du beta lors de la première étape.\n",
    "- il existe nécéssairement une différence entre l'index de marché choisi et le portefeuille de marché du CAPM.\n",
    "- les investisseurs n'ont pas réellement un accés homogène au crédit correspondant au taux de l'actif sans risque."
   ]
  },
  {
   "cell_type": "markdown",
   "metadata": {},
   "source": [
    "La principale source d'inefficacité est l'erreur potentielle de mesurement du beta lors de la première étape. Une caractéristique des régressions sur une variable indépendante avec une erreur de mesure est qu'elles sur-estime la constante et qu'elles aplatissent la droite, c'est-à dire qu'elles sous-estiment le coefficient estimé."
   ]
  },
  {
   "cell_type": "markdown",
   "metadata": {},
   "source": [
    "Dans le papier de Miller et Scholes cité auparavant, les auteurs simulent un CAPM parfait, puis crééent des données associées en ajoutant une erreur de mesure. Les résultats statistiques sont alors similaires à ceux obtenus sur les données réelles: non cohérents avec le CAPM, alors même que les données proviennent d'un CAPM."
   ]
  },
  {
   "cell_type": "markdown",
   "metadata": {},
   "source": [
    "### Limiter le biais lié à l'erreur de mesure des betas"
   ]
  },
  {
   "cell_type": "markdown",
   "metadata": {},
   "source": [
    "Jensen, M. C., Black, F., & Scholes, M. S. (1972). The capital asset pricing model: Some empirical tests."
   ]
  },
  {
   "cell_type": "markdown",
   "metadata": {},
   "source": [
    "Pour limiter ce biais, Jensen et al. (1972) ont produit une méthode relativement similaire, mais qui regroupe les actions par portefeuilles. Les étapes sont les suivantes:\n",
    "- estimer les betas\n",
    "- classer les actifs\n",
    "- regrouper par portefeuilles selon l'ordre croissant des betas (pour augmenter l'hétérogénéité de l'échantillon)\n",
    "- calculer les betas et les rendements des portefeuilles\n",
    "- estimer la prime de rendement en fonction des betas."
   ]
  },
  {
   "cell_type": "code",
   "execution_count": 68,
   "metadata": {},
   "outputs": [],
   "source": [
    "liste_actions = []\n",
    "fichier = open('WIKI-datasets-codes.csv', 'r')\n",
    "\n",
    "for action in fichier:\n",
    "    liste_actions.append(action.split(',')[0])\n",
    "    \n",
    "fichier.close()"
   ]
  },
  {
   "cell_type": "code",
   "execution_count": 69,
   "metadata": {},
   "outputs": [],
   "source": [
    "nb_actifs = 100\n",
    "liste_actions = liste_actions[:nb_actifs]"
   ]
  },
  {
   "cell_type": "code",
   "execution_count": 70,
   "metadata": {},
   "outputs": [],
   "source": [
    "debut = '2015-01-01'\n",
    "frequence = 'monthly'\n",
    "\n",
    "index = quandl.get('NASDAQOMX/NQGI', start_date = debut, column_index = 1, collapse=frequence)\n",
    "index.columns = ['Index']\n",
    "\n",
    "actions = quandl.get(liste_actions, start_date = debut, column_index = 4, collapse=frequence)\n",
    "\n",
    "actif_sans_risque = quandl.get('USTREASURY/BILLRATES', start_date = debut, column_index = 2, collapse=frequence)\n",
    "actif_sans_risque.columns = ['Actif sans risque']\n",
    "actif_sans_risque = (1 + actif_sans_risque/100) ** (1/12) - 1\n",
    "\n",
    "donnees = pd.concat([actions.pct_change(), index.pct_change(), actif_sans_risque], axis=1)\n",
    "donnees.drop(donnees.head(1).index, inplace=True)\n",
    "donnees_propres = donnees.interpolate()\n",
    "donnees_propres.dropna(axis=1, how='any', inplace=True)"
   ]
  },
  {
   "cell_type": "markdown",
   "metadata": {},
   "source": [
    "1ere étape: estimer les betas"
   ]
  },
  {
   "cell_type": "code",
   "execution_count": 71,
   "metadata": {},
   "outputs": [
    {
     "name": "stdout",
     "output_type": "stream",
     "text": [
      "                   alpha       beta        risque  rendement moyen\n",
      "actif                                                             \n",
      "WIKI/AAPL  -8.042879e-03   0.799893  3.264438e-03        -0.004310\n",
      "WIKI/ABC   -3.232767e-02   0.833202  5.937970e-03        -0.028440\n",
      "WIKI/AA    -4.393827e-02   1.126597  1.167789e-02        -0.038681\n",
      "WIKI/ABBV  -6.001620e-04   0.308396  4.636354e-04         0.000839\n",
      "WIKI/ACE   -9.140097e-04   0.636981  5.211032e-03         0.002058\n",
      "WIKI/AGN   -1.898377e-03   0.547963  1.768393e-03         0.000659\n",
      "WIKI/ADP    3.756894e-02   1.250392  6.637702e-03         0.043404\n",
      "WIKI/ADSK   2.492050e-03   1.012780  1.704041e-03         0.007218\n",
      "WIKI/ABT    1.196594e-02  -0.006894  1.565972e-03         0.011934\n",
      "WIKI/AEE   -8.869585e-03   0.665935  2.717532e-03        -0.005762\n",
      "WIKI/ACN    1.321953e-02  -0.051337  1.950382e-03         0.012980\n",
      "WIKI/AEP    2.620412e-02   0.615788  1.870559e-03         0.029078\n",
      "WIKI/ADBE   3.091721e-04   0.356926  3.850741e-03         0.001975\n",
      "WIKI/AET    1.229753e-02   0.632732  2.851377e-03         0.015250\n",
      "WIKI/ADI    4.937706e-03   0.538371  2.419054e-03         0.007450\n",
      "WIKI/ADM   -2.931558e-02   1.008235  5.273106e-03        -0.024611\n",
      "WIKI/ADS    4.654423e-03   0.339103  1.726909e-03         0.006237\n",
      "WIKI/AIV   -1.970410e-01   1.573002  1.126923e-01        -0.189701\n",
      "WIKI/ADT    7.372899e-03   0.478935  1.345256e-03         0.009608\n",
      "WIKI/ALL   -2.713601e-03   0.825074  2.403488e-03         0.001137\n",
      "WIKI/AES   -1.082560e-01   0.710038  4.134790e-02        -0.104943\n",
      "WIKI/ALTR  -2.863314e-02   0.770760  7.935046e-03        -0.025036\n",
      "WIKI/ALXN  -1.291876e-01   1.256019  5.212869e-02        -0.123326\n",
      "WIKI/AFL    7.549386e-03   0.853311  5.135930e-03         0.011531\n",
      "WIKI/AMAT  -1.574374e-02   0.877137  2.597954e-03        -0.011651\n",
      "WIKI/AIG   -1.699896e-02   1.011864  3.593680e-03        -0.012277\n",
      "WIKI/AMGN   1.963259e-02   0.104554  2.879919e-03         0.020120\n",
      "WIKI/AIZ    1.525518e-02   0.573433  1.932341e-03         0.017931\n",
      "WIKI/AMT    1.888256e-02   0.086071  7.780034e-03         0.019284\n",
      "WIKI/AKAM   6.558231e-03   0.623351  1.424240e-03         0.009467\n",
      "...                  ...        ...           ...              ...\n",
      "WIKI/BMY   -2.537394e-03   1.001688  3.187666e-03         0.002137\n",
      "WIKI/BRK_B  2.808921e-01  12.657201  3.676479e+00         0.339957\n",
      "WIKI/CAT   -5.849548e-03   0.814803  2.632314e-03        -0.002047\n",
      "WIKI/BTU   -1.839928e-02   1.021864  4.419829e-03        -0.013631\n",
      "WIKI/CBS    1.521944e-02   0.461281  4.569494e-03         0.017372\n",
      "WIKI/C      6.081071e-03   0.190878  1.379496e-03         0.006972\n",
      "WIKI/CCE    2.481350e-03   0.106793  2.536648e-03         0.002980\n",
      "WIKI/CCI   -3.582922e-02   0.758857  4.574935e-03        -0.032288\n",
      "WIKI/CAG    9.745072e-03  -0.075311  3.647771e-03         0.009394\n",
      "WIKI/CAH   -2.941558e-02   0.872628  4.531922e-03        -0.025343\n",
      "WIKI/CAM   -3.082701e-03   0.512358  3.216440e-03        -0.000692\n",
      "WIKI/CERN   1.486472e-04   0.012393  3.405273e-06         0.000206\n",
      "WIKI/CB     7.721383e-03   1.139364  3.530863e-03         0.013038\n",
      "WIKI/CFN   -8.130279e-03   1.677539  3.281313e-02        -0.000302\n",
      "WIKI/CBG   -2.907188e-02   0.533525  8.479329e-03        -0.026582\n",
      "WIKI/CHK    2.305213e-03   0.586907  2.129906e-03         0.005044\n",
      "WIKI/CI     1.977039e-03   0.344053  1.752045e-03         0.003583\n",
      "WIKI/CCL   -1.018006e-02   0.726871  5.706597e-03        -0.006788\n",
      "WIKI/CINF   3.887913e-04   0.392100  1.095138e-03         0.002219\n",
      "WIKI/CELG  -4.916511e-02   1.331694  2.024891e-02        -0.042951\n",
      "WIKI/CL    -2.879529e-02   0.703331  8.608565e-03        -0.025513\n",
      "WIKI/CF     1.290660e-03   0.376553  2.226669e-03         0.003048\n",
      "WIKI/CMCSA  8.675522e-04   0.154064  2.465409e-03         0.001586\n",
      "WIKI/CME   -9.395739e-03   0.063783  6.302533e-03        -0.009098\n",
      "WIKI/CHRW   1.771784e-02  -0.104624  2.038971e-03         0.017230\n",
      "WIKI/CMG    1.012505e-02   1.025949  5.592715e-02         0.014913\n",
      "WIKI/CMS   -1.430955e-03   0.128152  1.738754e-03        -0.000833\n",
      "WIKI/CLF   -7.727656e-03   0.775462  2.844166e-03        -0.004109\n",
      "WIKI/CLX   -1.301043e-18   1.000000  3.281393e-35         0.004666\n",
      "WIKI/COF    7.216710e-04  -0.000769  4.636021e-07         0.000718\n",
      "\n",
      "[100 rows x 4 columns]\n"
     ]
    }
   ],
   "source": [
    "resultats = pd.DataFrame(columns=['actif', 'alpha', 'beta', 'risque', 'rendement moyen'])\n",
    "\n",
    "X = donnees_propres['Index']\n",
    "X = sm.add_constant(X)\n",
    "\n",
    "for i in range(len(liste_actions)):\n",
    "    y = donnees_propres.iloc[:,i]\n",
    "    model = sm.OLS(y, X).fit()\n",
    "    resultats = resultats.append({'actif': liste_actions[i],\n",
    "                                  'alpha': model.params['const'], \n",
    "                                  'beta': model.params['Index'], \n",
    "                                  'risque': np.var(model.resid),\n",
    "                                  'rendement moyen' : np.mean(y)}, \n",
    "                                 ignore_index=True)\n",
    "\n",
    "prime_marche = np.mean(donnees_propres['Index'])\n",
    "resultats = resultats.set_index('actif')\n",
    "print(resultats)"
   ]
  },
  {
   "cell_type": "markdown",
   "metadata": {},
   "source": [
    "2eme étape : classer par betas"
   ]
  },
  {
   "cell_type": "code",
   "execution_count": 72,
   "metadata": {},
   "outputs": [
    {
     "data": {
      "text/html": [
       "<div>\n",
       "<style scoped>\n",
       "    .dataframe tbody tr th:only-of-type {\n",
       "        vertical-align: middle;\n",
       "    }\n",
       "\n",
       "    .dataframe tbody tr th {\n",
       "        vertical-align: top;\n",
       "    }\n",
       "\n",
       "    .dataframe thead th {\n",
       "        text-align: right;\n",
       "    }\n",
       "</style>\n",
       "<table border=\"1\" class=\"dataframe\">\n",
       "  <thead>\n",
       "    <tr style=\"text-align: right;\">\n",
       "      <th></th>\n",
       "      <th>alpha</th>\n",
       "      <th>beta</th>\n",
       "      <th>risque</th>\n",
       "      <th>rendement moyen</th>\n",
       "    </tr>\n",
       "    <tr>\n",
       "      <th>actif</th>\n",
       "      <th></th>\n",
       "      <th></th>\n",
       "      <th></th>\n",
       "      <th></th>\n",
       "    </tr>\n",
       "  </thead>\n",
       "  <tbody>\n",
       "    <tr>\n",
       "      <th>WIKI/CHRW</th>\n",
       "      <td>0.017718</td>\n",
       "      <td>-0.104624</td>\n",
       "      <td>2.038971e-03</td>\n",
       "      <td>0.017230</td>\n",
       "    </tr>\n",
       "    <tr>\n",
       "      <th>WIKI/CAG</th>\n",
       "      <td>0.009745</td>\n",
       "      <td>-0.075311</td>\n",
       "      <td>3.647771e-03</td>\n",
       "      <td>0.009394</td>\n",
       "    </tr>\n",
       "    <tr>\n",
       "      <th>WIKI/ACN</th>\n",
       "      <td>0.013220</td>\n",
       "      <td>-0.051337</td>\n",
       "      <td>1.950382e-03</td>\n",
       "      <td>0.012980</td>\n",
       "    </tr>\n",
       "    <tr>\n",
       "      <th>WIKI/ABT</th>\n",
       "      <td>0.011966</td>\n",
       "      <td>-0.006894</td>\n",
       "      <td>1.565972e-03</td>\n",
       "      <td>0.011934</td>\n",
       "    </tr>\n",
       "    <tr>\n",
       "      <th>WIKI/COF</th>\n",
       "      <td>0.000722</td>\n",
       "      <td>-0.000769</td>\n",
       "      <td>4.636021e-07</td>\n",
       "      <td>0.000718</td>\n",
       "    </tr>\n",
       "  </tbody>\n",
       "</table>\n",
       "</div>"
      ],
      "text/plain": [
       "              alpha      beta        risque  rendement moyen\n",
       "actif                                                       \n",
       "WIKI/CHRW  0.017718 -0.104624  2.038971e-03         0.017230\n",
       "WIKI/CAG   0.009745 -0.075311  3.647771e-03         0.009394\n",
       "WIKI/ACN   0.013220 -0.051337  1.950382e-03         0.012980\n",
       "WIKI/ABT   0.011966 -0.006894  1.565972e-03         0.011934\n",
       "WIKI/COF   0.000722 -0.000769  4.636021e-07         0.000718"
      ]
     },
     "execution_count": 72,
     "metadata": {},
     "output_type": "execute_result"
    }
   ],
   "source": [
    "resultats.sort_values('beta', inplace=True)\n",
    "resultats.head()"
   ]
  },
  {
   "cell_type": "markdown",
   "metadata": {},
   "source": [
    "3eme étape: ranger par portefeuilles"
   ]
  },
  {
   "cell_type": "code",
   "execution_count": 73,
   "metadata": {},
   "outputs": [
    {
     "name": "stdout",
     "output_type": "stream",
     "text": [
      "      alpha      beta    risque  rendement moyen\n",
      "0  0.008824  0.011930  0.002829         0.008879\n",
      "0  0.008824  0.011930  0.002829         0.008879\n",
      "0  0.009218  0.186043  0.004075         0.010086\n",
      "0 -0.003139  0.383619  0.002545        -0.001349\n",
      "0 -0.001323  0.516408  0.003105         0.001087\n",
      "0  0.003487  0.619166  0.002173         0.006376\n",
      "0 -0.031373  0.713061  0.008792        -0.028046\n",
      "0 -0.019350  0.797641  0.005096        -0.015628\n",
      "0  0.000961  0.949432  0.008256         0.005392\n",
      "0 -0.003652  1.057409  0.010303         0.001282\n"
     ]
    }
   ],
   "source": [
    "taille_portefeuille = 10\n",
    "resultats_portefeuilles = pd.DataFrame(resultats.iloc[0:10,].aggregate('mean')).transpose()\n",
    "\n",
    "for bloc in range(int(nb_actifs / taille_portefeuille) - 1):\n",
    "    resultats_portefeuilles = resultats_portefeuilles.append(pd.DataFrame(resultats.iloc[10*bloc:10*bloc+10,].aggregate('mean')).transpose())\n",
    "\n",
    "print(resultats_portefeuilles)"
   ]
  },
  {
   "cell_type": "markdown",
   "metadata": {},
   "source": [
    "4eme etape: estimer la prime de rendement en fonction des betas"
   ]
  },
  {
   "cell_type": "code",
   "execution_count": 74,
   "metadata": {},
   "outputs": [
    {
     "name": "stdout",
     "output_type": "stream",
     "text": [
      "                            OLS Regression Results                            \n",
      "==============================================================================\n",
      "Dep. Variable:        rendement moyen   R-squared:                       0.226\n",
      "Model:                            OLS   Adj. R-squared:                  0.005\n",
      "Method:                 Least Squares   F-statistic:                     1.021\n",
      "Date:                Wed, 06 Mar 2019   Prob (F-statistic):              0.408\n",
      "Time:                        13:24:07   Log-Likelihood:                 31.591\n",
      "No. Observations:                  10   AIC:                            -57.18\n",
      "Df Residuals:                       7   BIC:                            -56.28\n",
      "Df Model:                           2                                         \n",
      "Covariance Type:            nonrobust                                         \n",
      "==============================================================================\n",
      "                 coef    std err          t      P>|t|      [0.025      0.975]\n",
      "------------------------------------------------------------------------------\n",
      "const          0.0093      0.008      1.178      0.277      -0.009       0.028\n",
      "beta          -0.0083      0.017     -0.495      0.636      -0.048       0.031\n",
      "risque        -1.0496      2.083     -0.504      0.630      -5.975       3.876\n",
      "==============================================================================\n",
      "Omnibus:                        2.685   Durbin-Watson:                   1.557\n",
      "Prob(Omnibus):                  0.261   Jarque-Bera (JB):                1.214\n",
      "Skew:                          -0.850   Prob(JB):                        0.545\n",
      "Kurtosis:                       2.847   Cond. No.                         613.\n",
      "==============================================================================\n",
      "\n",
      "Warnings:\n",
      "[1] Standard Errors assume that the covariance matrix of the errors is correctly specified.\n"
     ]
    },
    {
     "name": "stderr",
     "output_type": "stream",
     "text": [
      "/usr/local/lib/python3.6/dist-packages/scipy/stats/stats.py:1416: UserWarning: kurtosistest only valid for n>=20 ... continuing anyway, n=10\n",
      "  \"anyway, n=%i\" % int(n))\n"
     ]
    }
   ],
   "source": [
    "y = resultats_portefeuilles['rendement moyen']\n",
    "X = resultats_portefeuilles[['beta', 'risque']]\n",
    "X = sm.add_constant(X)\n",
    "model = sm.OLS(y, X).fit()\n",
    "print(model.summary())"
   ]
  },
  {
   "cell_type": "code",
   "execution_count": 47,
   "metadata": {},
   "outputs": [
    {
     "name": "stdout",
     "output_type": "stream",
     "text": [
      "0.0046664923674920545\n"
     ]
    }
   ],
   "source": [
    "print(prime_marche)"
   ]
  },
  {
   "cell_type": "markdown",
   "metadata": {},
   "source": [
    "En pratique les résultats utilisant cette méthodologie sont plus proches des conclusions du CAPM théorique, mais ces résultats varient selon les périodes et les index utilisés. "
   ]
  },
  {
   "cell_type": "markdown",
   "metadata": {},
   "source": [
    "### Construction d'un portefeuille à l'aide du single-index model"
   ]
  },
  {
   "cell_type": "raw",
   "metadata": {},
   "source": [
    "Le modèle de Treynor Black.\n",
    "Treynor, J. L., & Black, F. (1973). How to use security analysis to improve portfolio selection. The Journal of Business, 46(1), 66-86."
   ]
  }
 ],
 "metadata": {
  "kernelspec": {
   "display_name": "Python 3",
   "language": "python",
   "name": "python3"
  },
  "language_info": {
   "codemirror_mode": {
    "name": "ipython",
    "version": 3
   },
   "file_extension": ".py",
   "mimetype": "text/x-python",
   "name": "python",
   "nbconvert_exporter": "python",
   "pygments_lexer": "ipython3",
   "version": "3.6.7"
  }
 },
 "nbformat": 4,
 "nbformat_minor": 2
}

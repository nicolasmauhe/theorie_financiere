{
 "cells": [
  {
   "cell_type": "markdown",
   "metadata": {},
   "source": [
    "## Partie 2: Capital Asset Pricing Model (CAPM)"
   ]
  },
  {
   "cell_type": "code",
   "execution_count": 1,
   "metadata": {},
   "outputs": [],
   "source": [
    "import numpy as np\n",
    "import pandas as pd\n",
    "import matplotlib.pyplot as plt\n",
    "%matplotlib inline\n",
    "plt.rcParams['figure.figsize'] = (15, 10)"
   ]
  },
  {
   "cell_type": "markdown",
   "metadata": {},
   "source": [
    "Inconvénient de la diversification de Markowitz : le nombre d'estimations nécessaires."
   ]
  },
  {
   "cell_type": "markdown",
   "metadata": {},
   "source": [
    "- n estimations de rendements\n",
    "- n estimations de variances\n",
    "- $\\frac{n^2-n}{2}$ estimations de covariances\n",
    "\n",
    "Total : $\\frac{n^2-n}{2} + 2n$ estimations."
   ]
  },
  {
   "cell_type": "code",
   "execution_count": 2,
   "metadata": {},
   "outputs": [
    {
     "name": "stdout",
     "output_type": "stream",
     "text": [
      "1325.0\n"
     ]
    }
   ],
   "source": [
    "n = 50\n",
    "\n",
    "print((n ** 2 - n) / 2 + 2 * n)"
   ]
  },
  {
   "cell_type": "markdown",
   "metadata": {},
   "source": [
    "Le single-index model suppose que l'aléa que constitue le rendement considéré est en fait composé de deux éléments !\n",
    "- une compostante liée au marché\n",
    "- une composante liée à la spécificité de l'actif par rapport au marché."
   ]
  },
  {
   "cell_type": "markdown",
   "metadata": {},
   "source": [
    "On considère le surplus du rendement de l'actif i (par rapport à l'actif sans risque) :\n",
    "$$R_i = r_i - r_f$$\n",
    "Avec le surplus de rendement du marché M qui est donné par\n",
    "$$R_M = r_M - r_f$$"
   ]
  },
  {
   "cell_type": "markdown",
   "metadata": {},
   "source": [
    "Le modèle prend la forme suivante:\n",
    "$R_i=$ Composante liée au marché + Composante spécifique"
   ]
  },
  {
   "cell_type": "markdown",
   "metadata": {},
   "source": [
    "$$R_i = \\beta_i * R_M + X_i$$\n",
    "Avec $\\beta_i$ représentant la sensibilité de l'actif au marché. \n",
    "On peut décomposer $X_i$ en une composante fixe et une composante aléatoire d'espérance nulle.\n",
    "$$R_i = \\alpha_i + \\beta_iR_M + e_i$$"
   ]
  },
  {
   "cell_type": "markdown",
   "metadata": {},
   "source": [
    "- $\\alpha$ est le surplus de rendement hors-marché de l'actif (*nonmarket premium*).\n",
    "- $\\beta$ est la sensibilité de l'actif aux variations du marché (*sensitivity to the market*)\n",
    "- $e$ est la part de l'aléa spécifique à l'actif."
   ]
  },
  {
   "cell_type": "markdown",
   "metadata": {},
   "source": [
    "Il est possible d'estimer les éléments de cette identité à l'aide de données temporelles :\n",
    "$$R_i(t) = \\alpha_i + \\beta_iR_M(t) + e_i(t)$$"
   ]
  },
  {
   "cell_type": "markdown",
   "metadata": {},
   "source": [
    "Si l'on se plie aux hypothèses économétriques du modèle linéaire, notamment la normalité de la composante $e_i(t)$ et l'indépendance des $e_i(t)$, on peut réaliser une régression par les moindres carrés ordinaires. Ces hypothèses sont relativement fortes: il est possible d'en relâcher certaines et de produire des estimations qui sont moins sujettes aux biais liés à la violation des hypothèses. Citons par exemple le generalized autoregressive conditional heteroskedasticity (GARCH) model, qui permet de supposer que les termes d'erreurs (cad la composante spécifique à l'actif) sont corrélés entre eux."
   ]
  },
  {
   "cell_type": "markdown",
   "metadata": {},
   "source": [
    "Pour illustrer une régression linéaire, générons des données artificiellement à l'aide de [np.random.normal()](https://docs.scipy.org/doc/numpy/reference/generated/numpy.random.normal.html) qui permet de générer des nombres selon une loi normale d'espérance 0 et d'écart-type 1."
   ]
  },
  {
   "cell_type": "code",
   "execution_count": 3,
   "metadata": {},
   "outputs": [
    {
     "data": {
      "image/png": "[encoded data removed]",
      "text/plain": [
       "<matplotlib.figure.Figure at 0x7f72c9c11f98>"
      ]
     },
     "metadata": {},
     "output_type": "display_data"
    }
   ],
   "source": [
    "beta_i = 0.3\n",
    "alpha_i = 0.05\n",
    "E_R_M = 0.1\n",
    "sigma_R_M = 0.20\n",
    "sigma_e_i = 0.05\n",
    "nb_tirages = 100\n",
    "liste_R_M = []\n",
    "liste_R_i = []\n",
    "\n",
    "for tirage in range(nb_tirages):\n",
    "    R_M = sigma_R_M * np.random.normal() + E_R_M\n",
    "    R_i = alpha_i + beta_i * R_M + sigma_e_i * np.random.normal()\n",
    "    liste_R_M.append(R_M)\n",
    "    liste_R_i.append(R_i)\n",
    "\n",
    "plt.scatter(liste_R_M, liste_R_i)\n",
    "plt.grid(True)"
   ]
  },
  {
   "cell_type": "markdown",
   "metadata": {},
   "source": [
    "Pour réaliser une régression linéaire, on va se servir du package [StatsModel](http://www.statsmodels.org/stable/index.html)."
   ]
  },
  {
   "cell_type": "code",
   "execution_count": 4,
   "metadata": {},
   "outputs": [
    {
     "name": "stderr",
     "output_type": "stream",
     "text": [
      "/home/xubuntu/.local/lib/python3.5/site-packages/statsmodels/compat/pandas.py:56: FutureWarning: The pandas.core.datetools module is deprecated and will be removed in a future version. Please use the pandas.tseries module instead.\n",
      "  from pandas.core import datetools\n"
     ]
    },
    {
     "name": "stdout",
     "output_type": "stream",
     "text": [
      "   Constante       R_M\n",
      "0          1  0.049945\n",
      "1          1 -0.465999\n",
      "2          1  0.461120\n",
      "3          1 -0.339243\n",
      "4          1  0.167080\n",
      "        R_i\n",
      "0  0.104991\n",
      "1 -0.117720\n",
      "2  0.251133\n",
      "3  0.005025\n",
      "4  0.064643\n"
     ]
    },
    {
     "data": {
      "text/html": [
       "<table class=\"simpletable\">\n",
       "<caption>OLS Regression Results</caption>\n",
       "<tr>\n",
       "  <th>Dep. Variable:</th>           <td>R_i</td>       <th>  R-squared:         </th> <td>   0.603</td>\n",
       "</tr>\n",
       "<tr>\n",
       "  <th>Model:</th>                   <td>OLS</td>       <th>  Adj. R-squared:    </th> <td>   0.599</td>\n",
       "</tr>\n",
       "<tr>\n",
       "  <th>Method:</th>             <td>Least Squares</td>  <th>  F-statistic:       </th> <td>   149.1</td>\n",
       "</tr>\n",
       "<tr>\n",
       "  <th>Date:</th>             <td>Wed, 14 Feb 2018</td> <th>  Prob (F-statistic):</th> <td>2.12e-21</td>\n",
       "</tr>\n",
       "<tr>\n",
       "  <th>Time:</th>                 <td>13:26:37</td>     <th>  Log-Likelihood:    </th> <td>  160.53</td>\n",
       "</tr>\n",
       "<tr>\n",
       "  <th>No. Observations:</th>      <td>   100</td>      <th>  AIC:               </th> <td>  -317.1</td>\n",
       "</tr>\n",
       "<tr>\n",
       "  <th>Df Residuals:</th>          <td>    98</td>      <th>  BIC:               </th> <td>  -311.8</td>\n",
       "</tr>\n",
       "<tr>\n",
       "  <th>Df Model:</th>              <td>     1</td>      <th>                     </th>     <td> </td>   \n",
       "</tr>\n",
       "<tr>\n",
       "  <th>Covariance Type:</th>      <td>nonrobust</td>    <th>                     </th>     <td> </td>   \n",
       "</tr>\n",
       "</table>\n",
       "<table class=\"simpletable\">\n",
       "<tr>\n",
       "      <td></td>         <th>coef</th>     <th>std err</th>      <th>t</th>      <th>P>|t|</th>  <th>[0.025</th>    <th>0.975]</th>  \n",
       "</tr>\n",
       "<tr>\n",
       "  <th>Constante</th> <td>    0.0557</td> <td>    0.005</td> <td>   10.383</td> <td> 0.000</td> <td>    0.045</td> <td>    0.066</td>\n",
       "</tr>\n",
       "<tr>\n",
       "  <th>R_M</th>       <td>    0.2877</td> <td>    0.024</td> <td>   12.213</td> <td> 0.000</td> <td>    0.241</td> <td>    0.334</td>\n",
       "</tr>\n",
       "</table>\n",
       "<table class=\"simpletable\">\n",
       "<tr>\n",
       "  <th>Omnibus:</th>       <td> 2.362</td> <th>  Durbin-Watson:     </th> <td>   1.797</td>\n",
       "</tr>\n",
       "<tr>\n",
       "  <th>Prob(Omnibus):</th> <td> 0.307</td> <th>  Jarque-Bera (JB):  </th> <td>   1.596</td>\n",
       "</tr>\n",
       "<tr>\n",
       "  <th>Skew:</th>          <td>-0.036</td> <th>  Prob(JB):          </th> <td>   0.450</td>\n",
       "</tr>\n",
       "<tr>\n",
       "  <th>Kurtosis:</th>      <td> 2.385</td> <th>  Cond. No.          </th> <td>    4.84</td>\n",
       "</tr>\n",
       "</table>"
      ],
      "text/plain": [
       "<class 'statsmodels.iolib.summary.Summary'>\n",
       "\"\"\"\n",
       "                            OLS Regression Results                            \n",
       "==============================================================================\n",
       "Dep. Variable:                    R_i   R-squared:                       0.603\n",
       "Model:                            OLS   Adj. R-squared:                  0.599\n",
       "Method:                 Least Squares   F-statistic:                     149.1\n",
       "Date:                Wed, 14 Feb 2018   Prob (F-statistic):           2.12e-21\n",
       "Time:                        13:26:37   Log-Likelihood:                 160.53\n",
       "No. Observations:                 100   AIC:                            -317.1\n",
       "Df Residuals:                      98   BIC:                            -311.8\n",
       "Df Model:                           1                                         \n",
       "Covariance Type:            nonrobust                                         \n",
       "==============================================================================\n",
       "                 coef    std err          t      P>|t|      [0.025      0.975]\n",
       "------------------------------------------------------------------------------\n",
       "Constante      0.0557      0.005     10.383      0.000       0.045       0.066\n",
       "R_M            0.2877      0.024     12.213      0.000       0.241       0.334\n",
       "==============================================================================\n",
       "Omnibus:                        2.362   Durbin-Watson:                   1.797\n",
       "Prob(Omnibus):                  0.307   Jarque-Bera (JB):                1.596\n",
       "Skew:                          -0.036   Prob(JB):                        0.450\n",
       "Kurtosis:                       2.385   Cond. No.                         4.84\n",
       "==============================================================================\n",
       "\n",
       "Warnings:\n",
       "[1] Standard Errors assume that the covariance matrix of the errors is correctly specified.\n",
       "\"\"\""
      ]
     },
     "execution_count": 4,
     "metadata": {},
     "output_type": "execute_result"
    }
   ],
   "source": [
    "import statsmodels.api as sm\n",
    "\n",
    "y = pd.DataFrame({'R_i' : liste_R_i})\n",
    "X = pd.DataFrame({'R_M' : liste_R_M, \n",
    "                  'Constante' : [1] * nb_tirages})\n",
    "print(X.head())\n",
    "print(y.head())\n",
    "\n",
    "model = sm.OLS(y, X).fit()\n",
    "model.summary()"
   ]
  },
  {
   "cell_type": "markdown",
   "metadata": {},
   "source": [
    "On peut obtenir les paramètres du modèles à l'aide de:"
   ]
  },
  {
   "cell_type": "code",
   "execution_count": 5,
   "metadata": {},
   "outputs": [
    {
     "data": {
      "text/plain": [
       "Constante    0.055689\n",
       "R_M          0.287741\n",
       "dtype: float64"
      ]
     },
     "execution_count": 5,
     "metadata": {},
     "output_type": "execute_result"
    }
   ],
   "source": [
    "model.params"
   ]
  },
  {
   "cell_type": "markdown",
   "metadata": {},
   "source": [
    "Et un paramètre en particulier comme suit:"
   ]
  },
  {
   "cell_type": "code",
   "execution_count": 6,
   "metadata": {},
   "outputs": [
    {
     "data": {
      "text/plain": [
       "0.287741199632085"
      ]
     },
     "execution_count": 6,
     "metadata": {},
     "output_type": "execute_result"
    }
   ],
   "source": [
    "model.params['R_M']"
   ]
  },
  {
   "cell_type": "markdown",
   "metadata": {},
   "source": [
    "On peut représenter la droite estimée sur le diagramme de dispersion:"
   ]
  },
  {
   "cell_type": "code",
   "execution_count": 7,
   "metadata": {},
   "outputs": [
    {
     "data": {
      "image/png": "[encoded data removed]",
      "text/plain": [
       "<matplotlib.figure.Figure at 0x7f72c9c1c630>"
      ]
     },
     "metadata": {},
     "output_type": "display_data"
    }
   ],
   "source": [
    "plt.scatter(liste_R_M, liste_R_i)\n",
    "plt.plot(X['R_M'], model.params['R_M'] * X['R_M'] +  model.params['Constante'], color=\"Green\")\n",
    "plt.grid(True)"
   ]
  },
  {
   "cell_type": "markdown",
   "metadata": {},
   "source": [
    "Intéressons-nous à la variance de notre actif i :\n",
    "$$Var(R_i) = Var(\\alpha_i + \\beta_iR_M + e_i)$$\n",
    "$$Var(r_i - r_f) = Var(\\alpha_i + \\beta_i(r_M - r_f) + e_i)$$\n",
    "$$\\sigma_i^2 = \\beta_i^2\\sigma_M^2 + \\sigma(e_i)^2$$"
   ]
  },
  {
   "cell_type": "markdown",
   "metadata": {},
   "source": [
    "On peut donc séparer la variance du surplus de rendement en variance due au marché et en variance spécifique à l'actif."
   ]
  },
  {
   "cell_type": "markdown",
   "metadata": {},
   "source": [
    "La covariance entre les deux actifs i et j est simplement :\n",
    "$$Cov(r_i, r_j) = \\beta_i\\beta_j\\sigma_M^2$$\n",
    "Ce qui nous donne:\n",
    "$$Corr(r_i, r_j) = \\frac{\\beta_i\\beta_j\\sigma_M^2}{\\sigma_i\\sigma_j} = \\frac{\\beta_i\\sigma_M^2\\beta_j\\sigma_M^2}{\\sigma_i\\sigma_M\\sigma_j\\sigma_M} = Corr(r_i, r_M) * Corr(r_j, r_M)$$"
   ]
  },
  {
   "cell_type": "markdown",
   "metadata": {},
   "source": [
    "Pour le moment, nous avons beaucoup moins d'estimations requises. "
   ]
  },
  {
   "cell_type": "markdown",
   "metadata": {},
   "source": [
    "Il nous faut :\n",
    "- n estimations des surplus de rendement hors-marché, $\\sigma_i$.\n",
    "- n estimations des sensibilités de l'actif aux variations du marché, $\\beta_i$\n",
    "- n estimations des variances spécifiques à l'actif, $\\sigma^2(e_i)$\n",
    "- 1 estimation du surplus de rendement du marché, $E(R_M)$\n",
    "- 1 estimation de la variance du marché $\\sigma^2_M$\n",
    "\n",
    "\n",
    "Soit $3n + 2$ estimations."
   ]
  },
  {
   "cell_type": "markdown",
   "metadata": {},
   "source": [
    "### Estimation de données réelles"
   ]
  },
  {
   "cell_type": "markdown",
   "metadata": {},
   "source": [
    "### Construction d'un portefeuille à l'aide du single-index model"
   ]
  }
 ],
 "metadata": {
  "kernelspec": {
   "display_name": "Python 3",
   "language": "python",
   "name": "python3"
  },
  "language_info": {
   "codemirror_mode": {
    "name": "ipython",
    "version": 3
   },
   "file_extension": ".py",
   "mimetype": "text/x-python",
   "name": "python",
   "nbconvert_exporter": "python",
   "pygments_lexer": "ipython3",
   "version": "3.5.3"
  }
 },
 "nbformat": 4,
 "nbformat_minor": 2
}

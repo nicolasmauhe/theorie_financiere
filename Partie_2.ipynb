{
 "cells": [
  {
   "cell_type": "markdown",
   "metadata": {},
   "source": [
    "## Partie 2: Capital Asset Pricing Model (CAPM)"
   ]
  },
  {
   "cell_type": "markdown",
   "metadata": {},
   "source": [
    "## Le Capital Asset Pricing Model (CAPM)"
   ]
  },
  {
   "cell_type": "markdown",
   "metadata": {},
   "source": [
    "Reférences:\n",
    "- Sharpe, W. F. (1964). Capital asset prices: A theory of market equilibrium under conditions of risk. The journal of finance, 19(3), 425-442.\n",
    "- Lintner, J. (1975). The valuation of risk assets and the selection of risky investments in stock portfolios and capital budgets. In Stochastic Optimization Models in Finance (pp. 131-155).\n",
    "- Mossin, J. (1966). Equilibrium in a capital asset market. Econometrica: Journal of the econometric society, 768-783."
   ]
  },
  {
   "cell_type": "markdown",
   "metadata": {},
   "source": [
    "Problématique fondamentale : s'il existe un seul portefeuille optimal, que se passe-t-il lorsque tous les investisseurs investissent uniquement dans celui-ci ?"
   ]
  },
  {
   "cell_type": "markdown",
   "metadata": {},
   "source": [
    "Suppositions du CAPM :\n",
    "\n",
    "1] En termes de comportement individuel :\n",
    "  - Les investisseurs sont rationnels et optimisent le rendement attendu en fonction du risque comme vu en partie 1. (\"Mean-variance optimizers\")\n",
    "  - Une seule période temporelle (décision, conséquence).\n",
    "  - Les investisseurs disposent des mêmes inputs en termes d'espérance de rendement et de risque: ils ont la même information et des mêmes attentes (*homogeneous expectations*)\n",
    "\n",
    "  \n",
    "2] En termes de structure du marché:\n",
    "  - Tous les actifs sont disponibles à l'investissement et échangés sur des marchés publics.\n",
    "  - Les investisseurs peuvent prêter ou emprunter de l'argent à un taux fixe (taux de l'actif sans risque), et ils peuvent prendre des positions à découvert sur (shorter) des actifs.\n",
    "  - Pas de taxe ni de coûts de transaction."
   ]
  },
  {
   "cell_type": "markdown",
   "metadata": {},
   "source": [
    "Considérons l'aggrégation de tous les portefeuilles des investisseurs. Les emprunts et les prêts s'annulent, et l'on peut représenter la richesse totale de l'économie à travers le portefeuille de marché. Ce portefeuille dispose d'un vecteur de poids, qui est la proportion de la richesse totale ventilée dans les différentes actions."
   ]
  },
  {
   "cell_type": "markdown",
   "metadata": {},
   "source": [
    "| Actif|Nombre d'actions|Poids en nombre de parts|Prix|Capitalisation|Poids dans le portefeuille de marché|\n",
    "|------|----------------| -----------------------|----|--------------| -----------------------------------|\n",
    "| A    |10              |      1/3               |1   |10            | 10%                                |\n",
    "| B    |10              |      1/3               |2   |20            | 20%                                |\n",
    "| C    |10              |      1/3               |7   |70            | 70%                                |"
   ]
  },
  {
   "cell_type": "markdown",
   "metadata": {},
   "source": [
    "Si tous les portefeuilles (des investisseurs) sont le même portefeuille optimal, alors le portefeuille de marché disposera des mêmes poids que le portefeuille optimal."
   ]
  },
  {
   "cell_type": "markdown",
   "metadata": {},
   "source": [
    "Exemple : Si tous les investisseurs ont placé 1% de leur richesse dans l'actif A, alors 1% de la richesse totale est investie dans l'actif A : le portefeuille du marché dispose donc d'un poids de 1% pour l'actif A."
   ]
  },
  {
   "cell_type": "markdown",
   "metadata": {},
   "source": [
    "Si un actif ne fait pas partie du portefeuille optimal, alors aucun investisseur ne va acquérir de titre. Le prix va plonger, jusqu'à atteindre un prix pour lequel le compromis rendement risque devient intéressant, et l'actif va intégrer le portefeuille optimal."
   ]
  },
  {
   "cell_type": "markdown",
   "metadata": {},
   "source": [
    "Conclusion : tous les actifs figurent dans le portefeuille optimal. La seule question est de savoir à quel prix."
   ]
  },
  {
   "cell_type": "markdown",
   "metadata": {},
   "source": [
    "### Prime de risque du portefeuille du marché"
   ]
  },
  {
   "cell_type": "markdown",
   "metadata": {},
   "source": [
    "Le portefeuille optimal est le portefeuille du marché $M$."
   ]
  },
  {
   "cell_type": "markdown",
   "metadata": {},
   "source": [
    "D'après ce que l'on a vu en première partie, la proportion optimale d'investissement dans le portefeuille du marché (versus l'actif sans risque) pour un investisseur $n$ d'aversion au risque $A_n$ nous est donné par la formule suivante:\n",
    "$$w^*_n = \\frac{E(r_M) - r_f}{\\sigma_{M}^2A_n}$$"
   ]
  },
  {
   "cell_type": "markdown",
   "metadata": {},
   "source": [
    "Cette proportion varie d'un investisseur à l'autre basé sur son aversion au risque. C'est la seule chose qui entraîne une allocation différente, car le portfeuille optimal est le même pour tous."
   ]
  },
  {
   "cell_type": "markdown",
   "metadata": {},
   "source": [
    "La somme de tous les prêts et emprunts pour tous les investisseurs est égale à 0: pour un emprunteur, il existe sa contrepartie prêteuse sur le marché. Nous avons donc :"
   ]
  },
  {
   "cell_type": "markdown",
   "metadata": {},
   "source": [
    "$$\\sum_{n=1}^{N}(1-w_n)*C_n = 0$$\n",
    "Avec $C_n$ constituant le capital de l'agent n. On a donc:\n",
    "$$\\sum_{n=1}^{N}w_n*C_n = \\sum_{n=1}^{N}C_n = C$$\n",
    "Ce qui se traduit par : la somme des capitaux investis dans les actifs risqués est égale au capital total du marché. Ce qui est logique car un capital placé dans l'actif sans risque est en réalité prêté à un autre agent qui va l'investir dans les actifs risqués. On a alors:\n",
    "$$\\sum_{n=1}^{N}\\frac{E(r_M) - r_f}{\\sigma_{M}^2A_n}*C_n = C$$\n",
    "On peut considérer le capital de chaque agent comme une fraction du capital total. On a alors $C = 1$.\n",
    "$$\\sum_{n=1}^{N}\\frac{E(r_M) - r_f}{\\sigma_{M}^2A_n}*C_n = 1$$\n",
    "$$\\frac{E(r_M) - r_f}{\\sigma_{M}^2}*\\sum_{n=1}^{N}\\frac1{A_n}*C_n = 1$$\n",
    "\n",
    "Supposons que nous ayons un agent unique et représentatif : son aversion au risque vaut $A$.\n",
    "$$\\frac{E(r_M) - r_f}{\\sigma_{M}^2}*\\sum_{n=1}^{N}\\frac1{A}*C_n = 1$$\n",
    "$$\\frac1{A}\\frac{E(r_M) - r_f}{\\sigma_{M}^2}*\\sum_{n=1}^{N}C_n = 1$$\n",
    "$$\\frac1{A}\\frac{E(r_M) - r_f}{\\sigma_{M}^2} = 1$$\n",
    "$$E(r_M) - r_f = \\sigma_{M}^2*A$$"
   ]
  },
  {
   "cell_type": "markdown",
   "metadata": {},
   "source": [
    "Cette égalité donne une idée du lien \"théorique\" entre prime de risque du marché et volatilité du marché (représenté par sa variance). Il s'agit d'un lien qui devient de plus en plus pertinent au fur et à mesure que l'on a des agents dont l'aversion au risque est de plus en plus similaire."
   ]
  },
  {
   "cell_type": "markdown",
   "metadata": {},
   "source": [
    "Cela peut aider à se représenter la signification de l'aversion au risque : un marché composé d'agents à l'aversion A sera un marché ou la prime de risque exigée sera la volatilité du portefeuille mutipliée par l'aversion au risque."
   ]
  },
  {
   "cell_type": "markdown",
   "metadata": {},
   "source": [
    "### Contribution au risque du marché et retour attendu"
   ]
  },
  {
   "cell_type": "markdown",
   "metadata": {},
   "source": [
    "Rappelons le résultat obtenu en partie 1:\n",
    "$$\\mathrm{Var}(\\sum_{i=1}^{N}w_iX_i) = \\sum_{i=1}^{N}\\sum_{j=1}^{N}w_iw_j\\sigma_{ij}$$"
   ]
  },
  {
   "cell_type": "markdown",
   "metadata": {},
   "source": [
    "Considérons la covariance entre un actif précis et le marché :\n",
    "$$\\mathrm{Cov}(X_k,\\sum_{i=1}^{N}w_iX_i) = \\sum_{i=1}^{N}w_i\\sigma_{ik}$$\n",
    "Ce qui nous donne, si l'on prend en compte le poids de l'actif k :\n",
    "$$\\mathrm{Cov}(w_kX_k,\\sum_{i=1}^{N}w_iX_i) = \\sum_{i=1}^{N}w_iw_k\\sigma_{ik}$$"
   ]
  },
  {
   "cell_type": "markdown",
   "metadata": {},
   "source": [
    "Si l'on somme cette égalité pour tous les k entre 1 et N, on retombe sur la première égalité, et donc sur la variance totale du marché. \n",
    "On peut donc se servir de cette dernière égalité pour avoir une idée de la contribution de l'actif k à la variance du marché."
   ]
  },
  {
   "cell_type": "markdown",
   "metadata": {},
   "source": [
    "Contribution de l'actif k à la variance du marché : $$\\mathrm{Cov}(w_kR_k,\\sum_{i=1}^{N}w_iR_i) = w_k*\\mathrm{Cov}(R_k,R_M)$$"
   ]
  },
  {
   "cell_type": "markdown",
   "metadata": {},
   "source": [
    "On peut dès lors s'intéresser au ratio entre la contribution à la prime de risque et la contribution à la variance:\n",
    "$$\\frac{w_k*E(R_k)}{w_k*\\mathrm{Cov}(R_k,R_M)} = \\frac{E(R_k)}{\\mathrm{Cov}(R_k,R_M)}$$"
   ]
  },
  {
   "cell_type": "markdown",
   "metadata": {},
   "source": [
    " [Jan Mossin, 1966](http://jpkc.fudan.edu.cn/picture/article/296/a0/8f/56489b58482aa1b8de3d9339ba17/13fc1431-e230-49e1-933e-f705da935a8f.pdf) a montré que lorsque le marché est à l'équilibre, tous les investissements présentent un ratio contribution au risque / contribution à la variance égal. Nous allons suivre la démonstration effectuée dans un cadre général (fonction d'utilité U concave, sans spécification plus précise), avant de l'appliquer à notre fonction d'utilité quadratique."
   ]
  },
  {
   "cell_type": "markdown",
   "metadata": {},
   "source": [
    "### A l'équilibre"
   ]
  },
  {
   "cell_type": "markdown",
   "metadata": {},
   "source": [
    "Pour comprendre ce résultat, il faut se situer dans un cadre pluis général, avec un marché et des biens. Nous nous sommes concentrés jusqu'ici sur les rendements, car notre fonction d'utilité ne dépendait pas des montants ou des quantités, mais seulement des rendements.\n",
    "Mais un cadre d'équilibre général implique de trouver un équilibre entre offre et demande, et donc de modéliser des actions achetées et vendues à un certain prix."
   ]
  },
  {
   "cell_type": "markdown",
   "metadata": {},
   "source": [
    "Le modèle est toujours sur deux périodes : décision générale, puis résultat. La fonction d'utilité des investisseurs dépend de l'espérance de la valeur future (du portefeuille) et du risque pris. On va considérer n actifs : n-1 actifs risqués et 1 actif sans risque."
   ]
  },
  {
   "cell_type": "markdown",
   "metadata": {},
   "source": [
    "L'espérance de la valeur future du portefeuille de l'investisseur i:\n",
    "$$y_1^i = \\sum_{j=1}^{n-1} \\mu_jx_j^i + x_n^i$$\n",
    "avec $\\mu_j$ désignant l'espérance de la valeur du bien j."
   ]
  },
  {
   "cell_type": "markdown",
   "metadata": {},
   "source": [
    "Le risque pris :\n",
    "$$y_2^i = \\sum_{j=1}^{n-1}\\sum_{\\alpha=1}^{n-1}\\sigma_{j\\alpha}x_j^ix_{\\alpha}^i$$\n",
    "avec $\\sigma_{j\\alpha} = Cov(\\mu_j, \\mu_{\\alpha})$"
   ]
  },
  {
   "cell_type": "markdown",
   "metadata": {},
   "source": [
    "On a une fonction d'utilité générique qui dépend de ces deux éléments :\n",
    "$$U^i = f^i(y_1^i,y_2^i)$$"
   ]
  },
  {
   "cell_type": "markdown",
   "metadata": {},
   "source": [
    "On voit ici que les investisseurs peuvent avoir des fonctions d'utilités différentes : la seule condition imposée est que cette fonction dépende de l'espérance de la production et du risque tels que formulés précédemment, et que cette fonction soit concave, avec une première dérivée positive et une seconde négative (par rapport à n'importe quel bien). Cela correspond bien à un comportement averse au risque."
   ]
  },
  {
   "cell_type": "markdown",
   "metadata": {},
   "source": [
    "Le prix de l'actif sans risque est fixé arbitrairement à $q$, et sa valeur future est certaine, fixée est 1. Le rendement sans risque dépend donc de $q$:\n",
    "$$r_f = \\frac1q - 1$$\n",
    "Pour un prix $q$ inférieur à 1, (disons 10/11) le rendement sera positif, (il vaudra ici 10%)."
   ]
  },
  {
   "cell_type": "markdown",
   "metadata": {},
   "source": [
    "D'une manière générale, les investisseurs n'optimisent plus l'espérance de rendement mais l'espérance de la valeur future, ce qui constitue un comportement plus général : il prend en compte les quantités et les prix. Nous verrons par la suite que nous pourrons retomber sur le cas particulier de l'optimisation de l'espérance de rendement."
   ]
  },
  {
   "cell_type": "markdown",
   "metadata": {},
   "source": [
    "Le lien entre les deux est le suivant :\n",
    "$$E(r_j) = \\frac{\\mu_j}{p_j} - 1$$\n",
    "$$\\mu_j = (1 + E(r_j))*p_j$$"
   ]
  },
  {
   "cell_type": "markdown",
   "metadata": {},
   "source": [
    "Chaque investisseur $i$ est sujet à une contrainte budgétaire:\n",
    "$$\\sum_{j=1}^{n-1}p_j(x_j^i - \\bar{x}_j^i) + q(x_n^i - \\bar{x}_n^i) = 0$$"
   ]
  },
  {
   "cell_type": "markdown",
   "metadata": {},
   "source": [
    "Chaque investisseur $i$ va chercher à optimiser son utilité $U^i$ sous la contrainte budgétaire. Il s'agit d'un problème d'optimisation avec une seule contrainte, appliqué à une fonction concave. Il s'agit donc de poser le Lagrangien, et de résoudre les conditions du premier ordre."
   ]
  },
  {
   "cell_type": "markdown",
   "metadata": {},
   "source": [
    "$$V^i = f^i(y_1^i, y_2^i) + \\theta^i[\\sum_{j=1}^{n-1}p_j(x_j^i - \\bar{x}_j^i) + q(x_n^i - \\bar{x}_n^i)]$$"
   ]
  },
  {
   "cell_type": "markdown",
   "metadata": {},
   "source": [
    "Rappelons le théorème de dérivation des fonctions composées (*chain rule*):"
   ]
  },
  {
   "cell_type": "markdown",
   "metadata": {},
   "source": [
    "Si $h = f(y_1(x), y_2(x))$, alors\n",
    "$$\\frac{\\partial h}{\\partial x_j^i} (x)= \\frac{\\partial f}{\\partial y_1}(y_1(x), y_2(x)) * \\frac{\\partial y_1}{\\partial x_j}(x) + \\frac{\\partial f}{\\partial y_2}(y_1(x), y_2(x)) * \\frac{\\partial y_2}{\\partial x_j}(x)$$"
   ]
  },
  {
   "cell_type": "markdown",
   "metadata": {},
   "source": [
    "Les conditions du premier ordre sont les suivantes (pour chaque investisseur):"
   ]
  },
  {
   "cell_type": "markdown",
   "metadata": {},
   "source": [
    "$$\\frac{\\partial V^i}{\\partial x_j^i} = f_1^i\\mu_j + 2f_2^i\\sum_{\\alpha=1}^{n-1}\\sigma_{j\\alpha}x_{\\alpha}^i + \\theta^ip_j = 0 \\qquad (j=1, ..., n-1) $$\n",
    "$$\\frac{\\partial V^i}{\\partial x_n^i} = f_1^i + \\theta^iq = 0$$\n",
    "$$\\frac{\\partial V^i}{\\partial \\theta^i} = \\sum_{j=1}^{n-1}p_j(x_j^i - \\bar{x}_j^i) + q(x_n^i - \\bar{x}_n^i) = 0$$"
   ]
  },
  {
   "cell_type": "markdown",
   "metadata": {},
   "source": [
    "Avec $f_1^i$ et $f_2^i$ les dérivées partielles de $f^i$ par rapport a $y_1^i$ et $y_2^i$."
   ]
  },
  {
   "cell_type": "markdown",
   "metadata": {},
   "source": [
    "La deuxième égalité peut s'écrire comme ceci (q est différent de 0) :"
   ]
  },
  {
   "cell_type": "markdown",
   "metadata": {},
   "source": [
    "$$\\theta^i = -\\frac{f_1^i}q $$"
   ]
  },
  {
   "cell_type": "markdown",
   "metadata": {},
   "source": [
    "On peut remplacer $\\theta^i$ dans la première égalité:"
   ]
  },
  {
   "cell_type": "markdown",
   "metadata": {},
   "source": [
    "$$f_1^i\\mu_j + 2f_2^i\\sum_{\\alpha=1}^{n-1}\\sigma_{j\\alpha}x_{\\alpha}^i -\\frac{f_1^i}q * p_j = 0 \\qquad (j=1, ..., n-1)$$"
   ]
  },
  {
   "cell_type": "markdown",
   "metadata": {},
   "source": [
    "$$\\Leftrightarrow f_1^i(\\mu_j -\\frac{p_j}q) = - 2f_2^i\\sum_{\\alpha=1}^{n-1}\\sigma_{j\\alpha}x_{\\alpha}^i \\qquad (j=1, ..., n-1)$$"
   ]
  },
  {
   "cell_type": "markdown",
   "metadata": {},
   "source": [
    "$$\\Leftrightarrow -\\frac{f_1^i}{f_2^i} = \\frac{ 2\\sum_{\\alpha=1}^{n-1}\\sigma_{j\\alpha}x_{\\alpha}^i}{\\mu_j -\\frac{p_j}q} \\qquad (j=1, ..., n-1)$$"
   ]
  },
  {
   "cell_type": "markdown",
   "metadata": {},
   "source": [
    "Les conditions du premier ordre sont donc pour chaque investisseur:\n",
    "$$-\\frac{f_1^i}{f_2^i} = \\frac{ 2\\sum_{\\alpha=1}^{n-1}\\sigma_{j\\alpha}x_{\\alpha}^i}{\\mu_j -\\frac{p_j}q} \\qquad (j=1, ..., n-1)$$\n",
    "$$\\sum_{j=1}^{n-1}p_j(x_j^i - \\bar{x}_j^i) + q(x_n^i - \\bar{x}_n^i) = 0$$"
   ]
  },
  {
   "cell_type": "markdown",
   "metadata": {},
   "source": [
    "On remarque que l'on a le taux marginal de substitution entre la variance et l'espérance de la valeur future, $-\\frac{f_1^i}{f_2^i}$."
   ]
  },
  {
   "cell_type": "markdown",
   "metadata": {},
   "source": [
    "On a désormais besoin d'ajouter les conditions d'équilibre et voir si le système admet une solution. On peut sommer les contraintes budgétaires des $m$ agents du marché :"
   ]
  },
  {
   "cell_type": "markdown",
   "metadata": {},
   "source": [
    "$$\\sum_{i=1}^{m}\\sum_{j=1}^{n-1}p_j(x_j^i - \\bar{x}_j^i) + q(x_n^i - \\bar{x}_n^i) = 0$$"
   ]
  },
  {
   "cell_type": "markdown",
   "metadata": {},
   "source": [
    "Et réorganiser :"
   ]
  },
  {
   "cell_type": "markdown",
   "metadata": {},
   "source": [
    "$$\\sum_{j=1}^{n-1}p_j\\sum_{i=1}^{m}(x_j^i - \\bar{x}_j^i) + q\\sum_{i=1}^{m}(x_n^i - \\bar{x}_n^i) = 0$$"
   ]
  },
  {
   "cell_type": "markdown",
   "metadata": {},
   "source": [
    "A l'équilibre, l'offre égale la demande. Les conditions de l'équilibre sont les suivantes :"
   ]
  },
  {
   "cell_type": "markdown",
   "metadata": {},
   "source": [
    "$$\\sum_{i=1}^{m}x_j^i = \\sum_{i=1}^{m}\\bar x_j^i \\qquad (j=1, ..., n)$$\n",
    "$$\\sum_{i=1}^{m}x_j^i - \\bar x_j^i = 0 \\qquad (j=1, ..., n)$$"
   ]
  },
  {
   "cell_type": "markdown",
   "metadata": {},
   "source": [
    "Or on remarque que si ces conditions sont vraies pour j = 1, ..., n-1, alors l'égalité suivante :\n",
    "$$\\sum_{j=1}^{n-1}p_j\\sum_{i=1}^{m}(x_j^i - \\bar{x}_j^i) + q\\sum_{i=1}^{m}(x_n^i - \\bar{x}_n^i) = 0$$\n",
    "devient :\n",
    "$$q\\sum_{i=1}^{m}(x_n^i - \\bar{x}_n^i) = 0$$\n",
    "et donc:\n",
    "$$\\sum_{i=1}^{m}(x_n^i - \\bar{x}_n^i) = 0$$\n",
    "Ce qui constitue la condition pour le bien n."
   ]
  },
  {
   "cell_type": "markdown",
   "metadata": {},
   "source": [
    "Les conditions d'équilibre peuvent donc être réduites à :\n",
    "$$\\sum_{i=1}^{m}x_j^i = \\sum_{i=1}^{m}\\bar x_j^i \\qquad (j=1, ..., n-1)$$\n",
    "Ce que l'on peut résumer par:\n",
    "$$\\sum_{i=1}^{m}x_j^i = \\bar x_j \\qquad (j=1, ..., n-1)$$\n",
    "avec $ \\bar x_j$ l'offre totale du bien j."
   ]
  },
  {
   "cell_type": "markdown",
   "metadata": {},
   "source": [
    "L'optimisation des agents sous contrainte budgetaire et les conditions d'équilibre forment donc un système de mn + n - 1 equations:\n",
    "$$-\\frac{f_1^i}{f_2^i} = \\frac{ 2\\sum_{\\alpha=1}^{n-1}\\sigma_{j\\alpha}x_{\\alpha}^i}{\\mu_j -\\frac{p_j}q} \\qquad (j=1, ..., n-1), (i=1,...,m)$$\n",
    "$$\\sum_{j=1}^{n-1}p_j(x_j^i - \\bar{x}_j^i) + q(x_n^i - \\bar{x}_n^i) = 0 \\qquad  (i=1,...,m)$$\n",
    "$$\\sum_{i=1}^{m}x_j^i = \\bar x_j \\qquad (j=1, ..., n-1)$$"
   ]
  },
  {
   "cell_type": "markdown",
   "metadata": {},
   "source": [
    "Il y a m agents avec n quantités $x_j^i$, donc $mn$ quantités en tout. Il y a egalement $n-1$ prix. Il y a donc $mn + n-1$ inconnues, autant que d'equations. Il y a donc au moins une solution."
   ]
  },
  {
   "cell_type": "markdown",
   "metadata": {},
   "source": [
    "Intéressons nous à l'espérance de la prime de risque pour un actif j:\n",
    "$$E(R_j) = E(r_j) - r_f = \\frac{\\mu_j}{p_j} - 1 - \\frac1q + 1$$"
   ]
  },
  {
   "cell_type": "markdown",
   "metadata": {},
   "source": [
    "$$E(R_j) =  \\frac{\\mu_jq}{p_jq} - \\frac{p_j}{p_jq}$$"
   ]
  },
  {
   "cell_type": "markdown",
   "metadata": {},
   "source": [
    "$$E(R_j) =  \\frac{\\mu_jq - p_j}{p_jq}$$"
   ]
  },
  {
   "cell_type": "markdown",
   "metadata": {},
   "source": [
    "$$E(R_j) =  \\frac{\\mu_j - \\frac{p_j}q}{p_j}$$"
   ]
  },
  {
   "cell_type": "markdown",
   "metadata": {},
   "source": [
    "Comparons la prime de risque pour deux actifs j et k:\n",
    "$$\\frac{E(R_j)}{E(R_k)} =  \\frac{\\mu_j - \\frac{p_j}q}{\\mu_k - \\frac{p_k}q} * \\frac{p_k}{p_j}$$"
   ]
  },
  {
   "cell_type": "markdown",
   "metadata": {},
   "source": [
    "On remarque que dans la première égalité de mon système d'équation, la partie droite (le taux marginal de substitution) ne change pas pour j et k différents, ce qui nous donne: \n",
    "$$\\frac{ 2\\sum_{\\alpha=1}^{n-1}\\sigma_{j\\alpha}x_{\\alpha}^i}{\\mu_j -\\frac{p_j}q} = \\frac{ 2\\sum_{\\alpha=1}^{n-1}\\sigma_{k\\alpha}x_{\\alpha}^i}{\\mu_k -\\frac{p_k}q}$$"
   ]
  },
  {
   "cell_type": "markdown",
   "metadata": {},
   "source": [
    "C'est-à-dire, plus simplement :\n",
    "$$\\frac{\\sum_{\\alpha=1}^{n-1}\\sigma_{j\\alpha}x_{\\alpha}^i}{\\mu_j -\\frac{p_j}q} = \\frac{\\sum_{\\alpha=1}^{n-1}\\sigma_{k\\alpha}x_{\\alpha}^i}{\\mu_k -\\frac{p_k}q}$$"
   ]
  },
  {
   "cell_type": "markdown",
   "metadata": {},
   "source": [
    "On peut sommer pour tous les agents du marché et utiliser $\\sum_{i=1}^{m}x_j^i = \\bar x_j$ pour $(j=1, ..., n-1)$, on obtient alors:"
   ]
  },
  {
   "cell_type": "markdown",
   "metadata": {},
   "source": [
    "$$\\frac{\\sum_{\\alpha=1}^{n-1}\\sigma_{j\\alpha}\\bar x_{\\alpha}}{\\mu_j -\\frac{p_j}q} = \\frac{\\sum_{\\alpha=1}^{n-1}\\sigma_{k\\alpha}\\bar x_{\\alpha}}{\\mu_k -\\frac{p_k}q}$$"
   ]
  },
  {
   "cell_type": "markdown",
   "metadata": {},
   "source": [
    "$$\\frac{\\mu_j - \\frac{p_j}q}{\\mu_k - \\frac{p_k}q} = \\frac{\\sum_{\\alpha=1}^{n-1}\\sigma_{j\\alpha}\\bar x_{\\alpha}}{\\sum_{\\alpha=1}^{n-1}\\sigma_{k\\alpha}\\bar x_{\\alpha}}$$"
   ]
  },
  {
   "cell_type": "markdown",
   "metadata": {},
   "source": [
    "On a donc :\n",
    "$$\\frac{E(R_j)}{E(R_k)} =  \\frac{\\mu_j - \\frac{p_j}q}{\\mu_k - \\frac{p_k}q} * \\frac{p_k}{p_j} = \\frac{\\sum_{\\alpha=1}^{n-1}\\sigma_{j\\alpha}\\bar x_{\\alpha}}{\\sum_{\\alpha=1}^{n-1}\\sigma_{k\\alpha}\\bar x_{\\alpha}}  * \\frac{p_k}{p_j}$$"
   ]
  },
  {
   "cell_type": "markdown",
   "metadata": {},
   "source": [
    "Faire apparaître les quantités totales des biens j et k (notées $\\bar x_j$ et $\\bar x_k$) nous donne alors ceci:\n",
    "$$\\frac{E(R_j)}{E(R_k)}  = \\frac{\\bar x_j\\sum_{\\alpha=1}^{n-1}\\sigma_{j\\alpha}\\bar x_{\\alpha}}{\\bar x_k\\sum_{\\alpha=1}^{n-1}\\sigma_{k\\alpha}\\bar x_{\\alpha}}  * \\frac{p_k\\bar x_k}{p_j\\bar x_j}$$"
   ]
  },
  {
   "cell_type": "markdown",
   "metadata": {},
   "source": [
    "$$\\frac{E(R_j)*p_j\\bar x_j}{E(R_k)*p_k\\bar x_k}  = \\frac{\\bar x_j\\sum_{\\alpha=1}^{n-1}\\sigma_{j\\alpha}\\bar x_{\\alpha}}{\\bar x_k\\sum_{\\alpha=1}^{n-1}\\sigma_{k\\alpha}\\bar x_{\\alpha}}$$"
   ]
  },
  {
   "cell_type": "markdown",
   "metadata": {},
   "source": [
    "On observe que $\\bar x_j\\sum_{\\alpha=1}^{n-1}\\sigma_{j\\alpha}\\bar x_{\\alpha}$ est la contribution à la variance du marché de l'actif j."
   ]
  },
  {
   "cell_type": "markdown",
   "metadata": {},
   "source": [
    "De plus, on observe que $E(R_j)*p_j\\bar x_j$ est l'espérance de la prime de risque totale (en valeur) du bien j. On obtient alors :"
   ]
  },
  {
   "cell_type": "markdown",
   "metadata": {},
   "source": [
    "$$\\frac{E(R_j)*p_j\\bar x_j}{\\bar x_j\\sum_{\\alpha=1}^{n-1}\\sigma_{j\\alpha}\\bar x_{\\alpha}} = \\frac{E(R_k)*p_k\\bar x_k}{\\bar x_k\\sum_{\\alpha=1}^{n-1}\\sigma_{k\\alpha}\\bar x_{\\alpha}}$$"
   ]
  },
  {
   "cell_type": "markdown",
   "metadata": {},
   "source": [
    "Le ratio contribution à la prime de risque sur contribution à la variance est donc égal pour tous les actifs dans le portefeuille de marché. Cette égalité est établie en valeur attendue: mais elle demeure vraie si l'on considère les rendements."
   ]
  },
  {
   "cell_type": "markdown",
   "metadata": {},
   "source": [
    "$$Cov(R_j, R_k) = Cov(r_j-r_f, r_k-r_f)$$\n",
    "$$Cov(R_j, R_k) = Cov(r_j, r_k)$$\n",
    "$$Cov(R_j, R_k) = Cov(1 + r_j, 1 + r_k)$$\n",
    "$$Cov(R_j, R_k) = Cov((1 + r_j)p_j, (1 + r_k)p_k)*\\frac1{p_jp_k}$$\n",
    "$$Cov(R_j, R_k) = Cov(\\mu_j, \\mu_k)*\\frac1{p_jp_k}$$\n",
    "$$Cov(R_j, R_k) = \\sigma_{jk}*\\frac1{p_jp_k}$$\n",
    "Ou :\n",
    "$$ \\sigma_{jk} = Cov(R_j, R_k) * p_jp_k $$"
   ]
  },
  {
   "cell_type": "markdown",
   "metadata": {},
   "source": [
    "Reprenons donc l'égalité des contributions, et divisons par la richesse totale W pour se placer sur un contexte relatif:"
   ]
  },
  {
   "cell_type": "markdown",
   "metadata": {},
   "source": [
    "$$\\frac{E(R_j)*\\frac{p_j\\bar x_j}{W}}{\\frac{\\bar x_j}{W}\\sum_{\\alpha=1}^{n-1}\\sigma_{j\\alpha}\\frac{\\bar x_{\\alpha}}{W}} = \\frac{E(R_k)*\\frac{p_k\\bar x_k}{W}}{\\frac{\\bar x_k}{W}\\sum_{\\alpha=1}^{n-1}\\sigma_{k\\alpha}\\frac{\\bar x_{\\alpha}}{W}}$$"
   ]
  },
  {
   "cell_type": "markdown",
   "metadata": {},
   "source": [
    "Remplaçons les sigma par les covariances entre prime de risques en rendements:"
   ]
  },
  {
   "cell_type": "markdown",
   "metadata": {},
   "source": [
    "$$\\frac{E(R_j)*\\frac{p_j\\bar x_j}{W}}{\\frac{p_j\\bar x_j}{W}\\sum_{\\alpha=1}^{n-1}Cov(R_j, R_{\\alpha})\\frac{p_{\\alpha}\\bar x_{\\alpha}}{W}} = \\frac{E(R_k)*\\frac{p_k\\bar x_k}{W}}{\\frac{p_k\\bar x_k}{W}\\sum_{\\alpha=1}^{n-1}Cov(R_k, R_{\\alpha})\\frac{p_{\\alpha}\\bar x_{\\alpha}}{W}}$$"
   ]
  },
  {
   "cell_type": "markdown",
   "metadata": {},
   "source": [
    "$$\\frac{E(R_j)*w_j}{w_j\\sum_{\\alpha=1}^{n-1}Cov(R_j, R_{\\alpha})w_{\\alpha}} = \\frac{E(R_k)*w_k}{w_k\\sum_{\\alpha=1}^{n-1}Cov(R_k, R_{\\alpha})w_{\\alpha}}$$"
   ]
  },
  {
   "cell_type": "markdown",
   "metadata": {},
   "source": [
    "$$\\frac{E(R_j)*w_j}{w_jCov(R_j, R_M)} = \\frac{E(R_k)*w_k}{w_kCov(R_k, R_M)}$$"
   ]
  },
  {
   "cell_type": "markdown",
   "metadata": {},
   "source": [
    "$$\\frac{E(R_j)}{Cov(R_j, R_M)} = \\frac{E(R_k)}{Cov(R_k, R_M)}$$"
   ]
  },
  {
   "cell_type": "markdown",
   "metadata": {},
   "source": [
    "Ouf ! On est arrivé à un résultat fondamental, qui est que le ratio contribution à la prime de risque sur contribution à la variance du marché est constant pour tous les actifs du portefeuille de marché."
   ]
  },
  {
   "cell_type": "markdown",
   "metadata": {},
   "source": [
    "Appliqué au portefeuille de marché, on obtient la quantité suivante:"
   ]
  },
  {
   "cell_type": "markdown",
   "metadata": {},
   "source": [
    "$$\\frac{E(R_M)}{\\sigma_M^2}$$"
   ]
  },
  {
   "cell_type": "markdown",
   "metadata": {},
   "source": [
    "C'est le prix du risque sur le marché (*market price of risk*)."
   ]
  },
  {
   "cell_type": "markdown",
   "metadata": {},
   "source": [
    "Comme toutes ces quantités sont égales, on a :\n",
    "$$\\frac{E(R_j)}{Cov(R_j, R_M)} = \\frac{E(R_M)}{\\sigma_M^2}$$\n",
    "Et ce pour tout les biens j.\n",
    "En réorganisant un peu, on obtient :"
   ]
  },
  {
   "cell_type": "markdown",
   "metadata": {},
   "source": [
    "$$E(R_j) = \\frac{Cov(R_j, R_M)}{\\sigma_M^2}*E(R_M)$$"
   ]
  },
  {
   "cell_type": "markdown",
   "metadata": {},
   "source": [
    "$$E(r_j) = r_f + \\beta_j*(E(r_M)-r_f)$$ \n",
    "$$\\beta_j = \\frac{Cov(R_j, R_M)}{\\sigma_M^2}$$"
   ]
  },
  {
   "cell_type": "markdown",
   "metadata": {},
   "source": [
    "... ce qui constitue l'expression fondamentale du CAPM.\n",
    "Cela conclue la perspective du marché sur le risque systémique et le risque propre à la firme : seul le risque systémique inquiète les investisseurs, qui demandent une rémunération (proportionnelle à la contribution à la variance du marché). A l'equilibre, les investisseurs ne demandent pas de rémunération liée au risque individuel, car celui-ci est \"diversifiable\" dans un portefeuille."
   ]
  },
  {
   "cell_type": "markdown",
   "metadata": {},
   "source": [
    "La valeur de l'actif est déjà refletée dans le prix : le rendement n'est lié qu'au risque."
   ]
  },
  {
   "cell_type": "markdown",
   "metadata": {},
   "source": [
    "On observe que le beta du marché vaut 1."
   ]
  },
  {
   "cell_type": "markdown",
   "metadata": {},
   "source": [
    "De plus, le portefeuille peut s'écrire :\n",
    "$$\\sum w_jE(R_j) = \\sum w_j*r_f + \\sum w_j*\\beta_j*(E(r_M)-r_f)$$\n",
    "$$\\sum w_jE(R_j) = r_f + \\sum w_j*\\beta_j*(E(r_M)-r_f)$$"
   ]
  },
  {
   "cell_type": "markdown",
   "metadata": {},
   "source": [
    "Le beta du marché est donc la moyenne pondérée par les $w_j$ des betas des actifs."
   ]
  },
  {
   "cell_type": "markdown",
   "metadata": {},
   "source": [
    "On peut donc analyser les betas des actifs en fonction du fait qu'ils sont supérieurs ou inférieurs à 1: des investissements portant sur des actifs dont le bêta est supérieur à 1 sont donc perçus comme aggressifs car ils sont particulièrement sensibles aux variations du marché."
   ]
  },
  {
   "cell_type": "markdown",
   "metadata": {},
   "source": [
    "Ce qui pose la question de l'estimation de ces bêtas : comment les obtenir ?"
   ]
  },
  {
   "cell_type": "markdown",
   "metadata": {},
   "source": [
    "## Le Single Index Model"
   ]
  },
  {
   "cell_type": "code",
   "execution_count": 13,
   "metadata": {},
   "outputs": [],
   "source": [
    "import numpy as np\n",
    "import pandas as pd\n",
    "import matplotlib.pyplot as plt\n",
    "import statsmodels.api as sm\n",
    "%matplotlib inline\n",
    "plt.rcParams['figure.figsize'] = (15, 10)"
   ]
  },
  {
   "cell_type": "markdown",
   "metadata": {},
   "source": [
    "Inconvénient de la diversification de Markowitz : le nombre d'estimations nécessaires."
   ]
  },
  {
   "cell_type": "markdown",
   "metadata": {},
   "source": [
    "- n estimations de rendements\n",
    "- n estimations de variances\n",
    "- $\\frac{n^2-n}{2}$ estimations de covariances\n",
    "\n",
    "Total : $\\frac{n^2-n}{2} + 2n$ estimations."
   ]
  },
  {
   "cell_type": "code",
   "execution_count": 14,
   "metadata": {},
   "outputs": [
    {
     "name": "stdout",
     "output_type": "stream",
     "text": [
      "1325.0\n"
     ]
    }
   ],
   "source": [
    "n = 50\n",
    "\n",
    "print((n ** 2 - n) / 2 + 2 * n)"
   ]
  },
  {
   "cell_type": "markdown",
   "metadata": {},
   "source": [
    "Le single-index model est une extension empirique naturelle du CAPM. Il suppose (comme le CAPM) que l'aléa que constitue le rendement considéré est en fait composé de deux éléments :\n",
    "- une compostante liée au marché\n",
    "- une composante liée à la spécificité de l'actif par rapport au marché."
   ]
  },
  {
   "cell_type": "markdown",
   "metadata": {},
   "source": [
    "On considère le surplus du rendement de l'actif i (par rapport à l'actif sans risque) :\n",
    "$$R_i = r_i - r_f$$\n",
    "Avec le surplus de rendement du marché M qui est donné par\n",
    "$$R_M = r_M - r_f$$"
   ]
  },
  {
   "cell_type": "markdown",
   "metadata": {},
   "source": [
    "Le modèle prend la forme suivante:\n",
    "$R_i=$ Composante liée au marché + Composante spécifique"
   ]
  },
  {
   "cell_type": "markdown",
   "metadata": {},
   "source": [
    "$$R_i = \\beta_i * R_M + X_i$$\n",
    "Avec $\\beta_i$ représentant la sensibilité de l'actif au marché. \n",
    "On peut décomposer $X_i$ en une composante fixe et une composante aléatoire d'espérance nulle.\n",
    "$$R_i = \\alpha_i + \\beta_iR_M + e_i$$"
   ]
  },
  {
   "cell_type": "markdown",
   "metadata": {},
   "source": [
    "- $\\alpha$ est le surplus de rendement hors-marché de l'actif (*nonmarket premium*).\n",
    "- $\\beta$ est la sensibilité de l'actif aux variations du marché (*sensitivity to the market*)\n",
    "- $e$ est la part de l'aléa spécifique à l'actif."
   ]
  },
  {
   "cell_type": "markdown",
   "metadata": {},
   "source": [
    "On observe que si l'on considère l'espérance du rendement, on retombe sur la même forme théorique que le CAPM:\n",
    "$$E(R_i) = E(\\alpha_i) + \\beta_i*E(R_M)$$\n",
    "Or dans un marché compétitif dans lequel les agents ont les mêmes inputs (voir suppositions du CAPM), l'espérance de $\\alpha_i$ est égale à 0.\n",
    "$$E(R_i) = \\beta_i*E(R_M)$$"
   ]
  },
  {
   "cell_type": "markdown",
   "metadata": {},
   "source": [
    "Il est possible d'estimer les éléments de cette identité à l'aide de données temporelles :\n",
    "$$R_i(t) = \\alpha_i + \\beta_iR_M(t) + e_i(t)$$"
   ]
  },
  {
   "cell_type": "markdown",
   "metadata": {},
   "source": [
    "Si l'on se plie aux hypothèses économétriques du modèle linéaire, notamment la normalité de la composante $e_i(t)$ et l'indépendance des $e_i(t)$, on peut réaliser une régression par les moindres carrés ordinaires. Ces hypothèses sont relativement fortes: il est possible d'en relâcher certaines et de produire des estimations qui sont moins sujettes aux biais liés à la violation des hypothèses. Citons par exemple le generalized autoregressive conditional heteroskedasticity (GARCH) model, qui permet de supposer que les termes d'erreurs (cad la composante spécifique à l'actif) sont corrélés entre eux."
   ]
  },
  {
   "cell_type": "markdown",
   "metadata": {},
   "source": [
    "Pour illustrer une régression linéaire, générons des données artificiellement à l'aide de [np.random.normal()](https://docs.scipy.org/doc/numpy/reference/generated/numpy.random.normal.html) qui permet de générer des nombres selon une loi normale d'espérance 0 et d'écart-type 1."
   ]
  },
  {
   "cell_type": "code",
   "execution_count": 16,
   "metadata": {},
   "outputs": [
    {
     "data": {
      "image/png": "[encoded data removed]",
      "text/plain": [
       "<Figure size 432x288 with 1 Axes>"
      ]
     },
     "metadata": {
      "needs_background": "light"
     },
     "output_type": "display_data"
    }
   ],
   "source": [
    "beta_i = 0.3\n",
    "alpha_i = 0.05\n",
    "E_R_M = 0.1\n",
    "sigma_R_M = 0.20\n",
    "sigma_e_i = 0.05\n",
    "nb_tirages = 100\n",
    "liste_R_M = []\n",
    "liste_R_i = []\n",
    "\n",
    "for tirage in range(nb_tirages):\n",
    "    R_M = sigma_R_M * np.random.normal() + E_R_M\n",
    "    R_i = alpha_i + beta_i * R_M + sigma_e_i * np.random.normal()\n",
    "    liste_R_M.append(R_M)\n",
    "    liste_R_i.append(R_i)\n",
    "\n",
    "plt.scatter(liste_R_M, liste_R_i);\n",
    "plt.grid(True)"
   ]
  },
  {
   "cell_type": "markdown",
   "metadata": {},
   "source": [
    "Pour réaliser une régression linéaire, on va se servir du package [StatsModel](http://www.statsmodels.org/stable/index.html)."
   ]
  },
  {
   "cell_type": "code",
   "execution_count": 17,
   "metadata": {},
   "outputs": [],
   "source": [
    "y = pd.DataFrame({'R_i' : liste_R_i})\n",
    "X = pd.DataFrame({'R_M' : liste_R_M, \n",
    "                  'Constante' : [1] * nb_tirages})"
   ]
  },
  {
   "cell_type": "code",
   "execution_count": 18,
   "metadata": {},
   "outputs": [
    {
     "name": "stdout",
     "output_type": "stream",
     "text": [
      "                            OLS Regression Results                            \n",
      "==============================================================================\n",
      "Dep. Variable:                    R_i   R-squared:                       0.545\n",
      "Model:                            OLS   Adj. R-squared:                  0.540\n",
      "Method:                 Least Squares   F-statistic:                     117.3\n",
      "Date:                Wed, 13 Mar 2019   Prob (F-statistic):           1.91e-18\n",
      "Time:                        20:03:56   Log-Likelihood:                 158.23\n",
      "No. Observations:                 100   AIC:                            -312.5\n",
      "Df Residuals:                      98   BIC:                            -307.2\n",
      "Df Model:                           1                                         \n",
      "Covariance Type:            nonrobust                                         \n",
      "==============================================================================\n",
      "                 coef    std err          t      P>|t|      [0.025      0.975]\n",
      "------------------------------------------------------------------------------\n",
      "R_M            0.2928      0.027     10.832      0.000       0.239       0.346\n",
      "Constante      0.0447      0.006      7.419      0.000       0.033       0.057\n",
      "==============================================================================\n",
      "Omnibus:                        0.491   Durbin-Watson:                   2.151\n",
      "Prob(Omnibus):                  0.782   Jarque-Bera (JB):                0.438\n",
      "Skew:                          -0.158   Prob(JB):                        0.803\n",
      "Kurtosis:                       2.928   Cond. No.                         5.47\n",
      "==============================================================================\n",
      "\n",
      "Warnings:\n",
      "[1] Standard Errors assume that the covariance matrix of the errors is correctly specified.\n"
     ]
    }
   ],
   "source": [
    "model = sm.OLS(y, X).fit()\n",
    "print(model.summary())"
   ]
  },
  {
   "cell_type": "markdown",
   "metadata": {},
   "source": [
    "On peut obtenir les paramètres du modèles à l'aide de:"
   ]
  },
  {
   "cell_type": "code",
   "execution_count": 19,
   "metadata": {},
   "outputs": [
    {
     "data": {
      "text/plain": [
       "R_M          0.292845\n",
       "Constante    0.044726\n",
       "dtype: float64"
      ]
     },
     "execution_count": 19,
     "metadata": {},
     "output_type": "execute_result"
    }
   ],
   "source": [
    "model.params"
   ]
  },
  {
   "cell_type": "markdown",
   "metadata": {},
   "source": [
    "Et un paramètre en particulier comme suit:"
   ]
  },
  {
   "cell_type": "code",
   "execution_count": 20,
   "metadata": {},
   "outputs": [
    {
     "data": {
      "text/plain": [
       "0.2928446613051509"
      ]
     },
     "execution_count": 20,
     "metadata": {},
     "output_type": "execute_result"
    }
   ],
   "source": [
    "model.params['R_M']"
   ]
  },
  {
   "cell_type": "markdown",
   "metadata": {},
   "source": [
    "On peut représenter la droite estimée sur le diagramme de dispersion:"
   ]
  },
  {
   "cell_type": "code",
   "execution_count": 21,
   "metadata": {},
   "outputs": [
    {
     "data": {
      "image/png": "[encoded data removed]",
      "text/plain": [
       "<Figure size 432x288 with 1 Axes>"
      ]
     },
     "metadata": {
      "needs_background": "light"
     },
     "output_type": "display_data"
    }
   ],
   "source": [
    "plt.scatter(liste_R_M, liste_R_i);\n",
    "plt.plot(X['R_M'], model.params['R_M'] * X['R_M'] +  model.params['Constante'], color=\"Green\");\n",
    "plt.grid(True)"
   ]
  },
  {
   "cell_type": "markdown",
   "metadata": {},
   "source": [
    "Intéressons-nous à la variance de la prime de risque notre actif i :\n",
    "$$Var(R_i) = Var(\\alpha_i + \\beta_iR_M + e_i)$$\n",
    "$$Var(r_i - r_f) = Var(\\alpha_i + \\beta_i(r_M - r_f) + e_i)$$\n",
    "$$\\sigma_i^2 = \\beta_i^2\\sigma_M^2 + \\sigma(e_i)^2$$"
   ]
  },
  {
   "cell_type": "markdown",
   "metadata": {},
   "source": [
    "On peut donc séparer la variance du surplus de rendement en variance due au marché et en variance spécifique à l'actif."
   ]
  },
  {
   "cell_type": "markdown",
   "metadata": {},
   "source": [
    "La covariance entre les rendements des deux actifs i et j est simplement :\n",
    "$$Cov(r_i, r_j) = \\beta_i\\beta_j\\sigma_M^2$$\n",
    "Ce qui nous donne:\n",
    "$$Corr(r_i, r_j) = \\frac{\\beta_i\\beta_j\\sigma_M^2}{\\sigma_i\\sigma_j} = \\frac{\\beta_i\\sigma_M^2\\beta_j\\sigma_M^2}{\\sigma_i\\sigma_M\\sigma_j\\sigma_M} = Corr(r_i, r_M) * Corr(r_j, r_M)$$"
   ]
  },
  {
   "cell_type": "markdown",
   "metadata": {},
   "source": [
    "Pour le moment, nous avons beaucoup moins d'estimations requises. "
   ]
  },
  {
   "cell_type": "markdown",
   "metadata": {},
   "source": [
    "Il nous faut :\n",
    "- n estimations des surplus de rendement hors-marché, $\\sigma_i$.\n",
    "- n estimations des sensibilités de l'actif aux variations du marché, $\\beta_i$\n",
    "- n estimations des variances spécifiques à l'actif, $\\sigma^2(e_i)$\n",
    "- 1 estimation du surplus de rendement du marché, $E(R_M)$\n",
    "- 1 estimation de la variance du marché $\\sigma^2_M$\n",
    "\n",
    "\n",
    "Soit $3n + 2$ estimations."
   ]
  },
  {
   "cell_type": "markdown",
   "metadata": {},
   "source": [
    "### Estimation de données réelles"
   ]
  },
  {
   "cell_type": "code",
   "execution_count": 22,
   "metadata": {},
   "outputs": [],
   "source": [
    "import quandl\n",
    "cle_API = \"vV5n2kkCHA3mm-zKCwBQ\"\n",
    "quandl.ApiConfig.api_key = cle_API"
   ]
  },
  {
   "cell_type": "code",
   "execution_count": 23,
   "metadata": {},
   "outputs": [],
   "source": [
    "debut = '2015-01-01'\n",
    "frequence = 'monthly'"
   ]
  },
  {
   "cell_type": "markdown",
   "metadata": {},
   "source": [
    "Pour l'index, nous choisirons le General Index fourni par le NASDAQ."
   ]
  },
  {
   "cell_type": "code",
   "execution_count": 24,
   "metadata": {},
   "outputs": [],
   "source": [
    "index = quandl.get('NASDAQOMX/NQGI', start_date = debut, column_index = 1, collapse=frequence)\n",
    "index.columns = ['Index']"
   ]
  },
  {
   "cell_type": "code",
   "execution_count": 25,
   "metadata": {},
   "outputs": [
    {
     "data": {
      "text/html": [
       "<div>\n",
       "<style scoped>\n",
       "    .dataframe tbody tr th:only-of-type {\n",
       "        vertical-align: middle;\n",
       "    }\n",
       "\n",
       "    .dataframe tbody tr th {\n",
       "        vertical-align: top;\n",
       "    }\n",
       "\n",
       "    .dataframe thead th {\n",
       "        text-align: right;\n",
       "    }\n",
       "</style>\n",
       "<table border=\"1\" class=\"dataframe\">\n",
       "  <thead>\n",
       "    <tr style=\"text-align: right;\">\n",
       "      <th></th>\n",
       "      <th>Index</th>\n",
       "    </tr>\n",
       "    <tr>\n",
       "      <th>Trade Date</th>\n",
       "      <th></th>\n",
       "    </tr>\n",
       "  </thead>\n",
       "  <tbody>\n",
       "    <tr>\n",
       "      <th>2015-01-31</th>\n",
       "      <td>1242.72</td>\n",
       "    </tr>\n",
       "    <tr>\n",
       "      <th>2015-02-28</th>\n",
       "      <td>1308.86</td>\n",
       "    </tr>\n",
       "    <tr>\n",
       "      <th>2015-03-31</th>\n",
       "      <td>1288.48</td>\n",
       "    </tr>\n",
       "    <tr>\n",
       "      <th>2015-04-30</th>\n",
       "      <td>1321.21</td>\n",
       "    </tr>\n",
       "    <tr>\n",
       "      <th>2015-05-31</th>\n",
       "      <td>1317.63</td>\n",
       "    </tr>\n",
       "  </tbody>\n",
       "</table>\n",
       "</div>"
      ],
      "text/plain": [
       "              Index\n",
       "Trade Date         \n",
       "2015-01-31  1242.72\n",
       "2015-02-28  1308.86\n",
       "2015-03-31  1288.48\n",
       "2015-04-30  1321.21\n",
       "2015-05-31  1317.63"
      ]
     },
     "execution_count": 25,
     "metadata": {},
     "output_type": "execute_result"
    }
   ],
   "source": [
    "index.head()"
   ]
  },
  {
   "cell_type": "markdown",
   "metadata": {},
   "source": [
    "Importons les données des actions qui nous intéressent."
   ]
  },
  {
   "cell_type": "code",
   "execution_count": 26,
   "metadata": {},
   "outputs": [],
   "source": [
    "liste_actions = ['WIKI/BRK_B']"
   ]
  },
  {
   "cell_type": "code",
   "execution_count": 27,
   "metadata": {},
   "outputs": [],
   "source": [
    "nb_actifs = len(liste_actions)\n",
    "\n",
    "actions = quandl.get(liste_actions, start_date = debut, column_index = 4, collapse=frequence)"
   ]
  },
  {
   "cell_type": "code",
   "execution_count": 28,
   "metadata": {
    "scrolled": true
   },
   "outputs": [
    {
     "data": {
      "text/html": [
       "<div>\n",
       "<style scoped>\n",
       "    .dataframe tbody tr th:only-of-type {\n",
       "        vertical-align: middle;\n",
       "    }\n",
       "\n",
       "    .dataframe tbody tr th {\n",
       "        vertical-align: top;\n",
       "    }\n",
       "\n",
       "    .dataframe thead th {\n",
       "        text-align: right;\n",
       "    }\n",
       "</style>\n",
       "<table border=\"1\" class=\"dataframe\">\n",
       "  <thead>\n",
       "    <tr style=\"text-align: right;\">\n",
       "      <th></th>\n",
       "      <th>WIKI/BRK_B - Close</th>\n",
       "    </tr>\n",
       "    <tr>\n",
       "      <th>Date</th>\n",
       "      <th></th>\n",
       "    </tr>\n",
       "  </thead>\n",
       "  <tbody>\n",
       "    <tr>\n",
       "      <th>2015-01-31</th>\n",
       "      <td>143.91</td>\n",
       "    </tr>\n",
       "    <tr>\n",
       "      <th>2015-02-28</th>\n",
       "      <td>147.41</td>\n",
       "    </tr>\n",
       "    <tr>\n",
       "      <th>2015-03-31</th>\n",
       "      <td>144.32</td>\n",
       "    </tr>\n",
       "    <tr>\n",
       "      <th>2015-04-30</th>\n",
       "      <td>141.21</td>\n",
       "    </tr>\n",
       "    <tr>\n",
       "      <th>2015-05-31</th>\n",
       "      <td>143.00</td>\n",
       "    </tr>\n",
       "  </tbody>\n",
       "</table>\n",
       "</div>"
      ],
      "text/plain": [
       "            WIKI/BRK_B - Close\n",
       "Date                          \n",
       "2015-01-31              143.91\n",
       "2015-02-28              147.41\n",
       "2015-03-31              144.32\n",
       "2015-04-30              141.21\n",
       "2015-05-31              143.00"
      ]
     },
     "execution_count": 28,
     "metadata": {},
     "output_type": "execute_result"
    }
   ],
   "source": [
    "actions.head()"
   ]
  },
  {
   "cell_type": "markdown",
   "metadata": {},
   "source": [
    "Il nous faut également un rendement pour l'actif sans risque : nous prendrons le rendement du Treasury Bill à 4 semaines."
   ]
  },
  {
   "cell_type": "code",
   "execution_count": 29,
   "metadata": {},
   "outputs": [],
   "source": [
    "actif_sans_risque = quandl.get('USTREASURY/BILLRATES', start_date = debut, column_index = 2, collapse=frequence)\n",
    "actif_sans_risque.columns = ['Actif sans risque']"
   ]
  },
  {
   "cell_type": "code",
   "execution_count": 30,
   "metadata": {},
   "outputs": [
    {
     "data": {
      "text/html": [
       "<div>\n",
       "<style scoped>\n",
       "    .dataframe tbody tr th:only-of-type {\n",
       "        vertical-align: middle;\n",
       "    }\n",
       "\n",
       "    .dataframe tbody tr th {\n",
       "        vertical-align: top;\n",
       "    }\n",
       "\n",
       "    .dataframe thead th {\n",
       "        text-align: right;\n",
       "    }\n",
       "</style>\n",
       "<table border=\"1\" class=\"dataframe\">\n",
       "  <thead>\n",
       "    <tr style=\"text-align: right;\">\n",
       "      <th></th>\n",
       "      <th>Actif sans risque</th>\n",
       "    </tr>\n",
       "    <tr>\n",
       "      <th>Date</th>\n",
       "      <th></th>\n",
       "    </tr>\n",
       "  </thead>\n",
       "  <tbody>\n",
       "    <tr>\n",
       "      <th>2018-06-30</th>\n",
       "      <td>1.76</td>\n",
       "    </tr>\n",
       "    <tr>\n",
       "      <th>2018-07-31</th>\n",
       "      <td>1.94</td>\n",
       "    </tr>\n",
       "    <tr>\n",
       "      <th>2018-08-31</th>\n",
       "      <td>1.94</td>\n",
       "    </tr>\n",
       "    <tr>\n",
       "      <th>2018-09-30</th>\n",
       "      <td>2.12</td>\n",
       "    </tr>\n",
       "    <tr>\n",
       "      <th>2018-10-31</th>\n",
       "      <td>2.19</td>\n",
       "    </tr>\n",
       "    <tr>\n",
       "      <th>2018-11-30</th>\n",
       "      <td>2.30</td>\n",
       "    </tr>\n",
       "    <tr>\n",
       "      <th>2018-12-31</th>\n",
       "      <td>2.44</td>\n",
       "    </tr>\n",
       "    <tr>\n",
       "      <th>2019-01-31</th>\n",
       "      <td>2.42</td>\n",
       "    </tr>\n",
       "    <tr>\n",
       "      <th>2019-02-28</th>\n",
       "      <td>2.44</td>\n",
       "    </tr>\n",
       "    <tr>\n",
       "      <th>2019-03-31</th>\n",
       "      <td>2.43</td>\n",
       "    </tr>\n",
       "  </tbody>\n",
       "</table>\n",
       "</div>"
      ],
      "text/plain": [
       "            Actif sans risque\n",
       "Date                         \n",
       "2018-06-30               1.76\n",
       "2018-07-31               1.94\n",
       "2018-08-31               1.94\n",
       "2018-09-30               2.12\n",
       "2018-10-31               2.19\n",
       "2018-11-30               2.30\n",
       "2018-12-31               2.44\n",
       "2019-01-31               2.42\n",
       "2019-02-28               2.44\n",
       "2019-03-31               2.43"
      ]
     },
     "execution_count": 30,
     "metadata": {},
     "output_type": "execute_result"
    }
   ],
   "source": [
    "actif_sans_risque.tail(10)"
   ]
  },
  {
   "cell_type": "code",
   "execution_count": 31,
   "metadata": {},
   "outputs": [
    {
     "data": {
      "text/html": [
       "<div>\n",
       "<style scoped>\n",
       "    .dataframe tbody tr th:only-of-type {\n",
       "        vertical-align: middle;\n",
       "    }\n",
       "\n",
       "    .dataframe tbody tr th {\n",
       "        vertical-align: top;\n",
       "    }\n",
       "\n",
       "    .dataframe thead th {\n",
       "        text-align: right;\n",
       "    }\n",
       "</style>\n",
       "<table border=\"1\" class=\"dataframe\">\n",
       "  <thead>\n",
       "    <tr style=\"text-align: right;\">\n",
       "      <th></th>\n",
       "      <th>Actif sans risque</th>\n",
       "    </tr>\n",
       "    <tr>\n",
       "      <th>Date</th>\n",
       "      <th></th>\n",
       "    </tr>\n",
       "  </thead>\n",
       "  <tbody>\n",
       "    <tr>\n",
       "      <th>2018-11-30</th>\n",
       "      <td>0.001897</td>\n",
       "    </tr>\n",
       "    <tr>\n",
       "      <th>2018-12-31</th>\n",
       "      <td>0.002011</td>\n",
       "    </tr>\n",
       "    <tr>\n",
       "      <th>2019-01-31</th>\n",
       "      <td>0.001995</td>\n",
       "    </tr>\n",
       "    <tr>\n",
       "      <th>2019-02-28</th>\n",
       "      <td>0.002011</td>\n",
       "    </tr>\n",
       "    <tr>\n",
       "      <th>2019-03-31</th>\n",
       "      <td>0.002003</td>\n",
       "    </tr>\n",
       "  </tbody>\n",
       "</table>\n",
       "</div>"
      ],
      "text/plain": [
       "            Actif sans risque\n",
       "Date                         \n",
       "2018-11-30           0.001897\n",
       "2018-12-31           0.002011\n",
       "2019-01-31           0.001995\n",
       "2019-02-28           0.002011\n",
       "2019-03-31           0.002003"
      ]
     },
     "execution_count": 31,
     "metadata": {},
     "output_type": "execute_result"
    }
   ],
   "source": [
    "actif_sans_risque = (1 + actif_sans_risque/100) ** (1/12) - 1\n",
    "actif_sans_risque.tail()"
   ]
  },
  {
   "cell_type": "code",
   "execution_count": 32,
   "metadata": {},
   "outputs": [],
   "source": [
    "donnees = pd.concat([actions.pct_change(), index.pct_change(), actif_sans_risque], axis=1)"
   ]
  },
  {
   "cell_type": "code",
   "execution_count": 33,
   "metadata": {},
   "outputs": [
    {
     "data": {
      "text/html": [
       "<div>\n",
       "<style scoped>\n",
       "    .dataframe tbody tr th:only-of-type {\n",
       "        vertical-align: middle;\n",
       "    }\n",
       "\n",
       "    .dataframe tbody tr th {\n",
       "        vertical-align: top;\n",
       "    }\n",
       "\n",
       "    .dataframe thead th {\n",
       "        text-align: right;\n",
       "    }\n",
       "</style>\n",
       "<table border=\"1\" class=\"dataframe\">\n",
       "  <thead>\n",
       "    <tr style=\"text-align: right;\">\n",
       "      <th></th>\n",
       "      <th>WIKI/BRK_B - Close</th>\n",
       "      <th>Index</th>\n",
       "      <th>Actif sans risque</th>\n",
       "    </tr>\n",
       "    <tr>\n",
       "      <th>Date</th>\n",
       "      <th></th>\n",
       "      <th></th>\n",
       "      <th></th>\n",
       "    </tr>\n",
       "  </thead>\n",
       "  <tbody>\n",
       "    <tr>\n",
       "      <th>2015-01-31</th>\n",
       "      <td>NaN</td>\n",
       "      <td>NaN</td>\n",
       "      <td>0.000008</td>\n",
       "    </tr>\n",
       "    <tr>\n",
       "      <th>2015-02-28</th>\n",
       "      <td>0.024321</td>\n",
       "      <td>0.053222</td>\n",
       "      <td>0.000017</td>\n",
       "    </tr>\n",
       "    <tr>\n",
       "      <th>2015-03-31</th>\n",
       "      <td>-0.020962</td>\n",
       "      <td>-0.015571</td>\n",
       "      <td>0.000042</td>\n",
       "    </tr>\n",
       "    <tr>\n",
       "      <th>2015-04-30</th>\n",
       "      <td>-0.021549</td>\n",
       "      <td>0.025402</td>\n",
       "      <td>-0.000008</td>\n",
       "    </tr>\n",
       "    <tr>\n",
       "      <th>2015-05-31</th>\n",
       "      <td>0.012676</td>\n",
       "      <td>-0.002710</td>\n",
       "      <td>0.000008</td>\n",
       "    </tr>\n",
       "  </tbody>\n",
       "</table>\n",
       "</div>"
      ],
      "text/plain": [
       "            WIKI/BRK_B - Close     Index  Actif sans risque\n",
       "Date                                                       \n",
       "2015-01-31                 NaN       NaN           0.000008\n",
       "2015-02-28            0.024321  0.053222           0.000017\n",
       "2015-03-31           -0.020962 -0.015571           0.000042\n",
       "2015-04-30           -0.021549  0.025402          -0.000008\n",
       "2015-05-31            0.012676 -0.002710           0.000008"
      ]
     },
     "execution_count": 33,
     "metadata": {},
     "output_type": "execute_result"
    }
   ],
   "source": [
    "donnees.head()"
   ]
  },
  {
   "cell_type": "code",
   "execution_count": 34,
   "metadata": {},
   "outputs": [],
   "source": [
    "for i in range(nb_actifs + 1):\n",
    "    donnees.iloc[:,i] = donnees.iloc[:,i] - donnees.iloc[:,-1]"
   ]
  },
  {
   "cell_type": "code",
   "execution_count": 35,
   "metadata": {},
   "outputs": [
    {
     "data": {
      "text/html": [
       "<div>\n",
       "<style scoped>\n",
       "    .dataframe tbody tr th:only-of-type {\n",
       "        vertical-align: middle;\n",
       "    }\n",
       "\n",
       "    .dataframe tbody tr th {\n",
       "        vertical-align: top;\n",
       "    }\n",
       "\n",
       "    .dataframe thead th {\n",
       "        text-align: right;\n",
       "    }\n",
       "</style>\n",
       "<table border=\"1\" class=\"dataframe\">\n",
       "  <thead>\n",
       "    <tr style=\"text-align: right;\">\n",
       "      <th></th>\n",
       "      <th>WIKI/BRK_B - Close</th>\n",
       "      <th>Index</th>\n",
       "      <th>Actif sans risque</th>\n",
       "    </tr>\n",
       "    <tr>\n",
       "      <th>Date</th>\n",
       "      <th></th>\n",
       "      <th></th>\n",
       "      <th></th>\n",
       "    </tr>\n",
       "  </thead>\n",
       "  <tbody>\n",
       "    <tr>\n",
       "      <th>2015-01-31</th>\n",
       "      <td>NaN</td>\n",
       "      <td>NaN</td>\n",
       "      <td>0.000008</td>\n",
       "    </tr>\n",
       "    <tr>\n",
       "      <th>2015-02-28</th>\n",
       "      <td>0.024304</td>\n",
       "      <td>0.053205</td>\n",
       "      <td>0.000017</td>\n",
       "    </tr>\n",
       "    <tr>\n",
       "      <th>2015-03-31</th>\n",
       "      <td>-0.021004</td>\n",
       "      <td>-0.015612</td>\n",
       "      <td>0.000042</td>\n",
       "    </tr>\n",
       "    <tr>\n",
       "      <th>2015-04-30</th>\n",
       "      <td>-0.021541</td>\n",
       "      <td>0.025410</td>\n",
       "      <td>-0.000008</td>\n",
       "    </tr>\n",
       "    <tr>\n",
       "      <th>2015-05-31</th>\n",
       "      <td>0.012668</td>\n",
       "      <td>-0.002718</td>\n",
       "      <td>0.000008</td>\n",
       "    </tr>\n",
       "  </tbody>\n",
       "</table>\n",
       "</div>"
      ],
      "text/plain": [
       "            WIKI/BRK_B - Close     Index  Actif sans risque\n",
       "Date                                                       \n",
       "2015-01-31                 NaN       NaN           0.000008\n",
       "2015-02-28            0.024304  0.053205           0.000017\n",
       "2015-03-31           -0.021004 -0.015612           0.000042\n",
       "2015-04-30           -0.021541  0.025410          -0.000008\n",
       "2015-05-31            0.012668 -0.002718           0.000008"
      ]
     },
     "execution_count": 35,
     "metadata": {},
     "output_type": "execute_result"
    }
   ],
   "source": [
    "donnees.head()"
   ]
  },
  {
   "cell_type": "code",
   "execution_count": 36,
   "metadata": {},
   "outputs": [
    {
     "data": {
      "image/png": "[encoded data removed]",
      "text/plain": [
       "<Figure size 432x288 with 1 Axes>"
      ]
     },
     "metadata": {
      "needs_background": "light"
     },
     "output_type": "display_data"
    }
   ],
   "source": [
    "donnees.plot();"
   ]
  },
  {
   "cell_type": "code",
   "execution_count": 37,
   "metadata": {},
   "outputs": [],
   "source": [
    "donnees = donnees.dropna(axis=0)"
   ]
  },
  {
   "cell_type": "code",
   "execution_count": 38,
   "metadata": {},
   "outputs": [
    {
     "data": {
      "text/html": [
       "<div>\n",
       "<style scoped>\n",
       "    .dataframe tbody tr th:only-of-type {\n",
       "        vertical-align: middle;\n",
       "    }\n",
       "\n",
       "    .dataframe tbody tr th {\n",
       "        vertical-align: top;\n",
       "    }\n",
       "\n",
       "    .dataframe thead th {\n",
       "        text-align: right;\n",
       "    }\n",
       "</style>\n",
       "<table border=\"1\" class=\"dataframe\">\n",
       "  <thead>\n",
       "    <tr style=\"text-align: right;\">\n",
       "      <th></th>\n",
       "      <th>WIKI/BRK_B - Close</th>\n",
       "      <th>Index</th>\n",
       "      <th>Actif sans risque</th>\n",
       "    </tr>\n",
       "    <tr>\n",
       "      <th>Date</th>\n",
       "      <th></th>\n",
       "      <th></th>\n",
       "      <th></th>\n",
       "    </tr>\n",
       "  </thead>\n",
       "  <tbody>\n",
       "    <tr>\n",
       "      <th>2017-11-30</th>\n",
       "      <td>0.031525</td>\n",
       "      <td>0.017018</td>\n",
       "      <td>0.000945</td>\n",
       "    </tr>\n",
       "    <tr>\n",
       "      <th>2017-12-31</th>\n",
       "      <td>0.025941</td>\n",
       "      <td>0.015250</td>\n",
       "      <td>0.001052</td>\n",
       "    </tr>\n",
       "    <tr>\n",
       "      <th>2018-01-31</th>\n",
       "      <td>0.080342</td>\n",
       "      <td>0.051020</td>\n",
       "      <td>0.001184</td>\n",
       "    </tr>\n",
       "    <tr>\n",
       "      <th>2018-02-28</th>\n",
       "      <td>-0.034733</td>\n",
       "      <td>-0.044339</td>\n",
       "      <td>0.001241</td>\n",
       "    </tr>\n",
       "    <tr>\n",
       "      <th>2018-03-31</th>\n",
       "      <td>-0.054670</td>\n",
       "      <td>-0.022095</td>\n",
       "      <td>0.001340</td>\n",
       "    </tr>\n",
       "  </tbody>\n",
       "</table>\n",
       "</div>"
      ],
      "text/plain": [
       "            WIKI/BRK_B - Close     Index  Actif sans risque\n",
       "Date                                                       \n",
       "2017-11-30            0.031525  0.017018           0.000945\n",
       "2017-12-31            0.025941  0.015250           0.001052\n",
       "2018-01-31            0.080342  0.051020           0.001184\n",
       "2018-02-28           -0.034733 -0.044339           0.001241\n",
       "2018-03-31           -0.054670 -0.022095           0.001340"
      ]
     },
     "execution_count": 38,
     "metadata": {},
     "output_type": "execute_result"
    }
   ],
   "source": [
    "donnees.tail()"
   ]
  },
  {
   "cell_type": "markdown",
   "metadata": {},
   "source": [
    "Pour conduire la régression, il faut simplement ajouter une constante:"
   ]
  },
  {
   "cell_type": "code",
   "execution_count": 39,
   "metadata": {},
   "outputs": [],
   "source": [
    "y = donnees.iloc[:,0]\n",
    "X = donnees['Index']\n",
    "X = sm.add_constant(X)"
   ]
  },
  {
   "cell_type": "code",
   "execution_count": 40,
   "metadata": {},
   "outputs": [
    {
     "data": {
      "text/html": [
       "<div>\n",
       "<style scoped>\n",
       "    .dataframe tbody tr th:only-of-type {\n",
       "        vertical-align: middle;\n",
       "    }\n",
       "\n",
       "    .dataframe tbody tr th {\n",
       "        vertical-align: top;\n",
       "    }\n",
       "\n",
       "    .dataframe thead th {\n",
       "        text-align: right;\n",
       "    }\n",
       "</style>\n",
       "<table border=\"1\" class=\"dataframe\">\n",
       "  <thead>\n",
       "    <tr style=\"text-align: right;\">\n",
       "      <th></th>\n",
       "      <th>const</th>\n",
       "      <th>Index</th>\n",
       "    </tr>\n",
       "    <tr>\n",
       "      <th>Date</th>\n",
       "      <th></th>\n",
       "      <th></th>\n",
       "    </tr>\n",
       "  </thead>\n",
       "  <tbody>\n",
       "    <tr>\n",
       "      <th>2015-02-28</th>\n",
       "      <td>1.0</td>\n",
       "      <td>0.053205</td>\n",
       "    </tr>\n",
       "    <tr>\n",
       "      <th>2015-03-31</th>\n",
       "      <td>1.0</td>\n",
       "      <td>-0.015612</td>\n",
       "    </tr>\n",
       "    <tr>\n",
       "      <th>2015-04-30</th>\n",
       "      <td>1.0</td>\n",
       "      <td>0.025410</td>\n",
       "    </tr>\n",
       "    <tr>\n",
       "      <th>2015-05-31</th>\n",
       "      <td>1.0</td>\n",
       "      <td>-0.002718</td>\n",
       "    </tr>\n",
       "    <tr>\n",
       "      <th>2015-06-30</th>\n",
       "      <td>1.0</td>\n",
       "      <td>-0.023787</td>\n",
       "    </tr>\n",
       "  </tbody>\n",
       "</table>\n",
       "</div>"
      ],
      "text/plain": [
       "            const     Index\n",
       "Date                       \n",
       "2015-02-28    1.0  0.053205\n",
       "2015-03-31    1.0 -0.015612\n",
       "2015-04-30    1.0  0.025410\n",
       "2015-05-31    1.0 -0.002718\n",
       "2015-06-30    1.0 -0.023787"
      ]
     },
     "execution_count": 40,
     "metadata": {},
     "output_type": "execute_result"
    }
   ],
   "source": [
    "X.head()"
   ]
  },
  {
   "cell_type": "code",
   "execution_count": 41,
   "metadata": {},
   "outputs": [
    {
     "data": {
      "text/plain": [
       "Date\n",
       "2015-02-28    0.024304\n",
       "2015-03-31   -0.021004\n",
       "2015-04-30   -0.021541\n",
       "2015-05-31    0.012668\n",
       "2015-06-30   -0.048198\n",
       "Freq: M, Name: WIKI/BRK_B - Close, dtype: float64"
      ]
     },
     "execution_count": 41,
     "metadata": {},
     "output_type": "execute_result"
    }
   ],
   "source": [
    "y.head()"
   ]
  },
  {
   "cell_type": "code",
   "execution_count": 42,
   "metadata": {},
   "outputs": [
    {
     "name": "stdout",
     "output_type": "stream",
     "text": [
      "                            OLS Regression Results                            \n",
      "==============================================================================\n",
      "Dep. Variable:     WIKI/BRK_B - Close   R-squared:                       0.371\n",
      "Model:                            OLS   Adj. R-squared:                  0.353\n",
      "Method:                 Least Squares   F-statistic:                     21.20\n",
      "Date:                Wed, 13 Mar 2019   Prob (F-statistic):           5.00e-05\n",
      "Time:                        20:04:41   Log-Likelihood:                 81.205\n",
      "No. Observations:                  38   AIC:                            -158.4\n",
      "Df Residuals:                      36   BIC:                            -155.1\n",
      "Df Model:                           1                                         \n",
      "Covariance Type:            nonrobust                                         \n",
      "==============================================================================\n",
      "                 coef    std err          t      P>|t|      [0.025      0.975]\n",
      "------------------------------------------------------------------------------\n",
      "const          0.0043      0.005      0.894      0.377      -0.005       0.014\n",
      "Index          0.7085      0.154      4.604      0.000       0.396       1.021\n",
      "==============================================================================\n",
      "Omnibus:                        1.532   Durbin-Watson:                   2.252\n",
      "Prob(Omnibus):                  0.465   Jarque-Bera (JB):                0.974\n",
      "Skew:                           0.391   Prob(JB):                        0.615\n",
      "Kurtosis:                       3.069   Cond. No.                         32.3\n",
      "==============================================================================\n",
      "\n",
      "Warnings:\n",
      "[1] Standard Errors assume that the covariance matrix of the errors is correctly specified.\n"
     ]
    }
   ],
   "source": [
    "model = sm.OLS(y, X).fit()\n",
    "print(model.summary())"
   ]
  },
  {
   "cell_type": "markdown",
   "metadata": {},
   "source": [
    "### Plusieurs actions"
   ]
  },
  {
   "cell_type": "markdown",
   "metadata": {},
   "source": [
    "Pour obtenir un grand nombre d'actions, utilisons la liste des ticker symbol de la base WIKI, disponibles dans le fichier csv [WIKI-datasets-codes.csv]()."
   ]
  },
  {
   "cell_type": "code",
   "execution_count": 43,
   "metadata": {},
   "outputs": [
    {
     "name": "stdout",
     "output_type": "stream",
     "text": [
      "WIKI/AAPL,\"Apple Inc (AAPL) Prices, Dividends, Splits and Trading Volume\"\n",
      "\n",
      "WIKI/ABC,\"AmerisourceBergen Corp. (ABC) Prices, Dividends, Splits and Trading Volume\"\n",
      "\n",
      "WIKI/AA,\"Alcoa Inc. (AA) Prices, Dividends, Splits and Trading Volume\"\n",
      "\n",
      "WIKI/ABBV,\"AbbVie Inc. (ABBV) Prices, Dividends, Splits and Trading Volume\"\n",
      "\n",
      "WIKI/ACE,\"ACE Ltd (ACE) Prices, Dividends, Splits and Trading Volume\"\n",
      "\n",
      "WIKI/AGN,\"Allergan Inc. (AGN) Prices, Dividends, Splits and Trading Volume\"\n",
      "\n",
      "WIKI/ADP,\"Automatic Data Processing Inc. (ADP) Prices, Dividends, Splits and Trading Volume\"\n",
      "\n",
      "WIKI/ADSK,\"Autodesk Inc. (ADSK) Prices, Dividends, Splits and Trading Volume\"\n",
      "\n",
      "WIKI/ABT,\"Abbott Laboratories (ABT) Prices, Dividends, Splits and Trading Volume\"\n",
      "\n",
      "WIKI/AEE,\"Ameren Corp. (AEE) Prices, Dividends, Splits and Trading Volume\"\n",
      "\n"
     ]
    }
   ],
   "source": [
    "fichier = open('WIKI-datasets-codes.csv', 'r')\n",
    "\n",
    "i = 0\n",
    "for ligne in fichier:\n",
    "    print(ligne)\n",
    "    i += 1\n",
    "    if i == 10 : break\n",
    "    \n",
    "fichier.close()"
   ]
  },
  {
   "cell_type": "markdown",
   "metadata": {},
   "source": [
    "On va stocker les ticker symbols dans la liste liste_actions."
   ]
  },
  {
   "cell_type": "code",
   "execution_count": 44,
   "metadata": {
    "scrolled": false
   },
   "outputs": [
    {
     "name": "stdout",
     "output_type": "stream",
     "text": [
      "['WIKI/AAPL', 'WIKI/ABC', 'WIKI/AA', 'WIKI/ABBV', 'WIKI/ACE', 'WIKI/AGN', 'WIKI/ADP', 'WIKI/ADSK', 'WIKI/ABT', 'WIKI/AEE']\n",
      "3196\n"
     ]
    }
   ],
   "source": [
    "liste_actions = []\n",
    "fichier = open('WIKI-datasets-codes.csv', 'r')\n",
    "\n",
    "for ligne in fichier:\n",
    "    liste_actions.append(ligne.split(',')[0])\n",
    "    \n",
    "fichier.close()\n",
    "\n",
    "print(liste_actions[0:10])\n",
    "print(len(liste_actions))"
   ]
  },
  {
   "cell_type": "markdown",
   "metadata": {},
   "source": [
    "Reconstituons le jeu de données en utilisant les commandes vues précédemment:"
   ]
  },
  {
   "cell_type": "code",
   "execution_count": 45,
   "metadata": {},
   "outputs": [],
   "source": [
    "nb_actifs = 200\n",
    "liste_actions_courte = liste_actions[:nb_actifs]"
   ]
  },
  {
   "cell_type": "code",
   "execution_count": 46,
   "metadata": {},
   "outputs": [],
   "source": [
    "debut = '2015-01-01'\n",
    "frequence = 'monthly'\n",
    "\n",
    "index = quandl.get('NASDAQOMX/NQGI', start_date = debut, column_index = 1, collapse=frequence)\n",
    "index.columns = ['Index']\n",
    "\n",
    "actions = quandl.get(liste_actions_courte, start_date = debut, column_index = 4, collapse=frequence)"
   ]
  },
  {
   "cell_type": "code",
   "execution_count": 47,
   "metadata": {},
   "outputs": [],
   "source": [
    "actif_sans_risque = quandl.get('USTREASURY/BILLRATES', start_date = debut, column_index = 2, collapse=frequence)\n",
    "actif_sans_risque.columns = ['Actif sans risque']\n",
    "actif_sans_risque = (1 + actif_sans_risque/100) ** (1/12) - 1"
   ]
  },
  {
   "cell_type": "code",
   "execution_count": 48,
   "metadata": {},
   "outputs": [],
   "source": [
    "actions = actions.dropna(axis=1)\n",
    "donnees = pd.concat([actions.pct_change(), index.pct_change(), actif_sans_risque], axis=1)\n",
    "donnees.drop(donnees.head(1).index, inplace=True)"
   ]
  },
  {
   "cell_type": "markdown",
   "metadata": {},
   "source": [
    "Nettoyons"
   ]
  },
  {
   "cell_type": "code",
   "execution_count": 49,
   "metadata": {},
   "outputs": [],
   "source": [
    "donnees = donnees.dropna(axis=0)"
   ]
  },
  {
   "cell_type": "code",
   "execution_count": 50,
   "metadata": {},
   "outputs": [
    {
     "data": {
      "text/html": [
       "<div>\n",
       "<style scoped>\n",
       "    .dataframe tbody tr th:only-of-type {\n",
       "        vertical-align: middle;\n",
       "    }\n",
       "\n",
       "    .dataframe tbody tr th {\n",
       "        vertical-align: top;\n",
       "    }\n",
       "\n",
       "    .dataframe thead th {\n",
       "        text-align: right;\n",
       "    }\n",
       "</style>\n",
       "<table border=\"1\" class=\"dataframe\">\n",
       "  <thead>\n",
       "    <tr style=\"text-align: right;\">\n",
       "      <th></th>\n",
       "      <th>WIKI/AAPL - Close</th>\n",
       "      <th>WIKI/ABC - Close</th>\n",
       "      <th>WIKI/ABBV - Close</th>\n",
       "      <th>WIKI/AGN - Close</th>\n",
       "      <th>WIKI/ADP - Close</th>\n",
       "      <th>WIKI/ADSK - Close</th>\n",
       "      <th>WIKI/ABT - Close</th>\n",
       "      <th>WIKI/AEE - Close</th>\n",
       "      <th>WIKI/ACN - Close</th>\n",
       "      <th>WIKI/AEP - Close</th>\n",
       "      <th>...</th>\n",
       "      <th>WIKI/FLR - Close</th>\n",
       "      <th>WIKI/GGP - Close</th>\n",
       "      <th>WIKI/GM - Close</th>\n",
       "      <th>WIKI/GD - Close</th>\n",
       "      <th>WIKI/GE - Close</th>\n",
       "      <th>WIKI/GOOG - Close</th>\n",
       "      <th>WIKI/GHC - Close</th>\n",
       "      <th>WIKI/GILD - Close</th>\n",
       "      <th>Index</th>\n",
       "      <th>Actif sans risque</th>\n",
       "    </tr>\n",
       "    <tr>\n",
       "      <th>Date</th>\n",
       "      <th></th>\n",
       "      <th></th>\n",
       "      <th></th>\n",
       "      <th></th>\n",
       "      <th></th>\n",
       "      <th></th>\n",
       "      <th></th>\n",
       "      <th></th>\n",
       "      <th></th>\n",
       "      <th></th>\n",
       "      <th></th>\n",
       "      <th></th>\n",
       "      <th></th>\n",
       "      <th></th>\n",
       "      <th></th>\n",
       "      <th></th>\n",
       "      <th></th>\n",
       "      <th></th>\n",
       "      <th></th>\n",
       "      <th></th>\n",
       "      <th></th>\n",
       "    </tr>\n",
       "  </thead>\n",
       "  <tbody>\n",
       "    <tr>\n",
       "      <th>2015-02-28</th>\n",
       "      <td>0.096449</td>\n",
       "      <td>0.081115</td>\n",
       "      <td>0.002486</td>\n",
       "      <td>0.093119</td>\n",
       "      <td>0.076457</td>\n",
       "      <td>0.189519</td>\n",
       "      <td>0.058311</td>\n",
       "      <td>-0.063383</td>\n",
       "      <td>0.071403</td>\n",
       "      <td>-0.083267</td>\n",
       "      <td>...</td>\n",
       "      <td>0.082291</td>\n",
       "      <td>-0.038767</td>\n",
       "      <td>0.143777</td>\n",
       "      <td>0.041814</td>\n",
       "      <td>0.087903</td>\n",
       "      <td>0.044676</td>\n",
       "      <td>0.054591</td>\n",
       "      <td>-0.012401</td>\n",
       "      <td>0.053222</td>\n",
       "      <td>0.000017</td>\n",
       "    </tr>\n",
       "    <tr>\n",
       "      <th>2015-03-31</th>\n",
       "      <td>-0.031372</td>\n",
       "      <td>0.106170</td>\n",
       "      <td>-0.032397</td>\n",
       "      <td>0.021485</td>\n",
       "      <td>-0.036020</td>\n",
       "      <td>-0.087173</td>\n",
       "      <td>-0.021955</td>\n",
       "      <td>-0.004952</td>\n",
       "      <td>0.040653</td>\n",
       "      <td>-0.023098</td>\n",
       "      <td>...</td>\n",
       "      <td>-0.014483</td>\n",
       "      <td>0.018614</td>\n",
       "      <td>0.005092</td>\n",
       "      <td>-0.021977</td>\n",
       "      <td>-0.045402</td>\n",
       "      <td>-0.018625</td>\n",
       "      <td>0.064123</td>\n",
       "      <td>-0.052159</td>\n",
       "      <td>-0.015571</td>\n",
       "      <td>0.000042</td>\n",
       "    </tr>\n",
       "    <tr>\n",
       "      <th>2015-04-30</th>\n",
       "      <td>0.005786</td>\n",
       "      <td>0.005542</td>\n",
       "      <td>0.104544</td>\n",
       "      <td>-0.049593</td>\n",
       "      <td>-0.012844</td>\n",
       "      <td>-0.030866</td>\n",
       "      <td>0.001943</td>\n",
       "      <td>-0.029858</td>\n",
       "      <td>-0.011100</td>\n",
       "      <td>0.011022</td>\n",
       "      <td>...</td>\n",
       "      <td>0.052134</td>\n",
       "      <td>-0.072758</td>\n",
       "      <td>-0.065067</td>\n",
       "      <td>0.011714</td>\n",
       "      <td>0.091495</td>\n",
       "      <td>-0.019453</td>\n",
       "      <td>-0.025438</td>\n",
       "      <td>0.024254</td>\n",
       "      <td>0.025402</td>\n",
       "      <td>-0.000008</td>\n",
       "    </tr>\n",
       "    <tr>\n",
       "      <th>2015-05-31</th>\n",
       "      <td>0.040991</td>\n",
       "      <td>-0.015223</td>\n",
       "      <td>0.029848</td>\n",
       "      <td>0.084671</td>\n",
       "      <td>0.011474</td>\n",
       "      <td>-0.047158</td>\n",
       "      <td>0.046963</td>\n",
       "      <td>-0.017342</td>\n",
       "      <td>0.036589</td>\n",
       "      <td>-0.010199</td>\n",
       "      <td>...</td>\n",
       "      <td>-0.065181</td>\n",
       "      <td>0.033942</td>\n",
       "      <td>0.025956</td>\n",
       "      <td>0.020682</td>\n",
       "      <td>0.007016</td>\n",
       "      <td>-0.009733</td>\n",
       "      <td>0.046992</td>\n",
       "      <td>0.117003</td>\n",
       "      <td>-0.002710</td>\n",
       "      <td>0.000008</td>\n",
       "    </tr>\n",
       "    <tr>\n",
       "      <th>2015-06-30</th>\n",
       "      <td>-0.037266</td>\n",
       "      <td>-0.055259</td>\n",
       "      <td>0.009010</td>\n",
       "      <td>-0.010919</td>\n",
       "      <td>-0.061747</td>\n",
       "      <td>-0.075254</td>\n",
       "      <td>0.009877</td>\n",
       "      <td>-0.063386</td>\n",
       "      <td>0.007705</td>\n",
       "      <td>-0.058980</td>\n",
       "      <td>...</td>\n",
       "      <td>-0.057097</td>\n",
       "      <td>-0.094246</td>\n",
       "      <td>-0.073394</td>\n",
       "      <td>0.010916</td>\n",
       "      <td>-0.025669</td>\n",
       "      <td>-0.021800</td>\n",
       "      <td>0.003782</td>\n",
       "      <td>0.042843</td>\n",
       "      <td>-0.023770</td>\n",
       "      <td>0.000017</td>\n",
       "    </tr>\n",
       "  </tbody>\n",
       "</table>\n",
       "<p>5 rows × 166 columns</p>\n",
       "</div>"
      ],
      "text/plain": [
       "            WIKI/AAPL - Close  WIKI/ABC - Close  WIKI/ABBV - Close  \\\n",
       "Date                                                                 \n",
       "2015-02-28           0.096449          0.081115           0.002486   \n",
       "2015-03-31          -0.031372          0.106170          -0.032397   \n",
       "2015-04-30           0.005786          0.005542           0.104544   \n",
       "2015-05-31           0.040991         -0.015223           0.029848   \n",
       "2015-06-30          -0.037266         -0.055259           0.009010   \n",
       "\n",
       "            WIKI/AGN - Close  WIKI/ADP - Close  WIKI/ADSK - Close  \\\n",
       "Date                                                                \n",
       "2015-02-28          0.093119          0.076457           0.189519   \n",
       "2015-03-31          0.021485         -0.036020          -0.087173   \n",
       "2015-04-30         -0.049593         -0.012844          -0.030866   \n",
       "2015-05-31          0.084671          0.011474          -0.047158   \n",
       "2015-06-30         -0.010919         -0.061747          -0.075254   \n",
       "\n",
       "            WIKI/ABT - Close  WIKI/AEE - Close  WIKI/ACN - Close  \\\n",
       "Date                                                               \n",
       "2015-02-28          0.058311         -0.063383          0.071403   \n",
       "2015-03-31         -0.021955         -0.004952          0.040653   \n",
       "2015-04-30          0.001943         -0.029858         -0.011100   \n",
       "2015-05-31          0.046963         -0.017342          0.036589   \n",
       "2015-06-30          0.009877         -0.063386          0.007705   \n",
       "\n",
       "            WIKI/AEP - Close        ...          WIKI/FLR - Close  \\\n",
       "Date                                ...                             \n",
       "2015-02-28         -0.083267        ...                  0.082291   \n",
       "2015-03-31         -0.023098        ...                 -0.014483   \n",
       "2015-04-30          0.011022        ...                  0.052134   \n",
       "2015-05-31         -0.010199        ...                 -0.065181   \n",
       "2015-06-30         -0.058980        ...                 -0.057097   \n",
       "\n",
       "            WIKI/GGP - Close  WIKI/GM - Close  WIKI/GD - Close  \\\n",
       "Date                                                             \n",
       "2015-02-28         -0.038767         0.143777         0.041814   \n",
       "2015-03-31          0.018614         0.005092        -0.021977   \n",
       "2015-04-30         -0.072758        -0.065067         0.011714   \n",
       "2015-05-31          0.033942         0.025956         0.020682   \n",
       "2015-06-30         -0.094246        -0.073394         0.010916   \n",
       "\n",
       "            WIKI/GE - Close  WIKI/GOOG - Close  WIKI/GHC - Close  \\\n",
       "Date                                                               \n",
       "2015-02-28         0.087903           0.044676          0.054591   \n",
       "2015-03-31        -0.045402          -0.018625          0.064123   \n",
       "2015-04-30         0.091495          -0.019453         -0.025438   \n",
       "2015-05-31         0.007016          -0.009733          0.046992   \n",
       "2015-06-30        -0.025669          -0.021800          0.003782   \n",
       "\n",
       "            WIKI/GILD - Close     Index  Actif sans risque  \n",
       "Date                                                        \n",
       "2015-02-28          -0.012401  0.053222           0.000017  \n",
       "2015-03-31          -0.052159 -0.015571           0.000042  \n",
       "2015-04-30           0.024254  0.025402          -0.000008  \n",
       "2015-05-31           0.117003 -0.002710           0.000008  \n",
       "2015-06-30           0.042843 -0.023770           0.000017  \n",
       "\n",
       "[5 rows x 166 columns]"
      ]
     },
     "execution_count": 50,
     "metadata": {},
     "output_type": "execute_result"
    }
   ],
   "source": [
    "donnees.head()"
   ]
  },
  {
   "cell_type": "markdown",
   "metadata": {},
   "source": [
    "Il reste à soustraire le taux de l'actif sans risque:"
   ]
  },
  {
   "cell_type": "code",
   "execution_count": 51,
   "metadata": {},
   "outputs": [],
   "source": [
    "nb_observations, nb_actifs = donnees.shape\n",
    "nb_actifs -= 2"
   ]
  },
  {
   "cell_type": "code",
   "execution_count": 52,
   "metadata": {},
   "outputs": [],
   "source": [
    "for i in range(nb_actifs + 1):\n",
    "    donnees.iloc[:,i] = donnees.iloc[:,i] - donnees.iloc[:,-1]"
   ]
  },
  {
   "cell_type": "code",
   "execution_count": 53,
   "metadata": {
    "scrolled": true
   },
   "outputs": [
    {
     "data": {
      "text/html": [
       "<div>\n",
       "<style scoped>\n",
       "    .dataframe tbody tr th:only-of-type {\n",
       "        vertical-align: middle;\n",
       "    }\n",
       "\n",
       "    .dataframe tbody tr th {\n",
       "        vertical-align: top;\n",
       "    }\n",
       "\n",
       "    .dataframe thead th {\n",
       "        text-align: right;\n",
       "    }\n",
       "</style>\n",
       "<table border=\"1\" class=\"dataframe\">\n",
       "  <thead>\n",
       "    <tr style=\"text-align: right;\">\n",
       "      <th></th>\n",
       "      <th>WIKI/AAPL - Close</th>\n",
       "      <th>WIKI/ABC - Close</th>\n",
       "      <th>WIKI/ABBV - Close</th>\n",
       "      <th>WIKI/AGN - Close</th>\n",
       "      <th>WIKI/ADP - Close</th>\n",
       "      <th>WIKI/ADSK - Close</th>\n",
       "      <th>WIKI/ABT - Close</th>\n",
       "      <th>WIKI/AEE - Close</th>\n",
       "      <th>WIKI/ACN - Close</th>\n",
       "      <th>WIKI/AEP - Close</th>\n",
       "      <th>...</th>\n",
       "      <th>WIKI/FLR - Close</th>\n",
       "      <th>WIKI/GGP - Close</th>\n",
       "      <th>WIKI/GM - Close</th>\n",
       "      <th>WIKI/GD - Close</th>\n",
       "      <th>WIKI/GE - Close</th>\n",
       "      <th>WIKI/GOOG - Close</th>\n",
       "      <th>WIKI/GHC - Close</th>\n",
       "      <th>WIKI/GILD - Close</th>\n",
       "      <th>Index</th>\n",
       "      <th>Actif sans risque</th>\n",
       "    </tr>\n",
       "    <tr>\n",
       "      <th>Date</th>\n",
       "      <th></th>\n",
       "      <th></th>\n",
       "      <th></th>\n",
       "      <th></th>\n",
       "      <th></th>\n",
       "      <th></th>\n",
       "      <th></th>\n",
       "      <th></th>\n",
       "      <th></th>\n",
       "      <th></th>\n",
       "      <th></th>\n",
       "      <th></th>\n",
       "      <th></th>\n",
       "      <th></th>\n",
       "      <th></th>\n",
       "      <th></th>\n",
       "      <th></th>\n",
       "      <th></th>\n",
       "      <th></th>\n",
       "      <th></th>\n",
       "      <th></th>\n",
       "    </tr>\n",
       "  </thead>\n",
       "  <tbody>\n",
       "    <tr>\n",
       "      <th>2017-11-30</th>\n",
       "      <td>0.015678</td>\n",
       "      <td>0.101329</td>\n",
       "      <td>0.072961</td>\n",
       "      <td>-0.020129</td>\n",
       "      <td>-0.016428</td>\n",
       "      <td>-0.123064</td>\n",
       "      <td>0.038516</td>\n",
       "      <td>0.030834</td>\n",
       "      <td>0.038743</td>\n",
       "      <td>0.042329</td>\n",
       "      <td>...</td>\n",
       "      <td>0.122517</td>\n",
       "      <td>0.206660</td>\n",
       "      <td>0.001614</td>\n",
       "      <td>0.019648</td>\n",
       "      <td>-0.093703</td>\n",
       "      <td>0.003747</td>\n",
       "      <td>0.046948</td>\n",
       "      <td>-0.003346</td>\n",
       "      <td>0.017018</td>\n",
       "      <td>0.000945</td>\n",
       "    </tr>\n",
       "    <tr>\n",
       "      <th>2017-12-31</th>\n",
       "      <td>-0.016298</td>\n",
       "      <td>0.081475</td>\n",
       "      <td>-0.003219</td>\n",
       "      <td>-0.060018</td>\n",
       "      <td>0.022799</td>\n",
       "      <td>-0.045446</td>\n",
       "      <td>0.011366</td>\n",
       "      <td>-0.078757</td>\n",
       "      <td>0.033270</td>\n",
       "      <td>-0.053352</td>\n",
       "      <td>...</td>\n",
       "      <td>0.065876</td>\n",
       "      <td>-0.005733</td>\n",
       "      <td>-0.049787</td>\n",
       "      <td>-0.018961</td>\n",
       "      <td>-0.046979</td>\n",
       "      <td>0.023414</td>\n",
       "      <td>-0.043498</td>\n",
       "      <td>-0.043042</td>\n",
       "      <td>0.015250</td>\n",
       "      <td>0.001052</td>\n",
       "    </tr>\n",
       "    <tr>\n",
       "      <th>2018-01-31</th>\n",
       "      <td>-0.011820</td>\n",
       "      <td>0.084309</td>\n",
       "      <td>0.159192</td>\n",
       "      <td>0.100785</td>\n",
       "      <td>0.053770</td>\n",
       "      <td>0.101745</td>\n",
       "      <td>0.088005</td>\n",
       "      <td>-0.041191</td>\n",
       "      <td>0.048525</td>\n",
       "      <td>-0.066292</td>\n",
       "      <td>...</td>\n",
       "      <td>0.174034</td>\n",
       "      <td>-0.016575</td>\n",
       "      <td>0.033459</td>\n",
       "      <td>0.092353</td>\n",
       "      <td>-0.074536</td>\n",
       "      <td>0.116878</td>\n",
       "      <td>0.063471</td>\n",
       "      <td>0.168554</td>\n",
       "      <td>0.051020</td>\n",
       "      <td>0.001184</td>\n",
       "    </tr>\n",
       "    <tr>\n",
       "      <th>2018-02-28</th>\n",
       "      <td>0.062606</td>\n",
       "      <td>-0.046491</td>\n",
       "      <td>0.030927</td>\n",
       "      <td>-0.145699</td>\n",
       "      <td>-0.068216</td>\n",
       "      <td>0.014759</td>\n",
       "      <td>-0.030682</td>\n",
       "      <td>-0.042386</td>\n",
       "      <td>0.000688</td>\n",
       "      <td>-0.047767</td>\n",
       "      <td>...</td>\n",
       "      <td>-0.063844</td>\n",
       "      <td>-0.082006</td>\n",
       "      <td>-0.073394</td>\n",
       "      <td>-0.001376</td>\n",
       "      <td>-0.128638</td>\n",
       "      <td>-0.056979</td>\n",
       "      <td>-0.025381</td>\n",
       "      <td>-0.061743</td>\n",
       "      <td>-0.044339</td>\n",
       "      <td>0.001241</td>\n",
       "    </tr>\n",
       "    <tr>\n",
       "      <th>2018-03-31</th>\n",
       "      <td>-0.056247</td>\n",
       "      <td>-0.118511</td>\n",
       "      <td>-0.206986</td>\n",
       "      <td>0.038214</td>\n",
       "      <td>-0.028128</td>\n",
       "      <td>0.090939</td>\n",
       "      <td>-0.002169</td>\n",
       "      <td>0.027758</td>\n",
       "      <td>-0.076801</td>\n",
       "      <td>0.042118</td>\n",
       "      <td>...</td>\n",
       "      <td>-0.021375</td>\n",
       "      <td>-0.052828</td>\n",
       "      <td>-0.115190</td>\n",
       "      <td>-0.007544</td>\n",
       "      <td>-0.048824</td>\n",
       "      <td>-0.091525</td>\n",
       "      <td>0.017019</td>\n",
       "      <td>-0.060022</td>\n",
       "      <td>-0.022095</td>\n",
       "      <td>0.001340</td>\n",
       "    </tr>\n",
       "  </tbody>\n",
       "</table>\n",
       "<p>5 rows × 166 columns</p>\n",
       "</div>"
      ],
      "text/plain": [
       "            WIKI/AAPL - Close  WIKI/ABC - Close  WIKI/ABBV - Close  \\\n",
       "Date                                                                 \n",
       "2017-11-30           0.015678          0.101329           0.072961   \n",
       "2017-12-31          -0.016298          0.081475          -0.003219   \n",
       "2018-01-31          -0.011820          0.084309           0.159192   \n",
       "2018-02-28           0.062606         -0.046491           0.030927   \n",
       "2018-03-31          -0.056247         -0.118511          -0.206986   \n",
       "\n",
       "            WIKI/AGN - Close  WIKI/ADP - Close  WIKI/ADSK - Close  \\\n",
       "Date                                                                \n",
       "2017-11-30         -0.020129         -0.016428          -0.123064   \n",
       "2017-12-31         -0.060018          0.022799          -0.045446   \n",
       "2018-01-31          0.100785          0.053770           0.101745   \n",
       "2018-02-28         -0.145699         -0.068216           0.014759   \n",
       "2018-03-31          0.038214         -0.028128           0.090939   \n",
       "\n",
       "            WIKI/ABT - Close  WIKI/AEE - Close  WIKI/ACN - Close  \\\n",
       "Date                                                               \n",
       "2017-11-30          0.038516          0.030834          0.038743   \n",
       "2017-12-31          0.011366         -0.078757          0.033270   \n",
       "2018-01-31          0.088005         -0.041191          0.048525   \n",
       "2018-02-28         -0.030682         -0.042386          0.000688   \n",
       "2018-03-31         -0.002169          0.027758         -0.076801   \n",
       "\n",
       "            WIKI/AEP - Close        ...          WIKI/FLR - Close  \\\n",
       "Date                                ...                             \n",
       "2017-11-30          0.042329        ...                  0.122517   \n",
       "2017-12-31         -0.053352        ...                  0.065876   \n",
       "2018-01-31         -0.066292        ...                  0.174034   \n",
       "2018-02-28         -0.047767        ...                 -0.063844   \n",
       "2018-03-31          0.042118        ...                 -0.021375   \n",
       "\n",
       "            WIKI/GGP - Close  WIKI/GM - Close  WIKI/GD - Close  \\\n",
       "Date                                                             \n",
       "2017-11-30          0.206660         0.001614         0.019648   \n",
       "2017-12-31         -0.005733        -0.049787        -0.018961   \n",
       "2018-01-31         -0.016575         0.033459         0.092353   \n",
       "2018-02-28         -0.082006        -0.073394        -0.001376   \n",
       "2018-03-31         -0.052828        -0.115190        -0.007544   \n",
       "\n",
       "            WIKI/GE - Close  WIKI/GOOG - Close  WIKI/GHC - Close  \\\n",
       "Date                                                               \n",
       "2017-11-30        -0.093703           0.003747          0.046948   \n",
       "2017-12-31        -0.046979           0.023414         -0.043498   \n",
       "2018-01-31        -0.074536           0.116878          0.063471   \n",
       "2018-02-28        -0.128638          -0.056979         -0.025381   \n",
       "2018-03-31        -0.048824          -0.091525          0.017019   \n",
       "\n",
       "            WIKI/GILD - Close     Index  Actif sans risque  \n",
       "Date                                                        \n",
       "2017-11-30          -0.003346  0.017018           0.000945  \n",
       "2017-12-31          -0.043042  0.015250           0.001052  \n",
       "2018-01-31           0.168554  0.051020           0.001184  \n",
       "2018-02-28          -0.061743 -0.044339           0.001241  \n",
       "2018-03-31          -0.060022 -0.022095           0.001340  \n",
       "\n",
       "[5 rows x 166 columns]"
      ]
     },
     "execution_count": 53,
     "metadata": {},
     "output_type": "execute_result"
    }
   ],
   "source": [
    "donnees.tail()"
   ]
  },
  {
   "cell_type": "markdown",
   "metadata": {},
   "source": [
    "Lançons les régressions:"
   ]
  },
  {
   "cell_type": "code",
   "execution_count": 54,
   "metadata": {},
   "outputs": [],
   "source": [
    "resultats = pd.DataFrame(columns=['actif', 'alpha', 'beta', 'risque', 'rendement moyen'])\n",
    "\n",
    "X = donnees['Index']\n",
    "X = sm.add_constant(X)\n",
    "\n",
    "for i in range(nb_actifs - 2):\n",
    "    y = donnees.iloc[:,i]\n",
    "    model = sm.OLS(y, X).fit()\n",
    "    resultats = resultats.append({'actif': donnees.columns[i],\n",
    "                                  'alpha': model.params['const'], \n",
    "                                  'beta': model.params['Index'], \n",
    "                                  'risque': np.var(model.resid),\n",
    "                                  'rendement moyen' : np.mean(y)}, \n",
    "                                 ignore_index=True)\n",
    "\n",
    "prime_marche = np.mean(donnees['Index'])\n",
    "resultats = resultats.set_index('actif')"
   ]
  },
  {
   "cell_type": "code",
   "execution_count": 55,
   "metadata": {},
   "outputs": [
    {
     "data": {
      "text/html": [
       "<div>\n",
       "<style scoped>\n",
       "    .dataframe tbody tr th:only-of-type {\n",
       "        vertical-align: middle;\n",
       "    }\n",
       "\n",
       "    .dataframe tbody tr th {\n",
       "        vertical-align: top;\n",
       "    }\n",
       "\n",
       "    .dataframe thead th {\n",
       "        text-align: right;\n",
       "    }\n",
       "</style>\n",
       "<table border=\"1\" class=\"dataframe\">\n",
       "  <thead>\n",
       "    <tr style=\"text-align: right;\">\n",
       "      <th></th>\n",
       "      <th>alpha</th>\n",
       "      <th>beta</th>\n",
       "      <th>risque</th>\n",
       "      <th>rendement moyen</th>\n",
       "    </tr>\n",
       "    <tr>\n",
       "      <th>actif</th>\n",
       "      <th></th>\n",
       "      <th></th>\n",
       "      <th></th>\n",
       "      <th></th>\n",
       "    </tr>\n",
       "  </thead>\n",
       "  <tbody>\n",
       "    <tr>\n",
       "      <th>WIKI/AAPL - Close</th>\n",
       "      <td>0.004744</td>\n",
       "      <td>1.127235</td>\n",
       "      <td>0.002958</td>\n",
       "      <td>0.011274</td>\n",
       "    </tr>\n",
       "    <tr>\n",
       "      <th>WIKI/ABC - Close</th>\n",
       "      <td>-0.007188</td>\n",
       "      <td>1.100448</td>\n",
       "      <td>0.004408</td>\n",
       "      <td>-0.000813</td>\n",
       "    </tr>\n",
       "    <tr>\n",
       "      <th>WIKI/ABBV - Close</th>\n",
       "      <td>0.005616</td>\n",
       "      <td>1.387032</td>\n",
       "      <td>0.003811</td>\n",
       "      <td>0.013651</td>\n",
       "    </tr>\n",
       "    <tr>\n",
       "      <th>WIKI/AGN - Close</th>\n",
       "      <td>-0.016351</td>\n",
       "      <td>1.065977</td>\n",
       "      <td>0.005793</td>\n",
       "      <td>-0.010176</td>\n",
       "    </tr>\n",
       "    <tr>\n",
       "      <th>WIKI/ADP - Close</th>\n",
       "      <td>0.004364</td>\n",
       "      <td>0.788576</td>\n",
       "      <td>0.001863</td>\n",
       "      <td>0.008932</td>\n",
       "    </tr>\n",
       "    <tr>\n",
       "      <th>WIKI/ADSK - Close</th>\n",
       "      <td>0.015816</td>\n",
       "      <td>2.030120</td>\n",
       "      <td>0.006104</td>\n",
       "      <td>0.027576</td>\n",
       "    </tr>\n",
       "    <tr>\n",
       "      <th>WIKI/ABT - Close</th>\n",
       "      <td>0.000429</td>\n",
       "      <td>1.542740</td>\n",
       "      <td>0.001446</td>\n",
       "      <td>0.009365</td>\n",
       "    </tr>\n",
       "    <tr>\n",
       "      <th>WIKI/AEE - Close</th>\n",
       "      <td>0.005971</td>\n",
       "      <td>0.025599</td>\n",
       "      <td>0.001940</td>\n",
       "      <td>0.006119</td>\n",
       "    </tr>\n",
       "    <tr>\n",
       "      <th>WIKI/ACN - Close</th>\n",
       "      <td>0.010736</td>\n",
       "      <td>0.883559</td>\n",
       "      <td>0.001468</td>\n",
       "      <td>0.015854</td>\n",
       "    </tr>\n",
       "    <tr>\n",
       "      <th>WIKI/AEP - Close</th>\n",
       "      <td>0.003053</td>\n",
       "      <td>-0.015905</td>\n",
       "      <td>0.002185</td>\n",
       "      <td>0.002961</td>\n",
       "    </tr>\n",
       "    <tr>\n",
       "      <th>WIKI/ADBE - Close</th>\n",
       "      <td>0.025416</td>\n",
       "      <td>0.931927</td>\n",
       "      <td>0.002163</td>\n",
       "      <td>0.030814</td>\n",
       "    </tr>\n",
       "    <tr>\n",
       "      <th>WIKI/AET - Close</th>\n",
       "      <td>0.015145</td>\n",
       "      <td>0.444616</td>\n",
       "      <td>0.003982</td>\n",
       "      <td>0.017721</td>\n",
       "    </tr>\n",
       "    <tr>\n",
       "      <th>WIKI/ADI - Close</th>\n",
       "      <td>0.010922</td>\n",
       "      <td>0.966345</td>\n",
       "      <td>0.003440</td>\n",
       "      <td>0.016519</td>\n",
       "    </tr>\n",
       "    <tr>\n",
       "      <th>WIKI/ADM - Close</th>\n",
       "      <td>-0.005973</td>\n",
       "      <td>0.882841</td>\n",
       "      <td>0.002604</td>\n",
       "      <td>-0.000859</td>\n",
       "    </tr>\n",
       "    <tr>\n",
       "      <th>WIKI/ADS - Close</th>\n",
       "      <td>-0.012382</td>\n",
       "      <td>1.420328</td>\n",
       "      <td>0.004702</td>\n",
       "      <td>-0.004154</td>\n",
       "    </tr>\n",
       "    <tr>\n",
       "      <th>WIKI/AIV - Close</th>\n",
       "      <td>-0.002710</td>\n",
       "      <td>0.561396</td>\n",
       "      <td>0.002030</td>\n",
       "      <td>0.000542</td>\n",
       "    </tr>\n",
       "    <tr>\n",
       "      <th>WIKI/ALL - Close</th>\n",
       "      <td>0.004073</td>\n",
       "      <td>0.743599</td>\n",
       "      <td>0.001575</td>\n",
       "      <td>0.008380</td>\n",
       "    </tr>\n",
       "    <tr>\n",
       "      <th>WIKI/AES - Close</th>\n",
       "      <td>-0.008676</td>\n",
       "      <td>1.286648</td>\n",
       "      <td>0.002568</td>\n",
       "      <td>-0.001223</td>\n",
       "    </tr>\n",
       "    <tr>\n",
       "      <th>WIKI/ALXN - Close</th>\n",
       "      <td>-0.015076</td>\n",
       "      <td>1.080695</td>\n",
       "      <td>0.009053</td>\n",
       "      <td>-0.008816</td>\n",
       "    </tr>\n",
       "    <tr>\n",
       "      <th>WIKI/AFL - Close</th>\n",
       "      <td>-0.007977</td>\n",
       "      <td>1.142269</td>\n",
       "      <td>0.007315</td>\n",
       "      <td>-0.001360</td>\n",
       "    </tr>\n",
       "    <tr>\n",
       "      <th>WIKI/AMAT - Close</th>\n",
       "      <td>0.019550</td>\n",
       "      <td>1.211465</td>\n",
       "      <td>0.005431</td>\n",
       "      <td>0.026568</td>\n",
       "    </tr>\n",
       "    <tr>\n",
       "      <th>WIKI/AIG - Close</th>\n",
       "      <td>-0.003387</td>\n",
       "      <td>1.254908</td>\n",
       "      <td>0.002004</td>\n",
       "      <td>0.003882</td>\n",
       "    </tr>\n",
       "    <tr>\n",
       "      <th>WIKI/AMGN - Close</th>\n",
       "      <td>-0.003236</td>\n",
       "      <td>1.445584</td>\n",
       "      <td>0.002923</td>\n",
       "      <td>0.005138</td>\n",
       "    </tr>\n",
       "    <tr>\n",
       "      <th>WIKI/AIZ - Close</th>\n",
       "      <td>0.009174</td>\n",
       "      <td>0.226926</td>\n",
       "      <td>0.003410</td>\n",
       "      <td>0.010488</td>\n",
       "    </tr>\n",
       "    <tr>\n",
       "      <th>WIKI/AMT - Close</th>\n",
       "      <td>0.006220</td>\n",
       "      <td>0.924050</td>\n",
       "      <td>0.002063</td>\n",
       "      <td>0.011572</td>\n",
       "    </tr>\n",
       "    <tr>\n",
       "      <th>WIKI/AKAM - Close</th>\n",
       "      <td>0.008477</td>\n",
       "      <td>0.190236</td>\n",
       "      <td>0.009845</td>\n",
       "      <td>0.009579</td>\n",
       "    </tr>\n",
       "    <tr>\n",
       "      <th>WIKI/ALLE - Close</th>\n",
       "      <td>0.007027</td>\n",
       "      <td>0.940608</td>\n",
       "      <td>0.001556</td>\n",
       "      <td>0.012476</td>\n",
       "    </tr>\n",
       "    <tr>\n",
       "      <th>WIKI/AME - Close</th>\n",
       "      <td>0.007137</td>\n",
       "      <td>0.931537</td>\n",
       "      <td>0.001220</td>\n",
       "      <td>0.012533</td>\n",
       "    </tr>\n",
       "    <tr>\n",
       "      <th>WIKI/AMP - Close</th>\n",
       "      <td>-0.001640</td>\n",
       "      <td>1.542391</td>\n",
       "      <td>0.004739</td>\n",
       "      <td>0.007295</td>\n",
       "    </tr>\n",
       "    <tr>\n",
       "      <th>WIKI/AMZN - Close</th>\n",
       "      <td>0.032013</td>\n",
       "      <td>1.590041</td>\n",
       "      <td>0.003977</td>\n",
       "      <td>0.041224</td>\n",
       "    </tr>\n",
       "    <tr>\n",
       "      <th>...</th>\n",
       "      <td>...</td>\n",
       "      <td>...</td>\n",
       "      <td>...</td>\n",
       "      <td>...</td>\n",
       "    </tr>\n",
       "    <tr>\n",
       "      <th>WIKI/EL - Close</th>\n",
       "      <td>0.016825</td>\n",
       "      <td>0.610593</td>\n",
       "      <td>0.002319</td>\n",
       "      <td>0.020362</td>\n",
       "    </tr>\n",
       "    <tr>\n",
       "      <th>WIKI/ETFC - Close</th>\n",
       "      <td>0.018537</td>\n",
       "      <td>1.163949</td>\n",
       "      <td>0.004578</td>\n",
       "      <td>0.025279</td>\n",
       "    </tr>\n",
       "    <tr>\n",
       "      <th>WIKI/ETN - Close</th>\n",
       "      <td>0.000232</td>\n",
       "      <td>1.247963</td>\n",
       "      <td>0.001882</td>\n",
       "      <td>0.007461</td>\n",
       "    </tr>\n",
       "    <tr>\n",
       "      <th>WIKI/ETR - Close</th>\n",
       "      <td>-0.003887</td>\n",
       "      <td>0.361301</td>\n",
       "      <td>0.002285</td>\n",
       "      <td>-0.001794</td>\n",
       "    </tr>\n",
       "    <tr>\n",
       "      <th>WIKI/EXC - Close</th>\n",
       "      <td>0.001218</td>\n",
       "      <td>0.219148</td>\n",
       "      <td>0.002317</td>\n",
       "      <td>0.002488</td>\n",
       "    </tr>\n",
       "    <tr>\n",
       "      <th>WIKI/EQT - Close</th>\n",
       "      <td>-0.012407</td>\n",
       "      <td>0.550018</td>\n",
       "      <td>0.005731</td>\n",
       "      <td>-0.009221</td>\n",
       "    </tr>\n",
       "    <tr>\n",
       "      <th>WIKI/EXPE - Close</th>\n",
       "      <td>0.001057</td>\n",
       "      <td>1.245274</td>\n",
       "      <td>0.004814</td>\n",
       "      <td>0.008271</td>\n",
       "    </tr>\n",
       "    <tr>\n",
       "      <th>WIKI/FAST - Close</th>\n",
       "      <td>0.003082</td>\n",
       "      <td>0.504243</td>\n",
       "      <td>0.003492</td>\n",
       "      <td>0.006003</td>\n",
       "    </tr>\n",
       "    <tr>\n",
       "      <th>WIKI/FB - Close</th>\n",
       "      <td>0.015160</td>\n",
       "      <td>0.798504</td>\n",
       "      <td>0.002824</td>\n",
       "      <td>0.019786</td>\n",
       "    </tr>\n",
       "    <tr>\n",
       "      <th>WIKI/FCX - Close</th>\n",
       "      <td>0.004589</td>\n",
       "      <td>3.191240</td>\n",
       "      <td>0.038964</td>\n",
       "      <td>0.023075</td>\n",
       "    </tr>\n",
       "    <tr>\n",
       "      <th>WIKI/EW - Close</th>\n",
       "      <td>0.005219</td>\n",
       "      <td>1.079769</td>\n",
       "      <td>0.013516</td>\n",
       "      <td>0.011474</td>\n",
       "    </tr>\n",
       "    <tr>\n",
       "      <th>WIKI/EXPD - Close</th>\n",
       "      <td>0.006689</td>\n",
       "      <td>0.495859</td>\n",
       "      <td>0.001513</td>\n",
       "      <td>0.009562</td>\n",
       "    </tr>\n",
       "    <tr>\n",
       "      <th>WIKI/FE - Close</th>\n",
       "      <td>-0.003677</td>\n",
       "      <td>0.127444</td>\n",
       "      <td>0.002983</td>\n",
       "      <td>-0.002939</td>\n",
       "    </tr>\n",
       "    <tr>\n",
       "      <th>WIKI/F - Close</th>\n",
       "      <td>-0.012405</td>\n",
       "      <td>0.916771</td>\n",
       "      <td>0.001796</td>\n",
       "      <td>-0.007095</td>\n",
       "    </tr>\n",
       "    <tr>\n",
       "      <th>WIKI/FISV - Close</th>\n",
       "      <td>-0.000482</td>\n",
       "      <td>0.960129</td>\n",
       "      <td>0.007930</td>\n",
       "      <td>0.005080</td>\n",
       "    </tr>\n",
       "    <tr>\n",
       "      <th>WIKI/FDX - Close</th>\n",
       "      <td>0.001616</td>\n",
       "      <td>1.466344</td>\n",
       "      <td>0.001697</td>\n",
       "      <td>0.010110</td>\n",
       "    </tr>\n",
       "    <tr>\n",
       "      <th>WIKI/FLS - Close</th>\n",
       "      <td>-0.012584</td>\n",
       "      <td>1.373012</td>\n",
       "      <td>0.003205</td>\n",
       "      <td>-0.004631</td>\n",
       "    </tr>\n",
       "    <tr>\n",
       "      <th>WIKI/FMC - Close</th>\n",
       "      <td>0.000195</td>\n",
       "      <td>1.819629</td>\n",
       "      <td>0.004936</td>\n",
       "      <td>0.010736</td>\n",
       "    </tr>\n",
       "    <tr>\n",
       "      <th>WIKI/FFIV - Close</th>\n",
       "      <td>0.004061</td>\n",
       "      <td>0.699607</td>\n",
       "      <td>0.002786</td>\n",
       "      <td>0.008113</td>\n",
       "    </tr>\n",
       "    <tr>\n",
       "      <th>WIKI/FOXA - Close</th>\n",
       "      <td>-0.001673</td>\n",
       "      <td>1.146106</td>\n",
       "      <td>0.004447</td>\n",
       "      <td>0.004966</td>\n",
       "    </tr>\n",
       "    <tr>\n",
       "      <th>WIKI/FIS - Close</th>\n",
       "      <td>0.007228</td>\n",
       "      <td>0.821243</td>\n",
       "      <td>0.002088</td>\n",
       "      <td>0.011985</td>\n",
       "    </tr>\n",
       "    <tr>\n",
       "      <th>WIKI/FITB - Close</th>\n",
       "      <td>0.010692</td>\n",
       "      <td>1.238168</td>\n",
       "      <td>0.003456</td>\n",
       "      <td>0.017864</td>\n",
       "    </tr>\n",
       "    <tr>\n",
       "      <th>WIKI/FTI - Close</th>\n",
       "      <td>-0.010133</td>\n",
       "      <td>1.176081</td>\n",
       "      <td>0.006140</td>\n",
       "      <td>-0.003320</td>\n",
       "    </tr>\n",
       "    <tr>\n",
       "      <th>WIKI/FLIR - Close</th>\n",
       "      <td>0.011660</td>\n",
       "      <td>0.518512</td>\n",
       "      <td>0.003349</td>\n",
       "      <td>0.014663</td>\n",
       "    </tr>\n",
       "    <tr>\n",
       "      <th>WIKI/FLR - Close</th>\n",
       "      <td>-0.005402</td>\n",
       "      <td>1.493330</td>\n",
       "      <td>0.003177</td>\n",
       "      <td>0.003249</td>\n",
       "    </tr>\n",
       "    <tr>\n",
       "      <th>WIKI/GGP - Close</th>\n",
       "      <td>-0.012333</td>\n",
       "      <td>0.626242</td>\n",
       "      <td>0.004452</td>\n",
       "      <td>-0.008705</td>\n",
       "    </tr>\n",
       "    <tr>\n",
       "      <th>WIKI/GM - Close</th>\n",
       "      <td>-0.005164</td>\n",
       "      <td>1.499874</td>\n",
       "      <td>0.002230</td>\n",
       "      <td>0.003524</td>\n",
       "    </tr>\n",
       "    <tr>\n",
       "      <th>WIKI/GD - Close</th>\n",
       "      <td>0.010192</td>\n",
       "      <td>0.644040</td>\n",
       "      <td>0.001470</td>\n",
       "      <td>0.013923</td>\n",
       "    </tr>\n",
       "    <tr>\n",
       "      <th>WIKI/GE - Close</th>\n",
       "      <td>-0.017963</td>\n",
       "      <td>0.753545</td>\n",
       "      <td>0.003088</td>\n",
       "      <td>-0.013598</td>\n",
       "    </tr>\n",
       "    <tr>\n",
       "      <th>WIKI/GOOG - Close</th>\n",
       "      <td>0.011664</td>\n",
       "      <td>1.126851</td>\n",
       "      <td>0.002629</td>\n",
       "      <td>0.018191</td>\n",
       "    </tr>\n",
       "  </tbody>\n",
       "</table>\n",
       "<p>162 rows × 4 columns</p>\n",
       "</div>"
      ],
      "text/plain": [
       "                      alpha      beta    risque  rendement moyen\n",
       "actif                                                           \n",
       "WIKI/AAPL - Close  0.004744  1.127235  0.002958         0.011274\n",
       "WIKI/ABC - Close  -0.007188  1.100448  0.004408        -0.000813\n",
       "WIKI/ABBV - Close  0.005616  1.387032  0.003811         0.013651\n",
       "WIKI/AGN - Close  -0.016351  1.065977  0.005793        -0.010176\n",
       "WIKI/ADP - Close   0.004364  0.788576  0.001863         0.008932\n",
       "WIKI/ADSK - Close  0.015816  2.030120  0.006104         0.027576\n",
       "WIKI/ABT - Close   0.000429  1.542740  0.001446         0.009365\n",
       "WIKI/AEE - Close   0.005971  0.025599  0.001940         0.006119\n",
       "WIKI/ACN - Close   0.010736  0.883559  0.001468         0.015854\n",
       "WIKI/AEP - Close   0.003053 -0.015905  0.002185         0.002961\n",
       "WIKI/ADBE - Close  0.025416  0.931927  0.002163         0.030814\n",
       "WIKI/AET - Close   0.015145  0.444616  0.003982         0.017721\n",
       "WIKI/ADI - Close   0.010922  0.966345  0.003440         0.016519\n",
       "WIKI/ADM - Close  -0.005973  0.882841  0.002604        -0.000859\n",
       "WIKI/ADS - Close  -0.012382  1.420328  0.004702        -0.004154\n",
       "WIKI/AIV - Close  -0.002710  0.561396  0.002030         0.000542\n",
       "WIKI/ALL - Close   0.004073  0.743599  0.001575         0.008380\n",
       "WIKI/AES - Close  -0.008676  1.286648  0.002568        -0.001223\n",
       "WIKI/ALXN - Close -0.015076  1.080695  0.009053        -0.008816\n",
       "WIKI/AFL - Close  -0.007977  1.142269  0.007315        -0.001360\n",
       "WIKI/AMAT - Close  0.019550  1.211465  0.005431         0.026568\n",
       "WIKI/AIG - Close  -0.003387  1.254908  0.002004         0.003882\n",
       "WIKI/AMGN - Close -0.003236  1.445584  0.002923         0.005138\n",
       "WIKI/AIZ - Close   0.009174  0.226926  0.003410         0.010488\n",
       "WIKI/AMT - Close   0.006220  0.924050  0.002063         0.011572\n",
       "WIKI/AKAM - Close  0.008477  0.190236  0.009845         0.009579\n",
       "WIKI/ALLE - Close  0.007027  0.940608  0.001556         0.012476\n",
       "WIKI/AME - Close   0.007137  0.931537  0.001220         0.012533\n",
       "WIKI/AMP - Close  -0.001640  1.542391  0.004739         0.007295\n",
       "WIKI/AMZN - Close  0.032013  1.590041  0.003977         0.041224\n",
       "...                     ...       ...       ...              ...\n",
       "WIKI/EL - Close    0.016825  0.610593  0.002319         0.020362\n",
       "WIKI/ETFC - Close  0.018537  1.163949  0.004578         0.025279\n",
       "WIKI/ETN - Close   0.000232  1.247963  0.001882         0.007461\n",
       "WIKI/ETR - Close  -0.003887  0.361301  0.002285        -0.001794\n",
       "WIKI/EXC - Close   0.001218  0.219148  0.002317         0.002488\n",
       "WIKI/EQT - Close  -0.012407  0.550018  0.005731        -0.009221\n",
       "WIKI/EXPE - Close  0.001057  1.245274  0.004814         0.008271\n",
       "WIKI/FAST - Close  0.003082  0.504243  0.003492         0.006003\n",
       "WIKI/FB - Close    0.015160  0.798504  0.002824         0.019786\n",
       "WIKI/FCX - Close   0.004589  3.191240  0.038964         0.023075\n",
       "WIKI/EW - Close    0.005219  1.079769  0.013516         0.011474\n",
       "WIKI/EXPD - Close  0.006689  0.495859  0.001513         0.009562\n",
       "WIKI/FE - Close   -0.003677  0.127444  0.002983        -0.002939\n",
       "WIKI/F - Close    -0.012405  0.916771  0.001796        -0.007095\n",
       "WIKI/FISV - Close -0.000482  0.960129  0.007930         0.005080\n",
       "WIKI/FDX - Close   0.001616  1.466344  0.001697         0.010110\n",
       "WIKI/FLS - Close  -0.012584  1.373012  0.003205        -0.004631\n",
       "WIKI/FMC - Close   0.000195  1.819629  0.004936         0.010736\n",
       "WIKI/FFIV - Close  0.004061  0.699607  0.002786         0.008113\n",
       "WIKI/FOXA - Close -0.001673  1.146106  0.004447         0.004966\n",
       "WIKI/FIS - Close   0.007228  0.821243  0.002088         0.011985\n",
       "WIKI/FITB - Close  0.010692  1.238168  0.003456         0.017864\n",
       "WIKI/FTI - Close  -0.010133  1.176081  0.006140        -0.003320\n",
       "WIKI/FLIR - Close  0.011660  0.518512  0.003349         0.014663\n",
       "WIKI/FLR - Close  -0.005402  1.493330  0.003177         0.003249\n",
       "WIKI/GGP - Close  -0.012333  0.626242  0.004452        -0.008705\n",
       "WIKI/GM - Close   -0.005164  1.499874  0.002230         0.003524\n",
       "WIKI/GD - Close    0.010192  0.644040  0.001470         0.013923\n",
       "WIKI/GE - Close   -0.017963  0.753545  0.003088        -0.013598\n",
       "WIKI/GOOG - Close  0.011664  1.126851  0.002629         0.018191\n",
       "\n",
       "[162 rows x 4 columns]"
      ]
     },
     "execution_count": 55,
     "metadata": {},
     "output_type": "execute_result"
    }
   ],
   "source": [
    "resultats"
   ]
  },
  {
   "cell_type": "markdown",
   "metadata": {},
   "source": [
    "Maintenant il est possible de lancer une deuxième régression pour analyser l'impact du beta sur le rendement moyen:\n",
    "$$\\overline{r_i - r_f} = \\gamma_0 + \\gamma_1b_i + \\gamma_2\\sigma^2(e_i)$$"
   ]
  },
  {
   "cell_type": "markdown",
   "metadata": {},
   "source": [
    "Les éléments théoriques concernant le CAPM devraient nous donner les résultats suivants:\n",
    "$$\\gamma_0 = 0$$\n",
    "$$\\gamma_1 = \\overline{r_m - r_f}$$\n",
    "$$\\gamma_2 = 0$$"
   ]
  },
  {
   "cell_type": "code",
   "execution_count": 56,
   "metadata": {
    "scrolled": true
   },
   "outputs": [
    {
     "name": "stdout",
     "output_type": "stream",
     "text": [
      "                            OLS Regression Results                            \n",
      "==============================================================================\n",
      "Dep. Variable:        rendement moyen   R-squared:                       0.008\n",
      "Model:                            OLS   Adj. R-squared:                 -0.005\n",
      "Method:                 Least Squares   F-statistic:                    0.6081\n",
      "Date:                Wed, 13 Mar 2019   Prob (F-statistic):              0.546\n",
      "Time:                        20:09:32   Log-Likelihood:                 507.05\n",
      "No. Observations:                 162   AIC:                            -1008.\n",
      "Df Residuals:                     159   BIC:                            -998.8\n",
      "Df Model:                           2                                         \n",
      "Covariance Type:            nonrobust                                         \n",
      "==============================================================================\n",
      "                 coef    std err          t      P>|t|      [0.025      0.975]\n",
      "------------------------------------------------------------------------------\n",
      "const          0.0051      0.002      3.127      0.002       0.002       0.008\n",
      "beta           0.0018      0.002      1.099      0.273      -0.001       0.005\n",
      "risque        -0.0778      0.116     -0.672      0.502      -0.307       0.151\n",
      "==============================================================================\n",
      "Omnibus:                        6.506   Durbin-Watson:                   1.972\n",
      "Prob(Omnibus):                  0.039   Jarque-Bera (JB):                9.998\n",
      "Skew:                          -0.133   Prob(JB):                      0.00675\n",
      "Kurtosis:                       4.188   Cond. No.                         201.\n",
      "==============================================================================\n",
      "\n",
      "Warnings:\n",
      "[1] Standard Errors assume that the covariance matrix of the errors is correctly specified.\n"
     ]
    }
   ],
   "source": [
    "y = resultats['rendement moyen']\n",
    "X = resultats[['beta', 'risque']]\n",
    "X = sm.add_constant(X)\n",
    "model = sm.OLS(y, X).fit()\n",
    "print(model.summary())"
   ]
  },
  {
   "cell_type": "code",
   "execution_count": 57,
   "metadata": {},
   "outputs": [
    {
     "name": "stdout",
     "output_type": "stream",
     "text": [
      "0.005792651296308594\n"
     ]
    }
   ],
   "source": [
    "print(prime_marche)"
   ]
  },
  {
   "cell_type": "markdown",
   "metadata": {},
   "source": [
    "Cette analyse statistique a été pour la première fois mise en pratique par \n",
    "- Lintner, J. (1965). Security prices, risk, and maximal gains from diversification. The journal of finance, 20(4), 587-615.\n",
    "- Miller, M. H., & Scholes, M. (1972). Rates of return in relation to risk: A reexamination of some recent findings. Studies in the theory of capital markets, 23."
   ]
  },
  {
   "cell_type": "markdown",
   "metadata": {},
   "source": [
    "Les résultats de Miller et Scholes ne sont pas ceux attendus: $\\gamma_0$ et $\\gamma_2$ sont trop élevés, tandis que $\\gamma_1$ est trop faible."
   ]
  },
  {
   "cell_type": "markdown",
   "metadata": {},
   "source": [
    "Les difficultés à vérifier le CAPM sur des données réelles à l'aide de cette technique ont été mises sur le compte de plusieurs limites méthodologiques:\n",
    "- la volatilité des actifs limite nécessairement la comparaison statistique avec des moyennes (comme $\\gamma_1$ avec la moyenne de la prime de marché) et peut entraîner un biais d'échantillonnage dans l'estimation du beta lors de la première étape.\n",
    "- il existe nécéssairement une différence entre l'index de marché choisi et le portefeuille de marché du CAPM.\n",
    "- les investisseurs n'ont pas réellement un accés homogène au crédit correspondant au taux de l'actif sans risque."
   ]
  },
  {
   "cell_type": "markdown",
   "metadata": {},
   "source": [
    "La principale source d'inefficacité est l'erreur potentielle de mesurement du beta lors de la première étape. Une caractéristique des régressions sur une variable indépendante avec une erreur de mesure est qu'elles sur-estime la constante et qu'elles aplatissent la droite, c'est-à dire qu'elles sous-estiment le coefficient estimé."
   ]
  },
  {
   "cell_type": "markdown",
   "metadata": {},
   "source": [
    "Dans le papier de Miller et Scholes cité auparavant, les auteurs simulent un CAPM parfait, puis crééent des données associées en ajoutant une erreur de mesure. Les résultats statistiques sont alors similaires à ceux obtenus sur les données réelles: non cohérents avec le CAPM, alors même que les données proviennent d'un CAPM."
   ]
  },
  {
   "cell_type": "markdown",
   "metadata": {},
   "source": [
    "### Limiter le biais lié à l'erreur de mesure des betas"
   ]
  },
  {
   "cell_type": "markdown",
   "metadata": {},
   "source": [
    "Jensen, M. C., Black, F., & Scholes, M. S. (1972). The capital asset pricing model: Some empirical tests."
   ]
  },
  {
   "cell_type": "markdown",
   "metadata": {},
   "source": [
    "Pour limiter ce biais, Jensen et al. (1972) ont produit une méthode relativement similaire, mais qui regroupe les actions par portefeuilles. Les étapes sont les suivantes:\n",
    "- estimer les betas\n",
    "- classer les actifs\n",
    "- regrouper par portefeuilles selon l'ordre croissant des betas (pour augmenter l'hétérogénéité de l'échantillon)\n",
    "- calculer les betas et les rendements des portefeuilles\n",
    "- estimer la prime de rendement en fonction des betas."
   ]
  },
  {
   "cell_type": "markdown",
   "metadata": {},
   "source": [
    "1ere étape: estimer les betas"
   ]
  },
  {
   "cell_type": "code",
   "execution_count": 58,
   "metadata": {},
   "outputs": [
    {
     "name": "stdout",
     "output_type": "stream",
     "text": [
      "               alpha      beta    risque  rendement moyen\n",
      "actif                                                    \n",
      "WIKI/AAPL   0.004744  1.127235  0.002958         0.011274\n",
      "WIKI/ABC   -0.007188  1.100448  0.004408        -0.000813\n",
      "WIKI/AA     0.005616  1.387032  0.003811         0.013651\n",
      "WIKI/ABBV  -0.016351  1.065977  0.005793        -0.010176\n",
      "WIKI/ACE    0.004364  0.788576  0.001863         0.008932\n",
      "WIKI/AGN    0.015816  2.030120  0.006104         0.027576\n",
      "WIKI/ADP    0.000429  1.542740  0.001446         0.009365\n",
      "WIKI/ADSK   0.005971  0.025599  0.001940         0.006119\n",
      "WIKI/ABT    0.010736  0.883559  0.001468         0.015854\n",
      "WIKI/AEE    0.003053 -0.015905  0.002185         0.002961\n",
      "WIKI/ACN    0.025416  0.931927  0.002163         0.030814\n",
      "WIKI/AEP    0.015145  0.444616  0.003982         0.017721\n",
      "WIKI/ADBE   0.010922  0.966345  0.003440         0.016519\n",
      "WIKI/AET   -0.005973  0.882841  0.002604        -0.000859\n",
      "WIKI/ADI   -0.012382  1.420328  0.004702        -0.004154\n",
      "WIKI/ADM   -0.002710  0.561396  0.002030         0.000542\n",
      "WIKI/ADS    0.004073  0.743599  0.001575         0.008380\n",
      "WIKI/AIV   -0.008676  1.286648  0.002568        -0.001223\n",
      "WIKI/ADT   -0.015076  1.080695  0.009053        -0.008816\n",
      "WIKI/ALL   -0.007977  1.142269  0.007315        -0.001360\n",
      "WIKI/AES    0.019550  1.211465  0.005431         0.026568\n",
      "WIKI/ALTR  -0.003387  1.254908  0.002004         0.003882\n",
      "WIKI/ALXN  -0.003236  1.445584  0.002923         0.005138\n",
      "WIKI/AFL    0.009174  0.226926  0.003410         0.010488\n",
      "WIKI/AMAT   0.006220  0.924050  0.002063         0.011572\n",
      "WIKI/AIG    0.008477  0.190236  0.009845         0.009579\n",
      "WIKI/AMGN   0.007027  0.940608  0.001556         0.012476\n",
      "WIKI/AIZ    0.007137  0.931537  0.001220         0.012533\n",
      "WIKI/AMT   -0.001640  1.542391  0.004739         0.007295\n",
      "WIKI/AKAM   0.032013  1.590041  0.003977         0.041224\n",
      "...              ...       ...       ...              ...\n",
      "WIKI/DHI    0.000232  1.247963  0.001882         0.007461\n",
      "WIKI/DOW   -0.003887  0.361301  0.002285        -0.001794\n",
      "WIKI/DISCA  0.001218  0.219148  0.002317         0.002488\n",
      "WIKI/DTE   -0.012407  0.550018  0.005731        -0.009221\n",
      "WIKI/DLTR   0.001057  1.245274  0.004814         0.008271\n",
      "WIKI/DTV    0.003082  0.504243  0.003492         0.006003\n",
      "WIKI/DNR    0.015160  0.798504  0.002824         0.019786\n",
      "WIKI/DVA    0.004589  3.191240  0.038964         0.023075\n",
      "WIKI/DVN    0.005219  1.079769  0.013516         0.011474\n",
      "WIKI/DOV    0.006689  0.495859  0.001513         0.009562\n",
      "WIKI/EBAY  -0.003677  0.127444  0.002983        -0.002939\n",
      "WIKI/DPS   -0.012405  0.916771  0.001796        -0.007095\n",
      "WIKI/ECL   -0.000482  0.960129  0.007930         0.005080\n",
      "WIKI/DRI    0.001616  1.466344  0.001697         0.010110\n",
      "WIKI/ED    -0.012584  1.373012  0.003205        -0.004631\n",
      "WIKI/DUK    0.000195  1.819629  0.004936         0.010736\n",
      "WIKI/EMC    0.004061  0.699607  0.002786         0.008113\n",
      "WIKI/EMN   -0.001673  1.146106  0.004447         0.004966\n",
      "WIKI/EA     0.007228  0.821243  0.002088         0.011985\n",
      "WIKI/EMR    0.010692  1.238168  0.003456         0.017864\n",
      "WIKI/EOG   -0.010133  1.176081  0.006140        -0.003320\n",
      "WIKI/EQR    0.011660  0.518512  0.003349         0.014663\n",
      "WIKI/EFX   -0.005402  1.493330  0.003177         0.003249\n",
      "WIKI/ESRX  -0.012333  0.626242  0.004452        -0.008705\n",
      "WIKI/EIX   -0.005164  1.499874  0.002230         0.003524\n",
      "WIKI/EL     0.010192  0.644040  0.001470         0.013923\n",
      "WIKI/ETFC  -0.017963  0.753545  0.003088        -0.013598\n",
      "WIKI/ETN    0.011664  1.126851  0.002629         0.018191\n",
      "WIKI/ETR   -0.011479  0.386978  0.005123        -0.009237\n",
      "WIKI/EXC   -0.014205  1.200168  0.003083        -0.007253\n",
      "\n",
      "[164 rows x 4 columns]\n"
     ]
    }
   ],
   "source": [
    "resultats = pd.DataFrame(columns=['actif', 'alpha', 'beta', 'risque', 'rendement moyen'])\n",
    "\n",
    "X = donnees['Index']\n",
    "X = sm.add_constant(X)\n",
    "\n",
    "for i in range(nb_actifs):\n",
    "    y = donnees.iloc[:,i]\n",
    "    model = sm.OLS(y, X).fit()\n",
    "    resultats = resultats.append({'actif': liste_actions[i],\n",
    "                                  'alpha': model.params['const'], \n",
    "                                  'beta': model.params['Index'], \n",
    "                                  'risque': np.var(model.resid),\n",
    "                                  'rendement moyen' : np.mean(y)}, \n",
    "                                 ignore_index=True)\n",
    "\n",
    "prime_marche = np.mean(donnees['Index'])\n",
    "resultats = resultats.set_index('actif')\n",
    "print(resultats)"
   ]
  },
  {
   "cell_type": "markdown",
   "metadata": {},
   "source": [
    "2eme étape : classer par betas"
   ]
  },
  {
   "cell_type": "code",
   "execution_count": 59,
   "metadata": {},
   "outputs": [
    {
     "data": {
      "text/html": [
       "<div>\n",
       "<style scoped>\n",
       "    .dataframe tbody tr th:only-of-type {\n",
       "        vertical-align: middle;\n",
       "    }\n",
       "\n",
       "    .dataframe tbody tr th {\n",
       "        vertical-align: top;\n",
       "    }\n",
       "\n",
       "    .dataframe thead th {\n",
       "        text-align: right;\n",
       "    }\n",
       "</style>\n",
       "<table border=\"1\" class=\"dataframe\">\n",
       "  <thead>\n",
       "    <tr style=\"text-align: right;\">\n",
       "      <th></th>\n",
       "      <th>alpha</th>\n",
       "      <th>beta</th>\n",
       "      <th>risque</th>\n",
       "      <th>rendement moyen</th>\n",
       "    </tr>\n",
       "    <tr>\n",
       "      <th>actif</th>\n",
       "      <th></th>\n",
       "      <th></th>\n",
       "      <th></th>\n",
       "      <th></th>\n",
       "    </tr>\n",
       "  </thead>\n",
       "  <tbody>\n",
       "    <tr>\n",
       "      <th>WIKI/DNB</th>\n",
       "      <td>0.000247</td>\n",
       "      <td>-0.151233</td>\n",
       "      <td>0.003332</td>\n",
       "      <td>-0.000629</td>\n",
       "    </tr>\n",
       "    <tr>\n",
       "      <th>WIKI/CME</th>\n",
       "      <td>-0.000249</td>\n",
       "      <td>-0.107169</td>\n",
       "      <td>0.002647</td>\n",
       "      <td>-0.000870</td>\n",
       "    </tr>\n",
       "    <tr>\n",
       "      <th>WIKI/CAM</th>\n",
       "      <td>0.005652</td>\n",
       "      <td>-0.083852</td>\n",
       "      <td>0.002128</td>\n",
       "      <td>0.005167</td>\n",
       "    </tr>\n",
       "    <tr>\n",
       "      <th>WIKI/CVC</th>\n",
       "      <td>0.004196</td>\n",
       "      <td>-0.064881</td>\n",
       "      <td>0.002450</td>\n",
       "      <td>0.003820</td>\n",
       "    </tr>\n",
       "    <tr>\n",
       "      <th>WIKI/CTSH</th>\n",
       "      <td>0.010179</td>\n",
       "      <td>-0.031048</td>\n",
       "      <td>0.004132</td>\n",
       "      <td>0.009999</td>\n",
       "    </tr>\n",
       "  </tbody>\n",
       "</table>\n",
       "</div>"
      ],
      "text/plain": [
       "              alpha      beta    risque  rendement moyen\n",
       "actif                                                   \n",
       "WIKI/DNB   0.000247 -0.151233  0.003332        -0.000629\n",
       "WIKI/CME  -0.000249 -0.107169  0.002647        -0.000870\n",
       "WIKI/CAM   0.005652 -0.083852  0.002128         0.005167\n",
       "WIKI/CVC   0.004196 -0.064881  0.002450         0.003820\n",
       "WIKI/CTSH  0.010179 -0.031048  0.004132         0.009999"
      ]
     },
     "execution_count": 59,
     "metadata": {},
     "output_type": "execute_result"
    }
   ],
   "source": [
    "resultats.sort_values('beta', inplace=True)\n",
    "resultats.head()"
   ]
  },
  {
   "cell_type": "markdown",
   "metadata": {},
   "source": [
    "3eme étape: ranger par portefeuilles"
   ]
  },
  {
   "cell_type": "code",
   "execution_count": 60,
   "metadata": {},
   "outputs": [
    {
     "name": "stdout",
     "output_type": "stream",
     "text": [
      "      alpha      beta    risque  rendement moyen\n",
      "0  0.002739 -0.024441  0.002422         0.002597\n",
      "0  0.002739 -0.024441  0.002422         0.002597\n",
      "0  0.001957  0.194158  0.004238         0.003082\n",
      "0  0.003957  0.430044  0.002846         0.006448\n",
      "0  0.003023  0.545747  0.003701         0.006185\n",
      "0  0.000361  0.635100  0.003548         0.004040\n",
      "0  0.002919  0.744570  0.002238         0.007232\n",
      "0  0.002600  0.827012  0.003744         0.007390\n",
      "0  0.005711  0.905159  0.001930         0.010954\n",
      "0 -0.001203  0.957115  0.003929         0.004341\n",
      "0 -0.004720  1.053913  0.005370         0.001385\n",
      "0  0.000068  1.127889  0.004037         0.006601\n",
      "0  0.001541  1.188764  0.003181         0.008427\n",
      "0  0.000163  1.251012  0.002972         0.007410\n",
      "0  0.002525  1.411403  0.003704         0.010701\n",
      "0 -0.000593  1.495051  0.010569         0.008067\n"
     ]
    }
   ],
   "source": [
    "taille_portefeuille = 10\n",
    "resultats_portefeuilles = pd.DataFrame(resultats.iloc[0:10,].aggregate('mean')).transpose()\n",
    "\n",
    "for bloc in range(int(nb_actifs / taille_portefeuille) - 1):\n",
    "    resultats_portefeuilles = resultats_portefeuilles.append(pd.DataFrame(resultats.iloc[10*bloc:10*bloc+10,].aggregate('mean')).transpose())\n",
    "\n",
    "print(resultats_portefeuilles)"
   ]
  },
  {
   "cell_type": "markdown",
   "metadata": {},
   "source": [
    "4eme etape: estimer la prime de rendement en fonction des betas"
   ]
  },
  {
   "cell_type": "code",
   "execution_count": 61,
   "metadata": {},
   "outputs": [
    {
     "name": "stdout",
     "output_type": "stream",
     "text": [
      "                            OLS Regression Results                            \n",
      "==============================================================================\n",
      "Dep. Variable:        rendement moyen   R-squared:                       0.499\n",
      "Model:                            OLS   Adj. R-squared:                  0.421\n",
      "Method:                 Least Squares   F-statistic:                     6.462\n",
      "Date:                Wed, 13 Mar 2019   Prob (F-statistic):             0.0113\n",
      "Time:                        20:10:16   Log-Likelihood:                 77.073\n",
      "No. Observations:                  16   AIC:                            -148.1\n",
      "Df Residuals:                      13   BIC:                            -145.8\n",
      "Df Model:                           2                                         \n",
      "Covariance Type:            nonrobust                                         \n",
      "==============================================================================\n",
      "                 coef    std err          t      P>|t|      [0.025      0.975]\n",
      "------------------------------------------------------------------------------\n",
      "const          0.0043      0.001      3.336      0.005       0.002       0.007\n",
      "beta           0.0048      0.001      3.595      0.003       0.002       0.008\n",
      "risque        -0.5418      0.319     -1.701      0.113      -1.230       0.146\n",
      "==============================================================================\n",
      "Omnibus:                        4.492   Durbin-Watson:                   1.438\n",
      "Prob(Omnibus):                  0.106   Jarque-Bera (JB):                2.102\n",
      "Skew:                          -0.795   Prob(JB):                        0.350\n",
      "Kurtosis:                       3.791   Cond. No.                         770.\n",
      "==============================================================================\n",
      "\n",
      "Warnings:\n",
      "[1] Standard Errors assume that the covariance matrix of the errors is correctly specified.\n"
     ]
    },
    {
     "name": "stderr",
     "output_type": "stream",
     "text": [
      "/anaconda3/lib/python3.7/site-packages/scipy/stats/stats.py:1394: UserWarning: kurtosistest only valid for n>=20 ... continuing anyway, n=16\n",
      "  \"anyway, n=%i\" % int(n))\n"
     ]
    }
   ],
   "source": [
    "y = resultats_portefeuilles['rendement moyen']\n",
    "X = resultats_portefeuilles[['beta', 'risque']]\n",
    "X = sm.add_constant(X)\n",
    "model = sm.OLS(y, X).fit()\n",
    "print(model.summary())"
   ]
  },
  {
   "cell_type": "code",
   "execution_count": 62,
   "metadata": {},
   "outputs": [
    {
     "name": "stdout",
     "output_type": "stream",
     "text": [
      "0.005792651296308594\n"
     ]
    }
   ],
   "source": [
    "print(prime_marche)"
   ]
  },
  {
   "cell_type": "markdown",
   "metadata": {},
   "source": [
    "En pratique les résultats utilisant cette méthodologie sont plus proches des conclusions du CAPM théorique, mais ces résultats varient selon les périodes et les index utilisés. "
   ]
  }
 ],
 "metadata": {
  "kernelspec": {
   "display_name": "Python 3",
   "language": "python",
   "name": "python3"
  },
  "language_info": {
   "codemirror_mode": {
    "name": "ipython",
    "version": 3
   },
   "file_extension": ".py",
   "mimetype": "text/x-python",
   "name": "python",
   "nbconvert_exporter": "python",
   "pygments_lexer": "ipython3",
   "version": "3.7.2"
  }
 },
 "nbformat": 4,
 "nbformat_minor": 2
}

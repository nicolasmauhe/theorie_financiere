{
 "cells": [
  {
   "cell_type": "markdown",
   "metadata": {},
   "source": [
    "# Options"
   ]
  },
  {
   "cell_type": "markdown",
   "metadata": {},
   "source": [
    "## Description"
   ]
  },
  {
   "cell_type": "markdown",
   "metadata": {},
   "source": [
    "Une option donne le droit a son propriétaire d'acheter ou de vendre actif pour un prix précis (prix d'exercice, *exercise/strike price*) à une date précise."
   ]
  },
  {
   "cell_type": "markdown",
   "metadata": {},
   "source": [
    "Deux types d'options:"
   ]
  },
  {
   "cell_type": "markdown",
   "metadata": {},
   "source": [
    "- Option d'achat ou *call option*\n",
    "- Option de vente ou *put option*"
   ]
  },
  {
   "cell_type": "markdown",
   "metadata": {},
   "source": [
    "Deux manières d'acheter des options :"
   ]
  },
  {
   "cell_type": "markdown",
   "metadata": {},
   "source": [
    "- Sur des places centrales : options standardisées en termes de date, de prix d'exercice et de nombre de parts;\n",
    "- Sur des marchés de gré à gré (*over-the-counter, OTC*) sur lesquels tout peut être customisé."
   ]
  },
  {
   "cell_type": "markdown",
   "metadata": {},
   "source": [
    "Style américain: possibilité d'acheter/vendre avant la date d'expiration.\n",
    "Style européen: seulement à la date d'expiration."
   ]
  },
  {
   "cell_type": "markdown",
   "metadata": {},
   "source": [
    "Types d'actifs:"
   ]
  },
  {
   "cell_type": "markdown",
   "metadata": {},
   "source": [
    "- Options sur actions\n",
    "- Options sur index\n",
    "- Options sur les contrats à termes (*futures*)\n",
    "- Options de change (sur les monnaies étrangères)\n",
    "- Options de taux (sur les bons du Trésor)."
   ]
  },
  {
   "cell_type": "markdown",
   "metadata": {},
   "source": [
    "### Valeur des options à expiration"
   ]
  },
  {
   "cell_type": "markdown",
   "metadata": {},
   "source": [
    "Soit X le prix d'exercice et $S_T$ le prix de l'actif lors de la date d'expiration"
   ]
  },
  {
   "cell_type": "markdown",
   "metadata": {},
   "source": [
    "Valeur des options d'achat:"
   ]
  },
  {
   "cell_type": "markdown",
   "metadata": {},
   "source": [
    "- $S_T - X$ si $S_T > X$\n",
    "- 0 sinon."
   ]
  },
  {
   "cell_type": "markdown",
   "metadata": {},
   "source": [
    "Valeur des options de vente:"
   ]
  },
  {
   "cell_type": "markdown",
   "metadata": {},
   "source": [
    "- 0 si $S_T > X$\n",
    "- $X-S_T$ sinon."
   ]
  },
  {
   "cell_type": "markdown",
   "metadata": {},
   "source": [
    "## Stratégies"
   ]
  },
  {
   "cell_type": "markdown",
   "metadata": {},
   "source": [
    "### Protective put"
   ]
  },
  {
   "cell_type": "markdown",
   "metadata": {},
   "source": [
    "L'option de vente de protection ou *protective put* consiste à acheter une option de vente pour s'assurer contre une chute d'un actif. Le portefeuille est donc composé de l'option et de l'actif."
   ]
  },
  {
   "cell_type": "markdown",
   "metadata": {},
   "source": [
    "- Si $S_T > X$ : on exerce pas l'option et la valeur du portefeuille est de $S_T$\n",
    "- Si $S_T \\leq X$ : on exerce l'option de vente et la valeur du portefeuille est $X$."
   ]
  },
  {
   "cell_type": "markdown",
   "metadata": {},
   "source": [
    "![protective put](figures/protective_put.png)\n",
    "Source: Bodie, Zvi. Investments. Tata McGraw-Hill Education, 2009."
   ]
  },
  {
   "cell_type": "markdown",
   "metadata": {},
   "source": [
    "Profit d'une action versus d'un portefeuille constitué de l'action et de l'option de vente:"
   ]
  },
  {
   "cell_type": "markdown",
   "metadata": {},
   "source": [
    "![protective put](figures/protective_put2.png)\n",
    "Source: Bodie, Zvi. Investments. Tata McGraw-Hill Education, 2009."
   ]
  },
  {
   "cell_type": "markdown",
   "metadata": {},
   "source": [
    "### Covered call"
   ]
  },
  {
   "cell_type": "markdown",
   "metadata": {},
   "source": [
    "La vente d'option d'achat couvertes ou *covered call* consiste a acheter un actif et à vendre une option d'achat dessus."
   ]
  },
  {
   "cell_type": "markdown",
   "metadata": {},
   "source": [
    "- Si la valeur de l'actif reste en deça du prix d'exercice, l'option ne sera pas exercée, on empoche le premium. Valeur: $S_T + C$\n",
    "- Si la valeur de l'actif monte au-dessus du prix d'exercice, l'option sera exercée mais on est couvert par l'action. Valeur: $X$"
   ]
  },
  {
   "cell_type": "markdown",
   "metadata": {},
   "source": [
    "Cela constitue une stratégie intéressante pour les investisseurs institutionnels qui disposent de beaucoup d'actions. Ils peuvent booster leurs revenus en vendant des options de vente sur leurs actifs, au seul coût de se priver d'éventuel gains de capital en cas d'augmentation de la valeur de l'actif au dessus du prix d'exercice."
   ]
  },
  {
   "cell_type": "markdown",
   "metadata": {},
   "source": [
    "### Collar"
   ]
  },
  {
   "cell_type": "markdown",
   "metadata": {},
   "source": [
    "Un collar est une combinaison des deux stratégies précédentes sur un actif que l'on possède, afin de bénéficier d'une sécurité en cas de baisse financée par le premium de la vente de l'option. Le coût de la sécurité en cas de baisse est donc de se priver d'éventuel bénéfice en cas de prise de valeur."
   ]
  },
  {
   "cell_type": "markdown",
   "metadata": {},
   "source": [
    "- achat d'une option de vente à un prix d'exercice $X_1$\n",
    "- vente d'une option d'achat à un prix d'exercice $X_2$"
   ]
  },
  {
   "cell_type": "markdown",
   "metadata": {},
   "source": [
    "- Si $S_T \\leq X_1$ on exerce l'option de vente. Valeur : $X_1 (- C_1 + C_2)$\n",
    "- Si $S_T \\geq X_2$ on est couverts par la possession de l'actif. Valeur : $X_2 (- C_1 + C_2)$\n",
    "- Si $S_T$ entre les deux, on conserve simplement l'actif. Valeur: $S_T (- C_1 + C_2)$\n",
    "\n",
    "La valeur du portefeuille est donc cappé des deux cotés par les deux prix d'exercice. Cette assurance peut même être gratuite l'achat de l'option de vente est entièrement financée par la vente de l'option d'achat ($- C_1 + C_2 = 0$). On parle alors de “zero-cost collar.”"
   ]
  },
  {
   "cell_type": "markdown",
   "metadata": {},
   "source": [
    "### Straddle"
   ]
  },
  {
   "cell_type": "markdown",
   "metadata": {},
   "source": [
    "Un straddle est la stratégie inverse : on achète une option d'achat et une option de vente sur un actif, et on espère que le mouvement de l'actif sera tel qu'il permettra à l'une ou à l'autre des options de générer un bénéfice."
   ]
  },
  {
   "cell_type": "markdown",
   "metadata": {},
   "source": [
    "### Spreads"
   ]
  },
  {
   "cell_type": "markdown",
   "metadata": {},
   "source": [
    "Un spread est la combinaison d'achat et de vente d'options avec un décalage dans le temps ou un décalage du prix d'exercice.\n",
    "Par exemple, un bullish spread est l'achat d'une option d'achat a un prix d'exercice X1 et la vente d'une option d'achat a un prix d'exercice X2 supérieur à X1."
   ]
  },
  {
   "cell_type": "markdown",
   "metadata": {},
   "source": [
    "![](figures/option_spread.png)\n",
    "Source: Bodie, Zvi. Investments. Tata McGraw-Hill Education, 2009."
   ]
  },
  {
   "cell_type": "markdown",
   "metadata": {},
   "source": [
    "### Parité entre l'option de vente et l'option d'achat ou *put-call parity*"
   ]
  },
  {
   "cell_type": "markdown",
   "metadata": {},
   "source": [
    "Imaginons que l'on achète une option d'achat sur un actif S et un actif sans risque dont la valeur a maturité (à la date T) sera de $X$.\n",
    "- Si $S_T > X$, alors la valeur de l'option est de $S_T - X$. La valeur du portefeuille est $S_T - X +X = S_T$.\n",
    "- Si $S_T \\leq X$, alors la valeur de l'option est de 0. La valeur du portefeuille est $X$."
   ]
  },
  {
   "cell_type": "markdown",
   "metadata": {},
   "source": [
    "On obtient donc la meme valeur à terme que pour le portefeuille de la stratégie *protective put*. Les deux portefeuilles ont donc le même coût."
   ]
  },
  {
   "cell_type": "markdown",
   "metadata": {},
   "source": [
    "On note le coût de l'option d'achat $C$ (pour *call option*) et celui de l'option de vente $P$ (pour *put option*)."
   ]
  },
  {
   "cell_type": "markdown",
   "metadata": {},
   "source": [
    "Le coût de l'actif sans risque est $\\frac{X}{(1+r_f)^T}$. Le coût de l'action est $S_0$."
   ]
  },
  {
   "cell_type": "markdown",
   "metadata": {},
   "source": [
    "On a donc:\n",
    "$$C + \\frac{X}{(1+r_f)^T} = P + S_0$$"
   ]
  },
  {
   "cell_type": "markdown",
   "metadata": {},
   "source": [
    "Exercice. Vous disposez des infos suivantes:"
   ]
  },
  {
   "cell_type": "markdown",
   "metadata": {},
   "source": [
    "- Prix de l'action actuel : 110\n",
    "- Prix d'une option d'achat à 1 an pour un prix de 105 : 17\n",
    "- Prix d'une option de vente à 1 an pour un prix de 105 : 5\n",
    "- Taux de l'actif sans risque : 5%"
   ]
  },
  {
   "cell_type": "markdown",
   "metadata": {},
   "source": [
    "1. La parité entre l'option de vente et l'option d'achat est-elle respectée ?\n",
    "2. Proposez un prix pour l'option de vente qui respecterait cette parité.\n",
    "3. Comment bénéficier d'une opportunité d'arbitrage dans ces conditions ?"
   ]
  },
  {
   "cell_type": "markdown",
   "metadata": {},
   "source": [
    "Correction"
   ]
  },
  {
   "cell_type": "markdown",
   "metadata": {},
   "source": [
    "1. On remplace dans l'équation de parité put-call, et on trouve 117 côté call et 115 côté put. La parité n'est donc pas respectée.\n",
    "2. Si on maintient le prix du call a 17, alors le put doit valoir 7.\n",
    "3. Nous avons deux produits financiers identiques, à des prix différents. On shorte donc le produit le plus cher pour financer l'achat du produit le moins cher, ce qui ne nous coûte rien et n'entraîne aucune prise de risque (opportunité d'arbitrage). Au contraire, on empoche la différence de prix, c'est-à-dire 117 - 115 = 2.\n",
    "\n",
    "(Pour shorter le premier produit, on vend l'option et on emprunte 100)"
   ]
  },
  {
   "cell_type": "markdown",
   "metadata": {},
   "source": [
    "## Valorisation"
   ]
  },
  {
   "cell_type": "markdown",
   "metadata": {},
   "source": [
    "### Modèle binomial (version simplifiée)"
   ]
  },
  {
   "cell_type": "markdown",
   "metadata": {},
   "source": [
    "#### Modèle simple"
   ]
  },
  {
   "cell_type": "markdown",
   "metadata": {},
   "source": [
    "Le modèle binomial est une simplification de la réalité à deux états futurs. Néanmoins il a plusieurs atouts:"
   ]
  },
  {
   "cell_type": "markdown",
   "metadata": {},
   "source": [
    "- Il est possible de le complexifier a plusieurs états emboités. Beaucoup de modèles plus complexes sont basés dessus.\n",
    "- Il aide à comprendre l'idée de la valorisation des options."
   ]
  },
  {
   "cell_type": "markdown",
   "metadata": {},
   "source": [
    "Le principe est le suivant : on réduit la valeur future à la date $T$ à deux états possibles, l'un pondéré par un facteur élevé $u$ (up), ce qui donne $uS_0$, et l'autre pondéré par un facteur inférieur $d$ (down), ce qui donne $dS_0$.\n",
    "Par exemple, le prix de l'actif $S_0$ est 100, et la valeur de l'actif peut valoir dans le futur $uS_0=120$ ou $dS_0=90$, avec $u=1.2$ et $d=0.9$."
   ]
  },
  {
   "cell_type": "markdown",
   "metadata": {},
   "source": [
    "La problématique est la suivante: quelle est la valeur d'une option d'achat pour un prix d'exercice $X=110$ à un an, avec deux états possibles $uS_0=120$ ou $dS_0=90$, et avec un taux de l'actif sans risque $r_f = 10\\%$ ?"
   ]
  },
  {
   "cell_type": "markdown",
   "metadata": {},
   "source": [
    "Exercice : On va constituer un portefeuille (sans option) qui aura la même valeur que l'option. Avec seulement deux états futurs, c'est relativement simple."
   ]
  },
  {
   "cell_type": "markdown",
   "metadata": {},
   "source": [
    "1. Ecrivez les valeurs possibles de l'option.\n",
    "2. Considérez un portefeuille composé d'une action. Comment le compléter pour qu'il ait la même valeur que l'option en cas de scénario *down* ?\n",
    "3. Complétez le ensuite pour qu'il ait également la même valeur que l'option en cas de scénario *up*.\n",
    "4. En déduire le prix de l'option."
   ]
  },
  {
   "cell_type": "markdown",
   "metadata": {},
   "source": [
    "Correction"
   ]
  },
  {
   "cell_type": "markdown",
   "metadata": {},
   "source": [
    "1. 10 en cas de scénario *up* et 0 en cas de scénario *down*.\n",
    "2. L'action vaudra 120 en cas de scénario *up* et 90 en cas de scénario *down*. Pour obtenir 0 en cas de scénario *down*, il suffit de constituer un portefeuille avec une action et d'emprunter $\\frac{90}{1+0.10}$, ce qui nous obligera à rembourser 90. On obtient donc un portefeuille qui vaut 120-90=30 en cas de scénario *up* et 90-90=0 en cas de scénario *down*. Ce portefeuille coûte $100-\\frac{90}{1+0.10}$.\n",
    "3. Le portefeuille précédent a la même valeur que l'option en cas de scénario *down*, mais pas en cas de scénario *up*. On applique donc le ratio correctif $\\frac{10}{30} = \\frac13$ à notre portefeuille, ce qui revient à acquérir les éléments de ce portefeuille dans des quantités 3 fois moindres. Il coûtera alors $\\frac13(100-\\frac{90}{1+0.10}) = 6.06$. C'est donc le prix que doit avoir notre option, qui est un produit financier identique. Si le prix est différent, il existe une opportunité d'arbitrage."
   ]
  },
  {
   "cell_type": "markdown",
   "metadata": {},
   "source": [
    "#### Formule générale"
   ]
  },
  {
   "cell_type": "markdown",
   "metadata": {},
   "source": [
    "On doit répliquer le rendement de l'option en utilisant uniquement l'actif $S_0$ et l'actif sans risque. Notant respectivement $x$ et $b$ les montant pour lesquels on achète $S_0$ et l'actif sans risque. On note $R = 1 + r_f$. On cherche $x$ et $b$ de sorte à obtenir\n",
    "$$ux + Rb = C_u$$\n",
    "$$dx + Rb = C_d$$\n",
    "Avec $Cu$ désignant la valeur de l'option en cas de scénario up et Cd en cas de scénario down."
   ]
  },
  {
   "cell_type": "markdown",
   "metadata": {},
   "source": [
    "Exercice"
   ]
  },
  {
   "cell_type": "markdown",
   "metadata": {},
   "source": [
    "1. Résoudre le système d'équation précédent et obtenir x et b.\n",
    "2. En déduire la valeur du portefeuille constitué.\n",
    "3. Combien vaut l'action dans un marché sans opportunité d'arbitrage ?"
   ]
  },
  {
   "cell_type": "markdown",
   "metadata": {},
   "source": [
    "Correction\n",
    "\n",
    "$$ x = \\frac{C_u-C_d}{u-d}$$\n",
    "$$ b = \\frac1R \\frac{uC_d - dC_u}{u-d}$$\n",
    "$$x + b = \\frac1R \\frac{(R-d)C_u + (u-R)C_d}{u-d}$$"
   ]
  },
  {
   "cell_type": "markdown",
   "metadata": {},
   "source": [
    "#### Modèle combiné"
   ]
  },
  {
   "cell_type": "markdown",
   "metadata": {},
   "source": [
    "Imaginons que l'on passe à deux états successifs :"
   ]
  },
  {
   "cell_type": "markdown",
   "metadata": {},
   "source": [
    "![](figures/binomial_combined.png)"
   ]
  },
  {
   "cell_type": "markdown",
   "metadata": {},
   "source": [
    "On dispose de la valeur de Cuu, Cud et Cdd. Il est alors possible de valoriser Cu et Cd en utilisant le modèle simple. Puis de valoriser C."
   ]
  },
  {
   "cell_type": "markdown",
   "metadata": {},
   "source": [
    "![](figures/binomial_combined2.png)"
   ]
  },
  {
   "cell_type": "markdown",
   "metadata": {},
   "source": [
    "En utilisant un ordinateur, il est alors possible d'utiliser cette méthode pour avoir un grand nombre de période intermédiaires et donc d'états finaux."
   ]
  },
  {
   "cell_type": "markdown",
   "metadata": {},
   "source": [
    "Exercice : On suppose que le taux d'intérêt est de 5% par période. Valoriser l'option ci-dessus. ($X = 110$, $S_0=100$)"
   ]
  },
  {
   "cell_type": "code",
   "execution_count": 1,
   "metadata": {},
   "outputs": [],
   "source": [
    "import numpy as np\n",
    "\n",
    "S_0 = 100\n",
    "X = 110\n",
    "r_f = 0.05\n",
    "\n",
    "u = 1.1\n",
    "d = 0.95\n",
    "\n",
    "Cuu = np.maximum(u * u * S_0 - X, 0)\n",
    "Cud = np.maximum(u * d * S_0 - X, 0)\n",
    "Cdd = np.maximum(d * d * S_0 - X, 0)"
   ]
  },
  {
   "cell_type": "markdown",
   "metadata": {},
   "source": [
    "Définissons dans Python la formule obtenue dans le modèle simple."
   ]
  },
  {
   "cell_type": "code",
   "execution_count": 2,
   "metadata": {},
   "outputs": [],
   "source": [
    "def value_option(Cu, Cd, u, d, r_f):\n",
    "    R = 1 + r_f\n",
    "    result = ( 1 / (R * (u - d))) * ( (R - d) * Cu + (u - R) * Cd)\n",
    "    return result"
   ]
  },
  {
   "cell_type": "markdown",
   "metadata": {},
   "source": [
    "Il s'agit simplement de l'appliquer de manière récursive."
   ]
  },
  {
   "cell_type": "code",
   "execution_count": 3,
   "metadata": {},
   "outputs": [
    {
     "name": "stdout",
     "output_type": "stream",
     "text": [
      "Cu :6.984126984126992\n",
      "Cd :0.0\n",
      "C :4.434366339128249\n"
     ]
    }
   ],
   "source": [
    "Cu = value_option(Cuu, Cud, u, d, r_f)\n",
    "Cd = value_option(Cud, Cdd, u, d, r_f)\n",
    "C = value_option(Cu, Cd, u, d, r_f)\n",
    "print(\"Cu :\" + str(Cu))\n",
    "print(\"Cd :\" + str(Cd))\n",
    "print(\"C :\" + str(C))"
   ]
  },
  {
   "cell_type": "markdown",
   "metadata": {},
   "source": [
    "#### Calibration du modèle binomial"
   ]
  },
  {
   "cell_type": "markdown",
   "metadata": {},
   "source": [
    "Le modèle imbriqué ressemble à ceci :"
   ]
  },
  {
   "cell_type": "markdown",
   "metadata": {},
   "source": [
    "![](figures/binomial_combined3.png)"
   ]
  },
  {
   "cell_type": "markdown",
   "metadata": {},
   "source": [
    "Un même état est atteint lorsque l'on a le même nombre de *up* et de *down*, quel que soit l'ordre. \n",
    "Obtenir un état particulier se résume donc à obtenir k nombre de succès sur n expériences : \n",
    "la probabilité d'un état particulier suit donc une **distribution binomiale**, d'où le nom du modèle."
   ]
  },
  {
   "cell_type": "markdown",
   "metadata": {},
   "source": [
    "$$\\mathbb {P} (X=k)={n \\choose k}\\,p^{k}(1-p)^{n-k}$$"
   ]
  },
  {
   "cell_type": "markdown",
   "metadata": {},
   "source": [
    "Plus on se situe au centre, plus existe de chemins menant aux éléments du centre. En pratique, plus k se rapproche de n/2, plus la probabilité ci-dessus est élevée.\n",
    "On retrouve donc une forme classique proche de la distribution normale."
   ]
  },
  {
   "cell_type": "code",
   "execution_count": 4,
   "metadata": {},
   "outputs": [
    {
     "data": {
      "text/plain": [
       "[<matplotlib.lines.Line2D at 0x1a14234208>]"
      ]
     },
     "execution_count": 4,
     "metadata": {},
     "output_type": "execute_result"
    },
    {
     "data": {
      "application/pdf": "[encoded data removed]",
      "image/png": "[encoded data removed]",
      "text/plain": [
       "<Figure size 1080x720 with 1 Axes>"
      ]
     },
     "metadata": {
      "needs_background": "light"
     },
     "output_type": "display_data"
    }
   ],
   "source": [
    "import numpy as np\n",
    "from scipy.stats import norm, binom, lognorm\n",
    "import matplotlib.pyplot as plt\n",
    "plt.rcParams['figure.figsize'] = (15, 10)\n",
    "from IPython.display import set_matplotlib_formats\n",
    "set_matplotlib_formats('png', 'pdf')\n",
    "\n",
    "x_axis = np.arange(-5, 5, 0.001)\n",
    "plt.plot(x_axis, norm.pdf(x_axis,0,1))"
   ]
  },
  {
   "cell_type": "markdown",
   "metadata": {},
   "source": [
    "La loi binomiale normalisée tend vers la loi normale centrée réduite.\n",
    "$$\\frac  {X-{\\mathbb  E}(X)}{\\sigma _{X}}={\\frac  {X-np}{{\\sqrt  {npq}}}}$$"
   ]
  },
  {
   "cell_type": "markdown",
   "metadata": {},
   "source": [
    "Ce qui nous permet de l'utiliser sur des valeurs d'action si on fait la supposition que ces valeurs sont normalement distribuées. Mais il reste à bien choisir u et d pour obtenir une distribution finale proche de celle des valeurs de l'action considérée."
   ]
  },
  {
   "cell_type": "markdown",
   "metadata": {},
   "source": [
    "On suppose que l'on connaît $r$ le taux composé annuel et $\\sigma$ son écart-type. On cherche à reproduire ces caractéristiques."
   ]
  },
  {
   "cell_type": "markdown",
   "metadata": {},
   "source": [
    "Une méthode couramment utilisée pour calibrer u et d est de prendre :"
   ]
  },
  {
   "cell_type": "markdown",
   "metadata": {},
   "source": [
    "- $u = \\exp(\\sigma\\sqrt{\\Delta t})$\n",
    "- $d = \\exp(-\\sigma\\sqrt{\\Delta t})$"
   ]
  },
  {
   "cell_type": "markdown",
   "metadata": {},
   "source": [
    "On observe que l'on a $d = \\frac1u$."
   ]
  },
  {
   "cell_type": "markdown",
   "metadata": {},
   "source": [
    "On choisit p de sorte à obtenir le rendement r. Une méthode habituelle est :"
   ]
  },
  {
   "cell_type": "markdown",
   "metadata": {},
   "source": [
    "$$p = \\frac{\\exp(r\\Delta t) - d}{u - d}$$"
   ]
  },
  {
   "cell_type": "markdown",
   "metadata": {},
   "source": [
    "Testons tout cela."
   ]
  },
  {
   "cell_type": "code",
   "execution_count": 6,
   "metadata": {},
   "outputs": [],
   "source": [
    "n = 50\n",
    "r = 0.10\n",
    "sigma = 0.30\n",
    "S_0 = 100\n",
    "probabilities = []\n",
    "u = np.exp(sigma * np.sqrt(1 / n))\n",
    "d = 1 / u\n",
    "p = (np.exp(r/n) - d) / (u - d)\n",
    "\n",
    "succes = range(n + 1)\n",
    "valeurs = [(u ** k) * (d ** (n - k)) * S_0 for k in succes]\n",
    "rendements = [(u ** k) * (d ** (n - k)) for k in succes]\n",
    "probabilites = [binom.pmf(k, n, p) for k in succes]"
   ]
  },
  {
   "cell_type": "markdown",
   "metadata": {},
   "source": [
    "On peut représenter la *fonction de masse* de notre arbre à n embranchements."
   ]
  },
  {
   "cell_type": "code",
   "execution_count": 7,
   "metadata": {},
   "outputs": [
    {
     "data": {
      "text/plain": [
       "<matplotlib.collections.PathCollection at 0x1a137420f0>"
      ]
     },
     "execution_count": 7,
     "metadata": {},
     "output_type": "execute_result"
    },
    {
     "data": {
      "application/pdf": "[encoded data removed]",
      "image/png": "[encoded data removed]",
      "text/plain": [
       "<Figure size 1080x720 with 1 Axes>"
      ]
     },
     "metadata": {
      "needs_background": "light"
     },
     "output_type": "display_data"
    }
   ],
   "source": [
    "plt.scatter(valeurs, probabilites)"
   ]
  },
  {
   "cell_type": "markdown",
   "metadata": {},
   "source": [
    "On peut l'utiliser pour constituer une approximation de la fonction de densité pour un phénomène continu équivalent (un rendement)."
   ]
  },
  {
   "cell_type": "code",
   "execution_count": 8,
   "metadata": {},
   "outputs": [],
   "source": [
    "coeff = 1 / np.trapz(probabilites, rendements)\n",
    "probabilites_normees = [coeff * binom.pmf(k, n, p) for k in succes]"
   ]
  },
  {
   "cell_type": "code",
   "execution_count": 9,
   "metadata": {},
   "outputs": [
    {
     "data": {
      "text/plain": [
       "<matplotlib.legend.Legend at 0x1a1482b908>"
      ]
     },
     "execution_count": 9,
     "metadata": {},
     "output_type": "execute_result"
    },
    {
     "data": {
      "application/pdf": "[encoded data removed]",
      "image/png": "[encoded data removed]",
      "text/plain": [
       "<Figure size 1080x720 with 1 Axes>"
      ]
     },
     "metadata": {
      "needs_background": "light"
     },
     "output_type": "display_data"
    }
   ],
   "source": [
    "normal = [norm.pdf(x, 1.1, sigma) for x in rendements]\n",
    "\n",
    "plt.plot(rendements, probabilites_normees, label='Approximation binomiale')\n",
    "plt.plot(rendements, normal, label='Rendement gaussien')\n",
    "plt.legend()"
   ]
  },
  {
   "cell_type": "markdown",
   "metadata": {},
   "source": [
    "Comparé au rendement que l'on cherchait à mimer, l'approximation se révèle globalement satisfaisante. En utilisant ce modèle binomial, on peut valoriser une option ayant nimporte quel prix d'exercice."
   ]
  }
 ],
 "metadata": {
  "kernelspec": {
   "display_name": "Python 3",
   "language": "python",
   "name": "python3"
  },
  "language_info": {
   "codemirror_mode": {
    "name": "ipython",
    "version": 3
   },
   "file_extension": ".py",
   "mimetype": "text/x-python",
   "name": "python",
   "nbconvert_exporter": "python",
   "pygments_lexer": "ipython3",
   "version": "3.7.2"
  }
 },
 "nbformat": 4,
 "nbformat_minor": 2
}

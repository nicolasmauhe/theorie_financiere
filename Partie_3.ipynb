{
 "cells": [
  {
   "cell_type": "markdown",
   "metadata": {},
   "source": [
    "# Partie 3 : Evaluation par arbitrage (Arbitrage pricing theory)"
   ]
  },
  {
   "cell_type": "markdown",
   "metadata": {},
   "source": [
    "Le CAPM aboutit au resultat suivant, pour tout actif j:"
   ]
  },
  {
   "cell_type": "markdown",
   "metadata": {},
   "source": [
    "$$E(r_j) = r_f + \\beta_j*(E(r_M)-r_f)$$\n",
    "avec $$\\beta_j = \\frac{Cov(r_j, r_M)}{\\sigma_M^2}$$"
   ]
  },
  {
   "cell_type": "markdown",
   "metadata": {},
   "source": [
    "On peut étendre ce résultat à tout portefeuille d'actif p :"
   ]
  },
  {
   "cell_type": "markdown",
   "metadata": {},
   "source": [
    "$$E(r_p) = \\sum_j w_jE(r_j) = \\sum_j w_j*r_f + \\sum_j w_j*\\beta_j*(E(r_M)-r_f)$$\n",
    "C'est-à-dire : \n",
    "$$E(r_p) = r_f + \\beta_p * (E(r_M)-r_f)$$\n",
    "avec $$\\beta_p = \\sum_j w_j*\\beta_j$$"
   ]
  },
  {
   "cell_type": "markdown",
   "metadata": {},
   "source": [
    "L'objectif du modèle d'évaluation par arbitrage est de s'intéresser à la même idée de séparation entre risque systémique et risque spécifique, mais en l'abordant sous l'angle de l'arbitrage.\n",
    "\n",
    "Référence : \n",
    "Ross, Stephen A. « The arbitrage theory of capital asset pricing ». Journal of economic theory 13, nᵒ 3 (1976): 341–360."
   ]
  },
  {
   "cell_type": "markdown",
   "metadata": {},
   "source": [
    "L'argument formulé par Ross est d'abord conduit avec un seul facteur, puis généralisé à plusieurs."
   ]
  },
  {
   "cell_type": "markdown",
   "metadata": {},
   "source": [
    "La logique de l'APT tourne autour de l'idée d'arbitrage:"
   ]
  },
  {
   "cell_type": "markdown",
   "metadata": {},
   "source": [
    "La définition de l'arbitrge retenue habituellement est la possibilité de réaliser un profit sans risque, sans investir de richesse (la position doit-être nulle). Un exemple simple est celui d'un actif ayant deux prix différents sur deux marchés: l'achat du titre au prix le moins cher et sa revente au prix le plus cher constitue une opération d'arbitrage : le risque est nul, l'investissement total aussi, et le gain est certain (égal à la différence de prix). Les arbitrageurs garantissent ainsi *la loi du prix unique*. "
   ]
  },
  {
   "cell_type": "markdown",
   "metadata": {},
   "source": [
    "Il suffit d'un faible nombre d'arbitrageurs pour faire disparaître les opportunités d'arbitrage, car l'absence de risque et d'investissement permet de multiplier les opérations tant que l'opportunité existe. Tout investisseur voudra prendre une position infinie sur une opportunité d'arbitrage."
   ]
  },
  {
   "cell_type": "markdown",
   "metadata": {},
   "source": [
    "C'est le caractère général de ce principe et sa rapidité d'exécution qui rendent l'arbitrage séduisant pour justifier théoriquement un modèle : c'est un avantage que ne possède pas le CAPM."
   ]
  },
  {
   "cell_type": "markdown",
   "metadata": {},
   "source": [
    "## Une situation simple"
   ]
  },
  {
   "cell_type": "markdown",
   "metadata": {},
   "source": [
    "On suppose que tous les actifs dépendent d'un facteur $f$. En particulier pour deux actifs $j$ et $k$:\n",
    "$$r_j = a_j + \\beta_jf $$\n",
    "$$r_k = a_k + \\beta_kf $$"
   ]
  },
  {
   "cell_type": "markdown",
   "metadata": {},
   "source": [
    "On suppose que les bêtas sont différents pour ces deux actifs. Considérons un portefeuille composé de ces deux actifs :"
   ]
  },
  {
   "cell_type": "markdown",
   "metadata": {},
   "source": [
    "$$r = wr_j + (1-w)r_k  $$\n",
    "$$r = w(a_j + \\beta_jf) + (1-w)(a_k + \\beta_kf)$$\n",
    "$$r = wa_j + (1-w)a_k + [w\\beta_j + (1-w)\\beta_k]f$$"
   ]
  },
  {
   "cell_type": "markdown",
   "metadata": {},
   "source": [
    "Pour analyser l'effet de l'absence d'arbitrage, on va construire un portefeuille sans risque. Le rendement de ce portefeuille sera nécessairement égal au taux sans risque s'il n'y a pas d'opportunité d'arbitrage."
   ]
  },
  {
   "cell_type": "markdown",
   "metadata": {},
   "source": [
    "Si on prend \n",
    "$$w = \\frac{\\beta_k}{(\\beta_k - \\beta_j)}$$ \n",
    "on obtient\n",
    "$$r = wa_j + (1-w)a_k$$\n",
    "$$r = \\frac{\\beta_k}{(\\beta_k - \\beta_j)}a_j - \\frac{\\beta_j}{(\\beta_k - \\beta_j)}a_k$$"
   ]
  },
  {
   "cell_type": "markdown",
   "metadata": {},
   "source": [
    "Il s'agit d'un taux sans risque, en l'absence d'arbitrage on doit donc avoir ce taux égal à $r_f$."
   ]
  },
  {
   "cell_type": "markdown",
   "metadata": {},
   "source": [
    "$$r_f = \\frac{\\beta_k}{(\\beta_k - \\beta_j)}a_j - \\frac{\\beta_j}{(\\beta_k - \\beta_j)}a_k$$\n",
    "$$r_f(\\beta_k - \\beta_j) = \\beta_ka_j - \\beta_ja_k$$\n",
    "$$ \\frac{a_j - r_f}{\\beta_j} = \\frac{a_k - r_f}{\\beta_k} $$"
   ]
  },
  {
   "cell_type": "markdown",
   "metadata": {},
   "source": [
    "Donc tous les actifs $j$ ont cette quantité en commun :\n",
    "$$ \\frac{a_j - r_f}{\\beta_j} = c \\quad \\forall j $$\n",
    "Que l'on peut écrire:\n",
    "$$ a_j = r_f + \\beta_ic$$"
   ]
  },
  {
   "cell_type": "markdown",
   "metadata": {},
   "source": [
    "On peut donc obtenir l'espérance de revenu de $r_j$:\n",
    "$$ E(r_j) = a_j + \\beta_j E(f) = r_f + \\beta_jc + \\beta_jE(f) = r_f + \\beta_j(c + E(f))$$"
   ]
  },
  {
   "cell_type": "markdown",
   "metadata": {},
   "source": [
    "En l'appliquant au portefeuille de marché on obtient :\n",
    "$$ E(r_M) - r_f =  c + E(f)$$\n",
    "D'où\n",
    "$$ E(r_j) = r_f + \\beta_j(E(r_M) - r_f))$$\n",
    "Ce qui est la même équation que le CAPM."
   ]
  },
  {
   "cell_type": "markdown",
   "metadata": {},
   "source": [
    "## Un modèle plus avancé"
   ]
  },
  {
   "cell_type": "markdown",
   "metadata": {},
   "source": [
    "Comme le CAPM et l'APT (Arbitrage Pricing Theory) partagent la même idée de séparation entre risque systémique et risque spécifique, la supposition de départ de l'APT est très similaire au CAPM."
   ]
  },
  {
   "cell_type": "markdown",
   "metadata": {},
   "source": [
    "Supposons que le risque pur d'un rendement d'un actif $j$ puisse se décomposer en risque pur lié à un facteur unique (systémique, donc) et à un risque spécifique. On a alors:"
   ]
  },
  {
   "cell_type": "markdown",
   "metadata": {},
   "source": [
    "$$r_j = E(r_j) + \\beta_j\\bar \\delta + \\bar \\epsilon_j$$"
   ]
  },
  {
   "cell_type": "markdown",
   "metadata": {},
   "source": [
    "avec $\\bar \\delta$ désignant le risque pur systémique (donc d'espérance 0) et $\\bar \\epsilon_j$ le risque pur spécifique. Les risques spécifiques sont indépendants. (Techniquement : suffisamment indépendants pour que la loi des grands nombres s'applique)."
   ]
  },
  {
   "cell_type": "markdown",
   "metadata": {},
   "source": [
    "Pour prendre en compte la notion d'arbitrage, il faut prendre en compte deux aspects:\n",
    "1. La richesse investie dans un portefeuille d'arbitrage est nulle : les achats de certains actifs sont compensés par les ventes par ailleurs.\n",
    "2. Le risque systémique est nul. Les arbitrages parfaits disposent d'un risque (tout court) nul; mais l'APT ne nécessite que la supposition que le risque systémique soit nul, et que le risque spécifique soit bien équilibré entre les actifs, de sorte qu'il sera diversifié en augmentant le nombre d'actifs, et donc tendre vers 0 à l'aide de la loi des grands nombres."
   ]
  },
  {
   "cell_type": "markdown",
   "metadata": {},
   "source": [
    "Comme précédemment, un portefeuille est entièrement défini par les poids $w_j$ :\n",
    "$$\n",
    "w = \\left( \\begin{array}{c}\n",
    "w_1 \\\\\n",
    "w_2 \\\\\n",
    "\\vdots \\\\\n",
    "w_n \\\\\n",
    "\\end{array} \\right)\n",
    "$$"
   ]
  },
  {
   "cell_type": "markdown",
   "metadata": {},
   "source": [
    "On note $e$ le vecteur identité :\n",
    "$$\n",
    "e = \\left( \\begin{array}{c}\n",
    "1 \\\\\n",
    "1 \\\\\n",
    "\\vdots \\\\\n",
    "1 \\\\\n",
    "\\end{array} \\right)\n",
    "$$"
   ]
  },
  {
   "cell_type": "markdown",
   "metadata": {},
   "source": [
    "On note r le vecteur des rendements :\n",
    "$$\n",
    "r = \\left( \\begin{array}{c}\n",
    "r_1 \\\\\n",
    "r_2 \\\\\n",
    "\\vdots \\\\\n",
    "r_n \\\\\n",
    "\\end{array} \\right)\n",
    "$$"
   ]
  },
  {
   "cell_type": "markdown",
   "metadata": {},
   "source": [
    "On a de la même manière le vecteur de l'espérance des rendements $E$:\n",
    "$$\n",
    "E = \\left( \\begin{array}{c}\n",
    "\\mathrm{E}(r_1) \\\\\n",
    "\\mathrm{E}(r_2) \\\\\n",
    "\\vdots \\\\\n",
    "\\mathrm{E}(r_n) \\\\\n",
    "\\end{array} \\right)\n",
    "$$"
   ]
  },
  {
   "cell_type": "markdown",
   "metadata": {},
   "source": [
    "... et le vecteur des bêtas:\n",
    "$$\n",
    "\\beta = \\left( \\begin{array}{c}\n",
    "\\beta_1 \\\\\n",
    "\\beta_2 \\\\\n",
    "\\vdots \\\\\n",
    "\\beta_n \\\\\n",
    "\\end{array} \\right)\n",
    "$$"
   ]
  },
  {
   "cell_type": "markdown",
   "metadata": {},
   "source": [
    "La richesse (en proportion de la richesse disponible) investie dans le portefeuille est donc :\n",
    "$$w'e = \\sum_j w_j * 1$$"
   ]
  },
  {
   "cell_type": "markdown",
   "metadata": {},
   "source": [
    "Jusqu'à présent, on considérait les portefeuilles d'investissements qui réunissent nécéssairement toute la richesse disponible (quitte à placer une bonne partie dans l'actif sans risque). On avait alors :\n",
    "$$w'e = \\sum_j w_j * 1 = 1$$"
   ]
  },
  {
   "cell_type": "markdown",
   "metadata": {},
   "source": [
    "Nous nous intéressons ici à une forme particulière de portefeuille, qui implique que la richesse investie sous au contraire égale à 0 au total :\n",
    "$$w'e = w_j * 1 = 0$$\n",
    "Ce que l'on appelle un portefeuille d'arbitrage."
   ]
  },
  {
   "cell_type": "markdown",
   "metadata": {},
   "source": [
    "Le raisonnement est le suivant :"
   ]
  },
  {
   "cell_type": "markdown",
   "metadata": {},
   "source": [
    "Etape 1 : Constituer un portefeuille d'arbitrage de richesse investie nulle ($w'e = 0$) et suffisamment bien équilibré pour que le risque spécifique tende vers 0 avec la loi des grands nombres."
   ]
  },
  {
   "cell_type": "markdown",
   "metadata": {},
   "source": [
    "Etape 2 : Considérons notre portefeuille d'arbitrage :\n",
    "$$r_p = w'r = \\sum_j w_j r_j = \\sum_j w_j [E(r_j) + \\beta_j\\bar \\delta + \\bar \\epsilon_j]$$\n",
    "$$r_p = w'r = \\sum_j w_jE(r_j) + \\sum_j w_j\\beta_j\\bar \\delta + \\sum_j w_j\\bar \\epsilon_j$$\n",
    "$$r_p = w'r = w'E + (w'\\beta) \\bar \\delta + w'\\bar \\epsilon$$"
   ]
  },
  {
   "cell_type": "markdown",
   "metadata": {},
   "source": [
    "D'après la loi des grands nombres, pour un grand nombre d'actifs n, le rendement du portefeuille devient:"
   ]
  },
  {
   "cell_type": "markdown",
   "metadata": {},
   "source": [
    "$$r_p = w'r \\approx w'E + (w'\\beta) \\bar \\delta$$"
   ]
  },
  {
   "cell_type": "markdown",
   "metadata": {},
   "source": [
    "Etape 3 : Nous avons également le fait que le portefeuille n'ait pas de risque systémique, ce que l'on peut traduire par :\n",
    "$$w'\\beta = 0$$"
   ]
  },
  {
   "cell_type": "markdown",
   "metadata": {},
   "source": [
    "Ce qui nous donne :\n",
    "$$r_p = w'r \\approx w'E$$"
   ]
  },
  {
   "cell_type": "markdown",
   "metadata": {},
   "source": [
    "Ce que l'on peut interpréter comme un retour certain si le portefeuille est suffisamment diversifié pour faire disparaître le risque spécifique. En résumé, en n'utilisant aucune richesse, nous sommes à même ne nous assurer un rendement certain: c'est ce qui caractérise un portefeuille d'arbitrage."
   ]
  },
  {
   "cell_type": "markdown",
   "metadata": {},
   "source": [
    "Nécessairement, ce rendement certain doit être égal à 0. S'il est différent de 0, un petit nombre d'arbitrageurs suffira à faire revenir ce rendement à 0 très rapidement. Nous avons donc nécessairement:\n",
    "$$w'E = 0$$"
   ]
  },
  {
   "cell_type": "markdown",
   "metadata": {},
   "source": [
    "Nous avons donc :\n",
    "$$\\forall w \\in \\mathbb{R}^n, w'e = w'\\beta=0 \\Rightarrow w'E = 0  $$"
   ]
  },
  {
   "cell_type": "markdown",
   "metadata": {},
   "source": [
    "En faisant un peu d'algèbre, on peut tirer de ce résultat quelque chose d'intéressant."
   ]
  },
  {
   "cell_type": "markdown",
   "metadata": {},
   "source": [
    "Nous nous situons dans $\\mathbb{R}^n$, ce qui signifie que :\n",
    "$$\\forall w \\in \\mathbb{R}^n,$$\n",
    "$$\n",
    "w = \\left( \\begin{array}{c}\n",
    "w_1 \\\\\n",
    "w_2 \\\\\n",
    "\\vdots \\\\\n",
    "w_n \\\\\n",
    "\\end{array} \\right)\n",
    "$$\n",
    "d'où \n",
    "$$w = \\sum_j w_j * e_j$$\n",
    "avec \n",
    "$$\n",
    "e_j = \\left( \\begin{array}{c}\n",
    "0 \\\\\n",
    "0 \\\\\n",
    "\\vdots \\\\\n",
    "1 \\\\\n",
    "\\vdots \\\\\n",
    "0 \\\\\n",
    "\\end{array} \\right)\n",
    "$$\n",
    "(sur la ligne n°j)"
   ]
  },
  {
   "cell_type": "markdown",
   "metadata": {},
   "source": [
    "Il s'agit de la décomposition de $w$ dans la base canonique de $\\mathbb{R}^n$."
   ]
  },
  {
   "cell_type": "markdown",
   "metadata": {},
   "source": [
    "Néanmoins il existe une infinité de bases de $\\mathbb{R}^n$, et l'on pourrait décomposer $w$ dans n'importe laquelle."
   ]
  },
  {
   "cell_type": "markdown",
   "metadata": {},
   "source": [
    "Etant donné qu'il existe $n$ dimensions dans $\\mathbb{R}^n$, les bases de $\\mathbb{R}^n$ comprennent $n$ éléments."
   ]
  },
  {
   "cell_type": "markdown",
   "metadata": {},
   "source": [
    "Ces éléments forment une [famille libre](https://fr.wikipedia.org/wiki/Ind%C3%A9pendance_lin%C3%A9aire), c'est-à-dire qu'on ne peut écrire aucun élément de cette famille comme une combinaison linéaire des autres éléments:\n",
    "$$z = 1x + 2y$$"
   ]
  },
  {
   "cell_type": "markdown",
   "metadata": {},
   "source": [
    "C'est logique, car cela signifierait que cette dimension n'en est pas vraiment une. On dit qu'il existe une indépendance linéaire entre les éléments de la base. \n",
    "Formellement, pour une famille $(v_{i})_{{1\\leq i\\leq n}}$ cela s'écrit comme ceci:\n",
    "\n",
    "$\\forall (a_{1},\\ldots ,a_{n})\\in \\mathbb{R}^{n}$ non tous nuls, on a:\n",
    "$$\\quad \\left(a_{1}v_{1}+\\cdots +a_{n}v_{n}=0\\Rightarrow a_{1}=a_{2}=\\cdots =a_{n}=0\\right)$$"
   ]
  },
  {
   "cell_type": "markdown",
   "metadata": {},
   "source": [
    "Ce qui peut se traduire par : s'il existe des coefficient $a_i$ non tous nuls tels que l'on peut écrire une relation linéaire entre les éléments de la famille, alors c'est que tous les coefficients $a_i$ valent 0, car sinon la famille ne serait pas libre (il n'y aurait pas d'indépendance linéaire)."
   ]
  },
  {
   "cell_type": "markdown",
   "metadata": {},
   "source": [
    "Parmi les bases de $\\mathbb{R}^n$, il en existe qui dont les vecteurs sont orthogonaux entre eux. C'est-à dire que le produit scalaire de deux vecteurs est nuls : la projection d'un vecteur sur l'autre vaut 0. Le produit scalaire dans $\\mathbb{R}^n$ est simplement:\n",
    "$$\\langle x,y\\rangle =\\sum _{{i=1}}^{n}x_{i}y_{i}= x'y$$\n",
    "Rappelons nous que le produit scalaire est bilinéaire, que l'on peut donc séparer les sommes et sortir les facteurs."
   ]
  },
  {
   "cell_type": "markdown",
   "metadata": {},
   "source": [
    "Commençons par observer que la famille $(e, \\beta)$ forme une famille libre (sinon les betas seraient tous égaux, situation que l'on peut écarter)."
   ]
  },
  {
   "cell_type": "markdown",
   "metadata": {},
   "source": [
    "Le produit scalaire de $e$ et de $\\beta$ est:\n",
    "$$\\langle e,\\beta\\rangle = \\sum _{{i=1}}^{n}1*\\beta_i$$"
   ]
  },
  {
   "cell_type": "markdown",
   "metadata": {},
   "source": [
    "Pour obtenir un produit scalaire nul, il suffit simplement de centrer le vecteur $\\beta$, c'est-à-dire de soustraire chaque élément par sa moyenne $\\bar \\beta = \\frac1n\\sum _{{i=1}}^{n}\\beta_i$:\n",
    "$$\\langle e,\\beta - \\bar \\beta e\\rangle = \\sum _{{i=1}}^{n}1*(\\beta_i - \\bar \\beta) = \\sum _{{i=1}}^{n}\\beta_i - n\\bar \\beta = \\sum _{{i=1}}^{n}\\beta_i - \\frac nn\\sum _{{i=1}}^{n}\\beta_i=0$$"
   ]
  },
  {
   "cell_type": "markdown",
   "metadata": {},
   "source": [
    "Nous avons donc deux vecteurs qui forment une famille libre, et ils sont orthogonaux entre eux."
   ]
  },
  {
   "cell_type": "markdown",
   "metadata": {},
   "source": [
    "C'est un bon début pour une base de $\\mathbb{R}^n$. Il serait possible de trouver $(v_3, v_4, ..., v_n)$ pour compléter $(e, \\beta - \\bar \\beta e)$ et former une famille libre et dont les vecteurs sont orthogonaux entre eux."
   ]
  },
  {
   "cell_type": "markdown",
   "metadata": {},
   "source": [
    "$(e, \\beta - \\bar \\beta e, v_3, ..., v_n)$ est alors une famille libre de $n$ vecteurs: elle forme alors une base de $\\mathbb{R}^n$. Il est possible d'écrire n'impore quel élément de $\\mathbb{R}^n$ comme une combinaison linéaire de ces éléments. Prenons le vecteur E des espérance de rendements:\n",
    "$$\n",
    "E = \\left( \\begin{array}{c}\n",
    "\\mathrm{E}(r_1) \\\\\n",
    "\\mathrm{E}(r_2) \\\\\n",
    "\\vdots \\\\\n",
    "\\mathrm{E}(r_n) \\\\\n",
    "\\end{array} \\right)\n",
    "$$"
   ]
  },
  {
   "cell_type": "markdown",
   "metadata": {},
   "source": [
    "On a donc :\n",
    "$$\\exists (a_{1},\\ldots ,a_{n})\\in \\mathbb{R}^{n}, E= a_1e + a_2(\\beta - \\bar \\beta e) + a_3v_3 + ... + a_nv_n$$\n",
    "et\n",
    "$$\\forall w \\in \\mathbb{R}^{n}, \\exists (b_{1},\\ldots ,b_{n})\\in \\mathbb{R}^{n}, w= b_1e + b_2(\\beta - \\bar \\beta e) + b_3v_3 + ... + b_nv_n$$"
   ]
  },
  {
   "cell_type": "markdown",
   "metadata": {},
   "source": [
    "Or si on se limite au portefeuille d'arbitrage $w$ tel que défini précédemment, on a :\n",
    "$$\\langle w,e\\rangle =w'e =  0$$\n",
    "$$\\langle b_1e + b_2(\\beta - \\bar \\beta e) + b_3v_3 + ... + b_nv_n, e\\rangle = 0$$\n",
    "or \n",
    "$$\\langle b_1e + b_2(\\beta - \\bar \\beta e) + b_3v_3 + ... + b_nv_n, e\\rangle = \\langle b_1e, e\\rangle$$ car la base est composée de vecteur orthogonaux entre eux.\n",
    "On a donc:\n",
    "$$\\langle b_1e, e\\rangle = b_1||e||=0$$\n",
    "D'où $b_1 = 0$."
   ]
  },
  {
   "cell_type": "markdown",
   "metadata": {},
   "source": [
    "De la même manière on a $$\\langle w,\\beta - \\bar \\beta e\\rangle = \\langle w,\\beta \\rangle - \\langle w,\\bar \\beta e\\rangle=w'\\beta - \\bar \\beta w'e=  0$$\n",
    "et on a donc $b_2 = 0$"
   ]
  },
  {
   "cell_type": "markdown",
   "metadata": {},
   "source": [
    "On a donc $$w= b_3v_3 + ... + b_nv_n$$"
   ]
  },
  {
   "cell_type": "markdown",
   "metadata": {},
   "source": [
    "On peut repartir de:\n",
    "$$E= a_1e + a_2(\\beta - \\bar \\beta e) + a_3v_3 + ... + a_nv_n$$\n",
    "et multiplier par $w'$:\n",
    "$$w'E = a_1w'e + a_2w'(\\beta - \\bar \\beta e) + w'(a_3v_3 + ... + a_nv_n)$$\n",
    "$$0 = w'(a_3v_3 + ... + a_nv_n)$$\n",
    "$$0 = \\langle w,a_3v_3 + ... + a_nv_n\\rangle$$\n",
    "$$0 = \\langle b_3v_3 + ... + b_nv_n, a_3v_3 + ... + a_nv_n\\rangle$$"
   ]
  },
  {
   "cell_type": "markdown",
   "metadata": {},
   "source": [
    "Le fait que les vecteur soient orthogonaux deux-à-deux permet d'aboutir à:\n",
    "$$0 = a_3b_3||v_3|| + ... + a_nb_n||v_n||$$"
   ]
  },
  {
   "cell_type": "markdown",
   "metadata": {},
   "source": [
    "Or on sait que $||v_i|| \\neq 0$ et que l'égalité précédente reste vraie pour tous les $(b_3, ..., b_n) \\in \\mathbb{R}^n$.\n",
    "On a donc:\n",
    "$$a_3 = ... = a_n = 0$$\n",
    "et donc \n",
    "$$E= a_1e + a_2(\\beta - \\bar \\beta e)$$\n",
    "ce que l'on peut réécrire comme :\n",
    "$$E= (a_1 - a_2\\bar \\beta)e + a_2\\beta$$\n",
    "d'où le résultat fondamental de l'Arbitrage Pricing Theory:\n",
    "$$E= \\rho e + \\lambda\\beta$$"
   ]
  },
  {
   "cell_type": "markdown",
   "metadata": {},
   "source": [
    "C'est une égalité vectorielle que l'on peut dérouler au niveau des espérance de rendements des actifs individuels:\n",
    "$$E(r_j) = \\rho + \\lambda\\beta_j, \\quad j=(1, ..., n)$$"
   ]
  },
  {
   "cell_type": "markdown",
   "metadata": {},
   "source": [
    "Pour l'actif sans risque $r_n$, on a $\\beta_{n} = 0$, et donc :\n",
    "$$E(r_n) = r_f = \\rho$$\n",
    "L'égalité devient:\n",
    "$$E(r_j) = r_f + \\lambda\\beta_j, \\quad j=(1, ..., n)$$"
   ]
  },
  {
   "cell_type": "markdown",
   "metadata": {},
   "source": [
    "On observe là-encore que cette égalité s'applique aux portefeuilles:\n",
    "$$E(r_p) = \\sum_j w_jE(r_j) = \\sum_j w_j*r_f + \\sum_j w_j\\beta_j \\lambda$$\n",
    "$$E(r_p) = w'E = r_f + \\lambda \\beta_p$$"
   ]
  },
  {
   "cell_type": "markdown",
   "metadata": {},
   "source": [
    "En particulier au portefeuille de marché:\n",
    "$$E(r_m) = w_m'E = r_f + \\lambda\\beta_m$$"
   ]
  },
  {
   "cell_type": "markdown",
   "metadata": {},
   "source": [
    "Or on a :\n",
    "$$r_j = E(r_j) + \\beta_j\\bar \\delta + \\bar \\epsilon_j$$\n",
    "donc pour le marché :\n",
    "$$r_m = E(r_m) + \\beta_m\\bar \\delta $$\n",
    "D'où $\\beta_m = 1$, logiquement."
   ]
  },
  {
   "cell_type": "markdown",
   "metadata": {},
   "source": [
    "On a donc :\n",
    "$$E(r_m) = r_f + \\lambda$$\n",
    "$$\\lambda = E(r_m) - r_f$$"
   ]
  },
  {
   "cell_type": "markdown",
   "metadata": {},
   "source": [
    "Le résultat devient donc :\n",
    "$$E(r_j) = r_f + (E(r_m) - r_f)\\beta_j, \\quad j=(1, ..., n)$$"
   ]
  },
  {
   "cell_type": "markdown",
   "metadata": {},
   "source": [
    "### Risque spécifique négligeable"
   ]
  },
  {
   "cell_type": "markdown",
   "metadata": {},
   "source": [
    "On a vu à l'étape 2 que:\n",
    "$$r_p = w'r = \\sum_j w_jE(r_j) + \\sum_j w_j\\beta_j\\bar \\delta + \\sum_j w_j\\bar \\epsilon_j$$\n",
    "Ce qui nous permet d'écrire la variance du portefeuille:\n",
    "$$\\sigma_p^2 =  \\beta_p^2 \\sigma^2(\\bar \\delta) + \\sum_j w_j^2\\sigma^2(\\bar \\epsilon_j)$$"
   ]
  },
  {
   "cell_type": "markdown",
   "metadata": {},
   "source": [
    "Le fait que la part de la variance du portefeuille spécifique aux actifs $\\sum_j w_j^2\\sigma^2(\\bar \\epsilon_j)$ deviennent négligeable dépend de plusieurs suppositions et de l'application de la loi des grands nombres. Mais nous pouvons avoir une intuition du phénomène en prenant un portefeuille avec des poids égaux a $\\frac1n$:"
   ]
  },
  {
   "cell_type": "markdown",
   "metadata": {},
   "source": [
    "$$\\sum_j w_j^2\\sigma^2(\\bar \\epsilon_j) = \\sum_j (\\frac1n)^2\\sigma^2(\\bar \\epsilon_j) = \\frac1n \\sum_j \\frac1n\\sigma^2(\\bar \\epsilon_j) = \\frac1n \\bar \\sigma^2(\\bar \\epsilon_j)$$"
   ]
  },
  {
   "cell_type": "markdown",
   "metadata": {},
   "source": [
    "Si la variance des actifs est bornée (ce qui constitue une hypothèse du modèle), alors la diversification fera tendre la composante spécifique de la variance du portefeuille vers 0."
   ]
  },
  {
   "cell_type": "markdown",
   "metadata": {},
   "source": [
    "Dans le cas général, il faut que le portefeuille soit suffisamment diversifié pour que cette quantité devienne négligeable. Si chaque actif reste présent dans le portfeuille avec un magnitude de 1/n (comme présenté par Ross, 1976), alors cela s'applique. On peut définir de manière plus générale un portefeuille comme bien diversifié si cette quantité est négligeable."
   ]
  },
  {
   "cell_type": "markdown",
   "metadata": {},
   "source": [
    "En pratique, cela constitue le principal raccourci (et donc la faiblesse) du modèle APT. "
   ]
  },
  {
   "cell_type": "code",
   "execution_count": 3,
   "metadata": {},
   "outputs": [
    {
     "name": "stdout",
     "output_type": "stream",
     "text": [
      "N: 4 Risque spécifique : 0.1\n",
      "N: 60 Risque spécifique : 0.025819888974716113\n",
      "N: 200 Risque spécifique : 0.014142135623730952\n",
      "N: 1000 Risque spécifique : 0.00632455532033676\n",
      "N: 10000 Risque spécifique : 0.002\n"
     ]
    }
   ],
   "source": [
    "import numpy as np\n",
    "sigma_2_j = 0.2\n",
    "for n in [4, 60, 200, 1000, 10000]:\n",
    "    sd = (1 / n) * sigma_2_j ** 2\n",
    "    print(\"N: \" + str(n) + \" Risque spécifique : \" + str(np.sqrt(sd)))"
   ]
  },
  {
   "cell_type": "markdown",
   "metadata": {},
   "source": [
    "Les fonds et les index contiennent généralement moins de 1000 actifs, les plus gros peuvent monter jusqu'à 5000. En situation idéale (diversification a 1/n), le risque spécifique n'est pas tout à fait négligeable."
   ]
  },
  {
   "cell_type": "markdown",
   "metadata": {},
   "source": [
    "### CAPM ou APT a un facteur ?"
   ]
  },
  {
   "cell_type": "markdown",
   "metadata": {},
   "source": [
    "L'APT a plusieurs arguments a faire valoir contre le CAPM:\n",
    "- Pas de normalité des rendements\n",
    "- Pas d'homogénéité des comportements (le CAPM suppose que tout le monde optimise à la Markowitz)\n",
    "- Caractère indiscutable et universel de l'arbitrage\n",
    "- Rapidité d'exécution ; les opportunités d'arbitrages sont comblées aussi vite que possible, tandis que les écarts à l'équilibre dans le CAPM sont réajustés par l'aggrégation de gros volumes d'opérations conduites par les investisseurs qui modifient leurs portefeuilles.\n",
    "- Nécessite peu d'arbitrageurs, tandis que l'ensemble des investisseurs doivent réajuster leurs portefeuilles pour que le système reviennent à l'équilibre dans le CAPM. \n",
    "- Un portefeuille suffisamment bien diversifié suffit dans l'APT, tandis que le CAPM nécessite un portefeuille optimal composé de tous les actifs d'un marché supposé unique et accessible entièrement à tous."
   ]
  },
  {
   "cell_type": "markdown",
   "metadata": {},
   "source": [
    "Il a cependant plusieurs inconvénients:\n",
    "- La supposition de risque spécifique négligeable peut être violée même pour de très grands portefeuilles. Les portefeuilles actifs ont une taille plus limitée, et peuvent donc manifester un risque spécifique persistant.\n",
    "- Mathématiquement, les conclusions de l'APT sont valables pour l'ensemble des actifs sauf peut-être quelques-uns. Ces exceptions ne sont pas possibles dans le CAPM, car les agents shortent ou achètent les actifs qui ne possèdent pas le bon ratio contribution au rendement / contribution au risque systémique."
   ]
  },
  {
   "cell_type": "markdown",
   "metadata": {},
   "source": [
    "Mais les deux modèles arrivent à la même conclusion, ce qui renforce sa pertinence."
   ]
  },
  {
   "cell_type": "markdown",
   "metadata": {},
   "source": [
    "## Le modèle a plusieurs facteurs"
   ]
  },
  {
   "cell_type": "markdown",
   "metadata": {},
   "source": [
    "Il est possible de supposer que le risque ne provient pas d'une seule source, mais de plusieurs. A l'inverse du CAPM, il n'y a pas de notion d'équilibre et donc de marché comme facteur unique. On peut imaginer plusieurs source  de facteurs systémiques affectant les actifs."
   ]
  },
  {
   "cell_type": "markdown",
   "metadata": {},
   "source": [
    "Prenons par exemple deux facteurs:"
   ]
  },
  {
   "cell_type": "markdown",
   "metadata": {},
   "source": [
    "$$r_j = E(r_j) + \\beta_{j1}\\bar \\delta_1 + \\beta_{j2}\\bar \\delta_2+ \\bar \\epsilon_j$$"
   ]
  },
  {
   "cell_type": "markdown",
   "metadata": {},
   "source": [
    "On peut imaginer que le premier facteur désigne un décalage entre la croissance mondiale et les prévisions, tandis que le second désigne un changement inattendu de taux d'intérêts. Les deux facteurs sont toujours d'espérance nulle car ils désignent le risque pur, la surprise : ce qui était attendu est déjà intégré dans l'espérance de $r_j$."
   ]
  },
  {
   "cell_type": "markdown",
   "metadata": {},
   "source": [
    "Les facteurs peuvent être intégrés dans le modèle à l'aide de *tracking portfolios*, des portefeuilles conçus pour avoir un beta de 1 vis-à-vis du facteur considéré."
   ]
  },
  {
   "cell_type": "markdown",
   "metadata": {},
   "source": [
    "Il pourrait être démontré que l'absence d'arbitrage implique le résultat suivant :\n",
    "$$E(r_j) = r_f + (E(r_{p1}) - r_f)\\beta_{p1} + (E(r_{p2}) - r_f)\\beta_{p2}$$"
   ]
  },
  {
   "cell_type": "markdown",
   "metadata": {},
   "source": [
    "Intuitivement, cela se traduit par le fait le concept d'arbitrage s'étend aisèment à plusieurs facteurs. Pour l'actif $r_j$ vu précédemment, il est possible de constituer un portefeuille Q répliquant le rendement attendu, en investissant $\\beta_{p1}$ dans le portefeuille du facteur 1, $\\beta_{p2}$ dans le portefeuille du facteur 2 et $1 - \\beta_{p1} - \\beta_{p2}$ dans l'actif sans risque. On obtient:"
   ]
  },
  {
   "cell_type": "markdown",
   "metadata": {},
   "source": [
    "$$E(r_Q) = \\beta_{p1}E(r_1) + \\beta_{p2}E(r_2) + (1 - \\beta_{p1} - \\beta_{p2})r_f$$\n",
    "$$E(r_Q) = r_f + (E(r_{p1}) - r_f)\\beta_{p1} + (E(r_{p2}) - r_f)\\beta_{p2}$$"
   ]
  },
  {
   "cell_type": "markdown",
   "metadata": {},
   "source": [
    "Si le rendement d'un actif dévie de la valeur prédite par les facteurs qui le composent, une opportunité d'arbitrage apparaît."
   ]
  },
  {
   "cell_type": "markdown",
   "metadata": {},
   "source": [
    "## Le modèle Fama-French a trois facteurs"
   ]
  },
  {
   "cell_type": "markdown",
   "metadata": {},
   "source": [
    "### Théorie"
   ]
  },
  {
   "cell_type": "markdown",
   "metadata": {},
   "source": [
    "Le modèle APT peut se généraliser à plusieurs sources de risques. Comment les identifier ? Lesquelles sont nécessaires ? Un modèle relativement éprouvé est le modèle Fama-French a trois facteurs."
   ]
  },
  {
   "cell_type": "markdown",
   "metadata": {},
   "source": [
    "Si une source de risque est non identifiée par le CAPM (ou l'APT a un facteur), quelles sont les conséquences ?"
   ]
  },
  {
   "cell_type": "markdown",
   "metadata": {},
   "source": [
    "Compte-tenu de l'intelligence du marché, les conséquences probables sont une adaptation plus ou moins consciente des agents face à des actifs qui présentent une sensibilité à ces risques.\n",
    "A rendement égal, ils préfereront les fuir : \"ce type d'actif a tendance à être risqué, pour ce prix là cela ne vaut pas la peine\".\n",
    "Ce qui va entraîner une baisse des prix et donc une augmentation du rendement jusqu'à ce que le \"surplus\" de rendement compense le surplus de risque."
   ]
  },
  {
   "cell_type": "markdown",
   "metadata": {},
   "source": [
    "Conséquence : un alpha positif dans le CAPM classique pour les actifs sensibles à cette nouvelle source de risque, et négatif pour les autres."
   ]
  },
  {
   "cell_type": "markdown",
   "metadata": {},
   "source": [
    "Les sources de risques supplémentaires par rapport au risque systémique peuvent donc être identifiées via les alphas positifs de certaines catégories d'actifs."
   ]
  },
  {
   "cell_type": "markdown",
   "metadata": {},
   "source": [
    "Le point de départ du travail de Fama et French, c'est l'identification de deux de ces facteurs:"
   ]
  },
  {
   "cell_type": "markdown",
   "metadata": {},
   "source": [
    "1. La taille des entreprises (par capitalisation boursière) semble jouer de manière négative sur l'alpha: les petites entreprises semble avoir des alpha positifs, c'est à dire des surplus de rendements non expliqués par leur bêta, leur sensibilité au risque systémique.\n",
    "2. Le ratio Book-to-market (B/M) semble être lié positivement avec l'alpha des actifs. Le ratio B/M désigne le ratio entre la valeur comptable et la valeur boursière de l'entreprise. "
   ]
  },
  {
   "cell_type": "markdown",
   "metadata": {},
   "source": [
    "Un ratio B/M élevé peut signifier plusieurs choses:\n",
    "- l'entreprise est sous-évaluée par le marché\n",
    "- l'entreprise génère ses revenus grâce à ses infrastructures et ne dispose pas d'autre atout (talent managérial, créneau porteur, potentiel scientifique) non valorisables comptablement. \n",
    "- l'entreprise semble avoir un potentiel (non réalisé par définition) faible\n",
    "- l'entreprise connaît des difficultés immédiates qui ne sont pas (encore ?) répercutées sur la valeur comptable.\n",
    "\n",
    "Pour la deuxième raison, on appelle ces actifs des *value assets*."
   ]
  },
  {
   "cell_type": "markdown",
   "metadata": {},
   "source": [
    "A l'inverse, les entreprises avec un ratio B/M faible sont tout l'inverse :\n",
    "- l'entreprise est sur-évaluée (hype ? bulle ?)\n",
    "- l'entreprise tire sa valeur d'éléments non valorisables comptablement (Uber : une idée novatrice, une réputation mondiale.)\n",
    "- l'entreprise dispose d'un potentiel (entreprises avec beaucoup de dette mais jugées prometteuses par le marché, comme Amazon, Facebook à ses débuts, etc. Kodak qui annonce son *intention* d'utiliser un processus basé sur blockchain)\n",
    "- l'entreprise connaît des résultats récents très bons, ce qui reste à être traduit comptablement.\n",
    "\n",
    "On appelle ces entreprises assez logiquement des *growth assets*."
   ]
  },
  {
   "cell_type": "markdown",
   "metadata": {},
   "source": [
    "Il reste à lier ces éléments avec des facteurs de risques non systémiques. Les observations empiriques sont relativement bien documentées, mais les explications de ces facteurs restent des questions ouvertes. Quels sont les risques liés ? Quelques éléments :"
   ]
  },
  {
   "cell_type": "markdown",
   "metadata": {},
   "source": [
    "Dans le cas de la taille des entreprises, les éléments avancés sont:\n",
    "- La taille des petites structures les rend plus fragiles et elles peuvent être affectées par certaines conditions de marché qui laissent les grosses entreprises indifférentes, ou moins sensibles (par exemple, une restriction des liquidités). A l'inverse, dans certaines conditions de marché changeantes, elle peuvent s'adapter plus rapidement, (proportionnellement) trouver plus facilement des financements et donc croître plus vite (en pourcentage). Il y a donc une volatilité des rendements supplémentaires, qui s'ajoute à la sensibilité systémique / macroéconomique et qui n'est pas diversifiable.\n",
    "- Dans certaines conditions de marché, les investisseurs peuvent avoir un comportement de retrait vers les valeurs plus rassurantes représentées par les grosses entreprises. A l'inverse, dans certaines situations les investisseurs peuvent rechercher plus de sources de rendements et s'intéresser aux petites structures. Ces mouvements peuvent maintenir globalement le rendement du marché (puisque il n'y a pas de fuite vers l'actif sans risque ou autre) mais créeent une source de risque détachée du risque systémique, lié à la taille des entreprises et non diversifiable (Hypothèse comportementale)."
   ]
  },
  {
   "cell_type": "markdown",
   "metadata": {},
   "source": [
    "Dans le cas du ratio B/M, l'élément généralement avancé est :\n",
    "- Il peut parfois s'agir d'entreprises en difficulté : ce facteur peut donc capter des sources de risques diverses non systémiques"
   ]
  },
  {
   "cell_type": "markdown",
   "metadata": {},
   "source": [
    "### Pratique"
   ]
  },
  {
   "cell_type": "markdown",
   "metadata": {},
   "source": [
    "Les données sont disponibles sur le site du [Pr. French](http://mba.tuck.dartmouth.edu/pages/faculty/ken.french/data_library.html)."
   ]
  },
  {
   "cell_type": "markdown",
   "metadata": {},
   "source": [
    "SMB = Small Less Big : Rendement espéré d’un portefeuille de titres à faible capitalisation - rendement espéré d’un portefeuille de titres à forte capitalisation."
   ]
  },
  {
   "cell_type": "markdown",
   "metadata": {},
   "source": [
    "HML = High Minus Low : Rendement espéré d’un portefeuille de titres avec ratio B/M élevé - rendement espéré d'un portefeuille de titres avec un ratio B/M faible."
   ]
  },
  {
   "cell_type": "markdown",
   "metadata": {},
   "source": [
    "$$E(r_j) = r_f + \\beta_{M}(E(r_m) - r_f) + \\beta_{SMB}SMB + \\beta_{HML}HML$$"
   ]
  },
  {
   "cell_type": "markdown",
   "metadata": {},
   "source": [
    "#### Importer les packages"
   ]
  },
  {
   "cell_type": "code",
   "execution_count": 1,
   "metadata": {},
   "outputs": [],
   "source": [
    "import numpy as np\n",
    "import pandas as pd\n",
    "import matplotlib.pyplot as plt\n",
    "import statsmodels.api as sm\n",
    "%matplotlib inline\n",
    "plt.rcParams['figure.figsize'] = (15, 10)"
   ]
  },
  {
   "cell_type": "code",
   "execution_count": 2,
   "metadata": {},
   "outputs": [],
   "source": [
    "import quandl\n",
    "cle_API = \"vV5n2kkCHA3mm-zKCwBQ\"\n",
    "quandl.ApiConfig.api_key = cle_API"
   ]
  },
  {
   "cell_type": "markdown",
   "metadata": {},
   "source": [
    "#### Ouvrir les données de Fama - French"
   ]
  },
  {
   "cell_type": "code",
   "execution_count": 3,
   "metadata": {},
   "outputs": [
    {
     "data": {
      "text/html": [
       "<div>\n",
       "<style scoped>\n",
       "    .dataframe tbody tr th:only-of-type {\n",
       "        vertical-align: middle;\n",
       "    }\n",
       "\n",
       "    .dataframe tbody tr th {\n",
       "        vertical-align: top;\n",
       "    }\n",
       "\n",
       "    .dataframe thead th {\n",
       "        text-align: right;\n",
       "    }\n",
       "</style>\n",
       "<table border=\"1\" class=\"dataframe\">\n",
       "  <thead>\n",
       "    <tr style=\"text-align: right;\">\n",
       "      <th></th>\n",
       "      <th>Mkt-RF</th>\n",
       "      <th>SMB</th>\n",
       "      <th>HML</th>\n",
       "      <th>RF</th>\n",
       "    </tr>\n",
       "    <tr>\n",
       "      <th>Time</th>\n",
       "      <th></th>\n",
       "      <th></th>\n",
       "      <th></th>\n",
       "      <th></th>\n",
       "    </tr>\n",
       "  </thead>\n",
       "  <tbody>\n",
       "    <tr>\n",
       "      <th>201809</th>\n",
       "      <td>0.06</td>\n",
       "      <td>-2.37</td>\n",
       "      <td>-1.34</td>\n",
       "      <td>0.15</td>\n",
       "    </tr>\n",
       "    <tr>\n",
       "      <th>201810</th>\n",
       "      <td>-7.68</td>\n",
       "      <td>-4.68</td>\n",
       "      <td>3.41</td>\n",
       "      <td>0.19</td>\n",
       "    </tr>\n",
       "    <tr>\n",
       "      <th>201811</th>\n",
       "      <td>1.69</td>\n",
       "      <td>-0.74</td>\n",
       "      <td>0.19</td>\n",
       "      <td>0.18</td>\n",
       "    </tr>\n",
       "    <tr>\n",
       "      <th>201812</th>\n",
       "      <td>-9.55</td>\n",
       "      <td>-2.60</td>\n",
       "      <td>-1.51</td>\n",
       "      <td>0.19</td>\n",
       "    </tr>\n",
       "    <tr>\n",
       "      <th>201901</th>\n",
       "      <td>8.41</td>\n",
       "      <td>3.01</td>\n",
       "      <td>-0.60</td>\n",
       "      <td>0.21</td>\n",
       "    </tr>\n",
       "  </tbody>\n",
       "</table>\n",
       "</div>"
      ],
      "text/plain": [
       "          Mkt-RF       SMB       HML        RF\n",
       "Time                                          \n",
       "201809      0.06     -2.37     -1.34      0.15\n",
       "201810     -7.68     -4.68      3.41      0.19\n",
       "201811      1.69     -0.74      0.19      0.18\n",
       "201812     -9.55     -2.60     -1.51      0.19\n",
       "201901      8.41      3.01     -0.60      0.21"
      ]
     },
     "execution_count": 3,
     "metadata": {},
     "output_type": "execute_result"
    }
   ],
   "source": [
    "data = []\n",
    "fichier = open('F-F_Research_Data_Factors.CSV', 'r')\n",
    "\n",
    "next(fichier)\n",
    "for ligne in fichier:\n",
    "    data.append(ligne.strip('\\n').split(','))\n",
    "    \n",
    "fichier.close()\n",
    "data = pd.DataFrame(data, columns=['Time', 'Mkt-RF', 'SMB', 'HML', 'RF'])\n",
    "data.set_index('Time', inplace=True)\n",
    "data.tail()"
   ]
  },
  {
   "cell_type": "markdown",
   "metadata": {},
   "source": [
    "#### Télécharger les données de Quandl"
   ]
  },
  {
   "cell_type": "code",
   "execution_count": 4,
   "metadata": {},
   "outputs": [],
   "source": [
    "debut = '2011-01-01'\n",
    "frequence = 'monthly'"
   ]
  },
  {
   "cell_type": "code",
   "execution_count": 5,
   "metadata": {},
   "outputs": [],
   "source": [
    "liste_actions = ['WIKI/AAPL', 'WIKI/MCD', 'WIKI/MSFT', 'WIKI/TGT', 'WIKI/GE', 'WIKI/AMZN', 'WIKI/UPS', \n",
    "                 'WIKI/GM', 'WIKI/IBM', 'WIKI/PEP', 'WIKI/VZ', 'WIKI/DIS', 'WIKI/INTC', 'WIKI/F', 'WIKI/CMCSA']"
   ]
  },
  {
   "cell_type": "code",
   "execution_count": 6,
   "metadata": {},
   "outputs": [],
   "source": [
    "nb_actifs = len(liste_actions)\n",
    "\n",
    "actions = quandl.get(liste_actions, start_date = debut, \n",
    "                     column_index = 4, collapse=frequence)"
   ]
  },
  {
   "cell_type": "code",
   "execution_count": 7,
   "metadata": {},
   "outputs": [
    {
     "data": {
      "text/html": [
       "<div>\n",
       "<style scoped>\n",
       "    .dataframe tbody tr th:only-of-type {\n",
       "        vertical-align: middle;\n",
       "    }\n",
       "\n",
       "    .dataframe tbody tr th {\n",
       "        vertical-align: top;\n",
       "    }\n",
       "\n",
       "    .dataframe thead th {\n",
       "        text-align: right;\n",
       "    }\n",
       "</style>\n",
       "<table border=\"1\" class=\"dataframe\">\n",
       "  <thead>\n",
       "    <tr style=\"text-align: right;\">\n",
       "      <th></th>\n",
       "      <th>WIKI/AAPL - Close</th>\n",
       "      <th>WIKI/MCD - Close</th>\n",
       "      <th>WIKI/MSFT - Close</th>\n",
       "      <th>WIKI/TGT - Close</th>\n",
       "      <th>WIKI/GE - Close</th>\n",
       "      <th>WIKI/AMZN - Close</th>\n",
       "      <th>WIKI/UPS - Close</th>\n",
       "      <th>WIKI/GM - Close</th>\n",
       "      <th>WIKI/IBM - Close</th>\n",
       "      <th>WIKI/PEP - Close</th>\n",
       "      <th>WIKI/VZ - Close</th>\n",
       "      <th>WIKI/DIS - Close</th>\n",
       "      <th>WIKI/INTC - Close</th>\n",
       "      <th>WIKI/F - Close</th>\n",
       "      <th>WIKI/CMCSA - Close</th>\n",
       "    </tr>\n",
       "    <tr>\n",
       "      <th>Date</th>\n",
       "      <th></th>\n",
       "      <th></th>\n",
       "      <th></th>\n",
       "      <th></th>\n",
       "      <th></th>\n",
       "      <th></th>\n",
       "      <th></th>\n",
       "      <th></th>\n",
       "      <th></th>\n",
       "      <th></th>\n",
       "      <th></th>\n",
       "      <th></th>\n",
       "      <th></th>\n",
       "      <th></th>\n",
       "      <th></th>\n",
       "    </tr>\n",
       "  </thead>\n",
       "  <tbody>\n",
       "    <tr>\n",
       "      <th>2017-11-30</th>\n",
       "      <td>171.85</td>\n",
       "      <td>171.97</td>\n",
       "      <td>84.17</td>\n",
       "      <td>59.90</td>\n",
       "      <td>18.29</td>\n",
       "      <td>1176.75</td>\n",
       "      <td>121.45</td>\n",
       "      <td>43.09</td>\n",
       "      <td>153.97</td>\n",
       "      <td>116.52</td>\n",
       "      <td>50.89</td>\n",
       "      <td>104.82</td>\n",
       "      <td>44.84</td>\n",
       "      <td>12.52</td>\n",
       "      <td>37.54</td>\n",
       "    </tr>\n",
       "    <tr>\n",
       "      <th>2017-12-31</th>\n",
       "      <td>169.23</td>\n",
       "      <td>172.12</td>\n",
       "      <td>85.54</td>\n",
       "      <td>65.25</td>\n",
       "      <td>17.45</td>\n",
       "      <td>1169.47</td>\n",
       "      <td>119.15</td>\n",
       "      <td>40.99</td>\n",
       "      <td>153.42</td>\n",
       "      <td>119.92</td>\n",
       "      <td>52.93</td>\n",
       "      <td>107.51</td>\n",
       "      <td>46.16</td>\n",
       "      <td>12.49</td>\n",
       "      <td>40.05</td>\n",
       "    </tr>\n",
       "    <tr>\n",
       "      <th>2018-01-31</th>\n",
       "      <td>167.43</td>\n",
       "      <td>171.14</td>\n",
       "      <td>95.01</td>\n",
       "      <td>75.22</td>\n",
       "      <td>16.17</td>\n",
       "      <td>1451.65</td>\n",
       "      <td>127.32</td>\n",
       "      <td>42.41</td>\n",
       "      <td>163.70</td>\n",
       "      <td>120.30</td>\n",
       "      <td>54.07</td>\n",
       "      <td>108.67</td>\n",
       "      <td>48.14</td>\n",
       "      <td>10.97</td>\n",
       "      <td>42.53</td>\n",
       "    </tr>\n",
       "    <tr>\n",
       "      <th>2018-02-28</th>\n",
       "      <td>178.12</td>\n",
       "      <td>157.74</td>\n",
       "      <td>93.77</td>\n",
       "      <td>75.41</td>\n",
       "      <td>14.11</td>\n",
       "      <td>1512.45</td>\n",
       "      <td>104.41</td>\n",
       "      <td>39.35</td>\n",
       "      <td>155.83</td>\n",
       "      <td>109.73</td>\n",
       "      <td>47.74</td>\n",
       "      <td>103.16</td>\n",
       "      <td>49.29</td>\n",
       "      <td>10.61</td>\n",
       "      <td>36.21</td>\n",
       "    </tr>\n",
       "    <tr>\n",
       "      <th>2018-03-31</th>\n",
       "      <td>168.34</td>\n",
       "      <td>157.48</td>\n",
       "      <td>89.47</td>\n",
       "      <td>68.51</td>\n",
       "      <td>13.44</td>\n",
       "      <td>1497.05</td>\n",
       "      <td>102.17</td>\n",
       "      <td>34.87</td>\n",
       "      <td>151.91</td>\n",
       "      <td>107.64</td>\n",
       "      <td>47.31</td>\n",
       "      <td>99.36</td>\n",
       "      <td>51.19</td>\n",
       "      <td>10.83</td>\n",
       "      <td>32.99</td>\n",
       "    </tr>\n",
       "  </tbody>\n",
       "</table>\n",
       "</div>"
      ],
      "text/plain": [
       "            WIKI/AAPL - Close  WIKI/MCD - Close  WIKI/MSFT - Close  \\\n",
       "Date                                                                 \n",
       "2017-11-30             171.85            171.97              84.17   \n",
       "2017-12-31             169.23            172.12              85.54   \n",
       "2018-01-31             167.43            171.14              95.01   \n",
       "2018-02-28             178.12            157.74              93.77   \n",
       "2018-03-31             168.34            157.48              89.47   \n",
       "\n",
       "            WIKI/TGT - Close  WIKI/GE - Close  WIKI/AMZN - Close  \\\n",
       "Date                                                               \n",
       "2017-11-30             59.90            18.29            1176.75   \n",
       "2017-12-31             65.25            17.45            1169.47   \n",
       "2018-01-31             75.22            16.17            1451.65   \n",
       "2018-02-28             75.41            14.11            1512.45   \n",
       "2018-03-31             68.51            13.44            1497.05   \n",
       "\n",
       "            WIKI/UPS - Close  WIKI/GM - Close  WIKI/IBM - Close  \\\n",
       "Date                                                              \n",
       "2017-11-30            121.45            43.09            153.97   \n",
       "2017-12-31            119.15            40.99            153.42   \n",
       "2018-01-31            127.32            42.41            163.70   \n",
       "2018-02-28            104.41            39.35            155.83   \n",
       "2018-03-31            102.17            34.87            151.91   \n",
       "\n",
       "            WIKI/PEP - Close  WIKI/VZ - Close  WIKI/DIS - Close  \\\n",
       "Date                                                              \n",
       "2017-11-30            116.52            50.89            104.82   \n",
       "2017-12-31            119.92            52.93            107.51   \n",
       "2018-01-31            120.30            54.07            108.67   \n",
       "2018-02-28            109.73            47.74            103.16   \n",
       "2018-03-31            107.64            47.31             99.36   \n",
       "\n",
       "            WIKI/INTC - Close  WIKI/F - Close  WIKI/CMCSA - Close  \n",
       "Date                                                               \n",
       "2017-11-30              44.84           12.52               37.54  \n",
       "2017-12-31              46.16           12.49               40.05  \n",
       "2018-01-31              48.14           10.97               42.53  \n",
       "2018-02-28              49.29           10.61               36.21  \n",
       "2018-03-31              51.19           10.83               32.99  "
      ]
     },
     "execution_count": 7,
     "metadata": {},
     "output_type": "execute_result"
    }
   ],
   "source": [
    "actions.tail()"
   ]
  },
  {
   "cell_type": "markdown",
   "metadata": {},
   "source": [
    "#### Harmoniser l'index avec les données de Fama - French"
   ]
  },
  {
   "cell_type": "code",
   "execution_count": 8,
   "metadata": {},
   "outputs": [],
   "source": [
    "dates = []\n",
    "for item in actions.index.values:\n",
    "    dates.append((str(item)[:4] + str(item)[5:7]))\n",
    "actions['Time'] = dates\n",
    "actions.set_index('Time', inplace=True)"
   ]
  },
  {
   "cell_type": "code",
   "execution_count": 9,
   "metadata": {},
   "outputs": [
    {
     "data": {
      "text/html": [
       "<div>\n",
       "<style scoped>\n",
       "    .dataframe tbody tr th:only-of-type {\n",
       "        vertical-align: middle;\n",
       "    }\n",
       "\n",
       "    .dataframe tbody tr th {\n",
       "        vertical-align: top;\n",
       "    }\n",
       "\n",
       "    .dataframe thead th {\n",
       "        text-align: right;\n",
       "    }\n",
       "</style>\n",
       "<table border=\"1\" class=\"dataframe\">\n",
       "  <thead>\n",
       "    <tr style=\"text-align: right;\">\n",
       "      <th></th>\n",
       "      <th>WIKI/AAPL - Close</th>\n",
       "      <th>WIKI/MCD - Close</th>\n",
       "      <th>WIKI/MSFT - Close</th>\n",
       "      <th>WIKI/TGT - Close</th>\n",
       "      <th>WIKI/GE - Close</th>\n",
       "      <th>WIKI/AMZN - Close</th>\n",
       "      <th>WIKI/UPS - Close</th>\n",
       "      <th>WIKI/GM - Close</th>\n",
       "      <th>WIKI/IBM - Close</th>\n",
       "      <th>WIKI/PEP - Close</th>\n",
       "      <th>WIKI/VZ - Close</th>\n",
       "      <th>WIKI/DIS - Close</th>\n",
       "      <th>WIKI/INTC - Close</th>\n",
       "      <th>WIKI/F - Close</th>\n",
       "      <th>WIKI/CMCSA - Close</th>\n",
       "    </tr>\n",
       "    <tr>\n",
       "      <th>Time</th>\n",
       "      <th></th>\n",
       "      <th></th>\n",
       "      <th></th>\n",
       "      <th></th>\n",
       "      <th></th>\n",
       "      <th></th>\n",
       "      <th></th>\n",
       "      <th></th>\n",
       "      <th></th>\n",
       "      <th></th>\n",
       "      <th></th>\n",
       "      <th></th>\n",
       "      <th></th>\n",
       "      <th></th>\n",
       "      <th></th>\n",
       "    </tr>\n",
       "  </thead>\n",
       "  <tbody>\n",
       "    <tr>\n",
       "      <th>201711</th>\n",
       "      <td>171.85</td>\n",
       "      <td>171.97</td>\n",
       "      <td>84.17</td>\n",
       "      <td>59.90</td>\n",
       "      <td>18.29</td>\n",
       "      <td>1176.75</td>\n",
       "      <td>121.45</td>\n",
       "      <td>43.09</td>\n",
       "      <td>153.97</td>\n",
       "      <td>116.52</td>\n",
       "      <td>50.89</td>\n",
       "      <td>104.82</td>\n",
       "      <td>44.84</td>\n",
       "      <td>12.52</td>\n",
       "      <td>37.54</td>\n",
       "    </tr>\n",
       "    <tr>\n",
       "      <th>201712</th>\n",
       "      <td>169.23</td>\n",
       "      <td>172.12</td>\n",
       "      <td>85.54</td>\n",
       "      <td>65.25</td>\n",
       "      <td>17.45</td>\n",
       "      <td>1169.47</td>\n",
       "      <td>119.15</td>\n",
       "      <td>40.99</td>\n",
       "      <td>153.42</td>\n",
       "      <td>119.92</td>\n",
       "      <td>52.93</td>\n",
       "      <td>107.51</td>\n",
       "      <td>46.16</td>\n",
       "      <td>12.49</td>\n",
       "      <td>40.05</td>\n",
       "    </tr>\n",
       "    <tr>\n",
       "      <th>201801</th>\n",
       "      <td>167.43</td>\n",
       "      <td>171.14</td>\n",
       "      <td>95.01</td>\n",
       "      <td>75.22</td>\n",
       "      <td>16.17</td>\n",
       "      <td>1451.65</td>\n",
       "      <td>127.32</td>\n",
       "      <td>42.41</td>\n",
       "      <td>163.70</td>\n",
       "      <td>120.30</td>\n",
       "      <td>54.07</td>\n",
       "      <td>108.67</td>\n",
       "      <td>48.14</td>\n",
       "      <td>10.97</td>\n",
       "      <td>42.53</td>\n",
       "    </tr>\n",
       "    <tr>\n",
       "      <th>201802</th>\n",
       "      <td>178.12</td>\n",
       "      <td>157.74</td>\n",
       "      <td>93.77</td>\n",
       "      <td>75.41</td>\n",
       "      <td>14.11</td>\n",
       "      <td>1512.45</td>\n",
       "      <td>104.41</td>\n",
       "      <td>39.35</td>\n",
       "      <td>155.83</td>\n",
       "      <td>109.73</td>\n",
       "      <td>47.74</td>\n",
       "      <td>103.16</td>\n",
       "      <td>49.29</td>\n",
       "      <td>10.61</td>\n",
       "      <td>36.21</td>\n",
       "    </tr>\n",
       "    <tr>\n",
       "      <th>201803</th>\n",
       "      <td>168.34</td>\n",
       "      <td>157.48</td>\n",
       "      <td>89.47</td>\n",
       "      <td>68.51</td>\n",
       "      <td>13.44</td>\n",
       "      <td>1497.05</td>\n",
       "      <td>102.17</td>\n",
       "      <td>34.87</td>\n",
       "      <td>151.91</td>\n",
       "      <td>107.64</td>\n",
       "      <td>47.31</td>\n",
       "      <td>99.36</td>\n",
       "      <td>51.19</td>\n",
       "      <td>10.83</td>\n",
       "      <td>32.99</td>\n",
       "    </tr>\n",
       "  </tbody>\n",
       "</table>\n",
       "</div>"
      ],
      "text/plain": [
       "        WIKI/AAPL - Close  WIKI/MCD - Close  WIKI/MSFT - Close  \\\n",
       "Time                                                             \n",
       "201711             171.85            171.97              84.17   \n",
       "201712             169.23            172.12              85.54   \n",
       "201801             167.43            171.14              95.01   \n",
       "201802             178.12            157.74              93.77   \n",
       "201803             168.34            157.48              89.47   \n",
       "\n",
       "        WIKI/TGT - Close  WIKI/GE - Close  WIKI/AMZN - Close  \\\n",
       "Time                                                           \n",
       "201711             59.90            18.29            1176.75   \n",
       "201712             65.25            17.45            1169.47   \n",
       "201801             75.22            16.17            1451.65   \n",
       "201802             75.41            14.11            1512.45   \n",
       "201803             68.51            13.44            1497.05   \n",
       "\n",
       "        WIKI/UPS - Close  WIKI/GM - Close  WIKI/IBM - Close  WIKI/PEP - Close  \\\n",
       "Time                                                                            \n",
       "201711            121.45            43.09            153.97            116.52   \n",
       "201712            119.15            40.99            153.42            119.92   \n",
       "201801            127.32            42.41            163.70            120.30   \n",
       "201802            104.41            39.35            155.83            109.73   \n",
       "201803            102.17            34.87            151.91            107.64   \n",
       "\n",
       "        WIKI/VZ - Close  WIKI/DIS - Close  WIKI/INTC - Close  WIKI/F - Close  \\\n",
       "Time                                                                           \n",
       "201711            50.89            104.82              44.84           12.52   \n",
       "201712            52.93            107.51              46.16           12.49   \n",
       "201801            54.07            108.67              48.14           10.97   \n",
       "201802            47.74            103.16              49.29           10.61   \n",
       "201803            47.31             99.36              51.19           10.83   \n",
       "\n",
       "        WIKI/CMCSA - Close  \n",
       "Time                        \n",
       "201711               37.54  \n",
       "201712               40.05  \n",
       "201801               42.53  \n",
       "201802               36.21  \n",
       "201803               32.99  "
      ]
     },
     "execution_count": 9,
     "metadata": {},
     "output_type": "execute_result"
    }
   ],
   "source": [
    "actions.tail()"
   ]
  },
  {
   "cell_type": "markdown",
   "metadata": {},
   "source": [
    "#### Créer un portefeuille avec des poids égaux"
   ]
  },
  {
   "cell_type": "code",
   "execution_count": 10,
   "metadata": {},
   "outputs": [],
   "source": [
    "actions = actions.pct_change()"
   ]
  },
  {
   "cell_type": "code",
   "execution_count": 11,
   "metadata": {},
   "outputs": [
    {
     "data": {
      "text/html": [
       "<div>\n",
       "<style scoped>\n",
       "    .dataframe tbody tr th:only-of-type {\n",
       "        vertical-align: middle;\n",
       "    }\n",
       "\n",
       "    .dataframe tbody tr th {\n",
       "        vertical-align: top;\n",
       "    }\n",
       "\n",
       "    .dataframe thead th {\n",
       "        text-align: right;\n",
       "    }\n",
       "</style>\n",
       "<table border=\"1\" class=\"dataframe\">\n",
       "  <thead>\n",
       "    <tr style=\"text-align: right;\">\n",
       "      <th></th>\n",
       "      <th>WIKI/AAPL - Close</th>\n",
       "      <th>WIKI/MCD - Close</th>\n",
       "      <th>WIKI/MSFT - Close</th>\n",
       "      <th>WIKI/TGT - Close</th>\n",
       "      <th>WIKI/GE - Close</th>\n",
       "      <th>WIKI/AMZN - Close</th>\n",
       "      <th>WIKI/UPS - Close</th>\n",
       "      <th>WIKI/GM - Close</th>\n",
       "      <th>WIKI/IBM - Close</th>\n",
       "      <th>WIKI/PEP - Close</th>\n",
       "      <th>WIKI/VZ - Close</th>\n",
       "      <th>WIKI/DIS - Close</th>\n",
       "      <th>WIKI/INTC - Close</th>\n",
       "      <th>WIKI/F - Close</th>\n",
       "      <th>WIKI/CMCSA - Close</th>\n",
       "      <th>Portefeuille</th>\n",
       "    </tr>\n",
       "    <tr>\n",
       "      <th>Time</th>\n",
       "      <th></th>\n",
       "      <th></th>\n",
       "      <th></th>\n",
       "      <th></th>\n",
       "      <th></th>\n",
       "      <th></th>\n",
       "      <th></th>\n",
       "      <th></th>\n",
       "      <th></th>\n",
       "      <th></th>\n",
       "      <th></th>\n",
       "      <th></th>\n",
       "      <th></th>\n",
       "      <th></th>\n",
       "      <th></th>\n",
       "      <th></th>\n",
       "    </tr>\n",
       "  </thead>\n",
       "  <tbody>\n",
       "    <tr>\n",
       "      <th>201711</th>\n",
       "      <td>0.016623</td>\n",
       "      <td>0.030316</td>\n",
       "      <td>0.011902</td>\n",
       "      <td>0.014566</td>\n",
       "      <td>-0.092758</td>\n",
       "      <td>0.064662</td>\n",
       "      <td>0.033353</td>\n",
       "      <td>0.002559</td>\n",
       "      <td>-0.000584</td>\n",
       "      <td>0.057063</td>\n",
       "      <td>0.063088</td>\n",
       "      <td>0.071670</td>\n",
       "      <td>-0.014289</td>\n",
       "      <td>0.020375</td>\n",
       "      <td>0.041910</td>\n",
       "      <td>0.021364</td>\n",
       "    </tr>\n",
       "    <tr>\n",
       "      <th>201712</th>\n",
       "      <td>-0.015246</td>\n",
       "      <td>0.000872</td>\n",
       "      <td>0.016277</td>\n",
       "      <td>0.089316</td>\n",
       "      <td>-0.045927</td>\n",
       "      <td>-0.006187</td>\n",
       "      <td>-0.018938</td>\n",
       "      <td>-0.048735</td>\n",
       "      <td>-0.003572</td>\n",
       "      <td>0.029180</td>\n",
       "      <td>0.040086</td>\n",
       "      <td>0.025663</td>\n",
       "      <td>0.029438</td>\n",
       "      <td>-0.002396</td>\n",
       "      <td>0.066862</td>\n",
       "      <td>0.010446</td>\n",
       "    </tr>\n",
       "    <tr>\n",
       "      <th>201801</th>\n",
       "      <td>-0.010636</td>\n",
       "      <td>-0.005694</td>\n",
       "      <td>0.110708</td>\n",
       "      <td>0.152797</td>\n",
       "      <td>-0.073352</td>\n",
       "      <td>0.241289</td>\n",
       "      <td>0.068569</td>\n",
       "      <td>0.034643</td>\n",
       "      <td>0.067006</td>\n",
       "      <td>0.003169</td>\n",
       "      <td>0.021538</td>\n",
       "      <td>0.010790</td>\n",
       "      <td>0.042894</td>\n",
       "      <td>-0.121697</td>\n",
       "      <td>0.061923</td>\n",
       "      <td>0.040263</td>\n",
       "    </tr>\n",
       "    <tr>\n",
       "      <th>201802</th>\n",
       "      <td>0.063848</td>\n",
       "      <td>-0.078298</td>\n",
       "      <td>-0.013051</td>\n",
       "      <td>0.002526</td>\n",
       "      <td>-0.127396</td>\n",
       "      <td>0.041883</td>\n",
       "      <td>-0.179940</td>\n",
       "      <td>-0.072153</td>\n",
       "      <td>-0.048076</td>\n",
       "      <td>-0.087864</td>\n",
       "      <td>-0.117070</td>\n",
       "      <td>-0.050704</td>\n",
       "      <td>0.023889</td>\n",
       "      <td>-0.032817</td>\n",
       "      <td>-0.148601</td>\n",
       "      <td>-0.054922</td>\n",
       "    </tr>\n",
       "    <tr>\n",
       "      <th>201803</th>\n",
       "      <td>-0.054907</td>\n",
       "      <td>-0.001648</td>\n",
       "      <td>-0.045857</td>\n",
       "      <td>-0.091500</td>\n",
       "      <td>-0.047484</td>\n",
       "      <td>-0.010182</td>\n",
       "      <td>-0.021454</td>\n",
       "      <td>-0.113850</td>\n",
       "      <td>-0.025156</td>\n",
       "      <td>-0.019047</td>\n",
       "      <td>-0.009007</td>\n",
       "      <td>-0.036836</td>\n",
       "      <td>0.038547</td>\n",
       "      <td>0.020735</td>\n",
       "      <td>-0.088926</td>\n",
       "      <td>-0.033771</td>\n",
       "    </tr>\n",
       "  </tbody>\n",
       "</table>\n",
       "</div>"
      ],
      "text/plain": [
       "        WIKI/AAPL - Close  WIKI/MCD - Close  WIKI/MSFT - Close  \\\n",
       "Time                                                             \n",
       "201711           0.016623          0.030316           0.011902   \n",
       "201712          -0.015246          0.000872           0.016277   \n",
       "201801          -0.010636         -0.005694           0.110708   \n",
       "201802           0.063848         -0.078298          -0.013051   \n",
       "201803          -0.054907         -0.001648          -0.045857   \n",
       "\n",
       "        WIKI/TGT - Close  WIKI/GE - Close  WIKI/AMZN - Close  \\\n",
       "Time                                                           \n",
       "201711          0.014566        -0.092758           0.064662   \n",
       "201712          0.089316        -0.045927          -0.006187   \n",
       "201801          0.152797        -0.073352           0.241289   \n",
       "201802          0.002526        -0.127396           0.041883   \n",
       "201803         -0.091500        -0.047484          -0.010182   \n",
       "\n",
       "        WIKI/UPS - Close  WIKI/GM - Close  WIKI/IBM - Close  WIKI/PEP - Close  \\\n",
       "Time                                                                            \n",
       "201711          0.033353         0.002559         -0.000584          0.057063   \n",
       "201712         -0.018938        -0.048735         -0.003572          0.029180   \n",
       "201801          0.068569         0.034643          0.067006          0.003169   \n",
       "201802         -0.179940        -0.072153         -0.048076         -0.087864   \n",
       "201803         -0.021454        -0.113850         -0.025156         -0.019047   \n",
       "\n",
       "        WIKI/VZ - Close  WIKI/DIS - Close  WIKI/INTC - Close  WIKI/F - Close  \\\n",
       "Time                                                                           \n",
       "201711         0.063088          0.071670          -0.014289        0.020375   \n",
       "201712         0.040086          0.025663           0.029438       -0.002396   \n",
       "201801         0.021538          0.010790           0.042894       -0.121697   \n",
       "201802        -0.117070         -0.050704           0.023889       -0.032817   \n",
       "201803        -0.009007         -0.036836           0.038547        0.020735   \n",
       "\n",
       "        WIKI/CMCSA - Close  Portefeuille  \n",
       "Time                                      \n",
       "201711            0.041910      0.021364  \n",
       "201712            0.066862      0.010446  \n",
       "201801            0.061923      0.040263  \n",
       "201802           -0.148601     -0.054922  \n",
       "201803           -0.088926     -0.033771  "
      ]
     },
     "execution_count": 11,
     "metadata": {},
     "output_type": "execute_result"
    }
   ],
   "source": [
    "actions['Portefeuille'] = 0\n",
    "for i in range(nb_actifs):\n",
    "    actions['Portefeuille'] += 1/nb_actifs * actions.iloc[:,i]\n",
    "actions.tail()"
   ]
  },
  {
   "cell_type": "markdown",
   "metadata": {},
   "source": [
    "#### Fusionner les deux jeux de données en utilisant la méthode join() des DataFrames"
   ]
  },
  {
   "cell_type": "code",
   "execution_count": 12,
   "metadata": {
    "scrolled": true
   },
   "outputs": [
    {
     "data": {
      "text/html": [
       "<div>\n",
       "<style scoped>\n",
       "    .dataframe tbody tr th:only-of-type {\n",
       "        vertical-align: middle;\n",
       "    }\n",
       "\n",
       "    .dataframe tbody tr th {\n",
       "        vertical-align: top;\n",
       "    }\n",
       "\n",
       "    .dataframe thead th {\n",
       "        text-align: right;\n",
       "    }\n",
       "</style>\n",
       "<table border=\"1\" class=\"dataframe\">\n",
       "  <thead>\n",
       "    <tr style=\"text-align: right;\">\n",
       "      <th></th>\n",
       "      <th>WIKI/AAPL - Close</th>\n",
       "      <th>WIKI/MCD - Close</th>\n",
       "      <th>WIKI/MSFT - Close</th>\n",
       "      <th>WIKI/TGT - Close</th>\n",
       "      <th>WIKI/GE - Close</th>\n",
       "      <th>WIKI/AMZN - Close</th>\n",
       "      <th>WIKI/UPS - Close</th>\n",
       "      <th>WIKI/GM - Close</th>\n",
       "      <th>WIKI/IBM - Close</th>\n",
       "      <th>WIKI/PEP - Close</th>\n",
       "      <th>WIKI/VZ - Close</th>\n",
       "      <th>WIKI/DIS - Close</th>\n",
       "      <th>WIKI/INTC - Close</th>\n",
       "      <th>WIKI/F - Close</th>\n",
       "      <th>WIKI/CMCSA - Close</th>\n",
       "      <th>Portefeuille</th>\n",
       "      <th>Mkt-RF</th>\n",
       "      <th>SMB</th>\n",
       "      <th>HML</th>\n",
       "      <th>RF</th>\n",
       "    </tr>\n",
       "    <tr>\n",
       "      <th>Time</th>\n",
       "      <th></th>\n",
       "      <th></th>\n",
       "      <th></th>\n",
       "      <th></th>\n",
       "      <th></th>\n",
       "      <th></th>\n",
       "      <th></th>\n",
       "      <th></th>\n",
       "      <th></th>\n",
       "      <th></th>\n",
       "      <th></th>\n",
       "      <th></th>\n",
       "      <th></th>\n",
       "      <th></th>\n",
       "      <th></th>\n",
       "      <th></th>\n",
       "      <th></th>\n",
       "      <th></th>\n",
       "      <th></th>\n",
       "      <th></th>\n",
       "    </tr>\n",
       "  </thead>\n",
       "  <tbody>\n",
       "    <tr>\n",
       "      <th>201711</th>\n",
       "      <td>0.016623</td>\n",
       "      <td>0.030316</td>\n",
       "      <td>0.011902</td>\n",
       "      <td>0.014566</td>\n",
       "      <td>-0.092758</td>\n",
       "      <td>0.064662</td>\n",
       "      <td>0.033353</td>\n",
       "      <td>0.002559</td>\n",
       "      <td>-0.000584</td>\n",
       "      <td>0.057063</td>\n",
       "      <td>0.063088</td>\n",
       "      <td>0.071670</td>\n",
       "      <td>-0.014289</td>\n",
       "      <td>0.020375</td>\n",
       "      <td>0.041910</td>\n",
       "      <td>0.021364</td>\n",
       "      <td>3.12</td>\n",
       "      <td>-0.66</td>\n",
       "      <td>-0.05</td>\n",
       "      <td>0.08</td>\n",
       "    </tr>\n",
       "    <tr>\n",
       "      <th>201712</th>\n",
       "      <td>-0.015246</td>\n",
       "      <td>0.000872</td>\n",
       "      <td>0.016277</td>\n",
       "      <td>0.089316</td>\n",
       "      <td>-0.045927</td>\n",
       "      <td>-0.006187</td>\n",
       "      <td>-0.018938</td>\n",
       "      <td>-0.048735</td>\n",
       "      <td>-0.003572</td>\n",
       "      <td>0.029180</td>\n",
       "      <td>0.040086</td>\n",
       "      <td>0.025663</td>\n",
       "      <td>0.029438</td>\n",
       "      <td>-0.002396</td>\n",
       "      <td>0.066862</td>\n",
       "      <td>0.010446</td>\n",
       "      <td>1.06</td>\n",
       "      <td>-1.26</td>\n",
       "      <td>0.14</td>\n",
       "      <td>0.09</td>\n",
       "    </tr>\n",
       "    <tr>\n",
       "      <th>201801</th>\n",
       "      <td>-0.010636</td>\n",
       "      <td>-0.005694</td>\n",
       "      <td>0.110708</td>\n",
       "      <td>0.152797</td>\n",
       "      <td>-0.073352</td>\n",
       "      <td>0.241289</td>\n",
       "      <td>0.068569</td>\n",
       "      <td>0.034643</td>\n",
       "      <td>0.067006</td>\n",
       "      <td>0.003169</td>\n",
       "      <td>0.021538</td>\n",
       "      <td>0.010790</td>\n",
       "      <td>0.042894</td>\n",
       "      <td>-0.121697</td>\n",
       "      <td>0.061923</td>\n",
       "      <td>0.040263</td>\n",
       "      <td>5.58</td>\n",
       "      <td>-3.03</td>\n",
       "      <td>-1.37</td>\n",
       "      <td>0.11</td>\n",
       "    </tr>\n",
       "    <tr>\n",
       "      <th>201802</th>\n",
       "      <td>0.063848</td>\n",
       "      <td>-0.078298</td>\n",
       "      <td>-0.013051</td>\n",
       "      <td>0.002526</td>\n",
       "      <td>-0.127396</td>\n",
       "      <td>0.041883</td>\n",
       "      <td>-0.179940</td>\n",
       "      <td>-0.072153</td>\n",
       "      <td>-0.048076</td>\n",
       "      <td>-0.087864</td>\n",
       "      <td>-0.117070</td>\n",
       "      <td>-0.050704</td>\n",
       "      <td>0.023889</td>\n",
       "      <td>-0.032817</td>\n",
       "      <td>-0.148601</td>\n",
       "      <td>-0.054922</td>\n",
       "      <td>-3.65</td>\n",
       "      <td>0.28</td>\n",
       "      <td>-1.19</td>\n",
       "      <td>0.11</td>\n",
       "    </tr>\n",
       "    <tr>\n",
       "      <th>201803</th>\n",
       "      <td>-0.054907</td>\n",
       "      <td>-0.001648</td>\n",
       "      <td>-0.045857</td>\n",
       "      <td>-0.091500</td>\n",
       "      <td>-0.047484</td>\n",
       "      <td>-0.010182</td>\n",
       "      <td>-0.021454</td>\n",
       "      <td>-0.113850</td>\n",
       "      <td>-0.025156</td>\n",
       "      <td>-0.019047</td>\n",
       "      <td>-0.009007</td>\n",
       "      <td>-0.036836</td>\n",
       "      <td>0.038547</td>\n",
       "      <td>0.020735</td>\n",
       "      <td>-0.088926</td>\n",
       "      <td>-0.033771</td>\n",
       "      <td>-2.35</td>\n",
       "      <td>3.93</td>\n",
       "      <td>-0.11</td>\n",
       "      <td>0.12</td>\n",
       "    </tr>\n",
       "  </tbody>\n",
       "</table>\n",
       "</div>"
      ],
      "text/plain": [
       "        WIKI/AAPL - Close  WIKI/MCD - Close  WIKI/MSFT - Close  \\\n",
       "Time                                                             \n",
       "201711           0.016623          0.030316           0.011902   \n",
       "201712          -0.015246          0.000872           0.016277   \n",
       "201801          -0.010636         -0.005694           0.110708   \n",
       "201802           0.063848         -0.078298          -0.013051   \n",
       "201803          -0.054907         -0.001648          -0.045857   \n",
       "\n",
       "        WIKI/TGT - Close  WIKI/GE - Close  WIKI/AMZN - Close  \\\n",
       "Time                                                           \n",
       "201711          0.014566        -0.092758           0.064662   \n",
       "201712          0.089316        -0.045927          -0.006187   \n",
       "201801          0.152797        -0.073352           0.241289   \n",
       "201802          0.002526        -0.127396           0.041883   \n",
       "201803         -0.091500        -0.047484          -0.010182   \n",
       "\n",
       "        WIKI/UPS - Close  WIKI/GM - Close  WIKI/IBM - Close  WIKI/PEP - Close  \\\n",
       "Time                                                                            \n",
       "201711          0.033353         0.002559         -0.000584          0.057063   \n",
       "201712         -0.018938        -0.048735         -0.003572          0.029180   \n",
       "201801          0.068569         0.034643          0.067006          0.003169   \n",
       "201802         -0.179940        -0.072153         -0.048076         -0.087864   \n",
       "201803         -0.021454        -0.113850         -0.025156         -0.019047   \n",
       "\n",
       "        WIKI/VZ - Close  WIKI/DIS - Close  WIKI/INTC - Close  WIKI/F - Close  \\\n",
       "Time                                                                           \n",
       "201711         0.063088          0.071670          -0.014289        0.020375   \n",
       "201712         0.040086          0.025663           0.029438       -0.002396   \n",
       "201801         0.021538          0.010790           0.042894       -0.121697   \n",
       "201802        -0.117070         -0.050704           0.023889       -0.032817   \n",
       "201803        -0.009007         -0.036836           0.038547        0.020735   \n",
       "\n",
       "        WIKI/CMCSA - Close  Portefeuille  Mkt-RF   SMB   HML    RF  \n",
       "Time                                                                \n",
       "201711            0.041910      0.021364    3.12 -0.66 -0.05  0.08  \n",
       "201712            0.066862      0.010446    1.06 -1.26  0.14  0.09  \n",
       "201801            0.061923      0.040263    5.58 -3.03 -1.37  0.11  \n",
       "201802           -0.148601     -0.054922   -3.65  0.28 -1.19  0.11  \n",
       "201803           -0.088926     -0.033771   -2.35  3.93 -0.11  0.12  "
      ]
     },
     "execution_count": 12,
     "metadata": {},
     "output_type": "execute_result"
    }
   ],
   "source": [
    "donnees = actions.join(data.astype('float64'))\n",
    "donnees = donnees.dropna()\n",
    "donnees.tail()"
   ]
  },
  {
   "cell_type": "markdown",
   "metadata": {},
   "source": [
    "#### Soustraire le taux de l'actif sans risque et harmoniser les données (décimales)"
   ]
  },
  {
   "cell_type": "code",
   "execution_count": 13,
   "metadata": {},
   "outputs": [],
   "source": [
    "for i in range(nb_actifs+1):\n",
    "    donnees.iloc[:,i] = (donnees.iloc[:,i])*100 - donnees.iloc[:,-1]"
   ]
  },
  {
   "cell_type": "code",
   "execution_count": 14,
   "metadata": {},
   "outputs": [
    {
     "data": {
      "text/html": [
       "<div>\n",
       "<style scoped>\n",
       "    .dataframe tbody tr th:only-of-type {\n",
       "        vertical-align: middle;\n",
       "    }\n",
       "\n",
       "    .dataframe tbody tr th {\n",
       "        vertical-align: top;\n",
       "    }\n",
       "\n",
       "    .dataframe thead th {\n",
       "        text-align: right;\n",
       "    }\n",
       "</style>\n",
       "<table border=\"1\" class=\"dataframe\">\n",
       "  <thead>\n",
       "    <tr style=\"text-align: right;\">\n",
       "      <th></th>\n",
       "      <th>WIKI/AAPL - Close</th>\n",
       "      <th>WIKI/MCD - Close</th>\n",
       "      <th>WIKI/MSFT - Close</th>\n",
       "      <th>WIKI/TGT - Close</th>\n",
       "      <th>WIKI/GE - Close</th>\n",
       "      <th>WIKI/AMZN - Close</th>\n",
       "      <th>WIKI/UPS - Close</th>\n",
       "      <th>WIKI/GM - Close</th>\n",
       "      <th>WIKI/IBM - Close</th>\n",
       "      <th>WIKI/PEP - Close</th>\n",
       "      <th>WIKI/VZ - Close</th>\n",
       "      <th>WIKI/DIS - Close</th>\n",
       "      <th>WIKI/INTC - Close</th>\n",
       "      <th>WIKI/F - Close</th>\n",
       "      <th>WIKI/CMCSA - Close</th>\n",
       "      <th>Portefeuille</th>\n",
       "      <th>Mkt-RF</th>\n",
       "      <th>SMB</th>\n",
       "      <th>HML</th>\n",
       "      <th>RF</th>\n",
       "    </tr>\n",
       "    <tr>\n",
       "      <th>Time</th>\n",
       "      <th></th>\n",
       "      <th></th>\n",
       "      <th></th>\n",
       "      <th></th>\n",
       "      <th></th>\n",
       "      <th></th>\n",
       "      <th></th>\n",
       "      <th></th>\n",
       "      <th></th>\n",
       "      <th></th>\n",
       "      <th></th>\n",
       "      <th></th>\n",
       "      <th></th>\n",
       "      <th></th>\n",
       "      <th></th>\n",
       "      <th></th>\n",
       "      <th></th>\n",
       "      <th></th>\n",
       "      <th></th>\n",
       "      <th></th>\n",
       "    </tr>\n",
       "  </thead>\n",
       "  <tbody>\n",
       "    <tr>\n",
       "      <th>201711</th>\n",
       "      <td>1.582328</td>\n",
       "      <td>2.951574</td>\n",
       "      <td>1.110190</td>\n",
       "      <td>1.376640</td>\n",
       "      <td>-9.355794</td>\n",
       "      <td>6.386235</td>\n",
       "      <td>3.255319</td>\n",
       "      <td>0.175933</td>\n",
       "      <td>-0.138419</td>\n",
       "      <td>5.626251</td>\n",
       "      <td>6.228753</td>\n",
       "      <td>7.086956</td>\n",
       "      <td>-1.508885</td>\n",
       "      <td>1.957490</td>\n",
       "      <td>4.110952</td>\n",
       "      <td>2.056368</td>\n",
       "      <td>3.12</td>\n",
       "      <td>-0.66</td>\n",
       "      <td>-0.05</td>\n",
       "      <td>0.08</td>\n",
       "    </tr>\n",
       "    <tr>\n",
       "      <th>201712</th>\n",
       "      <td>-1.614585</td>\n",
       "      <td>-0.002775</td>\n",
       "      <td>1.537658</td>\n",
       "      <td>8.841553</td>\n",
       "      <td>-4.682674</td>\n",
       "      <td>-0.708653</td>\n",
       "      <td>-1.983783</td>\n",
       "      <td>-4.963521</td>\n",
       "      <td>-0.447212</td>\n",
       "      <td>2.827954</td>\n",
       "      <td>3.918646</td>\n",
       "      <td>2.476304</td>\n",
       "      <td>2.853800</td>\n",
       "      <td>-0.329617</td>\n",
       "      <td>6.596201</td>\n",
       "      <td>0.954620</td>\n",
       "      <td>1.06</td>\n",
       "      <td>-1.26</td>\n",
       "      <td>0.14</td>\n",
       "      <td>0.09</td>\n",
       "    </tr>\n",
       "    <tr>\n",
       "      <th>201801</th>\n",
       "      <td>-1.173641</td>\n",
       "      <td>-0.679370</td>\n",
       "      <td>10.960844</td>\n",
       "      <td>15.169693</td>\n",
       "      <td>-7.445244</td>\n",
       "      <td>24.018879</td>\n",
       "      <td>6.746903</td>\n",
       "      <td>3.354260</td>\n",
       "      <td>6.590561</td>\n",
       "      <td>0.206878</td>\n",
       "      <td>2.043788</td>\n",
       "      <td>0.968969</td>\n",
       "      <td>4.179428</td>\n",
       "      <td>-12.279736</td>\n",
       "      <td>6.082260</td>\n",
       "      <td>3.916298</td>\n",
       "      <td>5.58</td>\n",
       "      <td>-3.03</td>\n",
       "      <td>-1.37</td>\n",
       "      <td>0.11</td>\n",
       "    </tr>\n",
       "    <tr>\n",
       "      <th>201802</th>\n",
       "      <td>6.274758</td>\n",
       "      <td>-7.939847</td>\n",
       "      <td>-1.415126</td>\n",
       "      <td>0.142592</td>\n",
       "      <td>-12.849641</td>\n",
       "      <td>4.078337</td>\n",
       "      <td>-18.104031</td>\n",
       "      <td>-7.325279</td>\n",
       "      <td>-4.917575</td>\n",
       "      <td>-8.896367</td>\n",
       "      <td>-11.817046</td>\n",
       "      <td>-5.180397</td>\n",
       "      <td>2.278866</td>\n",
       "      <td>-3.391677</td>\n",
       "      <td>-14.970099</td>\n",
       "      <td>-5.602169</td>\n",
       "      <td>-3.65</td>\n",
       "      <td>0.28</td>\n",
       "      <td>-1.19</td>\n",
       "      <td>0.11</td>\n",
       "    </tr>\n",
       "    <tr>\n",
       "      <th>201803</th>\n",
       "      <td>-5.610680</td>\n",
       "      <td>-0.284828</td>\n",
       "      <td>-4.705688</td>\n",
       "      <td>-9.269980</td>\n",
       "      <td>-4.868405</td>\n",
       "      <td>-1.138215</td>\n",
       "      <td>-2.265388</td>\n",
       "      <td>-11.505006</td>\n",
       "      <td>-2.635562</td>\n",
       "      <td>-2.024675</td>\n",
       "      <td>-1.020712</td>\n",
       "      <td>-3.803598</td>\n",
       "      <td>3.734737</td>\n",
       "      <td>1.953516</td>\n",
       "      <td>-9.012571</td>\n",
       "      <td>-3.497137</td>\n",
       "      <td>-2.35</td>\n",
       "      <td>3.93</td>\n",
       "      <td>-0.11</td>\n",
       "      <td>0.12</td>\n",
       "    </tr>\n",
       "  </tbody>\n",
       "</table>\n",
       "</div>"
      ],
      "text/plain": [
       "        WIKI/AAPL - Close  WIKI/MCD - Close  WIKI/MSFT - Close  \\\n",
       "Time                                                             \n",
       "201711           1.582328          2.951574           1.110190   \n",
       "201712          -1.614585         -0.002775           1.537658   \n",
       "201801          -1.173641         -0.679370          10.960844   \n",
       "201802           6.274758         -7.939847          -1.415126   \n",
       "201803          -5.610680         -0.284828          -4.705688   \n",
       "\n",
       "        WIKI/TGT - Close  WIKI/GE - Close  WIKI/AMZN - Close  \\\n",
       "Time                                                           \n",
       "201711          1.376640        -9.355794           6.386235   \n",
       "201712          8.841553        -4.682674          -0.708653   \n",
       "201801         15.169693        -7.445244          24.018879   \n",
       "201802          0.142592       -12.849641           4.078337   \n",
       "201803         -9.269980        -4.868405          -1.138215   \n",
       "\n",
       "        WIKI/UPS - Close  WIKI/GM - Close  WIKI/IBM - Close  WIKI/PEP - Close  \\\n",
       "Time                                                                            \n",
       "201711          3.255319         0.175933         -0.138419          5.626251   \n",
       "201712         -1.983783        -4.963521         -0.447212          2.827954   \n",
       "201801          6.746903         3.354260          6.590561          0.206878   \n",
       "201802        -18.104031        -7.325279         -4.917575         -8.896367   \n",
       "201803         -2.265388       -11.505006         -2.635562         -2.024675   \n",
       "\n",
       "        WIKI/VZ - Close  WIKI/DIS - Close  WIKI/INTC - Close  WIKI/F - Close  \\\n",
       "Time                                                                           \n",
       "201711         6.228753          7.086956          -1.508885        1.957490   \n",
       "201712         3.918646          2.476304           2.853800       -0.329617   \n",
       "201801         2.043788          0.968969           4.179428      -12.279736   \n",
       "201802       -11.817046         -5.180397           2.278866       -3.391677   \n",
       "201803        -1.020712         -3.803598           3.734737        1.953516   \n",
       "\n",
       "        WIKI/CMCSA - Close  Portefeuille  Mkt-RF   SMB   HML    RF  \n",
       "Time                                                                \n",
       "201711            4.110952      2.056368    3.12 -0.66 -0.05  0.08  \n",
       "201712            6.596201      0.954620    1.06 -1.26  0.14  0.09  \n",
       "201801            6.082260      3.916298    5.58 -3.03 -1.37  0.11  \n",
       "201802          -14.970099     -5.602169   -3.65  0.28 -1.19  0.11  \n",
       "201803           -9.012571     -3.497137   -2.35  3.93 -0.11  0.12  "
      ]
     },
     "execution_count": 14,
     "metadata": {},
     "output_type": "execute_result"
    }
   ],
   "source": [
    "donnees.tail()"
   ]
  },
  {
   "cell_type": "markdown",
   "metadata": {},
   "source": [
    "#### Conduire une régression du modèle CAPM, puis du modèle Fama-French a trois facteurs, et comparer."
   ]
  },
  {
   "cell_type": "code",
   "execution_count": 15,
   "metadata": {},
   "outputs": [],
   "source": [
    "y = donnees['Portefeuille']\n",
    "X = donnees[['Mkt-RF']]\n",
    "X = sm.add_constant(X)"
   ]
  },
  {
   "cell_type": "code",
   "execution_count": 16,
   "metadata": {
    "scrolled": true
   },
   "outputs": [
    {
     "name": "stdout",
     "output_type": "stream",
     "text": [
      "                            OLS Regression Results                            \n",
      "==============================================================================\n",
      "Dep. Variable:           Portefeuille   R-squared:                       0.745\n",
      "Model:                            OLS   Adj. R-squared:                  0.742\n",
      "Method:                 Least Squares   F-statistic:                     245.0\n",
      "Date:                Wed, 27 Mar 2019   Prob (F-statistic):           1.25e-26\n",
      "Time:                        14:09:03   Log-Likelihood:                -166.00\n",
      "No. Observations:                  86   AIC:                             336.0\n",
      "Df Residuals:                      84   BIC:                             340.9\n",
      "Df Model:                           1                                         \n",
      "Covariance Type:            nonrobust                                         \n",
      "==============================================================================\n",
      "                 coef    std err          t      P>|t|      [0.025      0.975]\n",
      "------------------------------------------------------------------------------\n",
      "const         -0.2002      0.191     -1.047      0.298      -0.581       0.180\n",
      "Mkt-RF         0.8741      0.056     15.652      0.000       0.763       0.985\n",
      "==============================================================================\n",
      "Omnibus:                        7.832   Durbin-Watson:                   2.143\n",
      "Prob(Omnibus):                  0.020   Jarque-Bera (JB):               10.958\n",
      "Skew:                          -0.359   Prob(JB):                      0.00417\n",
      "Kurtosis:                       4.594   Cond. No.                         3.63\n",
      "==============================================================================\n",
      "\n",
      "Warnings:\n",
      "[1] Standard Errors assume that the covariance matrix of the errors is correctly specified.\n"
     ]
    }
   ],
   "source": [
    "model = sm.OLS(y, X).fit()\n",
    "print(model.summary())"
   ]
  },
  {
   "cell_type": "code",
   "execution_count": 17,
   "metadata": {},
   "outputs": [
    {
     "name": "stdout",
     "output_type": "stream",
     "text": [
      "                            OLS Regression Results                            \n",
      "==============================================================================\n",
      "Dep. Variable:           Portefeuille   R-squared:                       0.792\n",
      "Model:                            OLS   Adj. R-squared:                  0.784\n",
      "Method:                 Least Squares   F-statistic:                     104.1\n",
      "Date:                Wed, 27 Mar 2019   Prob (F-statistic):           7.11e-28\n",
      "Time:                        14:09:25   Log-Likelihood:                -157.18\n",
      "No. Observations:                  86   AIC:                             322.4\n",
      "Df Residuals:                      82   BIC:                             332.2\n",
      "Df Model:                           3                                         \n",
      "Covariance Type:            nonrobust                                         \n",
      "==============================================================================\n",
      "                 coef    std err          t      P>|t|      [0.025      0.975]\n",
      "------------------------------------------------------------------------------\n",
      "const         -0.2839      0.176     -1.612      0.111      -0.634       0.066\n",
      "Mkt-RF         0.9392      0.053     17.598      0.000       0.833       1.045\n",
      "SMB           -0.3457      0.080     -4.318      0.000      -0.505      -0.186\n",
      "HML            0.0432      0.081      0.535      0.594      -0.117       0.204\n",
      "==============================================================================\n",
      "Omnibus:                       16.319   Durbin-Watson:                   1.936\n",
      "Prob(Omnibus):                  0.000   Jarque-Bera (JB):               29.355\n",
      "Skew:                          -0.710   Prob(JB):                     4.22e-07\n",
      "Kurtosis:                       5.486   Cond. No.                         3.76\n",
      "==============================================================================\n",
      "\n",
      "Warnings:\n",
      "[1] Standard Errors assume that the covariance matrix of the errors is correctly specified.\n"
     ]
    }
   ],
   "source": [
    "X = donnees[['Mkt-RF', 'SMB', 'HML']]\n",
    "X = sm.add_constant(X)\n",
    "model = sm.OLS(y, X).fit()\n",
    "print(model.summary())"
   ]
  }
 ],
 "metadata": {
  "kernelspec": {
   "display_name": "Python 3",
   "language": "python",
   "name": "python3"
  },
  "language_info": {
   "codemirror_mode": {
    "name": "ipython",
    "version": 3
   },
   "file_extension": ".py",
   "mimetype": "text/x-python",
   "name": "python",
   "nbconvert_exporter": "python",
   "pygments_lexer": "ipython3",
   "version": "3.7.2"
  }
 },
 "nbformat": 4,
 "nbformat_minor": 2
}

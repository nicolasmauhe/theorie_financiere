{
 "cells": [
  {
   "cell_type": "markdown",
   "metadata": {},
   "source": [
    "# L'efficience des marchés financiers"
   ]
  },
  {
   "cell_type": "code",
   "execution_count": 4,
   "metadata": {},
   "outputs": [],
   "source": [
    "import numpy as np\n",
    "import pandas as pd\n",
    "import matplotlib.pyplot as plt\n",
    "import statsmodels.api as sm\n",
    "%matplotlib inline\n",
    "plt.rcParams['figure.figsize'] = (15, 10)"
   ]
  },
  {
   "cell_type": "code",
   "execution_count": 5,
   "metadata": {},
   "outputs": [],
   "source": [
    "import quandl\n",
    "cle_API = \"vV5n2kkCHA3mm-zKCwBQ\"\n",
    "quandl.ApiConfig.api_key = cle_API"
   ]
  },
  {
   "cell_type": "markdown",
   "metadata": {},
   "source": [
    "La théorie des cycles réels (*business cycle theory*) devrait se traduire par des cycles similaires en finance."
   ]
  },
  {
   "cell_type": "markdown",
   "metadata": {},
   "source": [
    "Problématique : existe-t-il des cycles ou des schémas expliquant le comportement des marchés financiers, les liant à l'économie réelle ?\n",
    "\n",
    "Première perspective : Cela devrait être le cas, indiquant un fonctionnement normal\n",
    "\n",
    "Seconde perspective : Un marché efficace devrait au contraire être imprévisible."
   ]
  },
  {
   "cell_type": "markdown",
   "metadata": {},
   "source": [
    "## La marche aléatoire des prix"
   ]
  },
  {
   "cell_type": "markdown",
   "metadata": {},
   "source": [
    "La clé de la compréhension des marchés efficients réside dans le fait que les acteurs du marchés sont motivés par une décision immédiate pour bénéficier d'un état futur:\n",
    "Si un schéma / cycle / etc. indique que le prix d'une action va augmenter dans les prochain jours ou mois, les acteurs financiers vont acheter cette action pour bénéficier de la hausse de prix. Tant que le prix de l'action sera inférieur à la valeur actualisée prévue, il sera intéressant de l'acheter."
   ]
  },
  {
   "cell_type": "markdown",
   "metadata": {},
   "source": [
    "Résultat : le prix de l'action augmente jusqu'à la valeur actualisée prévue par le marché. \n",
    "La valeur de l'actif contient donc toutes les attentes des acteurs du marché concernant le futur."
   ]
  },
  {
   "cell_type": "markdown",
   "metadata": {},
   "source": [
    "Le prix actuel est donc le produit de toutes les informations disponibles (et de leur inteprétation) de la part des acteurs du marché. Le prix peut donc varier uniquement suivant une nouvelle information.\n",
    "Un prix prévisible signifierait donc une information prévisible : ce qui est incompatible avec le concept d'information. Si une nouvelle information est prévisible, alors ce n'est pas une nouvelle information."
   ]
  },
  {
   "cell_type": "markdown",
   "metadata": {},
   "source": [
    "Les prix devraient donc suivre une marche aléatoire, ou *random walk* : chaque pas est un phénomène aléatoire, indépendant du précédent, et d'espérance nulle."
   ]
  },
  {
   "cell_type": "markdown",
   "metadata": {},
   "source": [
    "$$X_{{t}}=X_{{t-1}}+\\epsilon _{{t}}, \\quad \\epsilon _{{t}}\\ \\sim {\\mathcal  {N}}(0,1)$$"
   ]
  },
  {
   "cell_type": "markdown",
   "metadata": {},
   "source": [
    "Les rendements sont donc imprévisibles (indépendants des rendements précédents) et d'espérance nulle. Pour être précis, ils ne sont pas tout a fait d'espérance nulle : ils intègrent le cout de l'argent et le risque systémique, ce qui les rend globalement positifs."
   ]
  },
  {
   "cell_type": "markdown",
   "metadata": {},
   "source": [
    "Des rendements aléatoires et imprévisibles seraient donc le résultat d'un marché composé d'investisseurs intelligents se situant en situation de concurrence parfaite en ce qui concerne la recherche de l'information et la traduction de cette information en termes de prévisions de prix."
   ]
  },
  {
   "cell_type": "markdown",
   "metadata": {},
   "source": [
    "Le caractère aléatoire (ou imprévisible) des prix signifie en effet deux choses :\n",
    "- toute l'information disponible sur le prix a déjà été intégrée dans le prix de l'actif (1) et ce de manière correcte (2)\n",
    "\n",
    "Ou, de manière équivalente :\n",
    "\n",
    "- le marché est tellement concurrentiel que le temps de traitement (1) et l'erreur d'interprétation (2) de toute nouvelle information approche zéro."
   ]
  },
  {
   "cell_type": "markdown",
   "metadata": {},
   "source": [
    "L'hypothèse que les prix reflètent déjà toute l'information disponible s'appelle l'hypothèse d'efficience des marchés financiers, ou *efficient market hypothesis* (EMH)."
   ]
  },
  {
   "cell_type": "markdown",
   "metadata": {},
   "source": [
    "Exemple : l'effet sur les rendements de l'annonce d'une tentative de rachat."
   ]
  },
  {
   "cell_type": "markdown",
   "metadata": {},
   "source": [
    "![merge](merge.png)\n",
    "Source: Keown, Arthur J., and John M. Pinkerton. “Merger Announcements and Insider Trading Activity: An Empirical Investigation.” The Journal of Finance, vol. 36, no. 4, 1981, pp. 855–869. Mise en page: Bodie, Zvi. Investments. Tata McGraw-Hill Education, 2009."
   ]
  },
  {
   "cell_type": "markdown",
   "metadata": {},
   "source": [
    "- Avant l'annonce: fuite de l'information avant l'annonce, avec un impact relativement faible à cause du faible nombre d'insiders et le reste d'incertain concernant la décision.\n",
    "- Le jour de l'annonce : mise à jour brutale de la valeur de l'actif, alors que le rachat n'a pas eu lieu, simplement été annoncé.\n",
    "- Après l'annonce : pas d'évolution du prix, l'information a été intégrée immédiatement, y compris l'amplitude de la prime liée au rachat (*takeover premium*)."
   ]
  },
  {
   "cell_type": "markdown",
   "metadata": {},
   "source": [
    "## Degrés d'efficience"
   ]
  },
  {
   "cell_type": "markdown",
   "metadata": {},
   "source": [
    "Il existe plusieurs degré de l'hypothèse d'efficience des marchés financiers:\n",
    "- la forme faible de l'hypothèse consiste à dire que les prix contiennent déjà toute l'information que l'on peut obtenir des données produites par le marché : prix passés, volume d'échange, taux d'intérêts, etc.  \n",
    "- la forme semi-forte étend l'hypothèse à toute l'information publique sur les actifs.\n",
    "- la forme forte étend l'hypothèse à toute l'information, même privée."
   ]
  },
  {
   "cell_type": "markdown",
   "metadata": {},
   "source": [
    "La forme faible de l'hypothèse aurait pour conséquence que toute **l'analyse technique** (*technical analysis*), serait inefficace. L'analyse technique consiste à détecter des schémas dans les variations de prix, ce qui permettrait de prédire les variations futures. Cette théorie s'appuie sur des éléments fondamentaux aussi bien que comportementaux. Les partisans de l'analyse technique avancent l'argument que le marché n'est pas efficient car les mécanismes de retour à l'équilibre efficaces ne sont pas quasi-immédiats et s'opèrent de manière prévisible. Ils se basent également sur des éléments cognitifs et comportementaux. La grande partie des calculs de l'analyse technique utilise les données du marché, facilement accessibles, pour calculer des indicateurs tels que les moyennes mobiles, les tendances, les niveaux de résistance, etc."
   ]
  },
  {
   "cell_type": "markdown",
   "metadata": {},
   "source": [
    "Exercice : à l'aide de la méthode [rolling](https://pandas.pydata.org/pandas-docs/stable/generated/pandas.DataFrame.rolling.html), calculer une moyenne mobile sur 10 et 50 périodes de trading pour l'action de votre choix. Représenter les trois courbes (les deux moyennes mobiles et l'actif) sur le même graphique."
   ]
  },
  {
   "cell_type": "code",
   "execution_count": null,
   "metadata": {},
   "outputs": [],
   "source": []
  },
  {
   "cell_type": "markdown",
   "metadata": {},
   "source": [
    "La forme semi-forte condamnerait une bonne partie de **l'analyse fondamentale** qui utilise les données économiques de l'entreprise pour valoriser les actifs et investir en fonction du différentiel entre la valorisation obtenue et la capitalisation boursière. L'hypothèse semi-forte suppose en effet que toute cette information publique est déjà refletée dans les prix, et qu'il s'agit d'une valorisation correcte. \n",
    "La seule manière de réaliser des profits est donc de produire une meilleure analyse que le marché tout entier : on obtient alors un différentiel valorisation - capitalisation qui peut-être utilisé, en achetant ou en shortant l'actif. Cependant, un différentiel peut également être le signe d'une erreur ou d'une prise en compte partielle des informations... Est-il possible d'être meilleur que le marché ?"
   ]
  },
  {
   "cell_type": "markdown",
   "metadata": {},
   "source": [
    "## Une perspective à l'équilibre"
   ]
  },
  {
   "cell_type": "markdown",
   "metadata": {},
   "source": [
    "Grossman, Sanford J., and Joseph E. Stiglitz. “On the Impossibility of Informationally Efficient Markets.” The American Economic Review, vol. 70, no. 3, 1980, pp. 393–408. JSTOR, JSTOR, www.jstor.org/stable/1805228."
   ]
  },
  {
   "cell_type": "markdown",
   "metadata": {},
   "source": [
    "A l'équilibre, l'information  n'est pas *complètement* contenue dans le prix des actifs : elle est contenue dans la mesure où il n'est plus rentable pour un agent de procéder à des recherches supplémentaires pour réaliser un gain lié au différentiel évoqué plus haut."
   ]
  },
  {
   "cell_type": "markdown",
   "metadata": {},
   "source": [
    "C'est un concept difficile à chiffrer, à moins de se situer dans un modèle théorique simplifié comme dans le papier de Grossman et Stiglitz. Cependant l'intuition aide à comprendre que nous ne nous situons par parfaitement sur un marché efficient, et que le marché peut donc réaliser des erreurs: simplement il est trop coûteux pour un agent (ou pour un groupe d'agents) d'améliorer l'efficience en recherchant des informations supplémentaires."
   ]
  },
  {
   "cell_type": "markdown",
   "metadata": {},
   "source": [
    "En résumé, à l'équilibre, le marché n'est pas tout à fait efficient et vous pourriez trouver des opportunités de profit, mais cela coûterait plus cher (que cela ne rapporterait) de les débusquer."
   ]
  },
  {
   "cell_type": "markdown",
   "metadata": {},
   "source": [
    "## Estimer l'effet d'une information"
   ]
  },
  {
   "cell_type": "markdown",
   "metadata": {},
   "source": [
    "Pour chiffrer l'effet d'une information sur les rendements d'un actif, il faut parvenir à différencier le rendement \"normal\", c'est-à-dire le rendement qu'aurait eu l'actif sans l'information, et le rendement \"anormal\", lié à l'apparition de l'information."
   ]
  },
  {
   "cell_type": "markdown",
   "metadata": {},
   "source": [
    "Une méthode pour parvenir à différencier ces deux effets est d'utiliser le CAPM (ou un modèle à plusieurs facteurs comme le modèle Fama-French). Le \"rendement anormal\" ou *abnormal return* suit une version simplifiée du CAPM a un facteur:"
   ]
  },
  {
   "cell_type": "markdown",
   "metadata": {},
   "source": [
    "$$e_t = r_t - (a + br_{m_t})$$\n",
    "Ce qui s'obtient en réalisant la régression linéaire:\n",
    "$$r_t = a + br_{m_t} + e_t$$"
   ]
  },
  {
   "cell_type": "markdown",
   "metadata": {},
   "source": [
    "Exercice : Choisir un actif dont une information déterminante a été rendue publique et a eu un impact sur le cours de l'action. Evaluer l'impact de l'information.\n",
    "1. Télécharger les données de l'actif\n",
    "2. Télécharger les données d'un index représentant le *marché*\n",
    "3. Procéder à la régression linéaire du modèle $r_t = a + br_{m_t} + e_t$\n",
    "4. Récupérer le terme d'erreur\n",
    "5. Représenter $e_t$ "
   ]
  },
  {
   "cell_type": "code",
   "execution_count": 16,
   "metadata": {
    "scrolled": false
   },
   "outputs": [],
   "source": [
    "#1"
   ]
  },
  {
   "cell_type": "code",
   "execution_count": 15,
   "metadata": {},
   "outputs": [],
   "source": [
    "#2"
   ]
  },
  {
   "cell_type": "code",
   "execution_count": 14,
   "metadata": {},
   "outputs": [],
   "source": [
    "#3"
   ]
  },
  {
   "cell_type": "code",
   "execution_count": 13,
   "metadata": {},
   "outputs": [],
   "source": [
    "#4"
   ]
  },
  {
   "cell_type": "code",
   "execution_count": null,
   "metadata": {},
   "outputs": [],
   "source": [
    "#5"
   ]
  },
  {
   "cell_type": "markdown",
   "metadata": {},
   "source": [
    "Un concept complémentaire est le rendement anormal cumulé, ou *cumulative abnormal return* : il s'agit simplement de la somme cumulée des retours anormaux sur une période donnée."
   ]
  },
  {
   "cell_type": "markdown",
   "metadata": {},
   "source": [
    "Exercice : Trouver la méthode python qui permet de calculer une somme cumulée sur un DataFrame, et l'appliquer sur le DataFrame constitué des 150 dernières périodes de l'actif."
   ]
  },
  {
   "cell_type": "code",
   "execution_count": null,
   "metadata": {},
   "outputs": [],
   "source": []
  },
  {
   "cell_type": "markdown",
   "metadata": {},
   "source": [
    "## Tests d'efficience"
   ]
  },
  {
   "cell_type": "markdown",
   "metadata": {},
   "source": [
    "### Forme faible"
   ]
  },
  {
   "cell_type": "markdown",
   "metadata": {},
   "source": [
    "Les tests de la forme faible de l'EMH consistent à détecter d'éventuelles tendances dans les prix.\n",
    "Plusieurs études sont parvenues à détecter des violations de cette hypothèse, révélant :\n",
    "- des corrélations temporelles positives à court-terme, significatives mais trop faibles / prévisibles pour pouvoir générer des revenus;\n",
    "- des corrélations temporelles négatives à long-terme qui suggéreraient que le marché sur-réagit à certaines nouvelles. Néanmoins une autre explication possible serait un changement de prime de risque du marché, qui provoquerait une baisse des prix avant une reprise des rendements calibrés sur la nouvelles prime de risque, ce qui produirait un phénomène proche de la sur-réaction.\n",
    "\n",
    "Une explication proposée pour concilier les deux phénomènes serait la surréaction à court terme (même consciente) lentement corrigée à long terme."
   ]
  },
  {
   "cell_type": "markdown",
   "metadata": {},
   "source": [
    "## Forme semi-forte"
   ]
  },
  {
   "cell_type": "markdown",
   "metadata": {},
   "source": [
    "Si des données publiques constituent des prédicteurs de l'évolution des marchés, cela constituerait une violation de la forme semi-forte de l'EMH."
   ]
  },
  {
   "cell_type": "markdown",
   "metadata": {},
   "source": [
    "Plusieurs éléments on été avancés :\n",
    "- un ratio cours sur bénéfices (*price-earning ratio*) faible;\n",
    "- une faible capitalisation boursière;\n",
    "- un ratio *book-to-market* faible;"
   ]
  },
  {
   "cell_type": "markdown",
   "metadata": {},
   "source": [
    "La difficulté est que le rendement d'un portefeuille doit être analysé en l'ajustant en fonction de son risque : si l'on constitue un portefeuille qui a généré dans le passé des rendements supérieurs à ce que l'on pouvait attendre, il peut s'agir d'une preuve contre l'EMH mais également une mauvaise estimation du risque du portefeuille."
   ]
  },
  {
   "cell_type": "markdown",
   "metadata": {},
   "source": [
    "Ainsi, les éléments avancés précédemment pourraient également être porteurs de risques qui ne sont pas captés par le CAPM à un facteur, et donc sous-estimés: ils ont par contre été estimés de manière supérieure par les agents au cours des périodes de l'échantillon, et donc le rendement moyen était supérieur."
   ]
  },
  {
   "cell_type": "markdown",
   "metadata": {},
   "source": [
    "Un autre contre-argument en faveur de l'efficience des marchés financiers est le biais possible dans la recherche de facteurs passés. En recherchant des facteurs explicatifs au hasard, on finit toujours par en trouver un.\n",
    "Plusieurs études montrent ainsi que parmi les biais avancés plus haut, seul le book-to-market semble persister de manière claire à partir des années 1990. S'agit-il d'une adaptation du marché à des anomalies passées, ou des anomalies statistiques qui se sont logiquement résorbées ?"
   ]
  }
 ],
 "metadata": {
  "kernelspec": {
   "display_name": "Python 3",
   "language": "python",
   "name": "python3"
  },
  "language_info": {
   "codemirror_mode": {
    "name": "ipython",
    "version": 3
   },
   "file_extension": ".py",
   "mimetype": "text/x-python",
   "name": "python",
   "nbconvert_exporter": "python",
   "pygments_lexer": "ipython3",
   "version": "3.6.7"
  }
 },
 "nbformat": 4,
 "nbformat_minor": 2
}
